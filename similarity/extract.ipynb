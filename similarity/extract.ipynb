{
 "cells": [
  {
   "cell_type": "markdown",
   "metadata": {},
   "source": [
    "Okt -> jvm설치 필요"
   ]
  },
  {
   "cell_type": "code",
   "execution_count": null,
   "metadata": {},
   "outputs": [],
   "source": [
    "from konlpy.tag import Okt\n",
    "\n",
    "def extract_verbs_and_adjectives(sentence):\n",
    "    okt = Okt()\n",
    "    words = okt.pos(sentence)  # 형태소 분석\n",
    "    verbs_and_adjectives = [word for word, pos in words if pos in ['Verb', 'Adjective']]\n",
    "    return verbs_and_adjectives\n",
    "\n",
    "sentence = \"그는 빠르게 달려갔고, 그녀는 예쁘게 웃었다.\"\n",
    "result = extract_verbs_and_adjectives(sentence)\n",
    "print(result)"
   ]
  },
  {
   "cell_type": "markdown",
   "metadata": {},
   "source": [
    "Hannanum  \n",
    "용언(P)가 형용사/동사로 구분 안됨"
   ]
  },
  {
   "cell_type": "code",
   "execution_count": 2,
   "metadata": {},
   "outputs": [
    {
     "name": "stdout",
     "output_type": "stream",
     "text": [
      "[('나', 'N'), ('는', 'J'), ('밥', 'N'), ('을', 'J'), ('먹', 'P'), ('고', 'E'), ('학교', 'N'), ('에', 'J'), ('가', 'P'), ('ㄴ다', 'E'), ('.', 'S')]\n"
     ]
    }
   ],
   "source": [
    "from konlpy.tag import Hannanum\n",
    "\n",
    "hannanum = Hannanum()\n",
    "text = \"나는 밥을 먹고 학교에 간다.\"\n",
    "print(hannanum.pos(text))"
   ]
  },
  {
   "cell_type": "code",
   "execution_count": 3,
   "metadata": {},
   "outputs": [
    {
     "name": "stdout",
     "output_type": "stream",
     "text": [
      "용언 리스트:  ['먹', '가']\n"
     ]
    }
   ],
   "source": [
    "# Hannanum 형태소 분석기 객체 생성\n",
    "hannanum = Hannanum()\n",
    "\n",
    "# 분석할 텍스트\n",
    "text = \"나는 밥을 먹고 학교에 간다.\"\n",
    "\n",
    "# 형태소 분석 (품사 태깅 포함)\n",
    "tagged_words = hannanum.pos(text)\n",
    "\n",
    "# 용언(동사와 형용사)만 추출\n",
    "# Hannanum 형태소 분석기의 품사 태그 중 'P'가 용언에 해당\n",
    "verbs = [word for word, tag in tagged_words if tag in ['P']]\n",
    "\n",
    "print(\"용언 리스트: \", verbs)"
   ]
  },
  {
   "cell_type": "markdown",
   "metadata": {},
   "source": [
    "__Kkma__  \n",
    "NNG: 일반 명사\n",
    "VV: 동사\n",
    "VA: 형용사\n",
    "MAG: 일반 부사"
   ]
  },
  {
   "cell_type": "code",
   "execution_count": 2,
   "metadata": {},
   "outputs": [
    {
     "name": "stdout",
     "output_type": "stream",
     "text": [
      "품사 태깅 결과: [('그', 'MDT'), ('사람', 'NNG'), ('은', 'JX'), ('정말', 'MAG'), ('착하', 'VA'), ('다', 'EFN'), ('.', 'SF')]\n"
     ]
    }
   ],
   "source": [
    "from konlpy.tag import Kkma\n",
    "\n",
    "# Kkma 형태소 분석기 객체 생성\n",
    "kkma = Kkma()\n",
    "\n",
    "# 분석할 텍스트\n",
    "text = \"그 사람은 정말 착하다.\"\n",
    "\n",
    "# 형태소 분석 (품사 태깅 포함)\n",
    "tagged_words = kkma.pos(text)\n",
    "\n",
    "print(\"품사 태깅 결과:\", tagged_words)"
   ]
  },
  {
   "cell_type": "code",
   "execution_count": 1,
   "metadata": {},
   "outputs": [
    {
     "name": "stdout",
     "output_type": "stream",
     "text": [
      "형용사 리스트: ['착하']\n"
     ]
    }
   ],
   "source": [
    "from konlpy.tag import Kkma\n",
    "\n",
    "# Kkma 형태소 분석기 객체 생성\n",
    "kkma = Kkma()\n",
    "\n",
    "# 분석할 텍스트\n",
    "text = \"그 사람은 정말 착하다.\"\n",
    "\n",
    "# 형태소 분석 (품사 태깅 포함)\n",
    "tagged_words = kkma.pos(text)\n",
    "\n",
    "# 형용사만 추출\n",
    "# Kkma 형태소 분석기의 품사 태그 중 'VA'가 형용사에 해당\n",
    "adjectives = [word for word, tag in tagged_words if tag == 'VA']\n",
    "\n",
    "print(\"형용사 리스트:\", adjectives)"
   ]
  },
  {
   "cell_type": "code",
   "execution_count": 4,
   "metadata": {},
   "outputs": [
    {
     "name": "stdout",
     "output_type": "stream",
     "text": [
      "Cosine similarity between 'cat' and 'dog': -0.36627138\n"
     ]
    }
   ],
   "source": [
    "from gensim.models import Word2Vec\n",
    "from sklearn.metrics.pairwise import cosine_similarity\n",
    "import numpy as np\n",
    "\n",
    "# 훈련 데이터\n",
    "sentences = [['cat', 'pet'], ['dog', 'pet'], ['fish', 'pet'], ['cat', 'fur'], ['dog', 'fur'], ['fish', 'scales']]\n",
    "\n",
    "# Word2Vec 모델 훈련\n",
    "model = Word2Vec(sentences, vector_size=10, window=5, min_count=1, workers=4)\n",
    "\n",
    "# 단어 벡터 추출\n",
    "vector_cat = model.wv['cat']\n",
    "vector_dog = model.wv['dog']\n",
    "\n",
    "# 코사인 유사도 계산\n",
    "similarity = cosine_similarity([vector_cat], [vector_dog])\n",
    "print(\"Cosine similarity between 'cat' and 'dog':\", similarity[0][0])"
   ]
  },
  {
   "cell_type": "code",
   "execution_count": null,
   "metadata": {},
   "outputs": [],
   "source": []
  }
 ],
 "metadata": {
  "kernelspec": {
   "display_name": "Python 3.10.10 ('base')",
   "language": "python",
   "name": "python3"
  },
  "language_info": {
   "codemirror_mode": {
    "name": "ipython",
    "version": 3
   },
   "file_extension": ".py",
   "mimetype": "text/x-python",
   "name": "python",
   "nbconvert_exporter": "python",
   "pygments_lexer": "ipython3",
   "version": "3.9.16"
  },
  "orig_nbformat": 4,
  "vscode": {
   "interpreter": {
    "hash": "b7bc6c7fd23eb2e91dec57608c8d21c360d813bf713e461423113f4cc04934c0"
   }
  }
 },
 "nbformat": 4,
 "nbformat_minor": 2
}
