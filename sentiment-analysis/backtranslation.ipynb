{
 "cells": [
  {
   "cell_type": "code",
   "execution_count": null,
   "metadata": {},
   "outputs": [],
   "source": [
    "# 구글 번역 api (처음 한번만 설치)\n",
    "%pip install googletrans==4.0.0-rc1"
   ]
  },
  {
   "cell_type": "code",
   "execution_count": 39,
   "metadata": {},
   "outputs": [
    {
     "data": {
      "text/plain": [
       "'c:\\\\Users\\\\KangIW\\\\git_j500\\\\floread'"
      ]
     },
     "execution_count": 39,
     "metadata": {},
     "output_type": "execute_result"
    }
   ],
   "source": [
    "# 이 파일 있는 디렉터리로 이동??\n",
    "import os\n",
    "os.chdir(os.getcwd())\n",
    "%pwd\n",
    "\n",
    "#%cd /content/drive/MyDrive/Github/floread/sentiment-analysis"
   ]
  },
  {
   "cell_type": "code",
   "execution_count": 9,
   "metadata": {},
   "outputs": [
    {
     "data": {
      "text/plain": [
       "(58240, 2)"
      ]
     },
     "execution_count": 9,
     "metadata": {},
     "output_type": "execute_result"
    }
   ],
   "source": [
    "# 가장 퀄리티가 나은 감성대화말뭉치 사용\n",
    "import pandas as pd\n",
    "\n",
    "df = pd.read_csv('data/감성대화말뭉치(병합).csv',index_col=0)\n",
    "df.shape"
   ]
  },
  {
   "cell_type": "code",
   "execution_count": 11,
   "metadata": {},
   "outputs": [
    {
     "data": {
      "text/plain": [
       "emotion\n",
       "기쁨     7337\n",
       "당황     9797\n",
       "분노    10414\n",
       "불안    10429\n",
       "슬픔    20263\n",
       "Name: sentence, dtype: int64"
      ]
     },
     "execution_count": 11,
     "metadata": {},
     "output_type": "execute_result"
    }
   ],
   "source": [
    "df['emotion'] = df['emotion'].replace('상처', '슬픔')\n",
    "df.groupby('emotion').count().iloc[:,0]"
   ]
  },
  {
   "cell_type": "code",
   "execution_count": 8,
   "metadata": {},
   "outputs": [],
   "source": [
    "import re\n",
    "\n",
    "#한글 있는지 체크\n",
    "def has_korean(text):\n",
    "    korean_check = lambda text: any(char >= '가' and char <= '힣' for char in text)\n",
    "    return korean_check(text)\n",
    "\n",
    "#0으로 끝나는 문장\n",
    "def remove_end_0(sentence):\n",
    "    if sentence.endswith('0'):\n",
    "        return sentence[:-1]\n",
    "    return sentence\n",
    "\n",
    "def Preprocess_all(df):\n",
    "    \n",
    "    print(\"---------------전처리 전: \",df.shape)\n",
    "    \n",
    "    # 결측치 제거\n",
    "    df = df.dropna()\n",
    "    \n",
    "    #필터 처리된 단어 공백으로 치환\n",
    "    df['sentence'] = df['sentence'].str.replace(r'OO+', ' ', regex=True)\n",
    "    \n",
    "    #좌측 공백 제거\n",
    "    df['sentence'] = df['sentence'].str.lstrip()\n",
    "    \n",
    "    #한글 없는 문장 제거\n",
    "    df = df[df['sentence'].apply(lambda x: has_korean(x))]\n",
    "    \n",
    "    #한자 들어간 문장 제거\n",
    "    df = df[~df['sentence'].str.contains('[\\u4e00-\\u9fff]')]\n",
    "        \n",
    "    #일부 단어 치환\n",
    "    df['sentence'] = df['sentence'].str.replace(r'(ㅋ{3,})', 'ㅋㅋ', regex=True)\n",
    "    df['sentence'] = df['sentence'].str.replace(r'\\?\\?{3,}', '??,', regex=True)\n",
    "    df['sentence'] = df['sentence'].str.replace(r'~{3,}', '~~', regex=True)\n",
    "    df['sentence'] = df['sentence'].str.replace(r'!{3,}', '!!', regex=True)\n",
    "    df['sentence'] = df['sentence'].str.replace(r'-{3,}', '--', regex=True)\n",
    "    df['sentence'] = df['sentence'].str.replace(r'(ㅠ{3,})', 'ㅠㅠ', regex=True)\n",
    "    df['sentence'] = df['sentence'].str.replace(r'(ㅜ{3,})', 'ㅜㅜ', regex=True)\n",
    "    df['sentence'] = df['sentence'].str.replace(r'(ㄱ{3,})', 'ㄱㄱ', regex=True)\n",
    "    df['sentence'] = df['sentence'].str.replace(r'(ㄷ{3,})', 'ㄷㄷ', regex=True)\n",
    "    df['sentence'] = df['sentence'].str.replace(r'(ㅎ{3,})', 'ㅎㅎ', regex=True)\n",
    "\n",
    "    df['sentence'] = df['sentence'].str.replace(r'(♥{2,})', '♥', regex=True)\n",
    "    df['sentence'] = df['sentence'].str.replace(r'(♡{2,})', '♡', regex=True)\n",
    "    df['sentence'] = df['sentence'].str.replace(r'\\s{2,}', ' ', regex=True)\n",
    "    \n",
    "    df['sentence'] = df['sentence'].str.replace(r'\\.{7,}', '......', regex=True)\n",
    "    df['sentence'] = df['sentence'].str.replace(';{3,}', ';;')\n",
    "    df['sentence'] = df['sentence'].str.replace('\\^{3,}', '^^')\n",
    "    \n",
    "    # 한글 자모음이 3번 이상 반복되는 패턴을 찾아, 그 자모음 2개로 치환\n",
    "    df['sentence'] = df['sentence'].apply(lambda x: re.sub(r'(([ㄱ-ㅎㅏ-ㅣ]|ㄲ|ㄸ|ㅃ|ㅆ|ㅉ){3,})', lambda m: m.group(1)[:2], x))\n",
    "\n",
    "    # 길이가 100이상인 문장 제거\n",
    "    df = df[df['sentence'].str.len() < 100]\n",
    "    \n",
    "    # 0으로 끝나면 0빼기\n",
    "    df['sentence'] = df['sentence'].apply(remove_end_0)\n",
    "    \n",
    "    #의미 없는 0패턴 제거\n",
    "    replacements = {\n",
    "        r'\\?0': '?',\n",
    "        r';0': ';',\n",
    "        r'ㅠ0': 'ㅠ',\n",
    "        r'ㅜ0': 'ㅜ',\n",
    "        r'\\.0': '.'\n",
    "    }\n",
    "\n",
    "    for pattern, replacement in replacements.items():\n",
    "        df['sentence'] = df['sentence'].str.replace(pattern, replacement, regex=True)\n",
    "        \n",
    "    # 중복행 제거\n",
    "    dup = df[df.duplicated(subset=['sentence'])]\n",
    "    print(\"중복되는 행: \", len(dup))\n",
    "    df = df.drop_duplicates(subset=['sentence'], keep='first')\n",
    "    \n",
    "    # 인덱스 재설정\n",
    "    df.reset_index(drop=True, inplace=True)\n",
    "\n",
    "    print(\"---------------전처리 후: \",df.shape)    \n",
    "    \n",
    "    return df"
   ]
  },
  {
   "cell_type": "code",
   "execution_count": 16,
   "metadata": {},
   "outputs": [
    {
     "name": "stdout",
     "output_type": "stream",
     "text": [
      "---------------전처리 전:  (58240, 2)\n",
      "중복되는 행:  0\n",
      "---------------전처리 후:  (58224, 2)\n"
     ]
    }
   ],
   "source": [
    "pp_df = Preprocess_all(df)"
   ]
  },
  {
   "cell_type": "code",
   "execution_count": null,
   "metadata": {},
   "outputs": [],
   "source": [
    "pp_df.to_csv('data/감성대화말뭉치_전처리완.csv', encoding='utf-8-sig')"
   ]
  },
  {
   "cell_type": "code",
   "execution_count": 2,
   "metadata": {},
   "outputs": [
    {
     "data": {
      "text/plain": [
       "emotion\n",
       "기쁨     7334\n",
       "당황     9794\n",
       "분노    10410\n",
       "불안    10428\n",
       "슬픔    20258\n",
       "Name: sentence, dtype: int64"
      ]
     },
     "execution_count": 2,
     "metadata": {},
     "output_type": "execute_result"
    }
   ],
   "source": [
    "import pandas as pd\n",
    "df = pd.read_csv('data/감성대화말뭉치_전처리완.csv',index_col=0)\n",
    "df.groupby('emotion').count().iloc[:,0]"
   ]
  },
  {
   "cell_type": "code",
   "execution_count": 28,
   "metadata": {},
   "outputs": [
    {
     "name": "stdout",
     "output_type": "stream",
     "text": [
      "(135791, 2)\n"
     ]
    },
    {
     "data": {
      "text/plain": [
       "emotion\n",
       "놀람    19538\n",
       "분노    19526\n",
       "불안    15980\n",
       "슬픔    21305\n",
       "중립    45149\n",
       "행복    14293\n",
       "Name: sentence, dtype: int64"
      ]
     },
     "execution_count": 28,
     "metadata": {},
     "output_type": "execute_result"
    }
   ],
   "source": [
    "dfsum = pd.read_csv('data/병합데이터셋-v3.csv',index_col=0)\n",
    "print(dfsum.shape)\n",
    "dfsum.groupby('emotion').count().iloc[:,0]"
   ]
  },
  {
   "cell_type": "markdown",
   "metadata": {},
   "source": [
    "놀람1000,분노1000, 불안4000, 슬픔 -, 중립-, 행복6000"
   ]
  },
  {
   "cell_type": "code",
   "execution_count": 3,
   "metadata": {},
   "outputs": [
    {
     "data": {
      "text/plain": [
       "(37966, 2)"
      ]
     },
     "execution_count": 3,
     "metadata": {},
     "output_type": "execute_result"
    }
   ],
   "source": [
    "import pandas as pd\n",
    "df = pd.read_csv('data/감성대화말뭉치_전처리완.csv',index_col=0)\n",
    "df = df[df['emotion'] != '슬픔']\n",
    "df.shape"
   ]
  },
  {
   "cell_type": "code",
   "execution_count": 4,
   "metadata": {},
   "outputs": [],
   "source": [
    "from googletrans import Translator\n",
    "import time\n",
    "\n",
    "# 전역으로 선언하면 오버해드가 줄어든다?\n",
    "translator = Translator()\n",
    "\n",
    "# 역번역 함수: 한글 -> 영어 -> 한글\n",
    "def backtranslate(text):\n",
    "    global translator   \n",
    "    \n",
    "    en = translator.translate(text, src='ko', dest='en').text\n",
    "    time.sleep(0.3)   #ReadTimeout 방지\n",
    "    \n",
    "    kr = translator.translate(en, src='en', dest='ko').text\n",
    "    time.sleep(0.3)   \n",
    "    \n",
    "    return kr"
   ]
  },
  {
   "cell_type": "code",
   "execution_count": 4,
   "metadata": {},
   "outputs": [],
   "source": [
    "# 카운트 테스트\n",
    "from googletrans import Translator\n",
    "import time\n",
    "\n",
    "translator = Translator()\n",
    "\n",
    "cnt=0\n",
    "# 역번역 함수: 한글 -> 영어 -> 한글\n",
    "def backtranslate(text):\n",
    "    global translator   \n",
    "    global cnt\n",
    "    \n",
    "    cnt +=1\n",
    "    if cnt%100 ==0: print(cnt)\n",
    "    en = translator.translate(text, src='ko', dest='en').text\n",
    "    time.sleep(0.5)   #ReadTimeout 방지\n",
    "    \n",
    "    kr = translator.translate(en, src='en', dest='ko').text\n",
    "    time.sleep(0.5)   \n",
    "    \n",
    "    return kr"
   ]
  },
  {
   "cell_type": "code",
   "execution_count": 5,
   "metadata": {},
   "outputs": [],
   "source": [
    "# (에러방지)데이터 프레임 분리 후 각각 번역\n",
    "df1 = df[:3000]\n",
    "df2 = df[3000:6000]\n",
    "df3 = df[6000:9000]\n",
    "df4 = df[9000:12000]\n",
    "df5 = df[12000:15000]\n",
    "df6 = df[15000:18000]\n",
    "df7 = df[18000:21000]\n",
    "df8 = df[21000:24000]\n",
    "df9 = df[24000:27000]\n",
    "df10 = df[27000:30000]\n",
    "df11 = df[30000:33000]\n",
    "df12 = df[33000:36000]\n",
    "df13 = df[36000:]"
   ]
  },
  {
   "cell_type": "code",
   "execution_count": null,
   "metadata": {},
   "outputs": [],
   "source": [
    "df1['sentence'] = df1['sentence'].apply(backtranslate)\n",
    "df1.to_csv('res/df1.csv', encoding='utf-8-sig')"
   ]
  },
  {
   "cell_type": "code",
   "execution_count": 5,
   "metadata": {},
   "outputs": [],
   "source": [
    "df1 = pd.read_csv('data/df1.csv',index_col=0)\n",
    "df2 = pd.read_csv('data/df2.csv',index_col=0)\n",
    "df3 = pd.read_csv('data/df3.csv',index_col=0)\n",
    "df4 = pd.read_csv('data/df4.csv',index_col=0)\n",
    "df5 = pd.read_csv('data/df5.csv',index_col=0)\n",
    "df6 = pd.read_csv('data/df6.csv',index_col=0)\n",
    "df7 = pd.read_csv('data/df7.csv',index_col=0)\n",
    "df8 = pd.read_csv('data/df8.csv',index_col=0)\n",
    "df9 = pd.read_csv('data/df9.csv',index_col=0)\n",
    "df10 = pd.read_csv('data/df10.csv',index_col=0)\n",
    "df11 = pd.read_csv('data/df11.csv',index_col=0)\n",
    "df12 = pd.read_csv('data/df12.csv',index_col=0)\n",
    "df13 = pd.read_csv('data/df13.csv',index_col=0)"
   ]
  },
  {
   "cell_type": "code",
   "execution_count": 6,
   "metadata": {},
   "outputs": [],
   "source": [
    "import pandas as pd\n",
    "concat_df = pd.concat([df1, df2, df3, df4, df5, df6, df7, df8, df9, df10, df11, df12, df13])"
   ]
  },
  {
   "cell_type": "code",
   "execution_count": 5,
   "metadata": {},
   "outputs": [
    {
     "data": {
      "text/plain": [
       "emotion\n",
       "기쁨     7334\n",
       "당황     9794\n",
       "분노    10410\n",
       "불안    10428\n",
       "Name: sentence, dtype: int64"
      ]
     },
     "execution_count": 5,
     "metadata": {},
     "output_type": "execute_result"
    }
   ],
   "source": [
    "concat_df.groupby('emotion').count().iloc[:,0]"
   ]
  },
  {
   "cell_type": "code",
   "execution_count": 13,
   "metadata": {},
   "outputs": [
    {
     "data": {
      "text/html": [
       "<div>\n",
       "<style scoped>\n",
       "    .dataframe tbody tr th:only-of-type {\n",
       "        vertical-align: middle;\n",
       "    }\n",
       "\n",
       "    .dataframe tbody tr th {\n",
       "        vertical-align: top;\n",
       "    }\n",
       "\n",
       "    .dataframe thead th {\n",
       "        text-align: right;\n",
       "    }\n",
       "</style>\n",
       "<table border=\"1\" class=\"dataframe\">\n",
       "  <thead>\n",
       "    <tr style=\"text-align: right;\">\n",
       "      <th></th>\n",
       "      <th>sentence</th>\n",
       "      <th>emotion</th>\n",
       "    </tr>\n",
       "  </thead>\n",
       "  <tbody>\n",
       "    <tr>\n",
       "      <th>0</th>\n",
       "      <td>일을 끝내지 않는 이유는 무엇입니까? 화난.</td>\n",
       "      <td>분노</td>\n",
       "    </tr>\n",
       "    <tr>\n",
       "      <th>1</th>\n",
       "      <td>급여는 이번 달에 다시 삭감되었습니다! 가격이 올라가서 저급을 계속 지불하기 때문에...</td>\n",
       "      <td>분노</td>\n",
       "    </tr>\n",
       "    <tr>\n",
       "      <th>2</th>\n",
       "      <td>회사에 신입 사원이 있지만 성가신 일입니다. 매일 그런 아이를 봐야한다고 생각합니다.</td>\n",
       "      <td>분노</td>\n",
       "    </tr>\n",
       "    <tr>\n",
       "      <th>3</th>\n",
       "      <td>나는 직장에서 막내 가기 때문에 모든 종류의 심부름을 줘. 많은 일이 있지만 정말 ...</td>\n",
       "      <td>분노</td>\n",
       "    </tr>\n",
       "    <tr>\n",
       "      <th>4</th>\n",
       "      <td>최근에 회사에 합류 한 신입 사원이 저를 무시하는 것 같습니다.</td>\n",
       "      <td>분노</td>\n",
       "    </tr>\n",
       "  </tbody>\n",
       "</table>\n",
       "</div>"
      ],
      "text/plain": [
       "                                            sentence emotion\n",
       "0                           일을 끝내지 않는 이유는 무엇입니까? 화난.      분노\n",
       "1  급여는 이번 달에 다시 삭감되었습니다! 가격이 올라가서 저급을 계속 지불하기 때문에...      분노\n",
       "2    회사에 신입 사원이 있지만 성가신 일입니다. 매일 그런 아이를 봐야한다고 생각합니다.      분노\n",
       "3  나는 직장에서 막내 가기 때문에 모든 종류의 심부름을 줘. 많은 일이 있지만 정말 ...      분노\n",
       "4                최근에 회사에 합류 한 신입 사원이 저를 무시하는 것 같습니다.      분노"
      ]
     },
     "execution_count": 13,
     "metadata": {},
     "output_type": "execute_result"
    }
   ],
   "source": [
    "concat_df.head()"
   ]
  },
  {
   "cell_type": "code",
   "execution_count": 12,
   "metadata": {},
   "outputs": [
    {
     "data": {
      "text/html": [
       "<div>\n",
       "<style scoped>\n",
       "    .dataframe tbody tr th:only-of-type {\n",
       "        vertical-align: middle;\n",
       "    }\n",
       "\n",
       "    .dataframe tbody tr th {\n",
       "        vertical-align: top;\n",
       "    }\n",
       "\n",
       "    .dataframe thead th {\n",
       "        text-align: right;\n",
       "    }\n",
       "</style>\n",
       "<table border=\"1\" class=\"dataframe\">\n",
       "  <thead>\n",
       "    <tr style=\"text-align: right;\">\n",
       "      <th></th>\n",
       "      <th>sentence</th>\n",
       "      <th>emotion</th>\n",
       "    </tr>\n",
       "  </thead>\n",
       "  <tbody>\n",
       "    <tr>\n",
       "      <th>114728</th>\n",
       "      <td>수영장에 함께 다녀온 아내가 이명이 들린다니 당황스러워.</td>\n",
       "      <td>놀람</td>\n",
       "    </tr>\n",
       "    <tr>\n",
       "      <th>69071</th>\n",
       "      <td>다리 모아봐. 떨어뜨리면 안돼.</td>\n",
       "      <td>중립</td>\n",
       "    </tr>\n",
       "    <tr>\n",
       "      <th>13897</th>\n",
       "      <td>다행이다... 그럼 잘 설득하면 되는 거네요.</td>\n",
       "      <td>중립</td>\n",
       "    </tr>\n",
       "    <tr>\n",
       "      <th>116588</th>\n",
       "      <td>아들이 함께 살기 힘들다고 따로 거처를 마련했다는 말이 절로 가슴 아파.</td>\n",
       "      <td>슬픔</td>\n",
       "    </tr>\n",
       "    <tr>\n",
       "      <th>7638</th>\n",
       "      <td>이대호가 뭐가아쉬워서 롯데로 유턴하지??</td>\n",
       "      <td>놀람</td>\n",
       "    </tr>\n",
       "    <tr>\n",
       "      <th>51378</th>\n",
       "      <td>수업 시간에 괴롭힘을당한 것 같아서 열등합니다.</td>\n",
       "      <td>분노</td>\n",
       "    </tr>\n",
       "    <tr>\n",
       "      <th>17121</th>\n",
       "      <td>내일 어버이연합 틀딱 쓰래기 늙은이들 죠패러갑니다</td>\n",
       "      <td>분노</td>\n",
       "    </tr>\n",
       "    <tr>\n",
       "      <th>72529</th>\n",
       "      <td>내일 웨딩사진 촬영 있는 날인데 살이 생각만큼 안 빠져서 완전히 스트레스받아.</td>\n",
       "      <td>불안</td>\n",
       "    </tr>\n",
       "    <tr>\n",
       "      <th>17485</th>\n",
       "      <td>친구가 나를 의심해서 너무 속상해.</td>\n",
       "      <td>슬픔</td>\n",
       "    </tr>\n",
       "    <tr>\n",
       "      <th>17212</th>\n",
       "      <td>얼마 전 내 팔순을 맞아 경로당에서 잔치를 열어줘서 얼마나 기쁘던지.</td>\n",
       "      <td>행복</td>\n",
       "    </tr>\n",
       "    <tr>\n",
       "      <th>119956</th>\n",
       "      <td>맥 그리ㅡ 홧티잉 정말대단해</td>\n",
       "      <td>행복</td>\n",
       "    </tr>\n",
       "    <tr>\n",
       "      <th>101497</th>\n",
       "      <td>얼마 전 입사한 신입사원이 나를 무시하는 것 같아서 너무 화가 나.</td>\n",
       "      <td>분노</td>\n",
       "    </tr>\n",
       "    <tr>\n",
       "      <th>20906</th>\n",
       "      <td>어제 자연분만으로 아기를 낳았어! 너무 기쁘고 행복해.</td>\n",
       "      <td>행복</td>\n",
       "    </tr>\n",
       "    <tr>\n",
       "      <th>83704</th>\n",
       "      <td>딸은 잘 되가고 있는거야?</td>\n",
       "      <td>중립</td>\n",
       "    </tr>\n",
       "    <tr>\n",
       "      <th>120201</th>\n",
       "      <td>어떻게 된거냐? 그렇게 날 아프게 하고 떠났으면 잘 살았어야지! 왜 이러구 살어!</td>\n",
       "      <td>분노</td>\n",
       "    </tr>\n",
       "    <tr>\n",
       "      <th>37863</th>\n",
       "      <td>내가 아내에게 거짓말하고 외도를 한 적이 있어. 그래서 지금 사이가 안 좋은데 벌 ...</td>\n",
       "      <td>놀람</td>\n",
       "    </tr>\n",
       "    <tr>\n",
       "      <th>39897</th>\n",
       "      <td>......훗, 그럴 리가 없잖냐. 제대로 갖고 왔다고. 여기에 말이지.</td>\n",
       "      <td>행복</td>\n",
       "    </tr>\n",
       "    <tr>\n",
       "      <th>9369</th>\n",
       "      <td>저 어떡해야하줘?</td>\n",
       "      <td>불안</td>\n",
       "    </tr>\n",
       "    <tr>\n",
       "      <th>40416</th>\n",
       "      <td>남편은 은퇴 할 준비가되지 않는 것에 대해 많은 것을 비난하고 있습니다.</td>\n",
       "      <td>분노</td>\n",
       "    </tr>\n",
       "    <tr>\n",
       "      <th>123274</th>\n",
       "      <td>정유라년이나 잡아들여</td>\n",
       "      <td>분노</td>\n",
       "    </tr>\n",
       "  </tbody>\n",
       "</table>\n",
       "</div>"
      ],
      "text/plain": [
       "                                                 sentence emotion\n",
       "114728                    수영장에 함께 다녀온 아내가 이명이 들린다니 당황스러워.      놀람\n",
       "69071                                  다리 모아봐. 떨어뜨리면 안돼.       중립\n",
       "13897                           다행이다... 그럼 잘 설득하면 되는 거네요.      중립\n",
       "116588           아들이 함께 살기 힘들다고 따로 거처를 마련했다는 말이 절로 가슴 아파.      슬픔\n",
       "7638                               이대호가 뭐가아쉬워서 롯데로 유턴하지??      놀람\n",
       "51378                          수업 시간에 괴롭힘을당한 것 같아서 열등합니다.      분노\n",
       "17121                         내일 어버이연합 틀딱 쓰래기 늙은이들 죠패러갑니다      분노\n",
       "72529         내일 웨딩사진 촬영 있는 날인데 살이 생각만큼 안 빠져서 완전히 스트레스받아.      불안\n",
       "17485                                 친구가 나를 의심해서 너무 속상해.      슬픔\n",
       "17212              얼마 전 내 팔순을 맞아 경로당에서 잔치를 열어줘서 얼마나 기쁘던지.      행복\n",
       "119956                                    맥 그리ㅡ 홧티잉 정말대단해      행복\n",
       "101497              얼마 전 입사한 신입사원이 나를 무시하는 것 같아서 너무 화가 나.      분노\n",
       "20906                      어제 자연분만으로 아기를 낳았어! 너무 기쁘고 행복해.      행복\n",
       "83704                                      딸은 잘 되가고 있는거야?      중립\n",
       "120201      어떻게 된거냐? 그렇게 날 아프게 하고 떠났으면 잘 살았어야지! 왜 이러구 살어!      분노\n",
       "37863   내가 아내에게 거짓말하고 외도를 한 적이 있어. 그래서 지금 사이가 안 좋은데 벌 ...      놀람\n",
       "39897            ......훗, 그럴 리가 없잖냐. 제대로 갖고 왔다고. 여기에 말이지.      행복\n",
       "9369                                            저 어떡해야하줘?      불안\n",
       "40416            남편은 은퇴 할 준비가되지 않는 것에 대해 많은 것을 비난하고 있습니다.      분노\n",
       "123274                                        정유라년이나 잡아들여      분노"
      ]
     },
     "execution_count": 12,
     "metadata": {},
     "output_type": "execute_result"
    }
   ],
   "source": [
    "import pandas as pd\n",
    "\n",
    "df = pd.read_csv('data/병합데이터셋-v3.csv',index_col=0)\n",
    "\n",
    "dfv5 = pd.concat([df, concat_df])\n",
    "dfv5.sample(n=20)"
   ]
  },
  {
   "cell_type": "code",
   "execution_count": 14,
   "metadata": {},
   "outputs": [
    {
     "name": "stdout",
     "output_type": "stream",
     "text": [
      "---------------전처리 전:  (173757, 2)\n",
      "중복되는 행:  861\n",
      "---------------전처리 후:  (172885, 2)\n"
     ]
    },
    {
     "data": {
      "text/html": [
       "<div>\n",
       "<style scoped>\n",
       "    .dataframe tbody tr th:only-of-type {\n",
       "        vertical-align: middle;\n",
       "    }\n",
       "\n",
       "    .dataframe tbody tr th {\n",
       "        vertical-align: top;\n",
       "    }\n",
       "\n",
       "    .dataframe thead th {\n",
       "        text-align: right;\n",
       "    }\n",
       "</style>\n",
       "<table border=\"1\" class=\"dataframe\">\n",
       "  <thead>\n",
       "    <tr style=\"text-align: right;\">\n",
       "      <th></th>\n",
       "      <th>sentence</th>\n",
       "      <th>emotion</th>\n",
       "    </tr>\n",
       "  </thead>\n",
       "  <tbody>\n",
       "    <tr>\n",
       "      <th>0</th>\n",
       "      <td>노년이 되니 자녀 관계가 악화하고 있어.</td>\n",
       "      <td>놀람</td>\n",
       "    </tr>\n",
       "    <tr>\n",
       "      <th>1</th>\n",
       "      <td>쓸데없는 소리 말고 가!</td>\n",
       "      <td>분노</td>\n",
       "    </tr>\n",
       "    <tr>\n",
       "      <th>2</th>\n",
       "      <td>내 우울증 치료로 돈이 많이 나간다고 아내가 이혼을 요구했어.</td>\n",
       "      <td>슬픔</td>\n",
       "    </tr>\n",
       "    <tr>\n",
       "      <th>3</th>\n",
       "      <td>글쎄, 너랑 같이 안 가면 난 예년대로 혼자 가는 거지 뭐. 그게 홀가분하고 편하니...</td>\n",
       "      <td>중립</td>\n",
       "    </tr>\n",
       "    <tr>\n",
       "      <th>4</th>\n",
       "      <td>여기! 도 좀 쓸어!</td>\n",
       "      <td>중립</td>\n",
       "    </tr>\n",
       "    <tr>\n",
       "      <th>...</th>\n",
       "      <td>...</td>\n",
       "      <td>...</td>\n",
       "    </tr>\n",
       "    <tr>\n",
       "      <th>172880</th>\n",
       "      <td>나와 동시에 결혼 한 친구는 내 집을 부러워하며 대출부터 시작합니다.</td>\n",
       "      <td>당황</td>\n",
       "    </tr>\n",
       "    <tr>\n",
       "      <th>172881</th>\n",
       "      <td>친구가 결혼하여 아이가 있었고 너무 행복해 보였습니다. 기분이 좋지 않습니다.</td>\n",
       "      <td>당황</td>\n",
       "    </tr>\n",
       "    <tr>\n",
       "      <th>172882</th>\n",
       "      <td>다른 사람들은 결혼하기 전에 1 억을 모았지만, 내가 한 일을 모르겠습니다. 나는 ...</td>\n",
       "      <td>당황</td>\n",
       "    </tr>\n",
       "    <tr>\n",
       "      <th>172883</th>\n",
       "      <td>나는 나보다 먼저 결혼 한 친구를 부러워합니다. 친구의 남편은 남편보다 낫고 키가 ...</td>\n",
       "      <td>당황</td>\n",
       "    </tr>\n",
       "    <tr>\n",
       "      <th>172884</th>\n",
       "      <td>내 친구들은 모두 결혼했고 혼자 외로워요.</td>\n",
       "      <td>당황</td>\n",
       "    </tr>\n",
       "  </tbody>\n",
       "</table>\n",
       "<p>172885 rows × 2 columns</p>\n",
       "</div>"
      ],
      "text/plain": [
       "                                                 sentence emotion\n",
       "0                                  노년이 되니 자녀 관계가 악화하고 있어.      놀람\n",
       "1                                           쓸데없는 소리 말고 가!      분노\n",
       "2                      내 우울증 치료로 돈이 많이 나간다고 아내가 이혼을 요구했어.      슬픔\n",
       "3       글쎄, 너랑 같이 안 가면 난 예년대로 혼자 가는 거지 뭐. 그게 홀가분하고 편하니...      중립\n",
       "4                                             여기! 도 좀 쓸어!      중립\n",
       "...                                                   ...     ...\n",
       "172880             나와 동시에 결혼 한 친구는 내 집을 부러워하며 대출부터 시작합니다.      당황\n",
       "172881        친구가 결혼하여 아이가 있었고 너무 행복해 보였습니다. 기분이 좋지 않습니다.      당황\n",
       "172882  다른 사람들은 결혼하기 전에 1 억을 모았지만, 내가 한 일을 모르겠습니다. 나는 ...      당황\n",
       "172883  나는 나보다 먼저 결혼 한 친구를 부러워합니다. 친구의 남편은 남편보다 낫고 키가 ...      당황\n",
       "172884                            내 친구들은 모두 결혼했고 혼자 외로워요.      당황\n",
       "\n",
       "[172885 rows x 2 columns]"
      ]
     },
     "execution_count": 14,
     "metadata": {},
     "output_type": "execute_result"
    }
   ],
   "source": [
    "Preprocess_all(dfv5)"
   ]
  },
  {
   "cell_type": "code",
   "execution_count": 15,
   "metadata": {},
   "outputs": [],
   "source": [
    "dfv5.to_csv('data/병합데이터셋-v5.csv', encoding='utf-8-sig')"
   ]
  },
  {
   "cell_type": "code",
   "execution_count": 2,
   "metadata": {},
   "outputs": [],
   "source": [
    "import pandas as pd\n",
    "\n",
    "dfv5 = pd.read_csv('data/병합데이터셋-v5.csv',index_col=0)\n"
   ]
  },
  {
   "cell_type": "code",
   "execution_count": 4,
   "metadata": {},
   "outputs": [
    {
     "data": {
      "text/plain": [
       "emotion\n",
       "기쁨     7334\n",
       "놀람    19538\n",
       "당황     9794\n",
       "분노    29936\n",
       "불안    26408\n",
       "슬픔    21305\n",
       "중립    45149\n",
       "행복    14293\n",
       "Name: sentence, dtype: int64"
      ]
     },
     "execution_count": 4,
     "metadata": {},
     "output_type": "execute_result"
    }
   ],
   "source": [
    "dfv5.groupby('emotion').count().iloc[:,0]"
   ]
  },
  {
   "cell_type": "code",
   "execution_count": null,
   "metadata": {},
   "outputs": [],
   "source": []
  }
 ],
 "metadata": {
  "kernelspec": {
   "display_name": "base",
   "language": "python",
   "name": "python3"
  },
  "language_info": {
   "codemirror_mode": {
    "name": "ipython",
    "version": 3
   },
   "file_extension": ".py",
   "mimetype": "text/x-python",
   "name": "python",
   "nbconvert_exporter": "python",
   "pygments_lexer": "ipython3",
   "version": "3.9.16"
  },
  "orig_nbformat": 4
 },
 "nbformat": 4,
 "nbformat_minor": 2
}
