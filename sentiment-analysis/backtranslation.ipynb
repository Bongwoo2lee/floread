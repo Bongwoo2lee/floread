{
 "cells": [
  {
   "cell_type": "code",
   "execution_count": null,
   "metadata": {},
   "outputs": [],
   "source": [
    "# 구글 번역 api (처음 한번만 설치)\n",
    "%pip install googletrans==4.0.0-rc1"
   ]
  },
  {
   "cell_type": "code",
   "execution_count": 39,
   "metadata": {},
   "outputs": [
    {
     "data": {
      "text/plain": [
       "'c:\\\\Users\\\\KangIW\\\\git_j500\\\\floread'"
      ]
     },
     "execution_count": 39,
     "metadata": {},
     "output_type": "execute_result"
    }
   ],
   "source": [
    "# 이 파일 있는 디렉터리로 이동??\n",
    "import os\n",
    "os.chdir(os.getcwd())\n",
    "%pwd\n",
    "\n",
    "#%cd /content/drive/MyDrive/Github/floread/sentiment-analysis"
   ]
  },
  {
   "cell_type": "code",
   "execution_count": 9,
   "metadata": {},
   "outputs": [
    {
     "data": {
      "text/plain": [
       "(58240, 2)"
      ]
     },
     "execution_count": 9,
     "metadata": {},
     "output_type": "execute_result"
    }
   ],
   "source": [
    "# 가장 퀄리티가 나은 감성대화말뭉치 사용\n",
    "import pandas as pd\n",
    "\n",
    "df = pd.read_csv('data/감성대화말뭉치(병합).csv',index_col=0)\n",
    "df.shape"
   ]
  },
  {
   "cell_type": "code",
   "execution_count": 11,
   "metadata": {},
   "outputs": [
    {
     "data": {
      "text/plain": [
       "emotion\n",
       "기쁨     7337\n",
       "당황     9797\n",
       "분노    10414\n",
       "불안    10429\n",
       "슬픔    20263\n",
       "Name: sentence, dtype: int64"
      ]
     },
     "execution_count": 11,
     "metadata": {},
     "output_type": "execute_result"
    }
   ],
   "source": [
    "df['emotion'] = df['emotion'].replace('상처', '슬픔')\n",
    "df.groupby('emotion').count().iloc[:,0]"
   ]
  },
  {
   "cell_type": "code",
   "execution_count": 8,
   "metadata": {},
   "outputs": [],
   "source": [
    "import re\n",
    "\n",
    "#한글 있는지 체크\n",
    "def has_korean(text):\n",
    "    korean_check = lambda text: any(char >= '가' and char <= '힣' for char in text)\n",
    "    return korean_check(text)\n",
    "\n",
    "#0으로 끝나는 문장\n",
    "def remove_end_0(sentence):\n",
    "    if sentence.endswith('0'):\n",
    "        return sentence[:-1]\n",
    "    return sentence\n",
    "\n",
    "def Preprocess_all(df):\n",
    "    \n",
    "    print(\"---------------전처리 전: \",df.shape)\n",
    "    \n",
    "    # 결측치 제거\n",
    "    df = df.dropna()\n",
    "    \n",
    "    #필터 처리된 단어 공백으로 치환\n",
    "    df['sentence'] = df['sentence'].str.replace(r'OO+', ' ', regex=True)\n",
    "    \n",
    "    #좌측 공백 제거\n",
    "    df['sentence'] = df['sentence'].str.lstrip()\n",
    "    \n",
    "    #한글 없는 문장 제거\n",
    "    df = df[df['sentence'].apply(lambda x: has_korean(x))]\n",
    "    \n",
    "    #한자 들어간 문장 제거\n",
    "    df = df[~df['sentence'].str.contains('[\\u4e00-\\u9fff]')]\n",
    "        \n",
    "    #일부 단어 치환\n",
    "    df['sentence'] = df['sentence'].str.replace(r'(ㅋ{3,})', 'ㅋㅋ', regex=True)\n",
    "    df['sentence'] = df['sentence'].str.replace(r'\\?\\?{3,}', '??,', regex=True)\n",
    "    df['sentence'] = df['sentence'].str.replace(r'~{3,}', '~~', regex=True)\n",
    "    df['sentence'] = df['sentence'].str.replace(r'!{3,}', '!!', regex=True)\n",
    "    df['sentence'] = df['sentence'].str.replace(r'-{3,}', '--', regex=True)\n",
    "    df['sentence'] = df['sentence'].str.replace(r'(ㅠ{3,})', 'ㅠㅠ', regex=True)\n",
    "    df['sentence'] = df['sentence'].str.replace(r'(ㅜ{3,})', 'ㅜㅜ', regex=True)\n",
    "    df['sentence'] = df['sentence'].str.replace(r'(ㄱ{3,})', 'ㄱㄱ', regex=True)\n",
    "    df['sentence'] = df['sentence'].str.replace(r'(ㄷ{3,})', 'ㄷㄷ', regex=True)\n",
    "    df['sentence'] = df['sentence'].str.replace(r'(ㅎ{3,})', 'ㅎㅎ', regex=True)\n",
    "\n",
    "    df['sentence'] = df['sentence'].str.replace(r'(♥{2,})', '♥', regex=True)\n",
    "    df['sentence'] = df['sentence'].str.replace(r'(♡{2,})', '♡', regex=True)\n",
    "    df['sentence'] = df['sentence'].str.replace(r'\\s{2,}', ' ', regex=True)\n",
    "    \n",
    "    df['sentence'] = df['sentence'].str.replace(r'\\.{7,}', '......', regex=True)\n",
    "    df['sentence'] = df['sentence'].str.replace(';{3,}', ';;')\n",
    "    df['sentence'] = df['sentence'].str.replace('\\^{3,}', '^^')\n",
    "    \n",
    "    # 한글 자모음이 3번 이상 반복되는 패턴을 찾아, 그 자모음 2개로 치환\n",
    "    df['sentence'] = df['sentence'].apply(lambda x: re.sub(r'(([ㄱ-ㅎㅏ-ㅣ]|ㄲ|ㄸ|ㅃ|ㅆ|ㅉ){3,})', lambda m: m.group(1)[:2], x))\n",
    "\n",
    "    # 길이가 100이상인 문장 제거\n",
    "    df = df[df['sentence'].str.len() < 100]\n",
    "    \n",
    "    # 0으로 끝나면 0빼기\n",
    "    df['sentence'] = df['sentence'].apply(remove_end_0)\n",
    "    \n",
    "    #의미 없는 0패턴 제거\n",
    "    replacements = {\n",
    "        r'\\?0': '?',\n",
    "        r';0': ';',\n",
    "        r'ㅠ0': 'ㅠ',\n",
    "        r'ㅜ0': 'ㅜ',\n",
    "        r'\\.0': '.'\n",
    "    }\n",
    "\n",
    "    for pattern, replacement in replacements.items():\n",
    "        df['sentence'] = df['sentence'].str.replace(pattern, replacement, regex=True)\n",
    "        \n",
    "    # 중복행 제거\n",
    "    dup = df[df.duplicated(subset=['sentence'])]\n",
    "    print(\"중복되는 행: \", len(dup))\n",
    "    df = df.drop_duplicates(subset=['sentence'], keep='first')\n",
    "    \n",
    "    # 인덱스 재설정\n",
    "    df.reset_index(drop=True, inplace=True)\n",
    "\n",
    "    print(\"---------------전처리 후: \",df.shape)    \n",
    "    \n",
    "    return df"
   ]
  },
  {
   "cell_type": "code",
   "execution_count": 16,
   "metadata": {},
   "outputs": [
    {
     "name": "stdout",
     "output_type": "stream",
     "text": [
      "---------------전처리 전:  (58240, 2)\n",
      "중복되는 행:  0\n",
      "---------------전처리 후:  (58224, 2)\n"
     ]
    }
   ],
   "source": [
    "pp_df = Preprocess_all(df)"
   ]
  },
  {
   "cell_type": "code",
   "execution_count": null,
   "metadata": {},
   "outputs": [],
   "source": [
    "pp_df.to_csv('data/감성대화말뭉치_전처리완.csv', encoding='utf-8-sig')"
   ]
  },
  {
   "cell_type": "code",
   "execution_count": 2,
   "metadata": {},
   "outputs": [
    {
     "data": {
      "text/plain": [
       "emotion\n",
       "기쁨     7334\n",
       "당황     9794\n",
       "분노    10410\n",
       "불안    10428\n",
       "슬픔    20258\n",
       "Name: sentence, dtype: int64"
      ]
     },
     "execution_count": 2,
     "metadata": {},
     "output_type": "execute_result"
    }
   ],
   "source": [
    "import pandas as pd\n",
    "df = pd.read_csv('data/감성대화말뭉치_전처리완.csv',index_col=0)\n",
    "df.groupby('emotion').count().iloc[:,0]"
   ]
  },
  {
   "cell_type": "code",
   "execution_count": 28,
   "metadata": {},
   "outputs": [
    {
     "name": "stdout",
     "output_type": "stream",
     "text": [
      "(135791, 2)\n"
     ]
    },
    {
     "data": {
      "text/plain": [
       "emotion\n",
       "놀람    19538\n",
       "분노    19526\n",
       "불안    15980\n",
       "슬픔    21305\n",
       "중립    45149\n",
       "행복    14293\n",
       "Name: sentence, dtype: int64"
      ]
     },
     "execution_count": 28,
     "metadata": {},
     "output_type": "execute_result"
    }
   ],
   "source": [
    "dfsum = pd.read_csv('data/병합데이터셋-v3.csv',index_col=0)\n",
    "print(dfsum.shape)\n",
    "dfsum.groupby('emotion').count().iloc[:,0]"
   ]
  },
  {
   "cell_type": "markdown",
   "metadata": {},
   "source": [
    "놀람1000,분노1000, 불안4000, 슬픔 -, 중립-, 행복6000"
   ]
  },
  {
   "cell_type": "code",
   "execution_count": 3,
   "metadata": {},
   "outputs": [
    {
     "data": {
      "text/plain": [
       "(37966, 2)"
      ]
     },
     "execution_count": 3,
     "metadata": {},
     "output_type": "execute_result"
    }
   ],
   "source": [
    "import pandas as pd\n",
    "df = pd.read_csv('data/감성대화말뭉치_전처리완.csv',index_col=0)\n",
    "df = df[df['emotion'] != '슬픔']\n",
    "df.shape"
   ]
  },
  {
   "cell_type": "code",
   "execution_count": 4,
   "metadata": {},
   "outputs": [],
   "source": [
    "from googletrans import Translator\n",
    "import time\n",
    "\n",
    "# 전역으로 선언하면 오버해드가 줄어든다?\n",
    "translator = Translator()\n",
    "\n",
    "# 역번역 함수: 한글 -> 영어 -> 한글\n",
    "def backtranslate(text):\n",
    "    global translator   \n",
    "    \n",
    "    en = translator.translate(text, src='ko', dest='en').text\n",
    "    time.sleep(0.3)   #ReadTimeout 방지\n",
    "    \n",
    "    kr = translator.translate(en, src='en', dest='ko').text\n",
    "    time.sleep(0.3)   \n",
    "    \n",
    "    return kr"
   ]
  },
  {
   "cell_type": "code",
   "execution_count": 4,
   "metadata": {},
   "outputs": [],
   "source": [
    "# 카운트 테스트\n",
    "from googletrans import Translator\n",
    "import time\n",
    "\n",
    "translator = Translator()\n",
    "\n",
    "cnt=0\n",
    "# 역번역 함수: 한글 -> 영어 -> 한글\n",
    "def backtranslate(text):\n",
    "    global translator   \n",
    "    global cnt\n",
    "    \n",
    "    cnt +=1\n",
    "    if cnt%100 ==0: print(cnt)\n",
    "    en = translator.translate(text, src='ko', dest='en').text\n",
    "    time.sleep(0.5)   #ReadTimeout 방지\n",
    "    \n",
    "    kr = translator.translate(en, src='en', dest='ko').text\n",
    "    time.sleep(0.5)   \n",
    "    \n",
    "    return kr"
   ]
  },
  {
   "cell_type": "code",
   "execution_count": 5,
   "metadata": {},
   "outputs": [],
   "source": [
    "# (에러방지)데이터 프레임 분리 후 각각 번역\n",
    "df1 = df[:3000]\n",
    "df2 = df[3000:6000]\n",
    "df3 = df[6000:9000]\n",
    "df4 = df[9000:12000]\n",
    "df5 = df[12000:15000]\n",
    "df6 = df[15000:18000]\n",
    "df7 = df[18000:21000]\n",
    "df8 = df[21000:24000]\n",
    "df9 = df[24000:27000]\n",
    "df10 = df[27000:30000]\n",
    "df11 = df[30000:33000]\n",
    "df12 = df[33000:36000]\n",
    "df13 = df[36000:]"
   ]
  },
  {
   "cell_type": "code",
   "execution_count": null,
   "metadata": {},
   "outputs": [],
   "source": [
    "df1['sentence'] = df1['sentence'].apply(backtranslate)\n",
    "df1.to_csv('res/df1.csv', encoding='utf-8-sig')"
   ]
  },
  {
   "cell_type": "code",
   "execution_count": 26,
   "metadata": {},
   "outputs": [
    {
     "data": {
      "text/plain": [
       "(37966, 2)"
      ]
     },
     "execution_count": 26,
     "metadata": {},
     "output_type": "execute_result"
    }
   ],
   "source": [
    "import pandas as pd\n",
    "\n",
    "df1 = pd.read_csv('data/df1.csv',index_col=0)\n",
    "df2 = pd.read_csv('data/df2.csv',index_col=0)\n",
    "df3 = pd.read_csv('data/df3.csv',index_col=0)\n",
    "df4 = pd.read_csv('data/df4.csv',index_col=0)\n",
    "df5 = pd.read_csv('data/df5.csv',index_col=0)\n",
    "df6 = pd.read_csv('data/df6.csv',index_col=0)\n",
    "df7 = pd.read_csv('data/df7.csv',index_col=0)\n",
    "df8 = pd.read_csv('data/df8.csv',index_col=0)\n",
    "df9 = pd.read_csv('data/df9.csv',index_col=0)\n",
    "df10 = pd.read_csv('data/df10.csv',index_col=0)\n",
    "df11 = pd.read_csv('data/df11.csv',index_col=0)\n",
    "df12 = pd.read_csv('data/df12.csv',index_col=0)\n",
    "df13 = pd.read_csv('data/df13.csv',index_col=0)\n",
    "\n",
    "concat_df = pd.concat([df1, df2, df3, df4, df5, df6, df7, df8, df9, df10, df11, df12, df13])\n",
    "concat_df.shape"
   ]
  },
  {
   "cell_type": "code",
   "execution_count": 27,
   "metadata": {},
   "outputs": [],
   "source": [
    "concat_df['emotion'].replace({'당황': '놀람', '기쁨': '행복'}, inplace=True)"
   ]
  },
  {
   "cell_type": "code",
   "execution_count": 28,
   "metadata": {},
   "outputs": [
    {
     "name": "stdout",
     "output_type": "stream",
     "text": [
      "원래 길이:  37966\n",
      "영어 포함 문장 삭제 후:  37367\n"
     ]
    }
   ],
   "source": [
    "# 번역과정에서 불필요하게 영어가 남아 있는 경우가 너무 많아 모두 삭제해줬음\n",
    "print(\"원래 길이: \", len(concat_df))\n",
    "\n",
    "# 영어를 포함하는 행을 필터링\n",
    "english_rows = concat_df['sentence'].str.contains(r'[a-zA-Z]', regex=True)\n",
    "\n",
    "# 영어를 포함하는 행을 삭제\n",
    "concat_df = concat_df[~english_rows]\n",
    "\n",
    "print(\"영어 포함 문장 삭제 후: \", len(concat_df))"
   ]
  },
  {
   "cell_type": "code",
   "execution_count": 29,
   "metadata": {},
   "outputs": [
    {
     "data": {
      "text/plain": [
       "emotion\n",
       "놀람     9649\n",
       "분노    10275\n",
       "불안    10275\n",
       "행복     7168\n",
       "Name: sentence, dtype: int64"
      ]
     },
     "execution_count": 29,
     "metadata": {},
     "output_type": "execute_result"
    }
   ],
   "source": [
    "concat_df.groupby('emotion').count().iloc[:,0]"
   ]
  },
  {
   "cell_type": "code",
   "execution_count": 30,
   "metadata": {},
   "outputs": [
    {
     "name": "stdout",
     "output_type": "stream",
     "text": [
      "---------------전처리 전:  (37367, 2)\n",
      "중복되는 행:  809\n",
      "---------------전처리 후:  (36550, 2)\n"
     ]
    }
   ],
   "source": [
    "filtered_df = Preprocess_all(concat_df)"
   ]
  },
  {
   "cell_type": "code",
   "execution_count": 31,
   "metadata": {},
   "outputs": [],
   "source": [
    "# 이중에서 놀람1000, 분노1000, 불안4000, 행복6000 추출\n",
    "\n",
    "\n",
    "# 각 감정에 따라 랜덤하게 행을 추출\n",
    "surprise_rows = filtered_df[filtered_df['emotion'] == '놀람'].sample(1000, replace=True)\n",
    "happy_rows = filtered_df[filtered_df['emotion'] == '행복']   #전처리 처리 결과 6000개만 샘플하면 행복태그가 부족함\n",
    "angry_rows = filtered_df[filtered_df['emotion'] == '분노'].sample(1000, replace=True)\n",
    "fear_rows = filtered_df[filtered_df['emotion'] == '불안'].sample(4000, replace=True)\n",
    "\n",
    "# 추출된 행들을 합치기\n",
    "sampled_df = pd.concat([surprise_rows, happy_rows, angry_rows, fear_rows]).reset_index(drop=True)"
   ]
  },
  {
   "cell_type": "code",
   "execution_count": 32,
   "metadata": {},
   "outputs": [
    {
     "data": {
      "text/plain": [
       "(148778, 2)"
      ]
     },
     "execution_count": 32,
     "metadata": {},
     "output_type": "execute_result"
    }
   ],
   "source": [
    "dfv3 = pd.read_csv('data/병합데이터셋-v3.csv',index_col=0)\n",
    "\n",
    "concated_df = pd.concat([sampled_df, dfv3])\n",
    "concated_df.shape"
   ]
  },
  {
   "cell_type": "code",
   "execution_count": 33,
   "metadata": {},
   "outputs": [
    {
     "name": "stdout",
     "output_type": "stream",
     "text": [
      "---------------전처리 전:  (148778, 2)\n",
      "중복되는 행:  868\n",
      "---------------전처리 후:  (147910, 2)\n"
     ]
    }
   ],
   "source": [
    "dfv5 = Preprocess_all(concated_df)"
   ]
  },
  {
   "cell_type": "code",
   "execution_count": 34,
   "metadata": {},
   "outputs": [
    {
     "data": {
      "text/plain": [
       "emotion\n",
       "놀람    20477\n",
       "분노    20473\n",
       "불안    19258\n",
       "슬픔    21299\n",
       "중립    45141\n",
       "행복    21262\n",
       "Name: sentence, dtype: int64"
      ]
     },
     "execution_count": 34,
     "metadata": {},
     "output_type": "execute_result"
    }
   ],
   "source": [
    "dfv5.groupby('emotion').count().iloc[:,0]"
   ]
  },
  {
   "cell_type": "code",
   "execution_count": 35,
   "metadata": {},
   "outputs": [],
   "source": [
    "dfv5.to_csv('data/병합데이터셋-v5.csv', encoding='utf-8-sig')"
   ]
  },
  {
   "cell_type": "code",
   "execution_count": 8,
   "metadata": {},
   "outputs": [
    {
     "data": {
      "image/png": "[encoded data removed]",
      "text/plain": [
       "<Figure size 1500x800 with 1 Axes>"
      ]
     },
     "metadata": {},
     "output_type": "display_data"
    }
   ],
   "source": [
    "import matplotlib.pyplot as plt\n",
    "import seaborn as sns\n",
    "import matplotlib.font_manager as fm\n",
    "import pandas as pd\n",
    "\n",
    "dfv3 = pd.read_csv('data/병합데이터셋-v3.csv', index_col=0)\n",
    "\n",
    "# (한글 출력하려고) 폰트 변경\n",
    "fontpath = 'NPSfont_regular.ttf'\n",
    "font_name = fm.FontProperties(fname=fontpath).get_name()\n",
    "plt.rc('font', family=font_name)\n",
    "\n",
    "# 원하는 순서대로 정렬\n",
    "emotion_order = ['놀람', '행복', '분노', '불안', '슬픔', '중립']\n",
    "\n",
    "# countplot으로 시각화\n",
    "plt.figure(figsize=(15, 8))  # figsize를 plt.rcParams 대신 직접 설정\n",
    "sns.countplot(x='emotion', data=dfv3, order=emotion_order)\n",
    "plt.title('감정 분포', fontsize=40)\n",
    "plt.xlabel('emotion', fontsize=40)\n",
    "plt.ylabel('count', fontsize=15)\n",
    "plt.show()"
   ]
  },
  {
   "cell_type": "code",
   "execution_count": 9,
   "metadata": {},
   "outputs": [
    {
     "data": {
      "image/png": "[encoded data removed]",
      "text/plain": [
       "<Figure size 1500x800 with 1 Axes>"
      ]
     },
     "metadata": {},
     "output_type": "display_data"
    }
   ],
   "source": [
    "import matplotlib.pyplot as plt\n",
    "import seaborn as sns\n",
    "import matplotlib.font_manager as fm\n",
    "import pandas as pd\n",
    "\n",
    "dfv3 = pd.read_csv('data/병합데이터셋-v5.csv', index_col=0)\n",
    "\n",
    "# (한글 출력하려고) 폰트 변경\n",
    "fontpath = 'NPSfont_regular.ttf'\n",
    "font_name = fm.FontProperties(fname=fontpath).get_name()\n",
    "plt.rc('font', family=font_name)\n",
    "\n",
    "# 원하는 순서대로 정렬\n",
    "emotion_order = ['놀람', '행복', '분노', '불안', '슬픔', '중립']\n",
    "\n",
    "# countplot으로 시각화\n",
    "plt.figure(figsize=(15, 8))  # figsize를 plt.rcParams 대신 직접 설정\n",
    "sns.countplot(x='emotion', data=dfv3, order=emotion_order)\n",
    "plt.title('감정 분포', fontsize=40)\n",
    "plt.xlabel('emotion', fontsize=40)\n",
    "plt.ylabel('count', fontsize=15)\n",
    "plt.show()"
   ]
  },
  {
   "cell_type": "code",
   "execution_count": null,
   "metadata": {},
   "outputs": [],
   "source": []
  }
 ],
 "metadata": {
  "kernelspec": {
   "display_name": "base",
   "language": "python",
   "name": "python3"
  },
  "language_info": {
   "codemirror_mode": {
    "name": "ipython",
    "version": 3
   },
   "file_extension": ".py",
   "mimetype": "text/x-python",
   "name": "python",
   "nbconvert_exporter": "python",
   "pygments_lexer": "ipython3",
   "version": "3.9.16"
  },
  "orig_nbformat": 4
 },
 "nbformat": 4,
 "nbformat_minor": 2
}
