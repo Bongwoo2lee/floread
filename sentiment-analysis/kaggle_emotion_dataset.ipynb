{
 "cells": [
  {
   "cell_type": "code",
   "execution_count": 3,
   "metadata": {},
   "outputs": [
    {
     "data": {
      "text/plain": [
       "'data/Emotions dataset for NLP(kaggle).txt'"
      ]
     },
     "execution_count": 3,
     "metadata": {},
     "output_type": "execute_result"
    }
   ],
   "source": [
    "import csv\n",
    "input_file = 'data/Emotions dataset for NLP(kaggle).txt'\n",
    "input_file"
   ]
  },
  {
   "cell_type": "code",
   "execution_count": 4,
   "metadata": {},
   "outputs": [
    {
     "name": "stdout",
     "output_type": "stream",
     "text": [
      "data/kaggle_emotion_dataset.csv 파일이 생성되었습니다.\n"
     ]
    }
   ],
   "source": [
    "output_file = 'data/kaggle_emotion_dataset.csv'\n",
    "\n",
    "data = []\n",
    "with open(input_file, 'r', encoding='utf-8') as txt_file:\n",
    "    lines = txt_file.readlines()\n",
    "    for line in lines:\n",
    "        # 데이터를 ;로 분리하여 'sentence'와 'emotion'으로 나눔\n",
    "        sentence, emotion = line.strip().split(';')\n",
    "        data.append([sentence, emotion])\n",
    "\n",
    "# 데이터를 .csv 파일로 저장\n",
    "with open(output_file, 'w', newline='', encoding='utf-8') as csv_file:\n",
    "    # CSV writer 생성\n",
    "    csv_writer = csv.writer(csv_file)\n",
    "    \n",
    "    # CSV 헤더 작성\n",
    "    csv_writer.writerow(['sentence', 'emotion'])\n",
    "    \n",
    "    # 데이터 작성\n",
    "    csv_writer.writerows(data)\n",
    "\n",
    "print(f'{output_file} 파일이 생성되었습니다.')"
   ]
  },
  {
   "cell_type": "code",
   "execution_count": 1,
   "metadata": {},
   "outputs": [
    {
     "data": {
      "text/plain": [
       "(20000, 2)"
      ]
     },
     "execution_count": 1,
     "metadata": {},
     "output_type": "execute_result"
    }
   ],
   "source": [
    "import pandas as pd\n",
    "\n",
    "df = pd.read_csv('data/kaggle_emotion_dataset.csv')\n",
    "df.shape"
   ]
  },
  {
   "cell_type": "code",
   "execution_count": 5,
   "metadata": {},
   "outputs": [
    {
     "name": "stdout",
     "output_type": "stream",
     "text": [
      "<class 'pandas.core.frame.DataFrame'>\n",
      "RangeIndex: 20000 entries, 0 to 19999\n",
      "Data columns (total 2 columns):\n",
      " #   Column    Non-Null Count  Dtype \n",
      "---  ------    --------------  ----- \n",
      " 0   sentence  20000 non-null  object\n",
      " 1   emotion   20000 non-null  object\n",
      "dtypes: object(2)\n",
      "memory usage: 312.6+ KB\n"
     ]
    }
   ],
   "source": [
    "df.info()"
   ]
  },
  {
   "cell_type": "code",
   "execution_count": 6,
   "metadata": {},
   "outputs": [
    {
     "data": {
      "text/plain": [
       "emotion\n",
       "anger       2709\n",
       "fear        2373\n",
       "joy         6761\n",
       "love        1641\n",
       "sadness     5797\n",
       "surprise     719\n",
       "Name: sentence, dtype: int64"
      ]
     },
     "execution_count": 6,
     "metadata": {},
     "output_type": "execute_result"
    }
   ],
   "source": [
    "df.groupby('emotion').count().iloc[:,0]"
   ]
  },
  {
   "cell_type": "markdown",
   "metadata": {},
   "source": [
    "love, sadness 태그 제거하고 번역  \n",
    "anger - 분노, fear - 불안, joy - 행복, surprise-놀람  "
   ]
  },
  {
   "cell_type": "code",
   "execution_count": 2,
   "metadata": {},
   "outputs": [],
   "source": [
    "filtered_df = df[~df['emotion'].isin(['love', 'sadness'])]\n",
    "df.shape"
   ]
  },
  {
   "cell_type": "code",
   "execution_count": 11,
   "metadata": {},
   "outputs": [
    {
     "name": "stdout",
     "output_type": "stream",
     "text": [
      "Googletrans 버전: 4.0.0-rc.1\n"
     ]
    }
   ],
   "source": [
    "from googletrans import __version__\n",
    "print(f\"Googletrans 버전: {__version__}\")"
   ]
  },
  {
   "cell_type": "code",
   "execution_count": 9,
   "metadata": {},
   "outputs": [],
   "source": [
    "from googletrans import Translator\n",
    "\n",
    "def translate_to_korean(text):\n",
    "    return Translator().translate(text, src='en', dest='ko').text\n",
    "\n",
    "# 데이터프레임에서 'sentence' 열을 번역\n",
    "filtered_df['sentence'] = filtered_df['sentence'].apply(translate_to_korean)"
   ]
  },
  {
   "cell_type": "markdown",
   "metadata": {},
   "source": [
    "googletrans의 문제로 api변경"
   ]
  },
  {
   "cell_type": "code",
   "execution_count": null,
   "metadata": {},
   "outputs": [],
   "source": [
    "import pandas as pd\n",
    "from translate import Translator\n",
    "\n",
    "\n",
    "# 데이터프레임 불러오기\n",
    "df = pd.read_csv('data/kaggle_emotion_dataset.csv')\n",
    "\n",
    "filtered_df = df[~df['emotion'].isin(['love', 'sadness'])]\n",
    "\n",
    "# 번역기 초기화\n",
    "translator = Translator(to_lang=\"ko\", from_lang=\"en\")\n",
    "\n",
    "# 'sentence' 열의 각 행을 한글로 번역하고 새로운 열에 추가\n",
    "filtered_df['sentence'] = filtered_df['sentence'].apply(lambda x: translator.translate(x))"
   ]
  },
  {
   "cell_type": "markdown",
   "metadata": {},
   "source": [
    "100?? 행부터 번역된 텍스트 대신 MYMEMORY WARNING: YOU USED ALL AVAILABLE FREE 이 들어가는 문제  \n",
    "\n",
    "다시 googletrans로 시도해봄"
   ]
  },
  {
   "cell_type": "code",
   "execution_count": 4,
   "metadata": {},
   "outputs": [
    {
     "data": {
      "text/plain": [
       "'c:\\\\Users\\\\KangIW\\\\git_j500\\\\floread\\\\sentiment-analysis'"
      ]
     },
     "execution_count": 4,
     "metadata": {},
     "output_type": "execute_result"
    }
   ],
   "source": [
    "%pwd"
   ]
  },
  {
   "cell_type": "code",
   "execution_count": 7,
   "metadata": {},
   "outputs": [
    {
     "name": "stdout",
     "output_type": "stream",
     "text": [
      "C:\\Users\\KangIW\\git_j500\\floread\n"
     ]
    }
   ],
   "source": [
    "%cd C:/Users/KangIW/git_j500/floread"
   ]
  },
  {
   "cell_type": "code",
   "execution_count": 8,
   "metadata": {},
   "outputs": [
    {
     "data": {
      "text/plain": [
       "(12562, 2)"
      ]
     },
     "execution_count": 8,
     "metadata": {},
     "output_type": "execute_result"
    }
   ],
   "source": [
    "import pandas as pd\n",
    "\n",
    "df = pd.read_csv('sentiment-analysis/data/kaggle_emotion_dataset.csv')\n",
    "filtered_df = df[~df['emotion'].isin(['love', 'sadness'])]\n",
    "filtered_df.shape"
   ]
  },
  {
   "cell_type": "code",
   "execution_count": 10,
   "metadata": {},
   "outputs": [],
   "source": [
    "# 데이터 프레임에 .apply 하기 위한 번역 함수\n",
    "from googletrans import Translator\n",
    "\n",
    "def translate_to_korean(text):\n",
    "    return Translator().translate(text, src='en', dest='ko').text"
   ]
  },
  {
   "cell_type": "code",
   "execution_count": null,
   "metadata": {},
   "outputs": [],
   "source": [
    "# 경과 체크용\n",
    "from googletrans import Translator\n",
    "\n",
    "cnt = 0\n",
    "def translate_to_korean(text):\n",
    "    global cnt\n",
    "    cnt+=1\n",
    "    if cnt%100 ==0:\n",
    "        print(cnt)\n",
    "    return Translator().translate(text, src='en', dest='ko').text"
   ]
  },
  {
   "cell_type": "code",
   "execution_count": 12,
   "metadata": {},
   "outputs": [],
   "source": [
    "# (런타임 에러방지)데이터 프레임 4개로 분리 후 각각 번연\n",
    "df1 = filtered_df[:3000]\n",
    "df2 = filtered_df[3000:6000]\n",
    "df3 = filtered_df[6000:9000]\n",
    "df4 = filtered_df[9000:]"
   ]
  },
  {
   "cell_type": "code",
   "execution_count": null,
   "metadata": {},
   "outputs": [],
   "source": [
    "df1['sentence'] = df1['sentence'].apply(translate_to_korean)\n",
    "df2['sentence'] = df2['sentence'].apply(translate_to_korean)\n",
    "df3['sentence'] = df3['sentence'].apply(translate_to_korean)\n",
    "df4['sentence'] = df4['sentence'].apply(translate_to_korean)"
   ]
  },
  {
   "cell_type": "code",
   "execution_count": null,
   "metadata": {},
   "outputs": [],
   "source": [
    "#데이터프레임 다시 합치기\n",
    "combined_df = pd.concat([df1, df2, df3, df4], ignore_index=True)"
   ]
  },
  {
   "cell_type": "code",
   "execution_count": null,
   "metadata": {},
   "outputs": [],
   "source": [
    "# 'emotion' 열의 텍스트도 한글로 변경\n",
    "\n",
    "emotion_mapping = {\n",
    "    'anger': '분노',\n",
    "    'fear': '불안',\n",
    "    'joy': '행복',\n",
    "    'surprise': '놀람'\n",
    "}\n",
    "\n",
    "combined_df['emotion'] = combined_df['emotion'].map(emotion_mapping)"
   ]
  },
  {
   "cell_type": "code",
   "execution_count": null,
   "metadata": {},
   "outputs": [],
   "source": [
    "combined_df.to_csv('data/kaggle_translated.csv', encoding='utf-8-sig')"
   ]
  }
 ],
 "metadata": {
  "kernelspec": {
   "display_name": "base",
   "language": "python",
   "name": "python3"
  },
  "language_info": {
   "codemirror_mode": {
    "name": "ipython",
    "version": 3
   },
   "file_extension": ".py",
   "mimetype": "text/x-python",
   "name": "python",
   "nbconvert_exporter": "python",
   "pygments_lexer": "ipython3",
   "version": "3.9.16"
  },
  "orig_nbformat": 4
 },
 "nbformat": 4,
 "nbformat_minor": 2
}
