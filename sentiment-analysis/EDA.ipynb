{
 "cells": [
  {
   "cell_type": "code",
   "execution_count": 20,
   "metadata": {},
   "outputs": [],
   "source": [
    "import pandas as pd\n",
    "\n",
    "file1_train = 'data/감성대화말뭉치(최종데이터)_Training.csv'\n",
    "file1_test = 'data/감성대화말뭉치(최종데이터)_Validation.csv'\n",
    "\n",
    "train1  = pd.read_csv(file1_train)\n",
    "test1 = pd.read_csv(file1_test)"
   ]
  },
  {
   "attachments": {},
   "cell_type": "markdown",
   "metadata": {},
   "source": [
    "### 문장, 감정 대분류 칼럼만 남기고 순서바꾸기"
   ]
  },
  {
   "cell_type": "code",
   "execution_count": 21,
   "metadata": {},
   "outputs": [
    {
     "data": {
      "text/html": [
       "<div>\n",
       "<style scoped>\n",
       "    .dataframe tbody tr th:only-of-type {\n",
       "        vertical-align: middle;\n",
       "    }\n",
       "\n",
       "    .dataframe tbody tr th {\n",
       "        vertical-align: top;\n",
       "    }\n",
       "\n",
       "    .dataframe thead th {\n",
       "        text-align: right;\n",
       "    }\n",
       "</style>\n",
       "<table border=\"1\" class=\"dataframe\">\n",
       "  <thead>\n",
       "    <tr style=\"text-align: right;\">\n",
       "      <th></th>\n",
       "      <th>sentence</th>\n",
       "      <th>emotion</th>\n",
       "    </tr>\n",
       "  </thead>\n",
       "  <tbody>\n",
       "    <tr>\n",
       "      <th>35437</th>\n",
       "      <td>오늘 식당에서 친구가 내 뒷담화하는 말을 우연히 들었어. 평상시에 내 앞에서는 잘하...</td>\n",
       "      <td>상처</td>\n",
       "    </tr>\n",
       "    <tr>\n",
       "      <th>22101</th>\n",
       "      <td>전과 달리 이젠 퇴근하면 나를 기다려주는 아내랑 두 아이가 있어서 행복해.</td>\n",
       "      <td>기쁨</td>\n",
       "    </tr>\n",
       "    <tr>\n",
       "      <th>39587</th>\n",
       "      <td>돈은 없지만 애들 뒷바라지는 책임지고 다 했지.</td>\n",
       "      <td>당황</td>\n",
       "    </tr>\n",
       "    <tr>\n",
       "      <th>19816</th>\n",
       "      <td>아내가 화장실에 다녀오면 처리를 안 해서 당황스러워.</td>\n",
       "      <td>분노</td>\n",
       "    </tr>\n",
       "    <tr>\n",
       "      <th>17832</th>\n",
       "      <td>사업에 대한 꿈을 못 버린 큰 아들이 자꾸만 금전적으로 사고를 쳐.</td>\n",
       "      <td>분노</td>\n",
       "    </tr>\n",
       "  </tbody>\n",
       "</table>\n",
       "</div>"
      ],
      "text/plain": [
       "                                                sentence emotion\n",
       "35437  오늘 식당에서 친구가 내 뒷담화하는 말을 우연히 들었어. 평상시에 내 앞에서는 잘하...      상처\n",
       "22101          전과 달리 이젠 퇴근하면 나를 기다려주는 아내랑 두 아이가 있어서 행복해.      기쁨\n",
       "39587                         돈은 없지만 애들 뒷바라지는 책임지고 다 했지.      당황\n",
       "19816                      아내가 화장실에 다녀오면 처리를 안 해서 당황스러워.      분노\n",
       "17832              사업에 대한 꿈을 못 버린 큰 아들이 자꾸만 금전적으로 사고를 쳐.      분노"
      ]
     },
     "execution_count": 21,
     "metadata": {},
     "output_type": "execute_result"
    }
   ],
   "source": [
    "# 대분류, 문장 칼럼만 추출\n",
    "train1 = train1[['감정_대분류','사람문장1']]\n",
    "test1 = test1[['감정_대분류','사람문장1']]\n",
    "\n",
    "# # 감정을 정수 라벨로 변경\n",
    "# emotions = {'기쁨': 0, '불안': 1, '당황': 2, '슬픔': 3, '분노': 4, '상처': 5}\n",
    "# train1['emotion'] = train1.emotion.map(emotions)\n",
    "\n",
    "#칼럼이름 변경하고 순서 바꾸기\n",
    "train1.columns = ['emotion', 'sentence']\n",
    "test1.columns = ['emotion', 'sentence']  \n",
    "train1 = train1.reindex(columns=['sentence', 'emotion'])\n",
    "test1 = test1.reindex(columns=['sentence', 'emotion'])\n",
    "\n",
    "train1.sample(n=5)"
   ]
  },
  {
   "attachments": {},
   "cell_type": "markdown",
   "metadata": {},
   "source": [
    "### 데이터 수 & 결측치 확인"
   ]
  },
  {
   "cell_type": "code",
   "execution_count": 22,
   "metadata": {},
   "outputs": [
    {
     "name": "stdout",
     "output_type": "stream",
     "text": [
      "<class 'pandas.core.frame.DataFrame'>\n",
      "RangeIndex: 51630 entries, 0 to 51629\n",
      "Data columns (total 2 columns):\n",
      " #   Column    Non-Null Count  Dtype \n",
      "---  ------    --------------  ----- \n",
      " 0   sentence  51630 non-null  object\n",
      " 1   emotion   51630 non-null  object\n",
      "dtypes: object(2)\n",
      "memory usage: 806.8+ KB\n",
      "None\n",
      "\n",
      "<class 'pandas.core.frame.DataFrame'>\n",
      "RangeIndex: 6641 entries, 0 to 6640\n",
      "Data columns (total 2 columns):\n",
      " #   Column    Non-Null Count  Dtype \n",
      "---  ------    --------------  ----- \n",
      " 0   sentence  6641 non-null   object\n",
      " 1   emotion   6641 non-null   object\n",
      "dtypes: object(2)\n",
      "memory usage: 103.9+ KB\n",
      "None\n"
     ]
    }
   ],
   "source": [
    "print(train1.info(),end ='\\n\\n')\n",
    "print(test1.info())"
   ]
  },
  {
   "cell_type": "code",
   "execution_count": 23,
   "metadata": {},
   "outputs": [
    {
     "name": "stdout",
     "output_type": "stream",
     "text": [
      "sentence    0\n",
      "emotion     0\n",
      "dtype: int64\n",
      "\n",
      "sentence    0\n",
      "emotion     0\n",
      "dtype: int64\n"
     ]
    }
   ],
   "source": [
    "print(train1.isnull().sum(), end = '\\n\\n')\n",
    "print(test1.isnull().sum())"
   ]
  },
  {
   "attachments": {},
   "cell_type": "markdown",
   "metadata": {},
   "source": [
    "### 감성 대화 말뭉치 합쳐서 csv 파일로 다시 저장"
   ]
  },
  {
   "cell_type": "code",
   "execution_count": null,
   "metadata": {},
   "outputs": [],
   "source": [
    "# file_names = ['data/감성대화말뭉치(최종데이터)_Training.csv','data/감성대화말뭉치(최종데이터)_Validation.csv']\n",
    "# for file_name in file_names:\n",
    "#     temp = pd.read_csv(file_name, sep='구분자', encoding='utf-8') #csv파일을 하나씩 열어 임시 데이터프레임으로 생성한다\n",
    "#     total = pd.concat([total, temp]) #전체 데이터프레임에 추가하여 넣는다\n",
    "\n",
    "# total.to_csv(\"data/감성대화망뭉치(병합).csv\")"
   ]
  },
  {
   "cell_type": "code",
   "execution_count": 28,
   "metadata": {},
   "outputs": [
    {
     "data": {
      "text/html": [
       "<div>\n",
       "<style scoped>\n",
       "    .dataframe tbody tr th:only-of-type {\n",
       "        vertical-align: middle;\n",
       "    }\n",
       "\n",
       "    .dataframe tbody tr th {\n",
       "        vertical-align: top;\n",
       "    }\n",
       "\n",
       "    .dataframe thead th {\n",
       "        text-align: right;\n",
       "    }\n",
       "</style>\n",
       "<table border=\"1\" class=\"dataframe\">\n",
       "  <thead>\n",
       "    <tr style=\"text-align: right;\">\n",
       "      <th></th>\n",
       "      <th>sentence</th>\n",
       "      <th>emotion</th>\n",
       "    </tr>\n",
       "  </thead>\n",
       "  <tbody>\n",
       "    <tr>\n",
       "      <th>0</th>\n",
       "      <td>일은 왜 해도 해도 끝이 없을까? 화가 난다.</td>\n",
       "      <td>분노</td>\n",
       "    </tr>\n",
       "    <tr>\n",
       "      <th>1</th>\n",
       "      <td>이번 달에 또 급여가 깎였어! 물가는 오르는데 월급만 자꾸 깎이니까 너무 화가 나.</td>\n",
       "      <td>분노</td>\n",
       "    </tr>\n",
       "    <tr>\n",
       "      <th>2</th>\n",
       "      <td>회사에 신입이 들어왔는데 말투가 거슬려. 그런 애를 매일 봐야 한다고 생각하니까 스...</td>\n",
       "      <td>분노</td>\n",
       "    </tr>\n",
       "    <tr>\n",
       "      <th>3</th>\n",
       "      <td>직장에서 막내라는 이유로 나에게만 온갖 심부름을 시켜. 일도 많은 데 정말 분하고 ...</td>\n",
       "      <td>분노</td>\n",
       "    </tr>\n",
       "    <tr>\n",
       "      <th>4</th>\n",
       "      <td>얼마 전 입사한 신입사원이 나를 무시하는 것 같아서 너무 화가 나.</td>\n",
       "      <td>분노</td>\n",
       "    </tr>\n",
       "    <tr>\n",
       "      <th>...</th>\n",
       "      <td>...</td>\n",
       "      <td>...</td>\n",
       "    </tr>\n",
       "    <tr>\n",
       "      <th>6636</th>\n",
       "      <td>나랑 비슷한 시기에 결혼하는 친구는 시댁에서 집을 해줘서 너무 부러워. 우리는 대출...</td>\n",
       "      <td>당황</td>\n",
       "    </tr>\n",
       "    <tr>\n",
       "      <th>6637</th>\n",
       "      <td>친구 한 명이 결혼해서 아이를 가졌는데 너무 행복해 보이더라. 기분이 좋지만은 않아.</td>\n",
       "      <td>당황</td>\n",
       "    </tr>\n",
       "    <tr>\n",
       "      <th>6638</th>\n",
       "      <td>남들은 결혼 전에 일억을 모았다는데 난 뭐를 한 것인지 모르겠어. 자괴감만 드네.</td>\n",
       "      <td>당황</td>\n",
       "    </tr>\n",
       "    <tr>\n",
       "      <th>6639</th>\n",
       "      <td>나보다 결혼을 먼저 한 친구가 부러워. 그 친구 남편은 직장도 내 남편보다 좋고 키...</td>\n",
       "      <td>당황</td>\n",
       "    </tr>\n",
       "    <tr>\n",
       "      <th>6640</th>\n",
       "      <td>친구들 모두 결혼하고 나만 혼자 남아서 쓸쓸하네.</td>\n",
       "      <td>당황</td>\n",
       "    </tr>\n",
       "  </tbody>\n",
       "</table>\n",
       "<p>58271 rows × 2 columns</p>\n",
       "</div>"
      ],
      "text/plain": [
       "                                               sentence emotion\n",
       "0                             일은 왜 해도 해도 끝이 없을까? 화가 난다.      분노\n",
       "1        이번 달에 또 급여가 깎였어! 물가는 오르는데 월급만 자꾸 깎이니까 너무 화가 나.      분노\n",
       "2     회사에 신입이 들어왔는데 말투가 거슬려. 그런 애를 매일 봐야 한다고 생각하니까 스...      분노\n",
       "3     직장에서 막내라는 이유로 나에게만 온갖 심부름을 시켜. 일도 많은 데 정말 분하고 ...      분노\n",
       "4                 얼마 전 입사한 신입사원이 나를 무시하는 것 같아서 너무 화가 나.      분노\n",
       "...                                                 ...     ...\n",
       "6636  나랑 비슷한 시기에 결혼하는 친구는 시댁에서 집을 해줘서 너무 부러워. 우리는 대출...      당황\n",
       "6637    친구 한 명이 결혼해서 아이를 가졌는데 너무 행복해 보이더라. 기분이 좋지만은 않아.      당황\n",
       "6638      남들은 결혼 전에 일억을 모았다는데 난 뭐를 한 것인지 모르겠어. 자괴감만 드네.      당황\n",
       "6639  나보다 결혼을 먼저 한 친구가 부러워. 그 친구 남편은 직장도 내 남편보다 좋고 키...      당황\n",
       "6640                        친구들 모두 결혼하고 나만 혼자 남아서 쓸쓸하네.      당황\n",
       "\n",
       "[58271 rows x 2 columns]"
      ]
     },
     "execution_count": 28,
     "metadata": {},
     "output_type": "execute_result"
    }
   ],
   "source": [
    "# 전처리된 데이터프레임 합치고 csv로 저장   \n",
    "temp  = pd.concat([train1, test1])\n",
    "temp    #행 숫자보면 합쳐진거 맞는데 왜 test1 행번호가 그대로일까.."
   ]
  },
  {
   "cell_type": "code",
   "execution_count": 33,
   "metadata": {},
   "outputs": [
    {
     "ename": "TypeError",
     "evalue": "NDFrame.to_csv() got an unexpected keyword argument 'index_col'",
     "output_type": "error",
     "traceback": [
      "\u001b[1;31m---------------------------------------------------------------------------\u001b[0m",
      "\u001b[1;31mTypeError\u001b[0m                                 Traceback (most recent call last)",
      "\u001b[1;32mc:\\Users\\KangIW\\git_j500\\floread\\sentiment-analysis\\EDA.ipynb Cell 10\u001b[0m in \u001b[0;36m<cell line: 1>\u001b[1;34m()\u001b[0m\n\u001b[1;32m----> <a href='vscode-notebook-cell:/c%3A/Users/KangIW/git_j500/floread/sentiment-analysis/EDA.ipynb#X33sZmlsZQ%3D%3D?line=0'>1</a>\u001b[0m temp\u001b[39m.\u001b[39;49mto_csv(\u001b[39m\"\u001b[39;49m\u001b[39mdata/감성대화망뭉치(병합).csv\u001b[39;49m\u001b[39m\"\u001b[39;49m,index_col\u001b[39m=\u001b[39;49m\u001b[39mNone\u001b[39;49;00m)\n",
      "\u001b[1;31mTypeError\u001b[0m: NDFrame.to_csv() got an unexpected keyword argument 'index_col'"
     ]
    }
   ],
   "source": [
    "temp.to_csv(\"data/감성대화망뭉치(병합).csv\")"
   ]
  },
  {
   "attachments": {},
   "cell_type": "markdown",
   "metadata": {},
   "source": [
    "=> train : test 비율 차이가 많이나서 합치고 모델 만들 때 분리하는게 나아 보임"
   ]
  },
  {
   "cell_type": "code",
   "execution_count": 1,
   "metadata": {},
   "outputs": [
    {
     "data": {
      "text/html": [
       "<div>\n",
       "<style scoped>\n",
       "    .dataframe tbody tr th:only-of-type {\n",
       "        vertical-align: middle;\n",
       "    }\n",
       "\n",
       "    .dataframe tbody tr th {\n",
       "        vertical-align: top;\n",
       "    }\n",
       "\n",
       "    .dataframe thead th {\n",
       "        text-align: right;\n",
       "    }\n",
       "</style>\n",
       "<table border=\"1\" class=\"dataframe\">\n",
       "  <thead>\n",
       "    <tr style=\"text-align: right;\">\n",
       "      <th></th>\n",
       "      <th>sentence</th>\n",
       "      <th>emotion</th>\n",
       "    </tr>\n",
       "  </thead>\n",
       "  <tbody>\n",
       "    <tr>\n",
       "      <th>0</th>\n",
       "      <td>일은 왜 해도 해도 끝이 없을까? 화가 난다.</td>\n",
       "      <td>분노</td>\n",
       "    </tr>\n",
       "    <tr>\n",
       "      <th>1</th>\n",
       "      <td>이번 달에 또 급여가 깎였어! 물가는 오르는데 월급만 자꾸 깎이니까 너무 화가 나.</td>\n",
       "      <td>분노</td>\n",
       "    </tr>\n",
       "    <tr>\n",
       "      <th>2</th>\n",
       "      <td>회사에 신입이 들어왔는데 말투가 거슬려. 그런 애를 매일 봐야 한다고 생각하니까 스...</td>\n",
       "      <td>분노</td>\n",
       "    </tr>\n",
       "    <tr>\n",
       "      <th>3</th>\n",
       "      <td>직장에서 막내라는 이유로 나에게만 온갖 심부름을 시켜. 일도 많은 데 정말 분하고 ...</td>\n",
       "      <td>분노</td>\n",
       "    </tr>\n",
       "    <tr>\n",
       "      <th>4</th>\n",
       "      <td>얼마 전 입사한 신입사원이 나를 무시하는 것 같아서 너무 화가 나.</td>\n",
       "      <td>분노</td>\n",
       "    </tr>\n",
       "    <tr>\n",
       "      <th>...</th>\n",
       "      <td>...</td>\n",
       "      <td>...</td>\n",
       "    </tr>\n",
       "    <tr>\n",
       "      <th>6636</th>\n",
       "      <td>나랑 비슷한 시기에 결혼하는 친구는 시댁에서 집을 해줘서 너무 부러워. 우리는 대출...</td>\n",
       "      <td>당황</td>\n",
       "    </tr>\n",
       "    <tr>\n",
       "      <th>6637</th>\n",
       "      <td>친구 한 명이 결혼해서 아이를 가졌는데 너무 행복해 보이더라. 기분이 좋지만은 않아.</td>\n",
       "      <td>당황</td>\n",
       "    </tr>\n",
       "    <tr>\n",
       "      <th>6638</th>\n",
       "      <td>남들은 결혼 전에 일억을 모았다는데 난 뭐를 한 것인지 모르겠어. 자괴감만 드네.</td>\n",
       "      <td>당황</td>\n",
       "    </tr>\n",
       "    <tr>\n",
       "      <th>6639</th>\n",
       "      <td>나보다 결혼을 먼저 한 친구가 부러워. 그 친구 남편은 직장도 내 남편보다 좋고 키...</td>\n",
       "      <td>당황</td>\n",
       "    </tr>\n",
       "    <tr>\n",
       "      <th>6640</th>\n",
       "      <td>친구들 모두 결혼하고 나만 혼자 남아서 쓸쓸하네.</td>\n",
       "      <td>당황</td>\n",
       "    </tr>\n",
       "  </tbody>\n",
       "</table>\n",
       "<p>58271 rows × 2 columns</p>\n",
       "</div>"
      ],
      "text/plain": [
       "                                               sentence emotion\n",
       "0                             일은 왜 해도 해도 끝이 없을까? 화가 난다.      분노\n",
       "1        이번 달에 또 급여가 깎였어! 물가는 오르는데 월급만 자꾸 깎이니까 너무 화가 나.      분노\n",
       "2     회사에 신입이 들어왔는데 말투가 거슬려. 그런 애를 매일 봐야 한다고 생각하니까 스...      분노\n",
       "3     직장에서 막내라는 이유로 나에게만 온갖 심부름을 시켜. 일도 많은 데 정말 분하고 ...      분노\n",
       "4                 얼마 전 입사한 신입사원이 나를 무시하는 것 같아서 너무 화가 나.      분노\n",
       "...                                                 ...     ...\n",
       "6636  나랑 비슷한 시기에 결혼하는 친구는 시댁에서 집을 해줘서 너무 부러워. 우리는 대출...      당황\n",
       "6637    친구 한 명이 결혼해서 아이를 가졌는데 너무 행복해 보이더라. 기분이 좋지만은 않아.      당황\n",
       "6638      남들은 결혼 전에 일억을 모았다는데 난 뭐를 한 것인지 모르겠어. 자괴감만 드네.      당황\n",
       "6639  나보다 결혼을 먼저 한 친구가 부러워. 그 친구 남편은 직장도 내 남편보다 좋고 키...      당황\n",
       "6640                        친구들 모두 결혼하고 나만 혼자 남아서 쓸쓸하네.      당황\n",
       "\n",
       "[58271 rows x 2 columns]"
      ]
     },
     "execution_count": 1,
     "metadata": {},
     "output_type": "execute_result"
    }
   ],
   "source": [
    "import pandas as pd\n",
    "\n",
    "# 다시 불러와서\n",
    "train1  = pd.read_csv(\"data/감성대화말뭉치(병합).csv\", index_col=0) #첫 번째 열이 인덱스 열일 때 Unnamed: 0 빼기\n",
    "train1\n",
    "# train1.sample(n=5)"
   ]
  },
  {
   "attachments": {},
   "cell_type": "markdown",
   "metadata": {},
   "source": [
    "### **감정 별 문장 분포**"
   ]
  },
  {
   "cell_type": "code",
   "execution_count": 2,
   "metadata": {},
   "outputs": [
    {
     "data": {
      "text/plain": [
       "emotion\n",
       "기쁨     7339\n",
       "당황     9804\n",
       "분노    10417\n",
       "불안    10433\n",
       "상처    10150\n",
       "슬픔    10128\n",
       "Name: sentence, dtype: int64"
      ]
     },
     "execution_count": 2,
     "metadata": {},
     "output_type": "execute_result"
    }
   ],
   "source": [
    "# 감정 분포 확인\n",
    "train1.groupby('emotion').count().iloc[:,0]"
   ]
  },
  {
   "cell_type": "code",
   "execution_count": 3,
   "metadata": {},
   "outputs": [
    {
     "name": "stdout",
     "output_type": "stream",
     "text": [
      "['STIXNonUnicode', 'DejaVu Sans', 'cmtt10', 'DejaVu Serif Display', 'DejaVu Sans Mono', 'cmmi10', 'DejaVu Serif', 'STIXSizeThreeSym', 'STIXNonUnicode', 'STIXSizeThreeSym', 'STIXGeneral', 'STIXSizeFiveSym', 'STIXSizeTwoSym', 'STIXGeneral', 'DejaVu Sans', 'cmr10', 'STIXSizeFourSym', 'STIXNonUnicode', 'STIXSizeTwoSym', 'cmex10', 'STIXGeneral', 'DejaVu Serif', 'cmb10', 'DejaVu Serif', 'STIXSizeFourSym', 'cmsy10', 'DejaVu Sans Display', 'STIXSizeOneSym', 'DejaVu Serif', 'STIXSizeOneSym', 'DejaVu Sans Mono', 'DejaVu Sans Mono', 'DejaVu Sans', 'STIXNonUnicode', 'DejaVu Sans', 'DejaVu Sans Mono', 'STIXGeneral', 'cmss10', 'Franklin Gothic Medium Cond', 'MoeumT R', 'Agency FB', 'HYMyeongJo-Extra', 'Georgia', 'Parchment', 'NanumSquare_ac', 'Monotype Corsiva', 'Rockwell', 'Microsoft PhagsPa', 'Century Schoolbook', 'Arial Rounded MT Bold', 'Palace Script MT', 'Elephant', 'HCR Batang ExtB', 'Garamond', 'Microsoft YaHei', 'Bodoni MT', 'Century Schoolbook', 'Nirmala UI', 'Constantia', 'Verdana', 'Wingdings 3', 'NanumSquare_ac', 'Calisto MT', 'Book Antiqua', 'HancomEQN', 'Symbol', 'NanumSquare_ac', 'Franklin Gothic Book', 'Papyrus', 'Yu Gothic', 'Leelawadee UI', 'Lucida Sans Typewriter', 'Segoe UI Symbol', 'Sitka Small', 'Georgia', 'Malgun Gothic', 'Leelawadee UI', 'Microsoft Yi Baiti', 'NewJumja', 'MingLiU-ExtB', 'Segoe UI', 'Script MT Bold', 'HYGraphic-Medium', 'Lucida Sans', 'Lucida Fax', 'Candara', 'Bernard MT Condensed', 'Yu Gothic', 'Goudy Old Style', 'Britannic Bold', 'Garamond', 'Goudy Old Style', 'Freestyle Script', 'Tw Cen MT Condensed Extra Bold', 'Tw Cen MT', 'Cambria', 'Playbill', 'Batang', 'Perpetua', 'Tw Cen MT', 'Lucida Handwriting', 'HyhwpEQ', 'Malgun Gothic', 'Lucida Console', 'HYPMokGak-Bold', 'Copperplate Gothic Bold', 'Consolas', 'Bodoni MT', 'Gloucester MT Extra Condensed', 'Perpetua', 'Microsoft PhagsPa', 'NanumSquare', 'OCR A Extended', 'Segoe UI Emoji', 'Candara', 'Maiandra GD', 'Curlz MT', 'Bahnschrift', 'Mistral', 'Dubai', 'Ebrima', 'Franklin Gothic Medium', 'Showcard Gothic', 'Jokerman', 'Headline R', 'Magneto', 'HCR Batang', 'Lucida Bright', 'Baskerville Old Face', 'Gulim', 'Segoe UI', 'Viner Hand ITC', 'Palatino Linotype', 'Arial', 'Gill Sans MT Ext Condensed Bold', 'Haan Wing2', 'SimSun-ExtB', 'Perpetua', 'Pyunji R', 'Century Gothic', 'Sylfaen', 'Eras Medium ITC', 'Nirmala UI', 'Leelawadee UI', 'Centaur', 'Franklin Gothic Medium', 'Bodoni MT', 'Calibri', 'Lucida Sans Unicode', 'Dubai', 'Segoe UI Historic', 'Lucida Bright', 'Arial', 'HYHeadLine-Medium', 'Gill Sans MT', 'Niagara Engraved', 'Berlin Sans FB', 'Tempus Sans ITC', 'Century Gothic', 'Kunstler Script', 'Century Schoolbook', 'NanumSquare_ac', 'Rockwell Condensed', 'Harrington', 'Broadway', 'Goudy Old Style', 'Arial', 'Calibri', 'Rockwell Extra Bold', 'Yet R', 'Ravie', 'Ebrima', 'Segoe UI', 'Gabriola', 'Ami R', 'Informal Roman', 'Lucida Sans', 'Nirmala UI', 'Arial', 'Niagara Solid', 'Californian FB', 'HYPost-Medium', 'Verdana', 'Berlin Sans FB Demi', 'Microsoft New Tai Lue', 'Calibri', 'Segoe UI', 'HYSinMyeongJo-Medium', 'MS Reference Sans Serif', 'Arial', 'Goudy Stout', 'Microsoft New Tai Lue', 'Bookman Old Style', 'Corbel', 'Georgia', 'Segoe UI', 'Unispace', 'Segoe UI', 'Franklin Gothic Demi', 'Verdana', 'Gill Sans MT', 'Segoe UI', 'Bookshelf Symbol 7', 'HYShortSamul-Medium', 'Agency FB', 'Lucida Bright', 'Times New Roman', 'Segoe UI', 'Segoe UI', 'Eras Demi ITC', 'Hancom Gothic', 'Elephant', 'Hancom Gothic', 'Verdana', 'Matura MT Script Capitals', 'Bell MT', 'Constantia', 'Lucida Bright', 'HYGothic-Medium', 'Courier New', 'Times New Roman', 'Gadugi', 'Vladimir Script', 'Century Gothic', 'Bodoni MT', 'Segoe Script', 'Microsoft Tai Le', 'Imprint MT Shadow', 'NanumSquare', 'Tahoma', 'NanumSquare', 'MS Reference Specialty', 'Candara', 'Corbel', 'Courier New', 'Bookman Old Style', 'HCR Batang', 'Calibri', 'Calisto MT', 'Bodoni MT', 'Javanese Text', 'Microsoft JhengHei', 'High Tower Text', 'Trebuchet MS', 'Bookman Old Style', 'Haettenschweiler', 'Palatino Linotype', 'Ink Free', 'Microsoft Sans Serif', 'HCR Dotum', 'Webdings', 'Juice ITC', 'Book Antiqua', 'Franklin Gothic Demi Cond', 'Garamond', 'HoloLens MDL2 Assets', 'Segoe Script', 'HYPost-Light', 'Microsoft JhengHei', 'Myanmar Text', 'Segoe MDL2 Assets', 'Segoe UI', 'Bodoni MT', 'Arial', 'MT Extra', 'Chiller', 'Century', 'Lucida Sans Typewriter', 'Castellar', 'Yu Gothic', 'Segoe Print', 'HYGungSo-Bold', 'Tw Cen MT Condensed', 'Berlin Sans FB', 'Pristina', 'Wide Latin', 'Algerian', 'Forte', 'Bell MT', 'Bodoni MT', 'HCR Dotum', 'Calibri', 'Comic Sans MS', 'Bodoni MT', 'Microsoft Himalaya', 'High Tower Text', 'Franklin Gothic Book', 'Times New Roman', 'Rockwell Condensed', 'MS Outlook', 'Microsoft YaHei', 'Copperplate Gothic Light', 'Mongolian Baiti', 'Sitka Small', 'Bookman Old Style', 'Yu Gothic', 'Lucida Calligraphy', 'Microsoft YaHei', 'Rage Italic', 'Cooper Black', 'Franklin Gothic Demi', 'Gill Sans MT', 'Candara', 'Sitka Small', 'Calibri', 'Calisto MT', 'Californian FB', 'Gadugi', 'Microsoft Tai Le', 'Cambria', 'Engravers MT', 'Myanmar Text', 'Constantia', 'Franklin Gothic Heavy', 'Comic Sans MS', 'Lucida Sans Typewriter', 'Courier New', 'Corbel', 'Perpetua', 'Rockwell', 'Consolas', 'Kristen ITC', 'Tw Cen MT Condensed', 'Lucida Sans', 'Corbel', 'Tahoma', 'Palatino Linotype', 'Gill Sans MT', 'Californian FB', 'Segoe UI', 'SimSun', 'Perpetua Titling MT', 'Courier New', 'Comic Sans MS', 'Gill Sans MT Condensed', 'Eras Light ITC', 'Tw Cen MT', 'Franklin Gothic Heavy', 'HCR Dotum Ext', 'Magic R', 'Book Antiqua', 'Comic Sans MS', 'Century Gothic', 'Bradley Hand ITC', 'Calisto MT', 'Blackadder ITC', 'Dubai', 'Rockwell', 'Impact', 'Arial', 'Vivaldi', 'NanumSquare', 'Wingdings 2', 'Lucida Sans', 'Felix Titling', 'Microsoft JhengHei', 'Stencil', 'Lucida Fax', 'Dubai', 'HYGothic-Extra', 'Candara', 'Bodoni MT', 'Segoe Print', 'Footlight MT Light', 'Cambria', 'Arial', 'Corbel', 'Snap ITC', 'Consolas', 'Modern No. 20', 'Harlow Solid Italic', 'Onyx', 'Trebuchet MS', 'Bell MT', 'Edwardian Script ITC', 'Bauhaus 93', 'Arial', 'Corbel', 'Lucida Fax', 'Georgia', 'Gill Sans Ultra Bold', 'Times New Roman', 'Lucida Fax', 'Eras Bold ITC', 'Lucida Sans Typewriter', 'Trebuchet MS', 'Perpetua Titling MT', 'Gigi', 'Rockwell', 'Trebuchet MS', 'Tw Cen MT', 'Century Schoolbook', 'Colonna MT', 'New Gulim', 'Palatino Linotype', 'Sitka Small', 'French Script MT', 'Bodoni MT', 'Book Antiqua', 'Brush Script MT', 'Wingdings', 'HCR Batang ExtB', 'Old English Text MT', 'HCR Batang Ext', 'MS Gothic', 'Gill Sans Ultra Bold Condensed', 'Candara', 'Cambria', 'Malgun Gothic', 'Bodoni MT', 'Poor Richard', 'Constantia', 'MV Boli', 'Segoe UI', 'Consolas']\n"
     ]
    }
   ],
   "source": [
    "import matplotlib.pyplot as plt\n",
    "\n",
    "# 가능한 font 확인\n",
    "import matplotlib.font_manager as fm\n",
    "f = [f.name for f in fm.fontManager.ttflist]\n",
    "print(f)\n",
    "\n",
    "# # 확인 이후\n",
    "# plt.font_manager._rebuild() //이제 안쓴다"
   ]
  },
  {
   "cell_type": "code",
   "execution_count": 12,
   "metadata": {},
   "outputs": [],
   "source": [
    "from matplotlib import font_manager, rc\n",
    "font_path = r\"C:\\Users\\inoo3\\AppData\\Local\\Microsoft\\Windows\\Fonts\\NanumSquare.ttf\" # 사용할 폰트명 경로 삽입 (역슬래시 대신 슬래시)\n",
    "font_prop = fm.FontProperties(fname=font_path)\n",
    "plt.rcParams['font.family'] = font_prop.get_name()"
   ]
  },
  {
   "cell_type": "code",
   "execution_count": 13,
   "metadata": {},
   "outputs": [
    {
     "name": "stderr",
     "output_type": "stream",
     "text": [
      "c:\\Users\\inoo3\\anaconda3\\lib\\site-packages\\IPython\\core\\pylabtools.py:152: UserWarning: Glyph 48516 (\\N{HANGUL SYLLABLE BUN}) missing from current font.\n",
      "  fig.canvas.print_figure(bytes_io, **kw)\n",
      "c:\\Users\\inoo3\\anaconda3\\lib\\site-packages\\IPython\\core\\pylabtools.py:152: UserWarning: Glyph 45432 (\\N{HANGUL SYLLABLE NO}) missing from current font.\n",
      "  fig.canvas.print_figure(bytes_io, **kw)\n",
      "c:\\Users\\inoo3\\anaconda3\\lib\\site-packages\\IPython\\core\\pylabtools.py:152: UserWarning: Glyph 44592 (\\N{HANGUL SYLLABLE GI}) missing from current font.\n",
      "  fig.canvas.print_figure(bytes_io, **kw)\n",
      "c:\\Users\\inoo3\\anaconda3\\lib\\site-packages\\IPython\\core\\pylabtools.py:152: UserWarning: Glyph 49256 (\\N{HANGUL SYLLABLE BBEUM}) missing from current font.\n",
      "  fig.canvas.print_figure(bytes_io, **kw)\n",
      "c:\\Users\\inoo3\\anaconda3\\lib\\site-packages\\IPython\\core\\pylabtools.py:152: UserWarning: Glyph 48520 (\\N{HANGUL SYLLABLE BUL}) missing from current font.\n",
      "  fig.canvas.print_figure(bytes_io, **kw)\n",
      "c:\\Users\\inoo3\\anaconda3\\lib\\site-packages\\IPython\\core\\pylabtools.py:152: UserWarning: Glyph 50504 (\\N{HANGUL SYLLABLE AN}) missing from current font.\n",
      "  fig.canvas.print_figure(bytes_io, **kw)\n",
      "c:\\Users\\inoo3\\anaconda3\\lib\\site-packages\\IPython\\core\\pylabtools.py:152: UserWarning: Glyph 45817 (\\N{HANGUL SYLLABLE DANG}) missing from current font.\n",
      "  fig.canvas.print_figure(bytes_io, **kw)\n",
      "c:\\Users\\inoo3\\anaconda3\\lib\\site-packages\\IPython\\core\\pylabtools.py:152: UserWarning: Glyph 54889 (\\N{HANGUL SYLLABLE HWANG}) missing from current font.\n",
      "  fig.canvas.print_figure(bytes_io, **kw)\n",
      "c:\\Users\\inoo3\\anaconda3\\lib\\site-packages\\IPython\\core\\pylabtools.py:152: UserWarning: Glyph 49836 (\\N{HANGUL SYLLABLE SEUL}) missing from current font.\n",
      "  fig.canvas.print_figure(bytes_io, **kw)\n",
      "c:\\Users\\inoo3\\anaconda3\\lib\\site-packages\\IPython\\core\\pylabtools.py:152: UserWarning: Glyph 54548 (\\N{HANGUL SYLLABLE PEUM}) missing from current font.\n",
      "  fig.canvas.print_figure(bytes_io, **kw)\n",
      "c:\\Users\\inoo3\\anaconda3\\lib\\site-packages\\IPython\\core\\pylabtools.py:152: UserWarning: Glyph 49345 (\\N{HANGUL SYLLABLE SANG}) missing from current font.\n",
      "  fig.canvas.print_figure(bytes_io, **kw)\n",
      "c:\\Users\\inoo3\\anaconda3\\lib\\site-packages\\IPython\\core\\pylabtools.py:152: UserWarning: Glyph 52376 (\\N{HANGUL SYLLABLE CEO}) missing from current font.\n",
      "  fig.canvas.print_figure(bytes_io, **kw)\n",
      "c:\\Users\\inoo3\\anaconda3\\lib\\site-packages\\IPython\\core\\pylabtools.py:152: UserWarning: Glyph 44048 (\\N{HANGUL SYLLABLE GAM}) missing from current font.\n",
      "  fig.canvas.print_figure(bytes_io, **kw)\n",
      "c:\\Users\\inoo3\\anaconda3\\lib\\site-packages\\IPython\\core\\pylabtools.py:152: UserWarning: Glyph 51221 (\\N{HANGUL SYLLABLE JEONG}) missing from current font.\n",
      "  fig.canvas.print_figure(bytes_io, **kw)\n",
      "c:\\Users\\inoo3\\anaconda3\\lib\\site-packages\\IPython\\core\\pylabtools.py:152: UserWarning: Glyph 54252 (\\N{HANGUL SYLLABLE PO}) missing from current font.\n",
      "  fig.canvas.print_figure(bytes_io, **kw)\n"
     ]
    },
    {
     "data": {
      "image/png": "[encoded data removed]",
      "text/plain": [
       "<Figure size 2500x1000 with 1 Axes>"
      ]
     },
     "metadata": {},
     "output_type": "display_data"
    }
   ],
   "source": [
    "# countplot으로 시각화\n",
    "import matplotlib.pyplot as plt\n",
    "import seaborn as sns\n",
    "\n",
    "#plt.rc('font', family='NanumSquare_ac')\n",
    "plt.rcParams['figure.figsize'] = [25,10]\n",
    "sns.set_style(\"dark\")\n",
    "sns.countplot(x='emotion',data=train1)\n",
    "plt.title('감정 분포', fontsize=30)\n",
    "plt.xlabel('emotion', fontsize=15)\n",
    "plt.ylabel('count', fontsize=15)\n",
    "plt.show()\n",
    "\n",
    "# 정규화 필요한가?"
   ]
  },
  {
   "cell_type": "code",
   "execution_count": 14,
   "metadata": {},
   "outputs": [
    {
     "data": {
      "text/html": [
       "<div>\n",
       "<style scoped>\n",
       "    .dataframe tbody tr th:only-of-type {\n",
       "        vertical-align: middle;\n",
       "    }\n",
       "\n",
       "    .dataframe tbody tr th {\n",
       "        vertical-align: top;\n",
       "    }\n",
       "\n",
       "    .dataframe thead th {\n",
       "        text-align: right;\n",
       "    }\n",
       "</style>\n",
       "<table border=\"1\" class=\"dataframe\">\n",
       "  <thead>\n",
       "    <tr style=\"text-align: right;\">\n",
       "      <th></th>\n",
       "      <th>Sentence</th>\n",
       "      <th>Emotion</th>\n",
       "      <th>Unnamed: 2</th>\n",
       "      <th>Unnamed: 3</th>\n",
       "      <th>Unnamed: 4</th>\n",
       "      <th>공포</th>\n",
       "      <th>5468</th>\n",
       "    </tr>\n",
       "  </thead>\n",
       "  <tbody>\n",
       "    <tr>\n",
       "      <th>27311</th>\n",
       "      <td>오 드디어 ㅋㅋ 열일하는 나피디 ㅋㅋ</td>\n",
       "      <td>행복</td>\n",
       "      <td>NaN</td>\n",
       "      <td>NaN</td>\n",
       "      <td>NaN</td>\n",
       "      <td>NaN</td>\n",
       "      <td>NaN</td>\n",
       "    </tr>\n",
       "    <tr>\n",
       "      <th>26425</th>\n",
       "      <td>올해의 한국영화는 국내 반응으로 따지면 곡성이고 해외 반응으로 따지면 아가씨.</td>\n",
       "      <td>중립</td>\n",
       "      <td>NaN</td>\n",
       "      <td>NaN</td>\n",
       "      <td>NaN</td>\n",
       "      <td>NaN</td>\n",
       "      <td>NaN</td>\n",
       "    </tr>\n",
       "    <tr>\n",
       "      <th>35092</th>\n",
       "      <td>휴대용 폭탄하나 선물받고 600호 뺏기겠내..</td>\n",
       "      <td>혐오</td>\n",
       "      <td>NaN</td>\n",
       "      <td>NaN</td>\n",
       "      <td>NaN</td>\n",
       "      <td>NaN</td>\n",
       "      <td>NaN</td>\n",
       "    </tr>\n",
       "    <tr>\n",
       "      <th>15483</th>\n",
       "      <td>비인기종목 지원 부탁한게 정유라 지원하라고 지시한게되는구나. ㅈ티비씨 수준.</td>\n",
       "      <td>분노</td>\n",
       "      <td>NaN</td>\n",
       "      <td>NaN</td>\n",
       "      <td>NaN</td>\n",
       "      <td>NaN</td>\n",
       "      <td>NaN</td>\n",
       "    </tr>\n",
       "    <tr>\n",
       "      <th>8790</th>\n",
       "      <td>좀전에 일입니다.</td>\n",
       "      <td>놀람</td>\n",
       "      <td>NaN</td>\n",
       "      <td>NaN</td>\n",
       "      <td>NaN</td>\n",
       "      <td>NaN</td>\n",
       "      <td>NaN</td>\n",
       "    </tr>\n",
       "  </tbody>\n",
       "</table>\n",
       "</div>"
      ],
      "text/plain": [
       "                                          Sentence Emotion  Unnamed: 2   \n",
       "27311                         오 드디어 ㅋㅋ 열일하는 나피디 ㅋㅋ      행복         NaN  \\\n",
       "26425  올해의 한국영화는 국내 반응으로 따지면 곡성이고 해외 반응으로 따지면 아가씨.      중립         NaN   \n",
       "35092                    휴대용 폭탄하나 선물받고 600호 뺏기겠내..      혐오         NaN   \n",
       "15483   비인기종목 지원 부탁한게 정유라 지원하라고 지시한게되는구나. ㅈ티비씨 수준.      분노         NaN   \n",
       "8790                                     좀전에 일입니다.      놀람         NaN   \n",
       "\n",
       "       Unnamed: 3  Unnamed: 4   공포  5468  \n",
       "27311         NaN         NaN  NaN   NaN  \n",
       "26425         NaN         NaN  NaN   NaN  \n",
       "35092         NaN         NaN  NaN   NaN  \n",
       "15483         NaN         NaN  NaN   NaN  \n",
       "8790          NaN         NaN  NaN   NaN  "
      ]
     },
     "execution_count": 14,
     "metadata": {},
     "output_type": "execute_result"
    }
   ],
   "source": [
    "import pandas as pd\n",
    "file2_train = 'data/한국어_단발성_대화_데이터셋.csv'\n",
    "\n",
    "train2 = pd.read_csv(file2_train)\n",
    "train2.sample(n=5)"
   ]
  },
  {
   "cell_type": "code",
   "execution_count": 15,
   "metadata": {},
   "outputs": [
    {
     "data": {
      "text/html": [
       "<div>\n",
       "<style scoped>\n",
       "    .dataframe tbody tr th:only-of-type {\n",
       "        vertical-align: middle;\n",
       "    }\n",
       "\n",
       "    .dataframe tbody tr th {\n",
       "        vertical-align: top;\n",
       "    }\n",
       "\n",
       "    .dataframe thead th {\n",
       "        text-align: right;\n",
       "    }\n",
       "</style>\n",
       "<table border=\"1\" class=\"dataframe\">\n",
       "  <thead>\n",
       "    <tr style=\"text-align: right;\">\n",
       "      <th></th>\n",
       "      <th>sentence</th>\n",
       "      <th>emotion</th>\n",
       "    </tr>\n",
       "  </thead>\n",
       "  <tbody>\n",
       "    <tr>\n",
       "      <th>34580</th>\n",
       "      <td>바보 기상청</td>\n",
       "      <td>혐오</td>\n",
       "    </tr>\n",
       "    <tr>\n",
       "      <th>12447</th>\n",
       "      <td>나라가 시끄러운 틈을 타 너도나도 이익 취하려는 집단 뿐이네</td>\n",
       "      <td>분노</td>\n",
       "    </tr>\n",
       "    <tr>\n",
       "      <th>21511</th>\n",
       "      <td>아 진짜 안전 불감증 큰일이구나..ㅠㅠ</td>\n",
       "      <td>슬픔</td>\n",
       "    </tr>\n",
       "    <tr>\n",
       "      <th>34087</th>\n",
       "      <td>대갈통에 구멍날까 무섭디? 이 쪼다들아!!!</td>\n",
       "      <td>혐오</td>\n",
       "    </tr>\n",
       "    <tr>\n",
       "      <th>37320</th>\n",
       "      <td>좌빨들 배제하는것 당연지사 아니가.</td>\n",
       "      <td>혐오</td>\n",
       "    </tr>\n",
       "  </tbody>\n",
       "</table>\n",
       "</div>"
      ],
      "text/plain": [
       "                                sentence emotion\n",
       "34580                             바보 기상청      혐오\n",
       "12447  나라가 시끄러운 틈을 타 너도나도 이익 취하려는 집단 뿐이네      분노\n",
       "21511              아 진짜 안전 불감증 큰일이구나..ㅠㅠ      슬픔\n",
       "34087           대갈통에 구멍날까 무섭디? 이 쪼다들아!!!      혐오\n",
       "37320                좌빨들 배제하는것 당연지사 아니가.      혐오"
      ]
     },
     "execution_count": 15,
     "metadata": {},
     "output_type": "execute_result"
    }
   ],
   "source": [
    "#필요한 칼럼만 추출\n",
    "train2 = train2[['Sentence','Emotion']]\n",
    "\n",
    "#칼럼이름 변경\n",
    "train2.columns = ['sentence', 'emotion']\n",
    "train2.sample(n=5)"
   ]
  },
  {
   "cell_type": "code",
   "execution_count": 16,
   "metadata": {},
   "outputs": [
    {
     "name": "stdout",
     "output_type": "stream",
     "text": [
      "<class 'pandas.core.frame.DataFrame'>\n",
      "RangeIndex: 38594 entries, 0 to 38593\n",
      "Data columns (total 2 columns):\n",
      " #   Column    Non-Null Count  Dtype \n",
      "---  ------    --------------  ----- \n",
      " 0   sentence  38594 non-null  object\n",
      " 1   emotion   38594 non-null  object\n",
      "dtypes: object(2)\n",
      "memory usage: 603.2+ KB\n",
      "None\n",
      "\n",
      "sentence    0\n",
      "emotion     0\n",
      "dtype: int64\n"
     ]
    }
   ],
   "source": [
    "print(train2.info(), end = '\\n\\n')\n",
    "print(train2.isnull().sum())"
   ]
  },
  {
   "cell_type": "code",
   "execution_count": 17,
   "metadata": {},
   "outputs": [
    {
     "data": {
      "text/plain": [
       "emotion\n",
       "공포    5468\n",
       "놀람    5898\n",
       "분노    5665\n",
       "슬픔    5267\n",
       "중립    4830\n",
       "행복    6037\n",
       "혐오    5429\n",
       "Name: sentence, dtype: int64"
      ]
     },
     "execution_count": 17,
     "metadata": {},
     "output_type": "execute_result"
    }
   ],
   "source": [
    "# 감정 분포 확인\n",
    "train2.groupby('emotion').count().iloc[:,0]"
   ]
  },
  {
   "cell_type": "code",
   "execution_count": 18,
   "metadata": {},
   "outputs": [],
   "source": [
    "train2.to_csv(\"data/단발성대화.csv\")"
   ]
  },
  {
   "cell_type": "code",
   "execution_count": 20,
   "metadata": {},
   "outputs": [
    {
     "data": {
      "text/html": [
       "<div>\n",
       "<style scoped>\n",
       "    .dataframe tbody tr th:only-of-type {\n",
       "        vertical-align: middle;\n",
       "    }\n",
       "\n",
       "    .dataframe tbody tr th {\n",
       "        vertical-align: top;\n",
       "    }\n",
       "\n",
       "    .dataframe thead th {\n",
       "        text-align: right;\n",
       "    }\n",
       "</style>\n",
       "<table border=\"1\" class=\"dataframe\">\n",
       "  <thead>\n",
       "    <tr style=\"text-align: right;\">\n",
       "      <th></th>\n",
       "      <th>Unnamed: 0</th>\n",
       "      <th>Unnamed: 1</th>\n",
       "      <th>Unnamed: 2</th>\n",
       "      <th>Unnamed: 3</th>\n",
       "      <th>Unnamed: 4</th>\n",
       "      <th>행복</th>\n",
       "      <th>중립</th>\n",
       "      <th>슬픔</th>\n",
       "      <th>공포</th>\n",
       "      <th>혐오</th>\n",
       "      <th>분노</th>\n",
       "      <th>놀람</th>\n",
       "    </tr>\n",
       "  </thead>\n",
       "  <tbody>\n",
       "    <tr>\n",
       "      <th>32237</th>\n",
       "      <td>S</td>\n",
       "      <td>저. 결심했잖아요. 앞으로 일 쉽게 하지 않겠다구요. 잘못 소개하면. 두 사람의 인...</td>\n",
       "      <td>중립</td>\n",
       "      <td>NaN</td>\n",
       "      <td>NaN</td>\n",
       "      <td>NaN</td>\n",
       "      <td>NaN</td>\n",
       "      <td>NaN</td>\n",
       "      <td>NaN</td>\n",
       "      <td>NaN</td>\n",
       "      <td>NaN</td>\n",
       "      <td>NaN</td>\n",
       "    </tr>\n",
       "    <tr>\n",
       "      <th>53403</th>\n",
       "      <td>S</td>\n",
       "      <td>너희들은 크리스마스에 대해 뭔가 잘 모르고 있는 모양이군.</td>\n",
       "      <td>중립</td>\n",
       "      <td>NaN</td>\n",
       "      <td>NaN</td>\n",
       "      <td>NaN</td>\n",
       "      <td>NaN</td>\n",
       "      <td>NaN</td>\n",
       "      <td>NaN</td>\n",
       "      <td>NaN</td>\n",
       "      <td>NaN</td>\n",
       "      <td>NaN</td>\n",
       "    </tr>\n",
       "    <tr>\n",
       "      <th>5642</th>\n",
       "      <td>NaN</td>\n",
       "      <td>아니예요! 단골집 다 확인했는데 어제 안 오셨대요. 친구 분들도 다 연락해봤는데 모...</td>\n",
       "      <td>중립</td>\n",
       "      <td>NaN</td>\n",
       "      <td>NaN</td>\n",
       "      <td>NaN</td>\n",
       "      <td>NaN</td>\n",
       "      <td>NaN</td>\n",
       "      <td>NaN</td>\n",
       "      <td>NaN</td>\n",
       "      <td>NaN</td>\n",
       "      <td>NaN</td>\n",
       "    </tr>\n",
       "    <tr>\n",
       "      <th>54223</th>\n",
       "      <td>S</td>\n",
       "      <td>어이~ 같이 뛰자~</td>\n",
       "      <td>중립</td>\n",
       "      <td>NaN</td>\n",
       "      <td>NaN</td>\n",
       "      <td>NaN</td>\n",
       "      <td>NaN</td>\n",
       "      <td>NaN</td>\n",
       "      <td>NaN</td>\n",
       "      <td>NaN</td>\n",
       "      <td>NaN</td>\n",
       "      <td>NaN</td>\n",
       "    </tr>\n",
       "    <tr>\n",
       "      <th>37577</th>\n",
       "      <td>NaN</td>\n",
       "      <td>왜 그게 망신이야? 간소하고 허례허식 없이, 경건하게 결혼식을 한다는데, 그게 왜 ...</td>\n",
       "      <td>중립</td>\n",
       "      <td>NaN</td>\n",
       "      <td>NaN</td>\n",
       "      <td>NaN</td>\n",
       "      <td>NaN</td>\n",
       "      <td>NaN</td>\n",
       "      <td>NaN</td>\n",
       "      <td>NaN</td>\n",
       "      <td>NaN</td>\n",
       "      <td>NaN</td>\n",
       "    </tr>\n",
       "  </tbody>\n",
       "</table>\n",
       "</div>"
      ],
      "text/plain": [
       "      Unnamed: 0                                         Unnamed: 1   \n",
       "32237          S  저. 결심했잖아요. 앞으로 일 쉽게 하지 않겠다구요. 잘못 소개하면. 두 사람의 인...  \\\n",
       "53403          S                   너희들은 크리스마스에 대해 뭔가 잘 모르고 있는 모양이군.   \n",
       "5642         NaN  아니예요! 단골집 다 확인했는데 어제 안 오셨대요. 친구 분들도 다 연락해봤는데 모...   \n",
       "54223          S                                         어이~ 같이 뛰자~   \n",
       "37577        NaN  왜 그게 망신이야? 간소하고 허례허식 없이, 경건하게 결혼식을 한다는데, 그게 왜 ...   \n",
       "\n",
       "      Unnamed: 2  Unnamed: 3  Unnamed: 4  행복  중립  슬픔  공포  혐오  분노  놀람  \n",
       "32237         중립         NaN         NaN NaN NaN NaN NaN NaN NaN NaN  \n",
       "53403         중립         NaN         NaN NaN NaN NaN NaN NaN NaN NaN  \n",
       "5642          중립         NaN         NaN NaN NaN NaN NaN NaN NaN NaN  \n",
       "54223         중립         NaN         NaN NaN NaN NaN NaN NaN NaN NaN  \n",
       "37577         중립         NaN         NaN NaN NaN NaN NaN NaN NaN NaN  "
      ]
     },
     "execution_count": 20,
     "metadata": {},
     "output_type": "execute_result"
    }
   ],
   "source": [
    "import pandas as pd\n",
    "file3_train = 'data\\한국어_연속적_대화_데이터셋.csv'    #슬라시 방향 상관 없다?\n",
    "\n",
    "train3 = pd.read_csv(file2_train)\n",
    "train3.sample(n=5)"
   ]
  },
  {
   "cell_type": "code",
   "execution_count": 21,
   "metadata": {},
   "outputs": [
    {
     "data": {
      "text/html": [
       "<div>\n",
       "<style scoped>\n",
       "    .dataframe tbody tr th:only-of-type {\n",
       "        vertical-align: middle;\n",
       "    }\n",
       "\n",
       "    .dataframe tbody tr th {\n",
       "        vertical-align: top;\n",
       "    }\n",
       "\n",
       "    .dataframe thead th {\n",
       "        text-align: right;\n",
       "    }\n",
       "</style>\n",
       "<table border=\"1\" class=\"dataframe\">\n",
       "  <thead>\n",
       "    <tr style=\"text-align: right;\">\n",
       "      <th></th>\n",
       "      <th>sentence</th>\n",
       "      <th>emotion</th>\n",
       "    </tr>\n",
       "  </thead>\n",
       "  <tbody>\n",
       "    <tr>\n",
       "      <th>27818</th>\n",
       "      <td>장모님 소리도 좀 빠른 거고.</td>\n",
       "      <td>중립</td>\n",
       "    </tr>\n",
       "    <tr>\n",
       "      <th>13880</th>\n",
       "      <td>뭐 보니까 약도 반도 안 들어갔구만..</td>\n",
       "      <td>중립</td>\n",
       "    </tr>\n",
       "    <tr>\n",
       "      <th>38260</th>\n",
       "      <td>멀미하는 거 같은데, 껌 줄까요?</td>\n",
       "      <td>중립</td>\n",
       "    </tr>\n",
       "    <tr>\n",
       "      <th>8353</th>\n",
       "      <td>할 건 다 했어 벌써.</td>\n",
       "      <td>중립</td>\n",
       "    </tr>\n",
       "    <tr>\n",
       "      <th>37808</th>\n",
       "      <td>하마가 따로 없다, 아주!</td>\n",
       "      <td>중립</td>\n",
       "    </tr>\n",
       "  </tbody>\n",
       "</table>\n",
       "</div>"
      ],
      "text/plain": [
       "                    sentence emotion\n",
       "27818       장모님 소리도 좀 빠른 거고.      중립\n",
       "13880  뭐 보니까 약도 반도 안 들어갔구만..      중립\n",
       "38260    멀미하는 거 같은데, 껌 줄까요?       중립\n",
       "8353            할 건 다 했어 벌써.      중립\n",
       "37808         하마가 따로 없다, 아주!      중립"
      ]
     },
     "execution_count": 21,
     "metadata": {},
     "output_type": "execute_result"
    }
   ],
   "source": [
    "#필요한 칼럼만 추출\n",
    "train3 = train3[['Unnamed: 1','Unnamed: 2']]\n",
    "\n",
    "#칼럼이름 변경\n",
    "train3.columns = ['sentence', 'emotion']\n",
    "train3.sample(n=5)"
   ]
  },
  {
   "cell_type": "code",
   "execution_count": 22,
   "metadata": {},
   "outputs": [
    {
     "name": "stdout",
     "output_type": "stream",
     "text": [
      "<class 'pandas.core.frame.DataFrame'>\n",
      "RangeIndex: 55629 entries, 0 to 55628\n",
      "Data columns (total 2 columns):\n",
      " #   Column    Non-Null Count  Dtype \n",
      "---  ------    --------------  ----- \n",
      " 0   sentence  55628 non-null  object\n",
      " 1   emotion   55622 non-null  object\n",
      "dtypes: object(2)\n",
      "memory usage: 869.3+ KB\n",
      "None\n",
      "\n",
      "sentence    1\n",
      "emotion     7\n",
      "dtype: int64\n"
     ]
    }
   ],
   "source": [
    "print(train3.info(), end = '\\n\\n')\n",
    "print(train3.isnull().sum())"
   ]
  },
  {
   "cell_type": "markdown",
   "metadata": {},
   "source": [
    "결측치 존재 -> 결측치 있는 행 출력"
   ]
  },
  {
   "cell_type": "code",
   "execution_count": 23,
   "metadata": {},
   "outputs": [
    {
     "data": {
      "text/html": [
       "<div>\n",
       "<style scoped>\n",
       "    .dataframe tbody tr th:only-of-type {\n",
       "        vertical-align: middle;\n",
       "    }\n",
       "\n",
       "    .dataframe tbody tr th {\n",
       "        vertical-align: top;\n",
       "    }\n",
       "\n",
       "    .dataframe thead th {\n",
       "        text-align: right;\n",
       "    }\n",
       "</style>\n",
       "<table border=\"1\" class=\"dataframe\">\n",
       "  <thead>\n",
       "    <tr style=\"text-align: right;\">\n",
       "      <th></th>\n",
       "      <th>sentence</th>\n",
       "      <th>emotion</th>\n",
       "    </tr>\n",
       "  </thead>\n",
       "  <tbody>\n",
       "    <tr>\n",
       "      <th>3707</th>\n",
       "      <td>저도 저희 반 학생이 도둑질을 했다고 믿고 싶진 않아요. 아마 서로 오해가 있었던 ...</td>\n",
       "      <td>NaN</td>\n",
       "    </tr>\n",
       "    <tr>\n",
       "      <th>30644</th>\n",
       "      <td>다 봤니? 다 못 봤으면 나머지 해줄까?</td>\n",
       "      <td>NaN</td>\n",
       "    </tr>\n",
       "    <tr>\n",
       "      <th>31816</th>\n",
       "      <td>그러니까. 돌 같은 걸 씹어서 이가 부러진 경우가 아니면.실상 보상을 받을 수 없다...</td>\n",
       "      <td>NaN</td>\n",
       "    </tr>\n",
       "    <tr>\n",
       "      <th>46290</th>\n",
       "      <td>NaN</td>\n",
       "      <td>NaN</td>\n",
       "    </tr>\n",
       "    <tr>\n",
       "      <th>47149</th>\n",
       "      <td>뭐가?</td>\n",
       "      <td>NaN</td>\n",
       "    </tr>\n",
       "    <tr>\n",
       "      <th>48754</th>\n",
       "      <td>창업은 실제 해보니까 어땠어요?</td>\n",
       "      <td>NaN</td>\n",
       "    </tr>\n",
       "    <tr>\n",
       "      <th>50535</th>\n",
       "      <td>안에는 들어가 봤나?</td>\n",
       "      <td>NaN</td>\n",
       "    </tr>\n",
       "  </tbody>\n",
       "</table>\n",
       "</div>"
      ],
      "text/plain": [
       "                                                sentence emotion\n",
       "3707   저도 저희 반 학생이 도둑질을 했다고 믿고 싶진 않아요. 아마 서로 오해가 있었던 ...     NaN\n",
       "30644                        다 봤니? 다 못 봤으면 나머지 해줄까?          NaN\n",
       "31816  그러니까. 돌 같은 걸 씹어서 이가 부러진 경우가 아니면.실상 보상을 받을 수 없다...     NaN\n",
       "46290                                                NaN     NaN\n",
       "47149                                                뭐가?     NaN\n",
       "48754                                 창업은 실제 해보니까 어땠어요?      NaN\n",
       "50535                                        안에는 들어가 봤나?     NaN"
      ]
     },
     "execution_count": 23,
     "metadata": {},
     "output_type": "execute_result"
    }
   ],
   "source": [
    "null_df = train3[train3.isnull().any(axis=1)]\n",
    "null_df"
   ]
  },
  {
   "cell_type": "markdown",
   "metadata": {},
   "source": [
    "**결측치 있는 행 삭제**  \n",
    "55629 -> 55622, 7개 모두 지워진거 확인"
   ]
  },
  {
   "cell_type": "code",
   "execution_count": 26,
   "metadata": {},
   "outputs": [
    {
     "data": {
      "text/plain": [
       "(55622, 2)"
      ]
     },
     "execution_count": 26,
     "metadata": {},
     "output_type": "execute_result"
    }
   ],
   "source": [
    "train3 = train3.dropna()\n",
    "train3.shape"
   ]
  },
  {
   "cell_type": "code",
   "execution_count": 28,
   "metadata": {},
   "outputs": [
    {
     "data": {
      "text/plain": [
       "emotion\n",
       "ㄴ중립        1\n",
       "ㅈ중립        1\n",
       "ㅍ         12\n",
       "감정         1\n",
       "공포        98\n",
       "놀람      4866\n",
       "분          4\n",
       "분ㄴ         1\n",
       "분노      3628\n",
       "슬픔      1972\n",
       "줄          1\n",
       "중림         1\n",
       "중립     43786\n",
       "행복      1030\n",
       "혐오       220\n",
       "Name: sentence, dtype: int64"
      ]
     },
     "execution_count": 28,
     "metadata": {},
     "output_type": "execute_result"
    }
   ],
   "source": [
    "# 감정 분포 확인\n",
    "train3.groupby('emotion').count().iloc[:,0]"
   ]
  },
  {
   "cell_type": "markdown",
   "metadata": {},
   "source": [
    "오타가 다수 존재\n",
    "<br>\n",
    "우선 알아 볼 수 있는건 아래와 같이 치환하고 나머지를 확인\n",
    "|ㄴ중립, ㅈ중립, 중림|중립|\n",
    "|-----------|---|\n",
    "|**분, 분ㄴ**|**분노**|"
   ]
  },
  {
   "cell_type": "code",
   "execution_count": 30,
   "metadata": {},
   "outputs": [],
   "source": [
    "train3.loc[train3['emotion'].isin(('ㄴ중립','ㅈ중립','중림')), 'emotion'] = '중립'\n",
    "train3.loc[train3['emotion'].isin(('분','분ㄴ')), 'emotion'] = '분노'"
   ]
  },
  {
   "cell_type": "code",
   "execution_count": 31,
   "metadata": {},
   "outputs": [
    {
     "data": {
      "text/html": [
       "<div>\n",
       "<style scoped>\n",
       "    .dataframe tbody tr th:only-of-type {\n",
       "        vertical-align: middle;\n",
       "    }\n",
       "\n",
       "    .dataframe tbody tr th {\n",
       "        vertical-align: top;\n",
       "    }\n",
       "\n",
       "    .dataframe thead th {\n",
       "        text-align: right;\n",
       "    }\n",
       "</style>\n",
       "<table border=\"1\" class=\"dataframe\">\n",
       "  <thead>\n",
       "    <tr style=\"text-align: right;\">\n",
       "      <th></th>\n",
       "      <th>sentence</th>\n",
       "      <th>emotion</th>\n",
       "    </tr>\n",
       "  </thead>\n",
       "  <tbody>\n",
       "    <tr>\n",
       "      <th>0</th>\n",
       "      <td>발화</td>\n",
       "      <td>감정</td>\n",
       "    </tr>\n",
       "    <tr>\n",
       "      <th>25037</th>\n",
       "      <td>인터넷에다 팔아야 되나.. 근데 너 이제 맘 잡았나보다?</td>\n",
       "      <td>ㅍ</td>\n",
       "    </tr>\n",
       "    <tr>\n",
       "      <th>27177</th>\n",
       "      <td>일부러 그럴 리가 있어요?</td>\n",
       "      <td>ㅍ</td>\n",
       "    </tr>\n",
       "    <tr>\n",
       "      <th>27948</th>\n",
       "      <td>그럼요?</td>\n",
       "      <td>ㅍ</td>\n",
       "    </tr>\n",
       "    <tr>\n",
       "      <th>28090</th>\n",
       "      <td>샤프심이 없어서..가지러 왔다가 누나 보이길래..</td>\n",
       "      <td>ㅍ</td>\n",
       "    </tr>\n",
       "    <tr>\n",
       "      <th>28455</th>\n",
       "      <td>아~ 자기소개서 쓰기 힘들어 죽겠어요~</td>\n",
       "      <td>ㅍ</td>\n",
       "    </tr>\n",
       "    <tr>\n",
       "      <th>28482</th>\n",
       "      <td>원래 남자들..다른 남자랑 친하게 지내면 그러니까..</td>\n",
       "      <td>ㅍ</td>\n",
       "    </tr>\n",
       "    <tr>\n",
       "      <th>36684</th>\n",
       "      <td>그럼, 임마! 내가 누구냐? 한번 실수는 병가지상사다~이러시면서 나의 인간성과 품위...</td>\n",
       "      <td>ㅍ</td>\n",
       "    </tr>\n",
       "    <tr>\n",
       "      <th>37261</th>\n",
       "      <td>처리 할거야. 처리해야지, 그게 돈이 얼만데?</td>\n",
       "      <td>ㅍ</td>\n",
       "    </tr>\n",
       "    <tr>\n",
       "      <th>37428</th>\n",
       "      <td>와, 어디서 꽁돈이라도 생겼나?</td>\n",
       "      <td>ㅍ</td>\n",
       "    </tr>\n",
       "    <tr>\n",
       "      <th>37864</th>\n",
       "      <td>엄마, 엄만 결혼이 뭐 그리 좋아?</td>\n",
       "      <td>ㅍ</td>\n",
       "    </tr>\n",
       "    <tr>\n",
       "      <th>41755</th>\n",
       "      <td>앞으로는 어디서 우연히 마주쳐도 말 섞지 말자. 비위 상해. 너랑 말 하면.</td>\n",
       "      <td>ㅍ</td>\n",
       "    </tr>\n",
       "    <tr>\n",
       "      <th>43151</th>\n",
       "      <td>역시... 상처받았겠지?</td>\n",
       "      <td>ㅍ</td>\n",
       "    </tr>\n",
       "    <tr>\n",
       "      <th>50985</th>\n",
       "      <td>용량 너무 적은 거 아니냐...... 자석 가져다 대지 말라고. 다 까먹을 테니까.</td>\n",
       "      <td>줄</td>\n",
       "    </tr>\n",
       "  </tbody>\n",
       "</table>\n",
       "</div>"
      ],
      "text/plain": [
       "                                                sentence emotion\n",
       "0                                                     발화      감정\n",
       "25037                    인터넷에다 팔아야 되나.. 근데 너 이제 맘 잡았나보다?       ㅍ\n",
       "27177                                     일부러 그럴 리가 있어요?       ㅍ\n",
       "27948                                               그럼요?       ㅍ\n",
       "28090                        샤프심이 없어서..가지러 왔다가 누나 보이길래..       ㅍ\n",
       "28455                              아~ 자기소개서 쓰기 힘들어 죽겠어요~       ㅍ\n",
       "28482                      원래 남자들..다른 남자랑 친하게 지내면 그러니까..       ㅍ\n",
       "36684  그럼, 임마! 내가 누구냐? 한번 실수는 병가지상사다~이러시면서 나의 인간성과 품위...       ㅍ\n",
       "37261                          처리 할거야. 처리해야지, 그게 돈이 얼만데?       ㅍ\n",
       "37428                                  와, 어디서 꽁돈이라도 생겼나?       ㅍ\n",
       "37864                                엄마, 엄만 결혼이 뭐 그리 좋아?       ㅍ\n",
       "41755    앞으로는 어디서 우연히 마주쳐도 말 섞지 말자. 비위 상해. 너랑 말 하면.            ㅍ\n",
       "43151                                      역시... 상처받았겠지?       ㅍ\n",
       "50985     용량 너무 적은 거 아니냐...... 자석 가져다 대지 말라고. 다 까먹을 테니까.       줄"
      ]
     },
     "execution_count": 31,
     "metadata": {},
     "output_type": "execute_result"
    }
   ],
   "source": [
    "train3[train3['emotion'].isin(['ㅍ', '감정','줄'])]"
   ]
  },
  {
   "cell_type": "markdown",
   "metadata": {},
   "source": [
    "0행은 원본 파일에서 열이름으로 쓰인거 같고 'ㅍ','줄'은 구분이 어려움  \n",
    "--> 모두 삭제"
   ]
  },
  {
   "cell_type": "code",
   "execution_count": 32,
   "metadata": {},
   "outputs": [],
   "source": [
    "train3 = train3.drop(train3[train3['emotion'].isin(['ㅍ', '감정','줄'])].index)\n",
    "#train3 = train3[~train3['emotion'].isin(['가나', '다라'])]"
   ]
  },
  {
   "cell_type": "markdown",
   "metadata": {},
   "source": [
    "다시 분포 확인"
   ]
  },
  {
   "cell_type": "code",
   "execution_count": 33,
   "metadata": {},
   "outputs": [
    {
     "data": {
      "text/plain": [
       "emotion\n",
       "공포       98\n",
       "놀람     4866\n",
       "분노     3633\n",
       "슬픔     1972\n",
       "중립    43789\n",
       "행복     1030\n",
       "혐오      220\n",
       "Name: sentence, dtype: int64"
      ]
     },
     "execution_count": 33,
     "metadata": {},
     "output_type": "execute_result"
    }
   ],
   "source": [
    "train3.groupby('emotion').count().iloc[:,0]"
   ]
  },
  {
   "cell_type": "markdown",
   "metadata": {},
   "source": [
    "전처리 끝난 데이터 프레임 저장"
   ]
  },
  {
   "cell_type": "code",
   "execution_count": 34,
   "metadata": {},
   "outputs": [],
   "source": [
    "train3.to_csv(\"data/연속적대화.csv\")"
   ]
  },
  {
   "cell_type": "code",
   "execution_count": null,
   "metadata": {},
   "outputs": [],
   "source": []
  }
 ],
 "metadata": {
  "kernelspec": {
   "display_name": "Python 3.10.10 ('base')",
   "language": "python",
   "name": "python3"
  },
  "language_info": {
   "codemirror_mode": {
    "name": "ipython",
    "version": 3
   },
   "file_extension": ".py",
   "mimetype": "text/x-python",
   "name": "python",
   "nbconvert_exporter": "python",
   "pygments_lexer": "ipython3",
   "version": "3.10.10"
  },
  "orig_nbformat": 4,
  "vscode": {
   "interpreter": {
    "hash": "b7bc6c7fd23eb2e91dec57608c8d21c360d813bf713e461423113f4cc04934c0"
   }
  }
 },
 "nbformat": 4,
 "nbformat_minor": 2
}
