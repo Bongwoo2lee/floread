{
 "cells": [
  {
   "attachments": {},
   "cell_type": "markdown",
   "metadata": {},
   "source": [
    "# 1.감성대화말뭉치"
   ]
  },
  {
   "cell_type": "code",
   "execution_count": 40,
   "metadata": {},
   "outputs": [],
   "source": [
    "import pandas as pd\n",
    "\n",
    "file1_train = 'data/감성대화말뭉치(최종데이터)_Training.csv'\n",
    "file1_test = 'data/감성대화말뭉치(최종데이터)_Validation.csv'\n",
    "\n",
    "train1  = pd.read_csv(file1_train)\n",
    "test1 = pd.read_csv(file1_test)"
   ]
  },
  {
   "attachments": {},
   "cell_type": "markdown",
   "metadata": {},
   "source": [
    "### 문장, 감정 대분류 칼럼만 남기고 순서바꾸기"
   ]
  },
  {
   "cell_type": "code",
   "execution_count": 41,
   "metadata": {},
   "outputs": [
    {
     "data": {
      "text/html": [
       "<div>\n",
       "<style scoped>\n",
       "    .dataframe tbody tr th:only-of-type {\n",
       "        vertical-align: middle;\n",
       "    }\n",
       "\n",
       "    .dataframe tbody tr th {\n",
       "        vertical-align: top;\n",
       "    }\n",
       "\n",
       "    .dataframe thead th {\n",
       "        text-align: right;\n",
       "    }\n",
       "</style>\n",
       "<table border=\"1\" class=\"dataframe\">\n",
       "  <thead>\n",
       "    <tr style=\"text-align: right;\">\n",
       "      <th></th>\n",
       "      <th>sentence</th>\n",
       "      <th>emotion</th>\n",
       "    </tr>\n",
       "  </thead>\n",
       "  <tbody>\n",
       "    <tr>\n",
       "      <th>3978</th>\n",
       "      <td>몇 주 뒤면 결혼식인데 결혼식을 못 하게 생겼어.</td>\n",
       "      <td>불안</td>\n",
       "    </tr>\n",
       "    <tr>\n",
       "      <th>28920</th>\n",
       "      <td>좋은 일이 있었어.</td>\n",
       "      <td>기쁨</td>\n",
       "    </tr>\n",
       "    <tr>\n",
       "      <th>43134</th>\n",
       "      <td>부모님에게 계속 의지하는 게 좋을까. 아무런 쓸모도 없는 사람 같아서 죽고 싶어.</td>\n",
       "      <td>분노</td>\n",
       "    </tr>\n",
       "    <tr>\n",
       "      <th>28309</th>\n",
       "      <td>늙으니 할 수 있는 일이 없어서 내 용돈벌이도 못하는 게 너무 속상해.</td>\n",
       "      <td>슬픔</td>\n",
       "    </tr>\n",
       "    <tr>\n",
       "      <th>14820</th>\n",
       "      <td>해냈어! 드디어 우리 부서가 에이 팀을 이겼어!</td>\n",
       "      <td>기쁨</td>\n",
       "    </tr>\n",
       "  </tbody>\n",
       "</table>\n",
       "</div>"
      ],
      "text/plain": [
       "                                            sentence emotion\n",
       "3978                     몇 주 뒤면 결혼식인데 결혼식을 못 하게 생겼어.      불안\n",
       "28920                                     좋은 일이 있었어.      기쁨\n",
       "43134  부모님에게 계속 의지하는 게 좋을까. 아무런 쓸모도 없는 사람 같아서 죽고 싶어.      분노\n",
       "28309        늙으니 할 수 있는 일이 없어서 내 용돈벌이도 못하는 게 너무 속상해.      슬픔\n",
       "14820                     해냈어! 드디어 우리 부서가 에이 팀을 이겼어!      기쁨"
      ]
     },
     "execution_count": 41,
     "metadata": {},
     "output_type": "execute_result"
    }
   ],
   "source": [
    "# 대분류, 문장 칼럼만 추출\n",
    "train1 = train1[['감정_대분류','사람문장1']]\n",
    "test1 = test1[['감정_대분류','사람문장1']]\n",
    "\n",
    "# # 감정을 정수 라벨로 변경\n",
    "# emotions = {'기쁨': 0, '불안': 1, '당황': 2, '슬픔': 3, '분노': 4, '상처': 5}\n",
    "# train1['emotion'] = train1.emotion.map(emotions)\n",
    "\n",
    "#칼럼이름 변경하고 순서 바꾸기\n",
    "train1.columns = ['emotion', 'sentence']\n",
    "test1.columns = ['emotion', 'sentence']  \n",
    "train1 = train1.reindex(columns=['sentence', 'emotion'])\n",
    "test1 = test1.reindex(columns=['sentence', 'emotion'])\n",
    "\n",
    "train1.sample(n=5)"
   ]
  },
  {
   "attachments": {},
   "cell_type": "markdown",
   "metadata": {},
   "source": [
    "### 데이터 수 & 결측치 확인"
   ]
  },
  {
   "cell_type": "code",
   "execution_count": 42,
   "metadata": {},
   "outputs": [
    {
     "name": "stdout",
     "output_type": "stream",
     "text": [
      "<class 'pandas.core.frame.DataFrame'>\n",
      "RangeIndex: 51630 entries, 0 to 51629\n",
      "Data columns (total 2 columns):\n",
      " #   Column    Non-Null Count  Dtype \n",
      "---  ------    --------------  ----- \n",
      " 0   sentence  51630 non-null  object\n",
      " 1   emotion   51630 non-null  object\n",
      "dtypes: object(2)\n",
      "memory usage: 806.8+ KB\n",
      "None\n",
      "\n",
      "<class 'pandas.core.frame.DataFrame'>\n",
      "RangeIndex: 6641 entries, 0 to 6640\n",
      "Data columns (total 2 columns):\n",
      " #   Column    Non-Null Count  Dtype \n",
      "---  ------    --------------  ----- \n",
      " 0   sentence  6641 non-null   object\n",
      " 1   emotion   6641 non-null   object\n",
      "dtypes: object(2)\n",
      "memory usage: 103.9+ KB\n",
      "None\n"
     ]
    }
   ],
   "source": [
    "print(train1.info(),end ='\\n\\n')\n",
    "print(test1.info())"
   ]
  },
  {
   "cell_type": "code",
   "execution_count": 43,
   "metadata": {},
   "outputs": [
    {
     "name": "stdout",
     "output_type": "stream",
     "text": [
      "sentence    0\n",
      "emotion     0\n",
      "dtype: int64\n",
      "\n",
      "sentence    0\n",
      "emotion     0\n",
      "dtype: int64\n"
     ]
    }
   ],
   "source": [
    "print(train1.isnull().sum(), end = '\\n\\n')\n",
    "print(test1.isnull().sum())"
   ]
  },
  {
   "attachments": {},
   "cell_type": "markdown",
   "metadata": {},
   "source": [
    "### 감성 대화 말뭉치 합쳐서 csv 파일로 다시 저장"
   ]
  },
  {
   "cell_type": "code",
   "execution_count": null,
   "metadata": {},
   "outputs": [],
   "source": [
    "# file_names = ['data/감성대화말뭉치(최종데이터)_Training.csv','data/감성대화말뭉치(최종데이터)_Validation.csv']\n",
    "# for file_name in file_names:\n",
    "#     temp = pd.read_csv(file_name, sep='구분자', encoding='utf-8') #csv파일을 하나씩 열어 임시 데이터프레임으로 생성한다\n",
    "#     total = pd.concat([total, temp]) #전체 데이터프레임에 추가하여 넣는다\n",
    "\n",
    "# total.to_csv(\"data/감성대화망뭉치(병합).csv\")"
   ]
  },
  {
   "cell_type": "code",
   "execution_count": 45,
   "metadata": {},
   "outputs": [
    {
     "data": {
      "text/html": [
       "<div>\n",
       "<style scoped>\n",
       "    .dataframe tbody tr th:only-of-type {\n",
       "        vertical-align: middle;\n",
       "    }\n",
       "\n",
       "    .dataframe tbody tr th {\n",
       "        vertical-align: top;\n",
       "    }\n",
       "\n",
       "    .dataframe thead th {\n",
       "        text-align: right;\n",
       "    }\n",
       "</style>\n",
       "<table border=\"1\" class=\"dataframe\">\n",
       "  <thead>\n",
       "    <tr style=\"text-align: right;\">\n",
       "      <th></th>\n",
       "      <th>sentence</th>\n",
       "      <th>emotion</th>\n",
       "    </tr>\n",
       "  </thead>\n",
       "  <tbody>\n",
       "    <tr>\n",
       "      <th>0</th>\n",
       "      <td>일은 왜 해도 해도 끝이 없을까? 화가 난다.</td>\n",
       "      <td>분노</td>\n",
       "    </tr>\n",
       "    <tr>\n",
       "      <th>1</th>\n",
       "      <td>이번 달에 또 급여가 깎였어! 물가는 오르는데 월급만 자꾸 깎이니까 너무 화가 나.</td>\n",
       "      <td>분노</td>\n",
       "    </tr>\n",
       "    <tr>\n",
       "      <th>2</th>\n",
       "      <td>회사에 신입이 들어왔는데 말투가 거슬려. 그런 애를 매일 봐야 한다고 생각하니까 스...</td>\n",
       "      <td>분노</td>\n",
       "    </tr>\n",
       "    <tr>\n",
       "      <th>3</th>\n",
       "      <td>직장에서 막내라는 이유로 나에게만 온갖 심부름을 시켜. 일도 많은 데 정말 분하고 ...</td>\n",
       "      <td>분노</td>\n",
       "    </tr>\n",
       "    <tr>\n",
       "      <th>4</th>\n",
       "      <td>얼마 전 입사한 신입사원이 나를 무시하는 것 같아서 너무 화가 나.</td>\n",
       "      <td>분노</td>\n",
       "    </tr>\n",
       "    <tr>\n",
       "      <th>...</th>\n",
       "      <td>...</td>\n",
       "      <td>...</td>\n",
       "    </tr>\n",
       "    <tr>\n",
       "      <th>6636</th>\n",
       "      <td>나랑 비슷한 시기에 결혼하는 친구는 시댁에서 집을 해줘서 너무 부러워. 우리는 대출...</td>\n",
       "      <td>당황</td>\n",
       "    </tr>\n",
       "    <tr>\n",
       "      <th>6637</th>\n",
       "      <td>친구 한 명이 결혼해서 아이를 가졌는데 너무 행복해 보이더라. 기분이 좋지만은 않아.</td>\n",
       "      <td>당황</td>\n",
       "    </tr>\n",
       "    <tr>\n",
       "      <th>6638</th>\n",
       "      <td>남들은 결혼 전에 일억을 모았다는데 난 뭐를 한 것인지 모르겠어. 자괴감만 드네.</td>\n",
       "      <td>당황</td>\n",
       "    </tr>\n",
       "    <tr>\n",
       "      <th>6639</th>\n",
       "      <td>나보다 결혼을 먼저 한 친구가 부러워. 그 친구 남편은 직장도 내 남편보다 좋고 키...</td>\n",
       "      <td>당황</td>\n",
       "    </tr>\n",
       "    <tr>\n",
       "      <th>6640</th>\n",
       "      <td>친구들 모두 결혼하고 나만 혼자 남아서 쓸쓸하네.</td>\n",
       "      <td>당황</td>\n",
       "    </tr>\n",
       "  </tbody>\n",
       "</table>\n",
       "<p>58271 rows × 2 columns</p>\n",
       "</div>"
      ],
      "text/plain": [
       "                                               sentence emotion\n",
       "0                             일은 왜 해도 해도 끝이 없을까? 화가 난다.      분노\n",
       "1        이번 달에 또 급여가 깎였어! 물가는 오르는데 월급만 자꾸 깎이니까 너무 화가 나.      분노\n",
       "2     회사에 신입이 들어왔는데 말투가 거슬려. 그런 애를 매일 봐야 한다고 생각하니까 스...      분노\n",
       "3     직장에서 막내라는 이유로 나에게만 온갖 심부름을 시켜. 일도 많은 데 정말 분하고 ...      분노\n",
       "4                 얼마 전 입사한 신입사원이 나를 무시하는 것 같아서 너무 화가 나.      분노\n",
       "...                                                 ...     ...\n",
       "6636  나랑 비슷한 시기에 결혼하는 친구는 시댁에서 집을 해줘서 너무 부러워. 우리는 대출...      당황\n",
       "6637    친구 한 명이 결혼해서 아이를 가졌는데 너무 행복해 보이더라. 기분이 좋지만은 않아.      당황\n",
       "6638      남들은 결혼 전에 일억을 모았다는데 난 뭐를 한 것인지 모르겠어. 자괴감만 드네.      당황\n",
       "6639  나보다 결혼을 먼저 한 친구가 부러워. 그 친구 남편은 직장도 내 남편보다 좋고 키...      당황\n",
       "6640                        친구들 모두 결혼하고 나만 혼자 남아서 쓸쓸하네.      당황\n",
       "\n",
       "[58271 rows x 2 columns]"
      ]
     },
     "execution_count": 45,
     "metadata": {},
     "output_type": "execute_result"
    }
   ],
   "source": [
    "# 전처리된 데이터프레임 합치고 csv로 저장   \n",
    "temp  = pd.concat([train1, test1])\n",
    "temp    #행 숫자보면 합쳐진거 맞는데 왜 test1 행번호가 그대로일까.."
   ]
  },
  {
   "attachments": {},
   "cell_type": "markdown",
   "metadata": {},
   "source": [
    "  \n",
    "중복 행 제거"
   ]
  },
  {
   "cell_type": "code",
   "execution_count": 49,
   "metadata": {},
   "outputs": [
    {
     "name": "stdout",
     "output_type": "stream",
     "text": [
      "중복되는 행:  31\n"
     ]
    },
    {
     "data": {
      "text/plain": [
       "58240"
      ]
     },
     "execution_count": 49,
     "metadata": {},
     "output_type": "execute_result"
    }
   ],
   "source": [
    "dup = temp[temp.duplicated(subset=['sentence'])]\n",
    "print(\"중복되는 행: \", len(dup))\n",
    "\n",
    "temp = temp.drop_duplicates(subset=['sentence'], keep='first')\n",
    "len(temp)"
   ]
  },
  {
   "cell_type": "code",
   "execution_count": 52,
   "metadata": {},
   "outputs": [],
   "source": [
    "temp.to_csv(\"data/감성대화말뭉치(병합).csv\")"
   ]
  },
  {
   "cell_type": "code",
   "execution_count": 53,
   "metadata": {},
   "outputs": [
    {
     "data": {
      "text/html": [
       "<div>\n",
       "<style scoped>\n",
       "    .dataframe tbody tr th:only-of-type {\n",
       "        vertical-align: middle;\n",
       "    }\n",
       "\n",
       "    .dataframe tbody tr th {\n",
       "        vertical-align: top;\n",
       "    }\n",
       "\n",
       "    .dataframe thead th {\n",
       "        text-align: right;\n",
       "    }\n",
       "</style>\n",
       "<table border=\"1\" class=\"dataframe\">\n",
       "  <thead>\n",
       "    <tr style=\"text-align: right;\">\n",
       "      <th></th>\n",
       "      <th>sentence</th>\n",
       "      <th>emotion</th>\n",
       "    </tr>\n",
       "  </thead>\n",
       "  <tbody>\n",
       "    <tr>\n",
       "      <th>0</th>\n",
       "      <td>일은 왜 해도 해도 끝이 없을까? 화가 난다.</td>\n",
       "      <td>분노</td>\n",
       "    </tr>\n",
       "    <tr>\n",
       "      <th>1</th>\n",
       "      <td>이번 달에 또 급여가 깎였어! 물가는 오르는데 월급만 자꾸 깎이니까 너무 화가 나.</td>\n",
       "      <td>분노</td>\n",
       "    </tr>\n",
       "    <tr>\n",
       "      <th>2</th>\n",
       "      <td>회사에 신입이 들어왔는데 말투가 거슬려. 그런 애를 매일 봐야 한다고 생각하니까 스...</td>\n",
       "      <td>분노</td>\n",
       "    </tr>\n",
       "    <tr>\n",
       "      <th>3</th>\n",
       "      <td>직장에서 막내라는 이유로 나에게만 온갖 심부름을 시켜. 일도 많은 데 정말 분하고 ...</td>\n",
       "      <td>분노</td>\n",
       "    </tr>\n",
       "    <tr>\n",
       "      <th>4</th>\n",
       "      <td>얼마 전 입사한 신입사원이 나를 무시하는 것 같아서 너무 화가 나.</td>\n",
       "      <td>분노</td>\n",
       "    </tr>\n",
       "    <tr>\n",
       "      <th>...</th>\n",
       "      <td>...</td>\n",
       "      <td>...</td>\n",
       "    </tr>\n",
       "    <tr>\n",
       "      <th>6636</th>\n",
       "      <td>나랑 비슷한 시기에 결혼하는 친구는 시댁에서 집을 해줘서 너무 부러워. 우리는 대출...</td>\n",
       "      <td>당황</td>\n",
       "    </tr>\n",
       "    <tr>\n",
       "      <th>6637</th>\n",
       "      <td>친구 한 명이 결혼해서 아이를 가졌는데 너무 행복해 보이더라. 기분이 좋지만은 않아.</td>\n",
       "      <td>당황</td>\n",
       "    </tr>\n",
       "    <tr>\n",
       "      <th>6638</th>\n",
       "      <td>남들은 결혼 전에 일억을 모았다는데 난 뭐를 한 것인지 모르겠어. 자괴감만 드네.</td>\n",
       "      <td>당황</td>\n",
       "    </tr>\n",
       "    <tr>\n",
       "      <th>6639</th>\n",
       "      <td>나보다 결혼을 먼저 한 친구가 부러워. 그 친구 남편은 직장도 내 남편보다 좋고 키...</td>\n",
       "      <td>당황</td>\n",
       "    </tr>\n",
       "    <tr>\n",
       "      <th>6640</th>\n",
       "      <td>친구들 모두 결혼하고 나만 혼자 남아서 쓸쓸하네.</td>\n",
       "      <td>당황</td>\n",
       "    </tr>\n",
       "  </tbody>\n",
       "</table>\n",
       "<p>58240 rows × 2 columns</p>\n",
       "</div>"
      ],
      "text/plain": [
       "                                               sentence emotion\n",
       "0                             일은 왜 해도 해도 끝이 없을까? 화가 난다.      분노\n",
       "1        이번 달에 또 급여가 깎였어! 물가는 오르는데 월급만 자꾸 깎이니까 너무 화가 나.      분노\n",
       "2     회사에 신입이 들어왔는데 말투가 거슬려. 그런 애를 매일 봐야 한다고 생각하니까 스...      분노\n",
       "3     직장에서 막내라는 이유로 나에게만 온갖 심부름을 시켜. 일도 많은 데 정말 분하고 ...      분노\n",
       "4                 얼마 전 입사한 신입사원이 나를 무시하는 것 같아서 너무 화가 나.      분노\n",
       "...                                                 ...     ...\n",
       "6636  나랑 비슷한 시기에 결혼하는 친구는 시댁에서 집을 해줘서 너무 부러워. 우리는 대출...      당황\n",
       "6637    친구 한 명이 결혼해서 아이를 가졌는데 너무 행복해 보이더라. 기분이 좋지만은 않아.      당황\n",
       "6638      남들은 결혼 전에 일억을 모았다는데 난 뭐를 한 것인지 모르겠어. 자괴감만 드네.      당황\n",
       "6639  나보다 결혼을 먼저 한 친구가 부러워. 그 친구 남편은 직장도 내 남편보다 좋고 키...      당황\n",
       "6640                        친구들 모두 결혼하고 나만 혼자 남아서 쓸쓸하네.      당황\n",
       "\n",
       "[58240 rows x 2 columns]"
      ]
     },
     "execution_count": 53,
     "metadata": {},
     "output_type": "execute_result"
    }
   ],
   "source": [
    "import pandas as pd\n",
    "\n",
    "# 다시 불러와서\n",
    "train1  = pd.read_csv(\"data/감성대화말뭉치(병합).csv\", index_col=0) #첫 번째 열이 인덱스 열일 때 Unnamed: 0 빼기\n",
    "train1\n",
    "# train1.sample(n=5)"
   ]
  },
  {
   "attachments": {},
   "cell_type": "markdown",
   "metadata": {},
   "source": [
    "### **감정 별 문장 분포**"
   ]
  },
  {
   "cell_type": "code",
   "execution_count": 54,
   "metadata": {},
   "outputs": [
    {
     "data": {
      "text/plain": [
       "emotion\n",
       "기쁨     7337\n",
       "당황     9797\n",
       "분노    10414\n",
       "불안    10429\n",
       "상처    10142\n",
       "슬픔    10121\n",
       "Name: sentence, dtype: int64"
      ]
     },
     "execution_count": 54,
     "metadata": {},
     "output_type": "execute_result"
    }
   ],
   "source": [
    "# 감정 분포 확인\n",
    "train1.groupby('emotion').count().iloc[:,0]"
   ]
  },
  {
   "cell_type": "code",
   "execution_count": 3,
   "metadata": {},
   "outputs": [
    {
     "name": "stdout",
     "output_type": "stream",
     "text": [
      "['STIXNonUnicode', 'DejaVu Sans', 'cmtt10', 'DejaVu Serif Display', 'DejaVu Sans Mono', 'cmmi10', 'DejaVu Serif', 'STIXSizeThreeSym', 'STIXNonUnicode', 'STIXSizeThreeSym', 'STIXGeneral', 'STIXSizeFiveSym', 'STIXSizeTwoSym', 'STIXGeneral', 'DejaVu Sans', 'cmr10', 'STIXSizeFourSym', 'STIXNonUnicode', 'STIXSizeTwoSym', 'cmex10', 'STIXGeneral', 'DejaVu Serif', 'cmb10', 'DejaVu Serif', 'STIXSizeFourSym', 'cmsy10', 'DejaVu Sans Display', 'STIXSizeOneSym', 'DejaVu Serif', 'STIXSizeOneSym', 'DejaVu Sans Mono', 'DejaVu Sans Mono', 'DejaVu Sans', 'STIXNonUnicode', 'DejaVu Sans', 'DejaVu Sans Mono', 'STIXGeneral', 'cmss10', 'Franklin Gothic Medium Cond', 'MoeumT R', 'Agency FB', 'HYMyeongJo-Extra', 'Georgia', 'Parchment', 'NanumSquare_ac', 'Monotype Corsiva', 'Rockwell', 'Microsoft PhagsPa', 'Century Schoolbook', 'Arial Rounded MT Bold', 'Palace Script MT', 'Elephant', 'HCR Batang ExtB', 'Garamond', 'Microsoft YaHei', 'Bodoni MT', 'Century Schoolbook', 'Nirmala UI', 'Constantia', 'Verdana', 'Wingdings 3', 'NanumSquare_ac', 'Calisto MT', 'Book Antiqua', 'HancomEQN', 'Symbol', 'NanumSquare_ac', 'Franklin Gothic Book', 'Papyrus', 'Yu Gothic', 'Leelawadee UI', 'Lucida Sans Typewriter', 'Segoe UI Symbol', 'Sitka Small', 'Georgia', 'Malgun Gothic', 'Leelawadee UI', 'Microsoft Yi Baiti', 'NewJumja', 'MingLiU-ExtB', 'Segoe UI', 'Script MT Bold', 'HYGraphic-Medium', 'Lucida Sans', 'Lucida Fax', 'Candara', 'Bernard MT Condensed', 'Yu Gothic', 'Goudy Old Style', 'Britannic Bold', 'Garamond', 'Goudy Old Style', 'Freestyle Script', 'Tw Cen MT Condensed Extra Bold', 'Tw Cen MT', 'Cambria', 'Playbill', 'Batang', 'Perpetua', 'Tw Cen MT', 'Lucida Handwriting', 'HyhwpEQ', 'Malgun Gothic', 'Lucida Console', 'HYPMokGak-Bold', 'Copperplate Gothic Bold', 'Consolas', 'Bodoni MT', 'Gloucester MT Extra Condensed', 'Perpetua', 'Microsoft PhagsPa', 'NanumSquare', 'OCR A Extended', 'Segoe UI Emoji', 'Candara', 'Maiandra GD', 'Curlz MT', 'Bahnschrift', 'Mistral', 'Dubai', 'Ebrima', 'Franklin Gothic Medium', 'Showcard Gothic', 'Jokerman', 'Headline R', 'Magneto', 'HCR Batang', 'Lucida Bright', 'Baskerville Old Face', 'Gulim', 'Segoe UI', 'Viner Hand ITC', 'Palatino Linotype', 'Arial', 'Gill Sans MT Ext Condensed Bold', 'Haan Wing2', 'SimSun-ExtB', 'Perpetua', 'Pyunji R', 'Century Gothic', 'Sylfaen', 'Eras Medium ITC', 'Nirmala UI', 'Leelawadee UI', 'Centaur', 'Franklin Gothic Medium', 'Bodoni MT', 'Calibri', 'Lucida Sans Unicode', 'Dubai', 'Segoe UI Historic', 'Lucida Bright', 'Arial', 'HYHeadLine-Medium', 'Gill Sans MT', 'Niagara Engraved', 'Berlin Sans FB', 'Tempus Sans ITC', 'Century Gothic', 'Kunstler Script', 'Century Schoolbook', 'NanumSquare_ac', 'Rockwell Condensed', 'Harrington', 'Broadway', 'Goudy Old Style', 'Arial', 'Calibri', 'Rockwell Extra Bold', 'Yet R', 'Ravie', 'Ebrima', 'Segoe UI', 'Gabriola', 'Ami R', 'Informal Roman', 'Lucida Sans', 'Nirmala UI', 'Arial', 'Niagara Solid', 'Californian FB', 'HYPost-Medium', 'Verdana', 'Berlin Sans FB Demi', 'Microsoft New Tai Lue', 'Calibri', 'Segoe UI', 'HYSinMyeongJo-Medium', 'MS Reference Sans Serif', 'Arial', 'Goudy Stout', 'Microsoft New Tai Lue', 'Bookman Old Style', 'Corbel', 'Georgia', 'Segoe UI', 'Unispace', 'Segoe UI', 'Franklin Gothic Demi', 'Verdana', 'Gill Sans MT', 'Segoe UI', 'Bookshelf Symbol 7', 'HYShortSamul-Medium', 'Agency FB', 'Lucida Bright', 'Times New Roman', 'Segoe UI', 'Segoe UI', 'Eras Demi ITC', 'Hancom Gothic', 'Elephant', 'Hancom Gothic', 'Verdana', 'Matura MT Script Capitals', 'Bell MT', 'Constantia', 'Lucida Bright', 'HYGothic-Medium', 'Courier New', 'Times New Roman', 'Gadugi', 'Vladimir Script', 'Century Gothic', 'Bodoni MT', 'Segoe Script', 'Microsoft Tai Le', 'Imprint MT Shadow', 'NanumSquare', 'Tahoma', 'NanumSquare', 'MS Reference Specialty', 'Candara', 'Corbel', 'Courier New', 'Bookman Old Style', 'HCR Batang', 'Calibri', 'Calisto MT', 'Bodoni MT', 'Javanese Text', 'Microsoft JhengHei', 'High Tower Text', 'Trebuchet MS', 'Bookman Old Style', 'Haettenschweiler', 'Palatino Linotype', 'Ink Free', 'Microsoft Sans Serif', 'HCR Dotum', 'Webdings', 'Juice ITC', 'Book Antiqua', 'Franklin Gothic Demi Cond', 'Garamond', 'HoloLens MDL2 Assets', 'Segoe Script', 'HYPost-Light', 'Microsoft JhengHei', 'Myanmar Text', 'Segoe MDL2 Assets', 'Segoe UI', 'Bodoni MT', 'Arial', 'MT Extra', 'Chiller', 'Century', 'Lucida Sans Typewriter', 'Castellar', 'Yu Gothic', 'Segoe Print', 'HYGungSo-Bold', 'Tw Cen MT Condensed', 'Berlin Sans FB', 'Pristina', 'Wide Latin', 'Algerian', 'Forte', 'Bell MT', 'Bodoni MT', 'HCR Dotum', 'Calibri', 'Comic Sans MS', 'Bodoni MT', 'Microsoft Himalaya', 'High Tower Text', 'Franklin Gothic Book', 'Times New Roman', 'Rockwell Condensed', 'MS Outlook', 'Microsoft YaHei', 'Copperplate Gothic Light', 'Mongolian Baiti', 'Sitka Small', 'Bookman Old Style', 'Yu Gothic', 'Lucida Calligraphy', 'Microsoft YaHei', 'Rage Italic', 'Cooper Black', 'Franklin Gothic Demi', 'Gill Sans MT', 'Candara', 'Sitka Small', 'Calibri', 'Calisto MT', 'Californian FB', 'Gadugi', 'Microsoft Tai Le', 'Cambria', 'Engravers MT', 'Myanmar Text', 'Constantia', 'Franklin Gothic Heavy', 'Comic Sans MS', 'Lucida Sans Typewriter', 'Courier New', 'Corbel', 'Perpetua', 'Rockwell', 'Consolas', 'Kristen ITC', 'Tw Cen MT Condensed', 'Lucida Sans', 'Corbel', 'Tahoma', 'Palatino Linotype', 'Gill Sans MT', 'Californian FB', 'Segoe UI', 'SimSun', 'Perpetua Titling MT', 'Courier New', 'Comic Sans MS', 'Gill Sans MT Condensed', 'Eras Light ITC', 'Tw Cen MT', 'Franklin Gothic Heavy', 'HCR Dotum Ext', 'Magic R', 'Book Antiqua', 'Comic Sans MS', 'Century Gothic', 'Bradley Hand ITC', 'Calisto MT', 'Blackadder ITC', 'Dubai', 'Rockwell', 'Impact', 'Arial', 'Vivaldi', 'NanumSquare', 'Wingdings 2', 'Lucida Sans', 'Felix Titling', 'Microsoft JhengHei', 'Stencil', 'Lucida Fax', 'Dubai', 'HYGothic-Extra', 'Candara', 'Bodoni MT', 'Segoe Print', 'Footlight MT Light', 'Cambria', 'Arial', 'Corbel', 'Snap ITC', 'Consolas', 'Modern No. 20', 'Harlow Solid Italic', 'Onyx', 'Trebuchet MS', 'Bell MT', 'Edwardian Script ITC', 'Bauhaus 93', 'Arial', 'Corbel', 'Lucida Fax', 'Georgia', 'Gill Sans Ultra Bold', 'Times New Roman', 'Lucida Fax', 'Eras Bold ITC', 'Lucida Sans Typewriter', 'Trebuchet MS', 'Perpetua Titling MT', 'Gigi', 'Rockwell', 'Trebuchet MS', 'Tw Cen MT', 'Century Schoolbook', 'Colonna MT', 'New Gulim', 'Palatino Linotype', 'Sitka Small', 'French Script MT', 'Bodoni MT', 'Book Antiqua', 'Brush Script MT', 'Wingdings', 'HCR Batang ExtB', 'Old English Text MT', 'HCR Batang Ext', 'MS Gothic', 'Gill Sans Ultra Bold Condensed', 'Candara', 'Cambria', 'Malgun Gothic', 'Bodoni MT', 'Poor Richard', 'Constantia', 'MV Boli', 'Segoe UI', 'Consolas']\n"
     ]
    }
   ],
   "source": [
    "import matplotlib.pyplot as plt\n",
    "\n",
    "# 가능한 font 확인\n",
    "import matplotlib.font_manager as fm\n",
    "f = [f.name for f in fm.fontManager.ttflist]\n",
    "print(f)\n",
    "\n",
    "# # 확인 이후\n",
    "# plt.font_manager._rebuild() //이제 안쓴다"
   ]
  },
  {
   "cell_type": "code",
   "execution_count": 12,
   "metadata": {},
   "outputs": [],
   "source": [
    "from matplotlib import font_manager, rc\n",
    "font_path = r\"C:\\Users\\inoo3\\AppData\\Local\\Microsoft\\Windows\\Fonts\\NanumSquare.ttf\" # 사용할 폰트명 경로 삽입 (역슬래시 대신 슬래시)\n",
    "font_prop = fm.FontProperties(fname=font_path)\n",
    "plt.rcParams['font.family'] = font_prop.get_name()"
   ]
  },
  {
   "cell_type": "code",
   "execution_count": 13,
   "metadata": {},
   "outputs": [
    {
     "name": "stderr",
     "output_type": "stream",
     "text": [
      "c:\\Users\\inoo3\\anaconda3\\lib\\site-packages\\IPython\\core\\pylabtools.py:152: UserWarning: Glyph 48516 (\\N{HANGUL SYLLABLE BUN}) missing from current font.\n",
      "  fig.canvas.print_figure(bytes_io, **kw)\n",
      "c:\\Users\\inoo3\\anaconda3\\lib\\site-packages\\IPython\\core\\pylabtools.py:152: UserWarning: Glyph 45432 (\\N{HANGUL SYLLABLE NO}) missing from current font.\n",
      "  fig.canvas.print_figure(bytes_io, **kw)\n",
      "c:\\Users\\inoo3\\anaconda3\\lib\\site-packages\\IPython\\core\\pylabtools.py:152: UserWarning: Glyph 44592 (\\N{HANGUL SYLLABLE GI}) missing from current font.\n",
      "  fig.canvas.print_figure(bytes_io, **kw)\n",
      "c:\\Users\\inoo3\\anaconda3\\lib\\site-packages\\IPython\\core\\pylabtools.py:152: UserWarning: Glyph 49256 (\\N{HANGUL SYLLABLE BBEUM}) missing from current font.\n",
      "  fig.canvas.print_figure(bytes_io, **kw)\n",
      "c:\\Users\\inoo3\\anaconda3\\lib\\site-packages\\IPython\\core\\pylabtools.py:152: UserWarning: Glyph 48520 (\\N{HANGUL SYLLABLE BUL}) missing from current font.\n",
      "  fig.canvas.print_figure(bytes_io, **kw)\n",
      "c:\\Users\\inoo3\\anaconda3\\lib\\site-packages\\IPython\\core\\pylabtools.py:152: UserWarning: Glyph 50504 (\\N{HANGUL SYLLABLE AN}) missing from current font.\n",
      "  fig.canvas.print_figure(bytes_io, **kw)\n",
      "c:\\Users\\inoo3\\anaconda3\\lib\\site-packages\\IPython\\core\\pylabtools.py:152: UserWarning: Glyph 45817 (\\N{HANGUL SYLLABLE DANG}) missing from current font.\n",
      "  fig.canvas.print_figure(bytes_io, **kw)\n",
      "c:\\Users\\inoo3\\anaconda3\\lib\\site-packages\\IPython\\core\\pylabtools.py:152: UserWarning: Glyph 54889 (\\N{HANGUL SYLLABLE HWANG}) missing from current font.\n",
      "  fig.canvas.print_figure(bytes_io, **kw)\n",
      "c:\\Users\\inoo3\\anaconda3\\lib\\site-packages\\IPython\\core\\pylabtools.py:152: UserWarning: Glyph 49836 (\\N{HANGUL SYLLABLE SEUL}) missing from current font.\n",
      "  fig.canvas.print_figure(bytes_io, **kw)\n",
      "c:\\Users\\inoo3\\anaconda3\\lib\\site-packages\\IPython\\core\\pylabtools.py:152: UserWarning: Glyph 54548 (\\N{HANGUL SYLLABLE PEUM}) missing from current font.\n",
      "  fig.canvas.print_figure(bytes_io, **kw)\n",
      "c:\\Users\\inoo3\\anaconda3\\lib\\site-packages\\IPython\\core\\pylabtools.py:152: UserWarning: Glyph 49345 (\\N{HANGUL SYLLABLE SANG}) missing from current font.\n",
      "  fig.canvas.print_figure(bytes_io, **kw)\n",
      "c:\\Users\\inoo3\\anaconda3\\lib\\site-packages\\IPython\\core\\pylabtools.py:152: UserWarning: Glyph 52376 (\\N{HANGUL SYLLABLE CEO}) missing from current font.\n",
      "  fig.canvas.print_figure(bytes_io, **kw)\n",
      "c:\\Users\\inoo3\\anaconda3\\lib\\site-packages\\IPython\\core\\pylabtools.py:152: UserWarning: Glyph 44048 (\\N{HANGUL SYLLABLE GAM}) missing from current font.\n",
      "  fig.canvas.print_figure(bytes_io, **kw)\n",
      "c:\\Users\\inoo3\\anaconda3\\lib\\site-packages\\IPython\\core\\pylabtools.py:152: UserWarning: Glyph 51221 (\\N{HANGUL SYLLABLE JEONG}) missing from current font.\n",
      "  fig.canvas.print_figure(bytes_io, **kw)\n",
      "c:\\Users\\inoo3\\anaconda3\\lib\\site-packages\\IPython\\core\\pylabtools.py:152: UserWarning: Glyph 54252 (\\N{HANGUL SYLLABLE PO}) missing from current font.\n",
      "  fig.canvas.print_figure(bytes_io, **kw)\n"
     ]
    },
    {
     "data": {
      "image/png": "[encoded data removed]",
      "text/plain": [
       "<Figure size 2500x1000 with 1 Axes>"
      ]
     },
     "metadata": {},
     "output_type": "display_data"
    }
   ],
   "source": [
    "# countplot으로 시각화\n",
    "import matplotlib.pyplot as plt\n",
    "import seaborn as sns\n",
    "\n",
    "#plt.rc('font', family='NanumSquare_ac')\n",
    "plt.rcParams['figure.figsize'] = [25,10]\n",
    "sns.set_style(\"dark\")\n",
    "sns.countplot(x='emotion',data=train1)\n",
    "plt.title('감정 분포', fontsize=30)\n",
    "plt.xlabel('emotion', fontsize=15)\n",
    "plt.ylabel('count', fontsize=15)\n",
    "plt.show()\n",
    "\n",
    "# 정규화 필요한가?"
   ]
  },
  {
   "attachments": {},
   "cell_type": "markdown",
   "metadata": {},
   "source": [
    "# 2. 한국어 단발성 대화 데이터셋"
   ]
  },
  {
   "cell_type": "code",
   "execution_count": 55,
   "metadata": {},
   "outputs": [
    {
     "data": {
      "text/html": [
       "<div>\n",
       "<style scoped>\n",
       "    .dataframe tbody tr th:only-of-type {\n",
       "        vertical-align: middle;\n",
       "    }\n",
       "\n",
       "    .dataframe tbody tr th {\n",
       "        vertical-align: top;\n",
       "    }\n",
       "\n",
       "    .dataframe thead th {\n",
       "        text-align: right;\n",
       "    }\n",
       "</style>\n",
       "<table border=\"1\" class=\"dataframe\">\n",
       "  <thead>\n",
       "    <tr style=\"text-align: right;\">\n",
       "      <th></th>\n",
       "      <th>Sentence</th>\n",
       "      <th>Emotion</th>\n",
       "      <th>Unnamed: 2</th>\n",
       "      <th>Unnamed: 3</th>\n",
       "      <th>Unnamed: 4</th>\n",
       "      <th>공포</th>\n",
       "      <th>5468</th>\n",
       "    </tr>\n",
       "  </thead>\n",
       "  <tbody>\n",
       "    <tr>\n",
       "      <th>28860</th>\n",
       "      <td>도니오빠도 하는 일들 모두 실타래 처럼 잘 풀렸음해요^^</td>\n",
       "      <td>행복</td>\n",
       "      <td>NaN</td>\n",
       "      <td>NaN</td>\n",
       "      <td>NaN</td>\n",
       "      <td>NaN</td>\n",
       "      <td>NaN</td>\n",
       "    </tr>\n",
       "    <tr>\n",
       "      <th>14587</th>\n",
       "      <td>책임있는 쌔뀌들아.</td>\n",
       "      <td>분노</td>\n",
       "      <td>NaN</td>\n",
       "      <td>NaN</td>\n",
       "      <td>NaN</td>\n",
       "      <td>NaN</td>\n",
       "      <td>NaN</td>\n",
       "    </tr>\n",
       "    <tr>\n",
       "      <th>9574</th>\n",
       "      <td>경호대는 놀았나? 왜 기록이 없지?</td>\n",
       "      <td>놀람</td>\n",
       "      <td>NaN</td>\n",
       "      <td>NaN</td>\n",
       "      <td>NaN</td>\n",
       "      <td>NaN</td>\n",
       "      <td>NaN</td>\n",
       "    </tr>\n",
       "    <tr>\n",
       "      <th>1487</th>\n",
       "      <td>살인행위네~~~~~</td>\n",
       "      <td>공포</td>\n",
       "      <td>NaN</td>\n",
       "      <td>NaN</td>\n",
       "      <td>NaN</td>\n",
       "      <td>NaN</td>\n",
       "      <td>NaN</td>\n",
       "    </tr>\n",
       "    <tr>\n",
       "      <th>31200</th>\n",
       "      <td>감사혀유!!  ^^</td>\n",
       "      <td>행복</td>\n",
       "      <td>NaN</td>\n",
       "      <td>NaN</td>\n",
       "      <td>NaN</td>\n",
       "      <td>NaN</td>\n",
       "      <td>NaN</td>\n",
       "    </tr>\n",
       "  </tbody>\n",
       "</table>\n",
       "</div>"
      ],
      "text/plain": [
       "                              Sentence Emotion  Unnamed: 2  Unnamed: 3   \n",
       "28860  도니오빠도 하는 일들 모두 실타래 처럼 잘 풀렸음해요^^      행복         NaN         NaN  \\\n",
       "14587                       책임있는 쌔뀌들아.      분노         NaN         NaN   \n",
       "9574               경호대는 놀았나? 왜 기록이 없지?      놀람         NaN         NaN   \n",
       "1487                        살인행위네~~~~~      공포         NaN         NaN   \n",
       "31200                       감사혀유!!  ^^      행복         NaN         NaN   \n",
       "\n",
       "       Unnamed: 4   공포  5468  \n",
       "28860         NaN  NaN   NaN  \n",
       "14587         NaN  NaN   NaN  \n",
       "9574          NaN  NaN   NaN  \n",
       "1487          NaN  NaN   NaN  \n",
       "31200         NaN  NaN   NaN  "
      ]
     },
     "execution_count": 55,
     "metadata": {},
     "output_type": "execute_result"
    }
   ],
   "source": [
    "import pandas as pd\n",
    "file2_train = 'data/한국어_단발성_대화_데이터셋.csv'\n",
    "\n",
    "train2 = pd.read_csv(file2_train)\n",
    "train2.sample(n=5)"
   ]
  },
  {
   "cell_type": "code",
   "execution_count": 56,
   "metadata": {},
   "outputs": [
    {
     "data": {
      "text/html": [
       "<div>\n",
       "<style scoped>\n",
       "    .dataframe tbody tr th:only-of-type {\n",
       "        vertical-align: middle;\n",
       "    }\n",
       "\n",
       "    .dataframe tbody tr th {\n",
       "        vertical-align: top;\n",
       "    }\n",
       "\n",
       "    .dataframe thead th {\n",
       "        text-align: right;\n",
       "    }\n",
       "</style>\n",
       "<table border=\"1\" class=\"dataframe\">\n",
       "  <thead>\n",
       "    <tr style=\"text-align: right;\">\n",
       "      <th></th>\n",
       "      <th>sentence</th>\n",
       "      <th>emotion</th>\n",
       "    </tr>\n",
       "  </thead>\n",
       "  <tbody>\n",
       "    <tr>\n",
       "      <th>29956</th>\n",
       "      <td>어제 홈런은 정말 멋졌는데..</td>\n",
       "      <td>행복</td>\n",
       "    </tr>\n",
       "    <tr>\n",
       "      <th>3344</th>\n",
       "      <td>전 좋으면 괜찮을거라 생각들어서 과감히 사긴했는데 사고나니 걱정이 들긴해요</td>\n",
       "      <td>공포</td>\n",
       "    </tr>\n",
       "    <tr>\n",
       "      <th>31905</th>\n",
       "      <td>구위가 정말 좋았다.</td>\n",
       "      <td>행복</td>\n",
       "    </tr>\n",
       "    <tr>\n",
       "      <th>17015</th>\n",
       "      <td>중국은 그에비하면 양반격이지.</td>\n",
       "      <td>분노</td>\n",
       "    </tr>\n",
       "    <tr>\n",
       "      <th>6925</th>\n",
       "      <td>나는 이때까지 화가들이 자기혼자 다 그리는줄 알았네</td>\n",
       "      <td>놀람</td>\n",
       "    </tr>\n",
       "  </tbody>\n",
       "</table>\n",
       "</div>"
      ],
      "text/plain": [
       "                                         sentence emotion\n",
       "29956                            어제 홈런은 정말 멋졌는데..      행복\n",
       "3344    전 좋으면 괜찮을거라 생각들어서 과감히 사긴했는데 사고나니 걱정이 들긴해요      공포\n",
       "31905                                 구위가 정말 좋았다.      행복\n",
       "17015                            중국은 그에비하면 양반격이지.      분노\n",
       "6925                 나는 이때까지 화가들이 자기혼자 다 그리는줄 알았네      놀람"
      ]
     },
     "execution_count": 56,
     "metadata": {},
     "output_type": "execute_result"
    }
   ],
   "source": [
    "#필요한 칼럼만 추출\n",
    "train2 = train2[['Sentence','Emotion']]\n",
    "\n",
    "#칼럼이름 변경\n",
    "train2.columns = ['sentence', 'emotion']\n",
    "train2.sample(n=5)"
   ]
  },
  {
   "attachments": {},
   "cell_type": "markdown",
   "metadata": {},
   "source": [
    "결측치 확인"
   ]
  },
  {
   "cell_type": "code",
   "execution_count": 57,
   "metadata": {},
   "outputs": [
    {
     "name": "stdout",
     "output_type": "stream",
     "text": [
      "<class 'pandas.core.frame.DataFrame'>\n",
      "RangeIndex: 38594 entries, 0 to 38593\n",
      "Data columns (total 2 columns):\n",
      " #   Column    Non-Null Count  Dtype \n",
      "---  ------    --------------  ----- \n",
      " 0   sentence  38594 non-null  object\n",
      " 1   emotion   38594 non-null  object\n",
      "dtypes: object(2)\n",
      "memory usage: 603.2+ KB\n",
      "None\n",
      "\n",
      "sentence    0\n",
      "emotion     0\n",
      "dtype: int64\n"
     ]
    }
   ],
   "source": [
    "print(train2.info(), end = '\\n\\n')\n",
    "print(train2.isnull().sum())"
   ]
  },
  {
   "attachments": {},
   "cell_type": "markdown",
   "metadata": {},
   "source": [
    "중복행 확인, 제거"
   ]
  },
  {
   "cell_type": "code",
   "execution_count": 58,
   "metadata": {},
   "outputs": [
    {
     "name": "stdout",
     "output_type": "stream",
     "text": [
      "중복되는 행:  85\n"
     ]
    },
    {
     "data": {
      "text/plain": [
       "38509"
      ]
     },
     "execution_count": 58,
     "metadata": {},
     "output_type": "execute_result"
    }
   ],
   "source": [
    "dup = train2[train2.duplicated(subset=['sentence'])]\n",
    "print(\"중복되는 행: \", len(dup))\n",
    "\n",
    "train2 = train2.drop_duplicates(subset=['sentence'], keep='first')\n",
    "len(train2)"
   ]
  },
  {
   "cell_type": "code",
   "execution_count": 59,
   "metadata": {},
   "outputs": [
    {
     "data": {
      "text/plain": [
       "emotion\n",
       "공포    5461\n",
       "놀람    5886\n",
       "분노    5662\n",
       "슬픔    5244\n",
       "중립    4827\n",
       "행복    6003\n",
       "혐오    5426\n",
       "Name: sentence, dtype: int64"
      ]
     },
     "execution_count": 59,
     "metadata": {},
     "output_type": "execute_result"
    }
   ],
   "source": [
    "# 감정 분포 확인\n",
    "train2.groupby('emotion').count().iloc[:,0]"
   ]
  },
  {
   "cell_type": "code",
   "execution_count": 60,
   "metadata": {},
   "outputs": [],
   "source": [
    "train2.to_csv(\"data/단발성대화.csv\")"
   ]
  },
  {
   "attachments": {},
   "cell_type": "markdown",
   "metadata": {},
   "source": [
    "# 3. 한국어 연속적 대화 데이터셋"
   ]
  },
  {
   "cell_type": "code",
   "execution_count": 61,
   "metadata": {},
   "outputs": [
    {
     "data": {
      "text/html": [
       "<div>\n",
       "<style scoped>\n",
       "    .dataframe tbody tr th:only-of-type {\n",
       "        vertical-align: middle;\n",
       "    }\n",
       "\n",
       "    .dataframe tbody tr th {\n",
       "        vertical-align: top;\n",
       "    }\n",
       "\n",
       "    .dataframe thead th {\n",
       "        text-align: right;\n",
       "    }\n",
       "</style>\n",
       "<table border=\"1\" class=\"dataframe\">\n",
       "  <thead>\n",
       "    <tr style=\"text-align: right;\">\n",
       "      <th></th>\n",
       "      <th>Unnamed: 0</th>\n",
       "      <th>Unnamed: 1</th>\n",
       "      <th>Unnamed: 2</th>\n",
       "      <th>Unnamed: 3</th>\n",
       "      <th>Unnamed: 4</th>\n",
       "      <th>행복</th>\n",
       "      <th>중립</th>\n",
       "      <th>슬픔</th>\n",
       "      <th>공포</th>\n",
       "      <th>혐오</th>\n",
       "      <th>분노</th>\n",
       "      <th>놀람</th>\n",
       "    </tr>\n",
       "  </thead>\n",
       "  <tbody>\n",
       "    <tr>\n",
       "      <th>23837</th>\n",
       "      <td>NaN</td>\n",
       "      <td>뭐?</td>\n",
       "      <td>놀람</td>\n",
       "      <td>NaN</td>\n",
       "      <td>NaN</td>\n",
       "      <td>NaN</td>\n",
       "      <td>NaN</td>\n",
       "      <td>NaN</td>\n",
       "      <td>NaN</td>\n",
       "      <td>NaN</td>\n",
       "      <td>NaN</td>\n",
       "      <td>NaN</td>\n",
       "    </tr>\n",
       "    <tr>\n",
       "      <th>26009</th>\n",
       "      <td>NaN</td>\n",
       "      <td>없어. 끊어.</td>\n",
       "      <td>중립</td>\n",
       "      <td>NaN</td>\n",
       "      <td>NaN</td>\n",
       "      <td>NaN</td>\n",
       "      <td>NaN</td>\n",
       "      <td>NaN</td>\n",
       "      <td>NaN</td>\n",
       "      <td>NaN</td>\n",
       "      <td>NaN</td>\n",
       "      <td>NaN</td>\n",
       "    </tr>\n",
       "    <tr>\n",
       "      <th>16977</th>\n",
       "      <td>NaN</td>\n",
       "      <td>나 걔네들한테 형 이름도 말해버렸는데...</td>\n",
       "      <td>중립</td>\n",
       "      <td>NaN</td>\n",
       "      <td>NaN</td>\n",
       "      <td>NaN</td>\n",
       "      <td>NaN</td>\n",
       "      <td>NaN</td>\n",
       "      <td>NaN</td>\n",
       "      <td>NaN</td>\n",
       "      <td>NaN</td>\n",
       "      <td>NaN</td>\n",
       "    </tr>\n",
       "    <tr>\n",
       "      <th>46026</th>\n",
       "      <td>NaN</td>\n",
       "      <td>잘될거에요. 보란 듯이 팀에 들어가서 아버지 자랑스런 아들 되드릴거에요.</td>\n",
       "      <td>중립</td>\n",
       "      <td>NaN</td>\n",
       "      <td>NaN</td>\n",
       "      <td>NaN</td>\n",
       "      <td>NaN</td>\n",
       "      <td>NaN</td>\n",
       "      <td>NaN</td>\n",
       "      <td>NaN</td>\n",
       "      <td>NaN</td>\n",
       "      <td>NaN</td>\n",
       "    </tr>\n",
       "    <tr>\n",
       "      <th>21571</th>\n",
       "      <td>NaN</td>\n",
       "      <td>당장은 편할지 모르지만 반환점에서 표식을 받은 이후로는 후발대가 훨씬 불리해. 지켜...</td>\n",
       "      <td>중립</td>\n",
       "      <td>NaN</td>\n",
       "      <td>NaN</td>\n",
       "      <td>NaN</td>\n",
       "      <td>NaN</td>\n",
       "      <td>NaN</td>\n",
       "      <td>NaN</td>\n",
       "      <td>NaN</td>\n",
       "      <td>NaN</td>\n",
       "      <td>NaN</td>\n",
       "    </tr>\n",
       "  </tbody>\n",
       "</table>\n",
       "</div>"
      ],
      "text/plain": [
       "      Unnamed: 0                                         Unnamed: 1   \n",
       "23837        NaN                                                 뭐?  \\\n",
       "26009        NaN                                            없어. 끊어.   \n",
       "16977        NaN                            나 걔네들한테 형 이름도 말해버렸는데...   \n",
       "46026        NaN          잘될거에요. 보란 듯이 팀에 들어가서 아버지 자랑스런 아들 되드릴거에요.    \n",
       "21571        NaN  당장은 편할지 모르지만 반환점에서 표식을 받은 이후로는 후발대가 훨씬 불리해. 지켜...   \n",
       "\n",
       "      Unnamed: 2  Unnamed: 3  Unnamed: 4  행복  중립  슬픔  공포  혐오  분노  놀람  \n",
       "23837         놀람         NaN         NaN NaN NaN NaN NaN NaN NaN NaN  \n",
       "26009         중립         NaN         NaN NaN NaN NaN NaN NaN NaN NaN  \n",
       "16977         중립         NaN         NaN NaN NaN NaN NaN NaN NaN NaN  \n",
       "46026         중립         NaN         NaN NaN NaN NaN NaN NaN NaN NaN  \n",
       "21571         중립         NaN         NaN NaN NaN NaN NaN NaN NaN NaN  "
      ]
     },
     "execution_count": 61,
     "metadata": {},
     "output_type": "execute_result"
    }
   ],
   "source": [
    "import pandas as pd\n",
    "file3_train = 'data\\한국어_연속적_대화_데이터셋.csv'    #슬라시 방향 상관 없다?\n",
    "\n",
    "train3 = pd.read_csv(file3_train)\n",
    "train3.sample(n=5)"
   ]
  },
  {
   "cell_type": "code",
   "execution_count": 62,
   "metadata": {},
   "outputs": [
    {
     "data": {
      "text/html": [
       "<div>\n",
       "<style scoped>\n",
       "    .dataframe tbody tr th:only-of-type {\n",
       "        vertical-align: middle;\n",
       "    }\n",
       "\n",
       "    .dataframe tbody tr th {\n",
       "        vertical-align: top;\n",
       "    }\n",
       "\n",
       "    .dataframe thead th {\n",
       "        text-align: right;\n",
       "    }\n",
       "</style>\n",
       "<table border=\"1\" class=\"dataframe\">\n",
       "  <thead>\n",
       "    <tr style=\"text-align: right;\">\n",
       "      <th></th>\n",
       "      <th>sentence</th>\n",
       "      <th>emotion</th>\n",
       "    </tr>\n",
       "  </thead>\n",
       "  <tbody>\n",
       "    <tr>\n",
       "      <th>17590</th>\n",
       "      <td>쟤 그럼 너한테 배운 거니?</td>\n",
       "      <td>놀람</td>\n",
       "    </tr>\n",
       "    <tr>\n",
       "      <th>38232</th>\n",
       "      <td>예?</td>\n",
       "      <td>놀람</td>\n",
       "    </tr>\n",
       "    <tr>\n",
       "      <th>53496</th>\n",
       "      <td>……여어.</td>\n",
       "      <td>중립</td>\n",
       "    </tr>\n",
       "    <tr>\n",
       "      <th>731</th>\n",
       "      <td>이제...저 물고기까지 봐야 합니까?</td>\n",
       "      <td>혐오</td>\n",
       "    </tr>\n",
       "    <tr>\n",
       "      <th>9428</th>\n",
       "      <td>그럼 신발 한짝 벗어놓고 가.</td>\n",
       "      <td>중립</td>\n",
       "    </tr>\n",
       "  </tbody>\n",
       "</table>\n",
       "</div>"
      ],
      "text/plain": [
       "                   sentence emotion\n",
       "17590       쟤 그럼 너한테 배운 거니?      놀람\n",
       "38232                    예?      놀람\n",
       "53496                 ……여어.      중립\n",
       "731    이제...저 물고기까지 봐야 합니까?      혐오\n",
       "9428       그럼 신발 한짝 벗어놓고 가.      중립"
      ]
     },
     "execution_count": 62,
     "metadata": {},
     "output_type": "execute_result"
    }
   ],
   "source": [
    "#필요한 칼럼만 추출\n",
    "train3 = train3[['Unnamed: 1','Unnamed: 2']]\n",
    "\n",
    "#칼럼이름 변경\n",
    "train3.columns = ['sentence', 'emotion']\n",
    "train3.sample(n=5)"
   ]
  },
  {
   "cell_type": "code",
   "execution_count": 63,
   "metadata": {},
   "outputs": [
    {
     "name": "stdout",
     "output_type": "stream",
     "text": [
      "<class 'pandas.core.frame.DataFrame'>\n",
      "RangeIndex: 55629 entries, 0 to 55628\n",
      "Data columns (total 2 columns):\n",
      " #   Column    Non-Null Count  Dtype \n",
      "---  ------    --------------  ----- \n",
      " 0   sentence  55628 non-null  object\n",
      " 1   emotion   55622 non-null  object\n",
      "dtypes: object(2)\n",
      "memory usage: 869.3+ KB\n",
      "None\n",
      "\n",
      "sentence    1\n",
      "emotion     7\n",
      "dtype: int64\n"
     ]
    }
   ],
   "source": [
    "print(train3.info(), end = '\\n\\n')\n",
    "print(train3.isnull().sum())"
   ]
  },
  {
   "attachments": {},
   "cell_type": "markdown",
   "metadata": {},
   "source": [
    "__결측치 존재__"
   ]
  },
  {
   "cell_type": "code",
   "execution_count": 64,
   "metadata": {},
   "outputs": [
    {
     "data": {
      "text/html": [
       "<div>\n",
       "<style scoped>\n",
       "    .dataframe tbody tr th:only-of-type {\n",
       "        vertical-align: middle;\n",
       "    }\n",
       "\n",
       "    .dataframe tbody tr th {\n",
       "        vertical-align: top;\n",
       "    }\n",
       "\n",
       "    .dataframe thead th {\n",
       "        text-align: right;\n",
       "    }\n",
       "</style>\n",
       "<table border=\"1\" class=\"dataframe\">\n",
       "  <thead>\n",
       "    <tr style=\"text-align: right;\">\n",
       "      <th></th>\n",
       "      <th>sentence</th>\n",
       "      <th>emotion</th>\n",
       "    </tr>\n",
       "  </thead>\n",
       "  <tbody>\n",
       "    <tr>\n",
       "      <th>3707</th>\n",
       "      <td>저도 저희 반 학생이 도둑질을 했다고 믿고 싶진 않아요. 아마 서로 오해가 있었던 ...</td>\n",
       "      <td>NaN</td>\n",
       "    </tr>\n",
       "    <tr>\n",
       "      <th>30644</th>\n",
       "      <td>다 봤니? 다 못 봤으면 나머지 해줄까?</td>\n",
       "      <td>NaN</td>\n",
       "    </tr>\n",
       "    <tr>\n",
       "      <th>31816</th>\n",
       "      <td>그러니까. 돌 같은 걸 씹어서 이가 부러진 경우가 아니면.실상 보상을 받을 수 없다...</td>\n",
       "      <td>NaN</td>\n",
       "    </tr>\n",
       "    <tr>\n",
       "      <th>46290</th>\n",
       "      <td>NaN</td>\n",
       "      <td>NaN</td>\n",
       "    </tr>\n",
       "    <tr>\n",
       "      <th>47149</th>\n",
       "      <td>뭐가?</td>\n",
       "      <td>NaN</td>\n",
       "    </tr>\n",
       "    <tr>\n",
       "      <th>48754</th>\n",
       "      <td>창업은 실제 해보니까 어땠어요?</td>\n",
       "      <td>NaN</td>\n",
       "    </tr>\n",
       "    <tr>\n",
       "      <th>50535</th>\n",
       "      <td>안에는 들어가 봤나?</td>\n",
       "      <td>NaN</td>\n",
       "    </tr>\n",
       "  </tbody>\n",
       "</table>\n",
       "</div>"
      ],
      "text/plain": [
       "                                                sentence emotion\n",
       "3707   저도 저희 반 학생이 도둑질을 했다고 믿고 싶진 않아요. 아마 서로 오해가 있었던 ...     NaN\n",
       "30644                        다 봤니? 다 못 봤으면 나머지 해줄까?          NaN\n",
       "31816  그러니까. 돌 같은 걸 씹어서 이가 부러진 경우가 아니면.실상 보상을 받을 수 없다...     NaN\n",
       "46290                                                NaN     NaN\n",
       "47149                                                뭐가?     NaN\n",
       "48754                                 창업은 실제 해보니까 어땠어요?      NaN\n",
       "50535                                        안에는 들어가 봤나?     NaN"
      ]
     },
     "execution_count": 64,
     "metadata": {},
     "output_type": "execute_result"
    }
   ],
   "source": [
    "null_df = train3[train3.isnull().any(axis=1)]\n",
    "null_df"
   ]
  },
  {
   "attachments": {},
   "cell_type": "markdown",
   "metadata": {},
   "source": [
    "**결측치 있는 행 삭제**  \n",
    "55629 -> 55622, 7개 모두 지워진거 확인"
   ]
  },
  {
   "cell_type": "code",
   "execution_count": 65,
   "metadata": {},
   "outputs": [
    {
     "data": {
      "text/plain": [
       "(55622, 2)"
      ]
     },
     "execution_count": 65,
     "metadata": {},
     "output_type": "execute_result"
    }
   ],
   "source": [
    "train3 = train3.dropna()\n",
    "train3.shape"
   ]
  },
  {
   "attachments": {},
   "cell_type": "markdown",
   "metadata": {},
   "source": [
    "__중복 행 확인, 제거__"
   ]
  },
  {
   "cell_type": "code",
   "execution_count": 66,
   "metadata": {},
   "outputs": [
    {
     "name": "stdout",
     "output_type": "stream",
     "text": [
      "중복되는 행:  4389\n"
     ]
    },
    {
     "data": {
      "text/plain": [
       "51233"
      ]
     },
     "execution_count": 66,
     "metadata": {},
     "output_type": "execute_result"
    }
   ],
   "source": [
    "dup = train3[train3.duplicated(subset=['sentence'])]\n",
    "print(\"중복되는 행: \", len(dup))\n",
    "\n",
    "train3 = train3.drop_duplicates(subset=['sentence'], keep='first')\n",
    "len(train3)"
   ]
  },
  {
   "cell_type": "code",
   "execution_count": 67,
   "metadata": {},
   "outputs": [
    {
     "data": {
      "text/plain": [
       "emotion\n",
       "ㄴ중립        1\n",
       "ㅈ중립        1\n",
       "ㅍ         12\n",
       "감정         1\n",
       "공포        95\n",
       "놀람      3874\n",
       "분          4\n",
       "분ㄴ         1\n",
       "분노      3536\n",
       "슬픔      1848\n",
       "줄          1\n",
       "중림         1\n",
       "중립     40683\n",
       "행복       983\n",
       "혐오       192\n",
       "Name: sentence, dtype: int64"
      ]
     },
     "execution_count": 67,
     "metadata": {},
     "output_type": "execute_result"
    }
   ],
   "source": [
    "# 감정 분포 확인\n",
    "train3.groupby('emotion').count().iloc[:,0]"
   ]
  },
  {
   "attachments": {},
   "cell_type": "markdown",
   "metadata": {},
   "source": [
    "오타가 다수 존재\n",
    "<br>\n",
    "우선 알아 볼 수 있는건 아래와 같이 치환하고 나머지를 확인  \n",
    "|ㄴ중립, ㅈ중립, 중림|중립|  \n",
    "|-----------|---|  \n",
    "|**분, 분ㄴ**|**분노**|  "
   ]
  },
  {
   "cell_type": "code",
   "execution_count": 68,
   "metadata": {},
   "outputs": [],
   "source": [
    "train3.loc[train3['emotion'].isin(('ㄴ중립','ㅈ중립','중림')), 'emotion'] = '중립'\n",
    "train3.loc[train3['emotion'].isin(('분','분ㄴ')), 'emotion'] = '분노'"
   ]
  },
  {
   "cell_type": "code",
   "execution_count": 69,
   "metadata": {},
   "outputs": [
    {
     "data": {
      "text/html": [
       "<div>\n",
       "<style scoped>\n",
       "    .dataframe tbody tr th:only-of-type {\n",
       "        vertical-align: middle;\n",
       "    }\n",
       "\n",
       "    .dataframe tbody tr th {\n",
       "        vertical-align: top;\n",
       "    }\n",
       "\n",
       "    .dataframe thead th {\n",
       "        text-align: right;\n",
       "    }\n",
       "</style>\n",
       "<table border=\"1\" class=\"dataframe\">\n",
       "  <thead>\n",
       "    <tr style=\"text-align: right;\">\n",
       "      <th></th>\n",
       "      <th>sentence</th>\n",
       "      <th>emotion</th>\n",
       "    </tr>\n",
       "  </thead>\n",
       "  <tbody>\n",
       "    <tr>\n",
       "      <th>0</th>\n",
       "      <td>발화</td>\n",
       "      <td>감정</td>\n",
       "    </tr>\n",
       "    <tr>\n",
       "      <th>25037</th>\n",
       "      <td>인터넷에다 팔아야 되나.. 근데 너 이제 맘 잡았나보다?</td>\n",
       "      <td>ㅍ</td>\n",
       "    </tr>\n",
       "    <tr>\n",
       "      <th>27177</th>\n",
       "      <td>일부러 그럴 리가 있어요?</td>\n",
       "      <td>ㅍ</td>\n",
       "    </tr>\n",
       "    <tr>\n",
       "      <th>27948</th>\n",
       "      <td>그럼요?</td>\n",
       "      <td>ㅍ</td>\n",
       "    </tr>\n",
       "    <tr>\n",
       "      <th>28090</th>\n",
       "      <td>샤프심이 없어서..가지러 왔다가 누나 보이길래..</td>\n",
       "      <td>ㅍ</td>\n",
       "    </tr>\n",
       "    <tr>\n",
       "      <th>28455</th>\n",
       "      <td>아~ 자기소개서 쓰기 힘들어 죽겠어요~</td>\n",
       "      <td>ㅍ</td>\n",
       "    </tr>\n",
       "    <tr>\n",
       "      <th>28482</th>\n",
       "      <td>원래 남자들..다른 남자랑 친하게 지내면 그러니까..</td>\n",
       "      <td>ㅍ</td>\n",
       "    </tr>\n",
       "    <tr>\n",
       "      <th>36684</th>\n",
       "      <td>그럼, 임마! 내가 누구냐? 한번 실수는 병가지상사다~이러시면서 나의 인간성과 품위...</td>\n",
       "      <td>ㅍ</td>\n",
       "    </tr>\n",
       "    <tr>\n",
       "      <th>37261</th>\n",
       "      <td>처리 할거야. 처리해야지, 그게 돈이 얼만데?</td>\n",
       "      <td>ㅍ</td>\n",
       "    </tr>\n",
       "    <tr>\n",
       "      <th>37428</th>\n",
       "      <td>와, 어디서 꽁돈이라도 생겼나?</td>\n",
       "      <td>ㅍ</td>\n",
       "    </tr>\n",
       "    <tr>\n",
       "      <th>37864</th>\n",
       "      <td>엄마, 엄만 결혼이 뭐 그리 좋아?</td>\n",
       "      <td>ㅍ</td>\n",
       "    </tr>\n",
       "    <tr>\n",
       "      <th>41755</th>\n",
       "      <td>앞으로는 어디서 우연히 마주쳐도 말 섞지 말자. 비위 상해. 너랑 말 하면.</td>\n",
       "      <td>ㅍ</td>\n",
       "    </tr>\n",
       "    <tr>\n",
       "      <th>43151</th>\n",
       "      <td>역시... 상처받았겠지?</td>\n",
       "      <td>ㅍ</td>\n",
       "    </tr>\n",
       "    <tr>\n",
       "      <th>50985</th>\n",
       "      <td>용량 너무 적은 거 아니냐...... 자석 가져다 대지 말라고. 다 까먹을 테니까.</td>\n",
       "      <td>줄</td>\n",
       "    </tr>\n",
       "  </tbody>\n",
       "</table>\n",
       "</div>"
      ],
      "text/plain": [
       "                                                sentence emotion\n",
       "0                                                     발화      감정\n",
       "25037                    인터넷에다 팔아야 되나.. 근데 너 이제 맘 잡았나보다?       ㅍ\n",
       "27177                                     일부러 그럴 리가 있어요?       ㅍ\n",
       "27948                                               그럼요?       ㅍ\n",
       "28090                        샤프심이 없어서..가지러 왔다가 누나 보이길래..       ㅍ\n",
       "28455                              아~ 자기소개서 쓰기 힘들어 죽겠어요~       ㅍ\n",
       "28482                      원래 남자들..다른 남자랑 친하게 지내면 그러니까..       ㅍ\n",
       "36684  그럼, 임마! 내가 누구냐? 한번 실수는 병가지상사다~이러시면서 나의 인간성과 품위...       ㅍ\n",
       "37261                          처리 할거야. 처리해야지, 그게 돈이 얼만데?       ㅍ\n",
       "37428                                  와, 어디서 꽁돈이라도 생겼나?       ㅍ\n",
       "37864                                엄마, 엄만 결혼이 뭐 그리 좋아?       ㅍ\n",
       "41755    앞으로는 어디서 우연히 마주쳐도 말 섞지 말자. 비위 상해. 너랑 말 하면.            ㅍ\n",
       "43151                                      역시... 상처받았겠지?       ㅍ\n",
       "50985     용량 너무 적은 거 아니냐...... 자석 가져다 대지 말라고. 다 까먹을 테니까.       줄"
      ]
     },
     "execution_count": 69,
     "metadata": {},
     "output_type": "execute_result"
    }
   ],
   "source": [
    "train3[train3['emotion'].isin(['ㅍ', '감정','줄'])]"
   ]
  },
  {
   "attachments": {},
   "cell_type": "markdown",
   "metadata": {},
   "source": [
    "0행은 원본 파일에서 열이름으로 쓰인거 같고 'ㅍ','줄'은 구분이 어려움  \n",
    "--> 모두 삭제"
   ]
  },
  {
   "cell_type": "code",
   "execution_count": 70,
   "metadata": {},
   "outputs": [],
   "source": [
    "train3 = train3.drop(train3[train3['emotion'].isin(['ㅍ', '감정','줄'])].index)\n",
    "#train3 = train3[~train3['emotion'].isin(['가나', '다라'])]"
   ]
  },
  {
   "attachments": {},
   "cell_type": "markdown",
   "metadata": {},
   "source": [
    "다시 분포 확인"
   ]
  },
  {
   "cell_type": "code",
   "execution_count": 71,
   "metadata": {},
   "outputs": [
    {
     "data": {
      "text/plain": [
       "emotion\n",
       "공포       95\n",
       "놀람     3874\n",
       "분노     3541\n",
       "슬픔     1848\n",
       "중립    40686\n",
       "행복      983\n",
       "혐오      192\n",
       "Name: sentence, dtype: int64"
      ]
     },
     "execution_count": 71,
     "metadata": {},
     "output_type": "execute_result"
    }
   ],
   "source": [
    "train3.groupby('emotion').count().iloc[:,0]"
   ]
  },
  {
   "attachments": {},
   "cell_type": "markdown",
   "metadata": {},
   "source": [
    "전처리 끝난 데이터 프레임 저장"
   ]
  },
  {
   "cell_type": "code",
   "execution_count": 72,
   "metadata": {},
   "outputs": [],
   "source": [
    "train3.to_csv(\"data/연속적대화.csv\")"
   ]
  },
  {
   "attachments": {},
   "cell_type": "markdown",
   "metadata": {},
   "source": [
    "## __입력 데이터 병합 & 전처리__"
   ]
  },
  {
   "cell_type": "code",
   "execution_count": 2,
   "metadata": {},
   "outputs": [],
   "source": [
    "import pandas as pd\n",
    "trainset1 = pd.read_csv(\"data/감성대화말뭉치(병합).csv\",index_col=0)\n",
    "trainset2 = pd.read_csv(\"data/단발성대화.csv\",index_col=0)\n",
    "trainset3 = pd.read_csv(\"data/연속적대화.csv\",index_col=0)\n",
    "trainset = [trainset1, trainset2, trainset3]"
   ]
  },
  {
   "attachments": {},
   "cell_type": "markdown",
   "metadata": {},
   "source": [
    "라벨, 분포 확인"
   ]
  },
  {
   "cell_type": "code",
   "execution_count": 3,
   "metadata": {},
   "outputs": [
    {
     "name": "stdout",
     "output_type": "stream",
     "text": [
      "['기쁨', '당황', '분노', '불안', '상처', '슬픔']\n",
      "emotion\n",
      "기쁨     7337\n",
      "당황     9797\n",
      "분노    10414\n",
      "불안    10429\n",
      "상처    10142\n",
      "슬픔    10121\n",
      "Name: sentence, dtype: int64\n",
      "['공포', '놀람', '분노', '슬픔', '중립', '행복', '혐오']\n",
      "emotion\n",
      "공포    5461\n",
      "놀람    5886\n",
      "분노    5662\n",
      "슬픔    5244\n",
      "중립    4827\n",
      "행복    6003\n",
      "혐오    5426\n",
      "Name: sentence, dtype: int64\n",
      "['공포', '놀람', '분노', '슬픔', '중립', '행복', '혐오']\n",
      "emotion\n",
      "공포       95\n",
      "놀람     3874\n",
      "분노     3541\n",
      "슬픔     1848\n",
      "중립    40686\n",
      "행복      983\n",
      "혐오      192\n",
      "Name: sentence, dtype: int64\n"
     ]
    }
   ],
   "source": [
    "for t in trainset:\n",
    "    print(sorted(t['emotion'].unique()))\n",
    "    print(t.groupby('emotion').count().iloc[:,0])"
   ]
  },
  {
   "attachments": {},
   "cell_type": "markdown",
   "metadata": {},
   "source": [
    "### 레이블 맞추고 병합"
   ]
  },
  {
   "attachments": {},
   "cell_type": "markdown",
   "metadata": {},
   "source": [
    "__감성대화말뭉치__  \n",
    "- 기쁨 -> 행복, 당황->놀람, 불안->공포"
   ]
  },
  {
   "cell_type": "code",
   "execution_count": 4,
   "metadata": {},
   "outputs": [],
   "source": [
    "trainset1.loc[trainset1['emotion'] == '기쁨', 'emotion'] = '행복'\n",
    "trainset1.loc[trainset1['emotion'] == '당황', 'emotion'] = '놀람'"
   ]
  },
  {
   "attachments": {},
   "cell_type": "markdown",
   "metadata": {},
   "source": [
    "- 상처, 슬픔 라벨이 구별이 안됨 -> 병합"
   ]
  },
  {
   "cell_type": "code",
   "execution_count": 5,
   "metadata": {},
   "outputs": [
    {
     "data": {
      "text/html": [
       "<div>\n",
       "<style scoped>\n",
       "    .dataframe tbody tr th:only-of-type {\n",
       "        vertical-align: middle;\n",
       "    }\n",
       "\n",
       "    .dataframe tbody tr th {\n",
       "        vertical-align: top;\n",
       "    }\n",
       "\n",
       "    .dataframe thead th {\n",
       "        text-align: right;\n",
       "    }\n",
       "</style>\n",
       "<table border=\"1\" class=\"dataframe\">\n",
       "  <thead>\n",
       "    <tr style=\"text-align: right;\">\n",
       "      <th></th>\n",
       "      <th>sentence</th>\n",
       "      <th>emotion</th>\n",
       "    </tr>\n",
       "  </thead>\n",
       "  <tbody>\n",
       "    <tr>\n",
       "      <th>43359</th>\n",
       "      <td>아빠가 또 술 마시고 엄마를 때렸어. 늘 있는 일이라서 놀라진 않았지만 엄마가 걱정 돼.</td>\n",
       "      <td>상처</td>\n",
       "    </tr>\n",
       "    <tr>\n",
       "      <th>28725</th>\n",
       "      <td>옛날에 친했던 친구가 있는데 그 친구가 나를 이용했어. 너무 어이없고 배신감을 느껴.</td>\n",
       "      <td>상처</td>\n",
       "    </tr>\n",
       "    <tr>\n",
       "      <th>41308</th>\n",
       "      <td>음식이 맛이 없다고 평생을 음식 투정이야.</td>\n",
       "      <td>상처</td>\n",
       "    </tr>\n",
       "    <tr>\n",
       "      <th>981</th>\n",
       "      <td>우리 부서가 옆 부서와 통합된다는 소식을 들어서 충격이야.</td>\n",
       "      <td>상처</td>\n",
       "    </tr>\n",
       "    <tr>\n",
       "      <th>9763</th>\n",
       "      <td>결혼 초에 남편이 자영업을 하면서 주식 투자를 했었어.</td>\n",
       "      <td>상처</td>\n",
       "    </tr>\n",
       "    <tr>\n",
       "      <th>48495</th>\n",
       "      <td>우울증 때문에 취업이 안 돼서 걱정이야. 빨리 취업을 해야 하는데.</td>\n",
       "      <td>상처</td>\n",
       "    </tr>\n",
       "    <tr>\n",
       "      <th>48597</th>\n",
       "      <td>담배를 너무 피운 탓에 폐가 상해서 뜨거운 걸 못 먹을 정도야. 너무 후회돼.</td>\n",
       "      <td>상처</td>\n",
       "    </tr>\n",
       "    <tr>\n",
       "      <th>600</th>\n",
       "      <td>친한 친구가 나를 범인으로 모는 바람에 선생님한테 혼났어. 상처 받았어.</td>\n",
       "      <td>상처</td>\n",
       "    </tr>\n",
       "  </tbody>\n",
       "</table>\n",
       "</div>"
      ],
      "text/plain": [
       "                                                sentence emotion\n",
       "43359  아빠가 또 술 마시고 엄마를 때렸어. 늘 있는 일이라서 놀라진 않았지만 엄마가 걱정 돼.      상처\n",
       "28725    옛날에 친했던 친구가 있는데 그 친구가 나를 이용했어. 너무 어이없고 배신감을 느껴.      상처\n",
       "41308                            음식이 맛이 없다고 평생을 음식 투정이야.      상처\n",
       "981                     우리 부서가 옆 부서와 통합된다는 소식을 들어서 충격이야.      상처\n",
       "9763                      결혼 초에 남편이 자영업을 하면서 주식 투자를 했었어.      상처\n",
       "48495              우울증 때문에 취업이 안 돼서 걱정이야. 빨리 취업을 해야 하는데.      상처\n",
       "48597        담배를 너무 피운 탓에 폐가 상해서 뜨거운 걸 못 먹을 정도야. 너무 후회돼.      상처\n",
       "600             친한 친구가 나를 범인으로 모는 바람에 선생님한테 혼났어. 상처 받았어.      상처"
      ]
     },
     "execution_count": 5,
     "metadata": {},
     "output_type": "execute_result"
    }
   ],
   "source": [
    "trainset1[trainset1['emotion'] == '상처'].sample(n=8)"
   ]
  },
  {
   "cell_type": "code",
   "execution_count": 5,
   "metadata": {},
   "outputs": [
    {
     "data": {
      "text/html": [
       "<div>\n",
       "<style scoped>\n",
       "    .dataframe tbody tr th:only-of-type {\n",
       "        vertical-align: middle;\n",
       "    }\n",
       "\n",
       "    .dataframe tbody tr th {\n",
       "        vertical-align: top;\n",
       "    }\n",
       "\n",
       "    .dataframe thead th {\n",
       "        text-align: right;\n",
       "    }\n",
       "</style>\n",
       "<table border=\"1\" class=\"dataframe\">\n",
       "  <thead>\n",
       "    <tr style=\"text-align: right;\">\n",
       "      <th></th>\n",
       "      <th>sentence</th>\n",
       "      <th>emotion</th>\n",
       "    </tr>\n",
       "  </thead>\n",
       "  <tbody>\n",
       "    <tr>\n",
       "      <th>6021</th>\n",
       "      <td>피부가 하루하루 다르게 노화되는 것 같아 속상해.</td>\n",
       "      <td>슬픔</td>\n",
       "    </tr>\n",
       "    <tr>\n",
       "      <th>23079</th>\n",
       "      <td>이제 여기서 일할 수 있는 시간이 얼마 남지 않은 것 같은데 이직이 쉽지 않네.</td>\n",
       "      <td>슬픔</td>\n",
       "    </tr>\n",
       "    <tr>\n",
       "      <th>38520</th>\n",
       "      <td>노후준비가 안 되어서 정말 슬프다.</td>\n",
       "      <td>슬픔</td>\n",
       "    </tr>\n",
       "    <tr>\n",
       "      <th>47525</th>\n",
       "      <td>이번 시험이 저번 시험보다 구 점이나 떨어져서 너무 슬퍼.</td>\n",
       "      <td>슬픔</td>\n",
       "    </tr>\n",
       "    <tr>\n",
       "      <th>47631</th>\n",
       "      <td>장애를 가진 나를 평생 돌봐주었던 아내와 이혼을 하니까 쓸쓸하고 눈물이 나.</td>\n",
       "      <td>슬픔</td>\n",
       "    </tr>\n",
       "    <tr>\n",
       "      <th>13566</th>\n",
       "      <td>매일 바쁘게 일하는 엄마와 아빠를 생각하면 눈물만 나.</td>\n",
       "      <td>슬픔</td>\n",
       "    </tr>\n",
       "    <tr>\n",
       "      <th>50230</th>\n",
       "      <td>나는 아무것도 하지 않았는데 술만 드시면 아버지가 나를 때려.</td>\n",
       "      <td>슬픔</td>\n",
       "    </tr>\n",
       "    <tr>\n",
       "      <th>5341</th>\n",
       "      <td>장거리 연애는 불편함이 너무 많은 것 같아.</td>\n",
       "      <td>슬픔</td>\n",
       "    </tr>\n",
       "  </tbody>\n",
       "</table>\n",
       "</div>"
      ],
      "text/plain": [
       "                                           sentence emotion\n",
       "6021                    피부가 하루하루 다르게 노화되는 것 같아 속상해.      슬픔\n",
       "23079  이제 여기서 일할 수 있는 시간이 얼마 남지 않은 것 같은데 이직이 쉽지 않네.      슬픔\n",
       "38520                           노후준비가 안 되어서 정말 슬프다.      슬픔\n",
       "47525              이번 시험이 저번 시험보다 구 점이나 떨어져서 너무 슬퍼.      슬픔\n",
       "47631    장애를 가진 나를 평생 돌봐주었던 아내와 이혼을 하니까 쓸쓸하고 눈물이 나.      슬픔\n",
       "13566                매일 바쁘게 일하는 엄마와 아빠를 생각하면 눈물만 나.      슬픔\n",
       "50230            나는 아무것도 하지 않았는데 술만 드시면 아버지가 나를 때려.      슬픔\n",
       "5341                       장거리 연애는 불편함이 너무 많은 것 같아.      슬픔"
      ]
     },
     "execution_count": 5,
     "metadata": {},
     "output_type": "execute_result"
    }
   ],
   "source": [
    "trainset1[trainset1['emotion'] == '슬픔'].sample(n=8)"
   ]
  },
  {
   "cell_type": "code",
   "execution_count": 6,
   "metadata": {},
   "outputs": [],
   "source": [
    "trainset1.loc[trainset1['emotion'] == '상처', 'emotion'] = '슬픔'"
   ]
  },
  {
   "cell_type": "code",
   "execution_count": 7,
   "metadata": {},
   "outputs": [
    {
     "data": {
      "text/html": [
       "<div>\n",
       "<style scoped>\n",
       "    .dataframe tbody tr th:only-of-type {\n",
       "        vertical-align: middle;\n",
       "    }\n",
       "\n",
       "    .dataframe tbody tr th {\n",
       "        vertical-align: top;\n",
       "    }\n",
       "\n",
       "    .dataframe thead th {\n",
       "        text-align: right;\n",
       "    }\n",
       "</style>\n",
       "<table border=\"1\" class=\"dataframe\">\n",
       "  <thead>\n",
       "    <tr style=\"text-align: right;\">\n",
       "      <th></th>\n",
       "      <th>sentence</th>\n",
       "      <th>emotion</th>\n",
       "    </tr>\n",
       "  </thead>\n",
       "  <tbody>\n",
       "    <tr>\n",
       "      <th>509</th>\n",
       "      <td>모임에 가서 친구를 사귀었는데 뭔가 계산적인 사람이란 게 느껴져서 불안해.</td>\n",
       "      <td>불안</td>\n",
       "    </tr>\n",
       "    <tr>\n",
       "      <th>47815</th>\n",
       "      <td>앓고 있는 지병은 지속적인 치료가 필요한데 너무 가난해서 중단한 지 오래야.</td>\n",
       "      <td>불안</td>\n",
       "    </tr>\n",
       "    <tr>\n",
       "      <th>47165</th>\n",
       "      <td>난 다리에 장애가 있어서 걷기를 잘 못해. 곧 대학교 입학 면접에서 넘어질까 봐 걱...</td>\n",
       "      <td>불안</td>\n",
       "    </tr>\n",
       "    <tr>\n",
       "      <th>42928</th>\n",
       "      <td>우리 집은 능력 없는 부모님 때문에 어릴 때부터 항상 가난했어. 이런 삶이 너무 무...</td>\n",
       "      <td>불안</td>\n",
       "    </tr>\n",
       "    <tr>\n",
       "      <th>12590</th>\n",
       "      <td>벌써 몇 시간째 못 푼 수학 문제가 있어. 이거 때문에 머리가 너무 아파.</td>\n",
       "      <td>불안</td>\n",
       "    </tr>\n",
       "    <tr>\n",
       "      <th>12674</th>\n",
       "      <td>이번 점수가 나왔는데 반에서는 꽤 등수가 높게 나왔어. 그런데 기분은 별로 좋지 않아.</td>\n",
       "      <td>불안</td>\n",
       "    </tr>\n",
       "    <tr>\n",
       "      <th>9646</th>\n",
       "      <td>매달 나가는 지출이 많아서 스트레스받네.</td>\n",
       "      <td>불안</td>\n",
       "    </tr>\n",
       "    <tr>\n",
       "      <th>32839</th>\n",
       "      <td>혹시 코로나에 걸리는 것은 아닐까 불안해.</td>\n",
       "      <td>불안</td>\n",
       "    </tr>\n",
       "  </tbody>\n",
       "</table>\n",
       "</div>"
      ],
      "text/plain": [
       "                                                sentence emotion\n",
       "509            모임에 가서 친구를 사귀었는데 뭔가 계산적인 사람이란 게 느껴져서 불안해.      불안\n",
       "47815         앓고 있는 지병은 지속적인 치료가 필요한데 너무 가난해서 중단한 지 오래야.      불안\n",
       "47165  난 다리에 장애가 있어서 걷기를 잘 못해. 곧 대학교 입학 면접에서 넘어질까 봐 걱...      불안\n",
       "42928  우리 집은 능력 없는 부모님 때문에 어릴 때부터 항상 가난했어. 이런 삶이 너무 무...      불안\n",
       "12590          벌써 몇 시간째 못 푼 수학 문제가 있어. 이거 때문에 머리가 너무 아파.      불안\n",
       "12674   이번 점수가 나왔는데 반에서는 꽤 등수가 높게 나왔어. 그런데 기분은 별로 좋지 않아.      불안\n",
       "9646                              매달 나가는 지출이 많아서 스트레스받네.      불안\n",
       "32839                            혹시 코로나에 걸리는 것은 아닐까 불안해.      불안"
      ]
     },
     "execution_count": 7,
     "metadata": {},
     "output_type": "execute_result"
    }
   ],
   "source": [
    "trainset1[trainset1['emotion'] == '불안'].sample(n=8)"
   ]
  },
  {
   "cell_type": "code",
   "execution_count": 8,
   "metadata": {},
   "outputs": [
    {
     "data": {
      "text/plain": [
       "emotion\n",
       "놀람     9797\n",
       "분노    10414\n",
       "불안    10429\n",
       "슬픔    20263\n",
       "행복     7337\n",
       "Name: sentence, dtype: int64"
      ]
     },
     "execution_count": 8,
     "metadata": {},
     "output_type": "execute_result"
    }
   ],
   "source": [
    "trainset1.groupby('emotion').count().iloc[:,0]"
   ]
  },
  {
   "attachments": {},
   "cell_type": "markdown",
   "metadata": {},
   "source": [
    "__단발성대화 & 연속적대화__  \n",
    "- 공포 -> 불안"
   ]
  },
  {
   "cell_type": "code",
   "execution_count": 9,
   "metadata": {},
   "outputs": [],
   "source": [
    "trainset2.loc[trainset2['emotion'] == '공포', 'emotion'] = '불안'\n",
    "trainset3.loc[trainset3['emotion'] == '공포', 'emotion'] = '불안'"
   ]
  },
  {
   "attachments": {},
   "cell_type": "markdown",
   "metadata": {},
   "source": [
    "- 혐오 태그: 데이터 수가 적고, (웹 크롤링 글이다보이니)책에서 안쓰이는 표현이 대부분, 어울리는 음악(태그)도 찾기 어려워보임\n",
    "-> 삭제"
   ]
  },
  {
   "cell_type": "code",
   "execution_count": 10,
   "metadata": {},
   "outputs": [
    {
     "data": {
      "text/html": [
       "<div>\n",
       "<style scoped>\n",
       "    .dataframe tbody tr th:only-of-type {\n",
       "        vertical-align: middle;\n",
       "    }\n",
       "\n",
       "    .dataframe tbody tr th {\n",
       "        vertical-align: top;\n",
       "    }\n",
       "\n",
       "    .dataframe thead th {\n",
       "        text-align: right;\n",
       "    }\n",
       "</style>\n",
       "<table border=\"1\" class=\"dataframe\">\n",
       "  <thead>\n",
       "    <tr style=\"text-align: right;\">\n",
       "      <th></th>\n",
       "      <th>sentence</th>\n",
       "      <th>emotion</th>\n",
       "    </tr>\n",
       "  </thead>\n",
       "  <tbody>\n",
       "    <tr>\n",
       "      <th>34587</th>\n",
       "      <td>끼리끼리 노네</td>\n",
       "      <td>혐오</td>\n",
       "    </tr>\n",
       "    <tr>\n",
       "      <th>38485</th>\n",
       "      <td>중국에서 잡히면 사형인데</td>\n",
       "      <td>혐오</td>\n",
       "    </tr>\n",
       "    <tr>\n",
       "      <th>36111</th>\n",
       "      <td>전쟁 도발해서 전쟁으로 돈벌려는 계략인가?</td>\n",
       "      <td>혐오</td>\n",
       "    </tr>\n",
       "    <tr>\n",
       "      <th>33390</th>\n",
       "      <td>판사 미친거 아냐?</td>\n",
       "      <td>혐오</td>\n",
       "    </tr>\n",
       "    <tr>\n",
       "      <th>36028</th>\n",
       "      <td>니본도를 아갈에서똥고까지쳐눌테다~~</td>\n",
       "      <td>혐오</td>\n",
       "    </tr>\n",
       "    <tr>\n",
       "      <th>33860</th>\n",
       "      <td>ㅋㅋㅋㅋ 급하면 문도 따는 실력자들^^ 쓱~</td>\n",
       "      <td>혐오</td>\n",
       "    </tr>\n",
       "    <tr>\n",
       "      <th>35703</th>\n",
       "      <td>이딜가나 무도충들이 노답이지...</td>\n",
       "      <td>혐오</td>\n",
       "    </tr>\n",
       "    <tr>\n",
       "      <th>33553</th>\n",
       "      <td>이 새끼는 이제 도박까지 하면 트리플크라운이네. 인간 폐기물 강정호 구단에서 방출시...</td>\n",
       "      <td>혐오</td>\n",
       "    </tr>\n",
       "  </tbody>\n",
       "</table>\n",
       "</div>"
      ],
      "text/plain": [
       "                                                sentence emotion\n",
       "34587                                            끼리끼리 노네      혐오\n",
       "38485                                      중국에서 잡히면 사형인데      혐오\n",
       "36111                            전쟁 도발해서 전쟁으로 돈벌려는 계략인가?      혐오\n",
       "33390                                         판사 미친거 아냐?      혐오\n",
       "36028                                니본도를 아갈에서똥고까지쳐눌테다~~      혐오\n",
       "33860                           ㅋㅋㅋㅋ 급하면 문도 따는 실력자들^^ 쓱~      혐오\n",
       "35703                                 이딜가나 무도충들이 노답이지...      혐오\n",
       "33553  이 새끼는 이제 도박까지 하면 트리플크라운이네. 인간 폐기물 강정호 구단에서 방출시...      혐오"
      ]
     },
     "execution_count": 10,
     "metadata": {},
     "output_type": "execute_result"
    }
   ],
   "source": [
    "trainset2[trainset2['emotion'] == '혐오'].sample(n=8)"
   ]
  },
  {
   "cell_type": "code",
   "execution_count": 11,
   "metadata": {},
   "outputs": [],
   "source": [
    "trainset2 = trainset2[trainset2.emotion != '혐오']\n",
    "trainset3 = trainset3[trainset3.emotion != '혐오']"
   ]
  },
  {
   "attachments": {},
   "cell_type": "markdown",
   "metadata": {},
   "source": [
    "<br>    \n",
    "3 데이터셋 병합"
   ]
  },
  {
   "cell_type": "code",
   "execution_count": 12,
   "metadata": {},
   "outputs": [
    {
     "data": {
      "text/plain": [
       "142350"
      ]
     },
     "execution_count": 12,
     "metadata": {},
     "output_type": "execute_result"
    }
   ],
   "source": [
    "trainsum = pd.concat([trainset1, trainset2, trainset3], axis=0)\n",
    "len(trainsum)"
   ]
  },
  {
   "cell_type": "code",
   "execution_count": 13,
   "metadata": {},
   "outputs": [
    {
     "name": "stdout",
     "output_type": "stream",
     "text": [
      "중복되는 행:  17\n"
     ]
    },
    {
     "data": {
      "text/plain": [
       "142333"
      ]
     },
     "execution_count": 13,
     "metadata": {},
     "output_type": "execute_result"
    }
   ],
   "source": [
    "# 합쳤으니까 다시 중복 제거\n",
    "dup = trainsum[trainsum.duplicated(subset=['sentence'])]\n",
    "print(\"중복되는 행: \", len(dup))\n",
    "\n",
    "trainsum = trainsum.drop_duplicates(subset=['sentence'], keep='first')\n",
    "len(trainsum)"
   ]
  },
  {
   "cell_type": "code",
   "execution_count": 14,
   "metadata": {},
   "outputs": [
    {
     "data": {
      "text/plain": [
       "emotion\n",
       "놀람    19553\n",
       "분노    19616\n",
       "불안    15985\n",
       "슬픔    27354\n",
       "중립    45503\n",
       "행복    14322\n",
       "Name: sentence, dtype: int64"
      ]
     },
     "execution_count": 14,
     "metadata": {},
     "output_type": "execute_result"
    }
   ],
   "source": [
    "trainsum.groupby('emotion').count().iloc[:,0]"
   ]
  },
  {
   "cell_type": "code",
   "execution_count": 97,
   "metadata": {},
   "outputs": [
    {
     "ename": "NameError",
     "evalue": "name 'trainsum' is not defined",
     "output_type": "error",
     "traceback": [
      "\u001b[1;31m---------------------------------------------------------------------------\u001b[0m",
      "\u001b[1;31mNameError\u001b[0m                                 Traceback (most recent call last)",
      "Cell \u001b[1;32mIn[97], line 1\u001b[0m\n\u001b[1;32m----> 1\u001b[0m trainsum\u001b[39m.\u001b[39mto_csv(\u001b[39m\"\u001b[39m\u001b[39mdata/병합데이터셋.csv\u001b[39m\u001b[39m\"\u001b[39m)\n",
      "\u001b[1;31mNameError\u001b[0m: name 'trainsum' is not defined"
     ]
    }
   ],
   "source": [
    "trainsum.to_csv(\"data/병합데이터셋.csv\")"
   ]
  },
  {
   "cell_type": "code",
   "execution_count": 98,
   "metadata": {},
   "outputs": [
    {
     "data": {
      "text/html": [
       "<div>\n",
       "<style scoped>\n",
       "    .dataframe tbody tr th:only-of-type {\n",
       "        vertical-align: middle;\n",
       "    }\n",
       "\n",
       "    .dataframe tbody tr th {\n",
       "        vertical-align: top;\n",
       "    }\n",
       "\n",
       "    .dataframe thead th {\n",
       "        text-align: right;\n",
       "    }\n",
       "</style>\n",
       "<table border=\"1\" class=\"dataframe\">\n",
       "  <thead>\n",
       "    <tr style=\"text-align: right;\">\n",
       "      <th></th>\n",
       "      <th>sentence</th>\n",
       "      <th>emotion</th>\n",
       "    </tr>\n",
       "  </thead>\n",
       "  <tbody>\n",
       "    <tr>\n",
       "      <th>0</th>\n",
       "      <td>일은 왜 해도 해도 끝이 없을까? 화가 난다.</td>\n",
       "      <td>분노</td>\n",
       "    </tr>\n",
       "    <tr>\n",
       "      <th>1</th>\n",
       "      <td>이번 달에 또 급여가 깎였어! 물가는 오르는데 월급만 자꾸 깎이니까 너무 화가 나.</td>\n",
       "      <td>분노</td>\n",
       "    </tr>\n",
       "    <tr>\n",
       "      <th>2</th>\n",
       "      <td>회사에 신입이 들어왔는데 말투가 거슬려. 그런 애를 매일 봐야 한다고 생각하니까 스...</td>\n",
       "      <td>분노</td>\n",
       "    </tr>\n",
       "    <tr>\n",
       "      <th>3</th>\n",
       "      <td>직장에서 막내라는 이유로 나에게만 온갖 심부름을 시켜. 일도 많은 데 정말 분하고 ...</td>\n",
       "      <td>분노</td>\n",
       "    </tr>\n",
       "    <tr>\n",
       "      <th>4</th>\n",
       "      <td>얼마 전 입사한 신입사원이 나를 무시하는 것 같아서 너무 화가 나.</td>\n",
       "      <td>분노</td>\n",
       "    </tr>\n",
       "    <tr>\n",
       "      <th>...</th>\n",
       "      <td>...</td>\n",
       "      <td>...</td>\n",
       "    </tr>\n",
       "    <tr>\n",
       "      <th>142328</th>\n",
       "      <td>얘긴 다 끝났냐? 원예부</td>\n",
       "      <td>중립</td>\n",
       "    </tr>\n",
       "    <tr>\n",
       "      <th>142329</th>\n",
       "      <td>예. 그거 때문에, 부탁이 있......는......데요.</td>\n",
       "      <td>중립</td>\n",
       "    </tr>\n",
       "    <tr>\n",
       "      <th>142330</th>\n",
       "      <td>여자 숨겨달라는거면 사절이다.</td>\n",
       "      <td>중립</td>\n",
       "    </tr>\n",
       "    <tr>\n",
       "      <th>142331</th>\n",
       "      <td>아무래도 안되나요?</td>\n",
       "      <td>중립</td>\n",
       "    </tr>\n",
       "    <tr>\n",
       "      <th>142332</th>\n",
       "      <td>그 여자랑 내가 무슨 상관인데? 아까는 탐정님이 부탁하기에 너 구하는 김에 주워왔지...</td>\n",
       "      <td>중립</td>\n",
       "    </tr>\n",
       "  </tbody>\n",
       "</table>\n",
       "<p>142333 rows × 2 columns</p>\n",
       "</div>"
      ],
      "text/plain": [
       "                                                 sentence emotion\n",
       "0                               일은 왜 해도 해도 끝이 없을까? 화가 난다.      분노\n",
       "1          이번 달에 또 급여가 깎였어! 물가는 오르는데 월급만 자꾸 깎이니까 너무 화가 나.      분노\n",
       "2       회사에 신입이 들어왔는데 말투가 거슬려. 그런 애를 매일 봐야 한다고 생각하니까 스...      분노\n",
       "3       직장에서 막내라는 이유로 나에게만 온갖 심부름을 시켜. 일도 많은 데 정말 분하고 ...      분노\n",
       "4                   얼마 전 입사한 신입사원이 나를 무시하는 것 같아서 너무 화가 나.      분노\n",
       "...                                                   ...     ...\n",
       "142328                                      얘긴 다 끝났냐? 원예부      중립\n",
       "142329                   예. 그거 때문에, 부탁이 있......는......데요.      중립\n",
       "142330                                   여자 숨겨달라는거면 사절이다.      중립\n",
       "142331                                         아무래도 안되나요?      중립\n",
       "142332  그 여자랑 내가 무슨 상관인데? 아까는 탐정님이 부탁하기에 너 구하는 김에 주워왔지...      중립\n",
       "\n",
       "[142333 rows x 2 columns]"
      ]
     },
     "execution_count": 98,
     "metadata": {},
     "output_type": "execute_result"
    }
   ],
   "source": [
    "import pandas as pd\n",
    "\n",
    "trainset  = pd.read_csv('data/병합데이터셋.csv', index_col=0)\n",
    "trainset.reset_index(drop=True, inplace=True)   #행 재설정\n",
    "trainset"
   ]
  },
  {
   "attachments": {},
   "cell_type": "markdown",
   "metadata": {},
   "source": [
    "__한글이 없는 문장 삭제__"
   ]
  },
  {
   "cell_type": "code",
   "execution_count": 99,
   "metadata": {},
   "outputs": [
    {
     "data": {
      "text/html": [
       "<div>\n",
       "<style scoped>\n",
       "    .dataframe tbody tr th:only-of-type {\n",
       "        vertical-align: middle;\n",
       "    }\n",
       "\n",
       "    .dataframe tbody tr th {\n",
       "        vertical-align: top;\n",
       "    }\n",
       "\n",
       "    .dataframe thead th {\n",
       "        text-align: right;\n",
       "    }\n",
       "</style>\n",
       "<table border=\"1\" class=\"dataframe\">\n",
       "  <thead>\n",
       "    <tr style=\"text-align: right;\">\n",
       "      <th></th>\n",
       "      <th>sentence</th>\n",
       "      <th>emotion</th>\n",
       "    </tr>\n",
       "  </thead>\n",
       "  <tbody>\n",
       "    <tr>\n",
       "      <th>68374</th>\n",
       "      <td>60??</td>\n",
       "      <td>놀람</td>\n",
       "    </tr>\n",
       "    <tr>\n",
       "      <th>89989</th>\n",
       "      <td>Happy brithday to you~!</td>\n",
       "      <td>행복</td>\n",
       "    </tr>\n",
       "    <tr>\n",
       "      <th>95640</th>\n",
       "      <td>......</td>\n",
       "      <td>중립</td>\n",
       "    </tr>\n",
       "    <tr>\n",
       "      <th>95668</th>\n",
       "      <td>...</td>\n",
       "      <td>중립</td>\n",
       "    </tr>\n",
       "    <tr>\n",
       "      <th>95670</th>\n",
       "      <td>..!</td>\n",
       "      <td>놀람</td>\n",
       "    </tr>\n",
       "    <tr>\n",
       "      <th>95714</th>\n",
       "      <td>…</td>\n",
       "      <td>중립</td>\n",
       "    </tr>\n",
       "    <tr>\n",
       "      <th>98905</th>\n",
       "      <td>50!</td>\n",
       "      <td>중립</td>\n",
       "    </tr>\n",
       "    <tr>\n",
       "      <th>98906</th>\n",
       "      <td>25!</td>\n",
       "      <td>중립</td>\n",
       "    </tr>\n",
       "    <tr>\n",
       "      <th>99422</th>\n",
       "      <td>? ...</td>\n",
       "      <td>중립</td>\n",
       "    </tr>\n",
       "    <tr>\n",
       "      <th>114531</th>\n",
       "      <td>7!</td>\n",
       "      <td>중립</td>\n",
       "    </tr>\n",
       "  </tbody>\n",
       "</table>\n",
       "</div>"
      ],
      "text/plain": [
       "                       sentence emotion\n",
       "68374                      60??      놀람\n",
       "89989   Happy brithday to you~!      행복\n",
       "95640                    ......      중립\n",
       "95668                       ...      중립\n",
       "95670                       ..!      놀람\n",
       "95714                         …      중립\n",
       "98905                       50!      중립\n",
       "98906                       25!      중립\n",
       "99422                    ? ...       중립\n",
       "114531                       7!      중립"
      ]
     },
     "execution_count": 99,
     "metadata": {},
     "output_type": "execute_result"
    }
   ],
   "source": [
    "def has_korean(text):\n",
    "    korean_check = lambda text: any(char >= '가' and char <= '힣' for char in text)\n",
    "    return korean_check(text)\n",
    "\n",
    "df_filter = trainset[trainset['sentence'].apply(lambda x: not has_korean(x))]\n",
    "df_filter"
   ]
  },
  {
   "cell_type": "code",
   "execution_count": 100,
   "metadata": {},
   "outputs": [
    {
     "data": {
      "text/plain": [
       "142323"
      ]
     },
     "execution_count": 100,
     "metadata": {},
     "output_type": "execute_result"
    }
   ],
   "source": [
    "# 'sentence' 열에서 한글이 있는지 확인하여 한글이 없는 행 삭제\n",
    "trainset = trainset[trainset['sentence'].apply(lambda x: has_korean(x))]\n",
    "\n",
    "# 삭제된 행에 대한 인덱스 재설정\n",
    "trainset.reset_index(drop=True, inplace=True)\n",
    "len(trainset)"
   ]
  },
  {
   "attachments": {},
   "cell_type": "markdown",
   "metadata": {},
   "source": [
    "__한자가 들어간 문장__"
   ]
  },
  {
   "cell_type": "code",
   "execution_count": 101,
   "metadata": {},
   "outputs": [
    {
     "data": {
      "text/html": [
       "<div>\n",
       "<style scoped>\n",
       "    .dataframe tbody tr th:only-of-type {\n",
       "        vertical-align: middle;\n",
       "    }\n",
       "\n",
       "    .dataframe tbody tr th {\n",
       "        vertical-align: top;\n",
       "    }\n",
       "\n",
       "    .dataframe thead th {\n",
       "        text-align: right;\n",
       "    }\n",
       "</style>\n",
       "<table border=\"1\" class=\"dataframe\">\n",
       "  <thead>\n",
       "    <tr style=\"text-align: right;\">\n",
       "      <th></th>\n",
       "      <th>sentence</th>\n",
       "      <th>emotion</th>\n",
       "    </tr>\n",
       "  </thead>\n",
       "  <tbody>\n",
       "    <tr>\n",
       "      <th>59715</th>\n",
       "      <td>이정도면 광기(狂氣) 아니냐?</td>\n",
       "      <td>불안</td>\n",
       "    </tr>\n",
       "    <tr>\n",
       "      <th>75007</th>\n",
       "      <td>박창조 최순실 다음 너야 박원崧</td>\n",
       "      <td>분노</td>\n",
       "    </tr>\n",
       "    <tr>\n",
       "      <th>79839</th>\n",
       "      <td>곧 결혼하려고 아파트나 빌라 전세, 매매 여러 방면으로 알아보고 있는 中인데요...</td>\n",
       "      <td>슬픔</td>\n",
       "    </tr>\n",
       "    <tr>\n",
       "      <th>89694</th>\n",
       "      <td>祝 結婚....幸福하시길...</td>\n",
       "      <td>행복</td>\n",
       "    </tr>\n",
       "    <tr>\n",
       "      <th>90074</th>\n",
       "      <td>새해 福  마니마니 받으세요~~~~~~</td>\n",
       "      <td>행복</td>\n",
       "    </tr>\n",
       "    <tr>\n",
       "      <th>139521</th>\n",
       "      <td>넌 꼭 이성(理性)의 괴물 같아.</td>\n",
       "      <td>중립</td>\n",
       "    </tr>\n",
       "  </tbody>\n",
       "</table>\n",
       "</div>"
      ],
      "text/plain": [
       "                                              sentence emotion\n",
       "59715                                 이정도면 광기(狂氣) 아니냐?      불안\n",
       "75007                                박창조 최순실 다음 너야 박원崧      분노\n",
       "79839   곧 결혼하려고 아파트나 빌라 전세, 매매 여러 방면으로 알아보고 있는 中인데요...      슬픔\n",
       "89694                                 祝 結婚....幸福하시길...      행복\n",
       "90074                            새해 福  마니마니 받으세요~~~~~~      행복\n",
       "139521                              넌 꼭 이성(理性)의 괴물 같아.      중립"
      ]
     },
     "execution_count": 101,
     "metadata": {},
     "output_type": "execute_result"
    }
   ],
   "source": [
    "trainset[trainset['sentence'].str.contains('[\\u4e00-\\u9fff]+')]"
   ]
  },
  {
   "cell_type": "code",
   "execution_count": 102,
   "metadata": {},
   "outputs": [
    {
     "data": {
      "text/plain": [
       "142317"
      ]
     },
     "execution_count": 102,
     "metadata": {},
     "output_type": "execute_result"
    }
   ],
   "source": [
    "trainset = trainset[~trainset['sentence'].str.contains('[\\u4e00-\\u9fff]')]\n",
    "len(trainset)"
   ]
  },
  {
   "attachments": {},
   "cell_type": "markdown",
   "metadata": {},
   "source": [
    "영어 포함 글"
   ]
  },
  {
   "cell_type": "code",
   "execution_count": 103,
   "metadata": {},
   "outputs": [
    {
     "data": {
      "text/plain": [
       "885"
      ]
     },
     "execution_count": 103,
     "metadata": {},
     "output_type": "execute_result"
    }
   ],
   "source": [
    "english_contain_sentences = trainset[trainset['sentence'].str.contains('[a-zA-Z]')]\n",
    "len(english_contain_sentences)"
   ]
  },
  {
   "cell_type": "code",
   "execution_count": 104,
   "metadata": {},
   "outputs": [
    {
     "name": "stdout",
     "output_type": "stream",
     "text": [
      "['cmsy10', 'STIXGeneral', 'cmss10', 'cmr10', 'cmtt10', 'STIXSizeTwoSym', 'STIXNonUnicode', 'STIXSizeFourSym', 'STIXNonUnicode', 'cmex10', 'DejaVu Sans Mono', 'STIXSizeOneSym', 'DejaVu Sans', 'DejaVu Sans', 'STIXSizeFiveSym', 'STIXSizeThreeSym', 'DejaVu Sans Mono', 'STIXSizeTwoSym', 'DejaVu Serif Display', 'STIXGeneral', 'DejaVu Serif', 'DejaVu Serif', 'DejaVu Sans Display', 'cmmi10', 'STIXNonUnicode', 'DejaVu Sans Mono', 'STIXSizeOneSym', 'DejaVu Sans', 'STIXSizeThreeSym', 'STIXNonUnicode', 'cmb10', 'STIXGeneral', 'DejaVu Serif', 'DejaVu Serif', 'DejaVu Sans', 'STIXSizeFourSym', 'STIXGeneral', 'DejaVu Sans Mono', 'Times New Roman', 'Wingdings', 'Californian FB', 'Segoe Print', 'Lucida Sans Typewriter', 'Franklin Gothic Heavy', 'Calibri', 'Mongolian Baiti', 'Century Schoolbook', 'Palatino Linotype', 'Bookshelf Symbol 7', 'Georgia', 'Palatino Linotype', 'Bodoni MT', 'Harrington', 'Century Schoolbook', 'UnBatang', 'NanumSquare', 'Sitka Small', 'Yu Gothic', 'HYPost-Light', 'Arial', 'Segoe UI Historic', 'Modern No. 20', 'Tw Cen MT Condensed', 'UnDotum', 'Verdana', 'NanumGothic', 'Old English Text MT', 'Bahnschrift', 'Bookman Old Style', 'Segoe UI', 'Microsoft Himalaya', 'Times New Roman', 'Agency FB', 'HYPost-Medium', 'Century Schoolbook', 'HCR Batang ExtB', 'Gill Sans MT', 'KoPubBatang Medium', 'Gadugi', 'Bernard MT Condensed', 'HYMyeongJo-Extra', 'Sylfaen', 'Book Antiqua', 'High Tower Text', 'MS Gothic', 'Malgun Gothic', 'Footlight MT Light', 'Onyx', 'Microsoft YaHei', 'Candara', 'HYHeadLine-Medium', 'NanumSquare_ac', 'Courier New', 'KoPubDotum Medium', 'MS Outlook', 'Segoe UI', 'Goudy Old Style', 'Bodoni MT', 'Nirmala UI', 'Perpetua', 'Comic Sans MS', 'Bookman Old Style', 'Gulim', 'Calisto MT', 'Candara', 'MS Reference Specialty', 'Leelawadee UI', 'Calibri', 'KoPubBatang Bold', 'Microsoft Sans Serif', 'Arial', 'Poor Richard', 'Calibri', 'HCR Batang ExtB', 'Book Antiqua', 'Georgia', 'Rockwell', 'Corbel', 'Cambria', 'HCR Batang Ext', 'Gloucester MT Extra Condensed', 'Arial', 'Constantia', 'Perpetua Titling MT', 'Arial', 'NanumMyeongjo', 'Leelawadee', 'Cambria', 'Century Schoolbook', 'Candara', 'Calisto MT', 'Century Gothic', 'Georgia', 'Berlin Sans FB', 'Castellar', 'NanumSquare_ac', 'HYGothic-Extra', 'Lucida Bright', 'NanumSquare', 'SimSun-ExtB', 'Algerian', 'Lucida Sans', 'Headline R', 'Webdings', 'Lucida Fax', 'Elephant', 'Lucida Sans', 'Rockwell Condensed', 'Trebuchet MS', 'Segoe UI', 'Segoe Script', 'NanumMyeongjo', 'Century Gothic', 'Magic R', 'Lucida Bright', 'Imprint MT Shadow', 'Bauhaus 93', 'Lucida Fax', 'Trebuchet MS', 'Dubai', 'Viner Hand ITC', 'Gill Sans MT', 'Sitka Small', 'KoPubDotum Light', 'Franklin Gothic Demi Cond', 'Bell MT', 'Gabriola', 'Ebrima', 'HCR Batang', 'Goudy Old Style', 'Informal Roman', 'Microsoft Uighur', 'Calisto MT', 'Palatino Linotype', 'Mistral', 'HyhwpEQ', 'Berlin Sans FB Demi', 'Parchment', 'Freestyle Script', 'Century Gothic', 'HYPMokGak-Bold', 'Segoe UI', 'Eras Light ITC', 'Stencil', 'HYSinMyeongJo-Medium', 'Century Gothic', 'Arial', 'Curlz MT', 'Constantia', 'Perpetua Titling MT', 'Wide Latin', 'Symbol', 'Segoe UI', 'Calibri', 'Calibri', 'Microsoft JhengHei', 'Copperplate Gothic Bold', 'Rockwell', 'Franklin Gothic Demi', 'Edwardian Script ITC', 'KoPubDotum Bold', 'Segoe MDL2 Assets', 'Jokerman', 'NanumGothic', 'Microsoft YaHei', 'Sitka Small', 'Britannic Bold', 'Bodoni MT', 'Nirmala UI', 'Lucida Sans Unicode', 'Segoe UI', 'Consolas', 'HYGraphic-Medium', 'MS Reference Sans Serif', 'MoeumT R', 'NanumGothic', 'Snap ITC', 'Pyunji R', 'Arial', 'Consolas', 'Arial', 'Century', 'Arial', 'HCR Dotum Ext', 'Trebuchet MS', 'Gill Sans Ultra Bold Condensed', 'Cambria', 'Papyrus', 'Candara', 'Microsoft New Tai Lue', 'Myanmar Text', 'Ebrima', 'Book Antiqua', 'Hancom Gothic', 'Candara', 'Vladimir Script', 'Bradley Hand ITC', 'Lucida Bright', 'OCR A Extended', 'NanumSquare_ac', 'Bookman Old Style', 'Haan Wing2', 'Bell MT', 'MT Extra', 'Script MT Bold', 'Californian FB', 'Haettenschweiler', 'Cambria', 'Playbill', 'Georgia', 'Franklin Gothic Demi', 'New Gulim', 'HCR Dotum', 'Batang', 'Franklin Gothic Book', 'Courier New', 'Verdana', 'Wingdings 3', 'Ravie', 'Leelawadee UI', 'NanumSquare', 'Courier New', 'Juice ITC', 'Calibri', 'Leelawadee UI', 'Microsoft Tai Le', 'SimSun', 'Yu Gothic', 'Niagara Solid', 'Tw Cen MT', 'Goudy Old Style', 'Gill Sans MT', 'Perpetua', 'Segoe UI', 'Gill Sans MT', 'Dubai', 'Sitka Small', 'Comic Sans MS', 'High Tower Text', 'Microsoft YaHei', 'Tw Cen MT', 'HYShortSamul-Medium', 'Cascadia Code', 'Forte', 'Ink Free', 'Arial Rounded MT Bold', 'Segoe UI Symbol', 'Chiller', 'Javanese Text', 'Lucida Sans Typewriter', 'Dubai', 'Eras Bold ITC', 'Microsoft Uighur', 'Wingdings 2', 'Californian FB', 'Brush Script MT', 'Pristina', 'Constantia', 'Lucida Fax', 'HYGungSo-Bold', 'Gigi', 'HCR Dotum', 'Impact', 'Lucida Console', 'Kristen ITC', 'NanumSquare', 'Gill Sans MT Condensed', 'Gadugi', 'Bodoni MT', 'Tw Cen MT Condensed Extra Bold', 'Engravers MT', 'Franklin Gothic Book', 'Bodoni MT', 'Myanmar Text', 'Copperplate Gothic Light', 'Palatino Linotype', 'Verdana', 'Colonna MT', 'MV Boli', 'Tw Cen MT', 'Microsoft JhengHei', 'Lucida Sans', 'Corbel', 'Microsoft New Tai Lue', 'Rage Italic', 'NanumGothic', 'Times New Roman', 'Constantia', 'Felix Titling', 'NanumSquare_ac', 'Segoe UI', 'Corbel', 'Franklin Gothic Medium', 'Franklin Gothic Heavy', 'Garamond', 'Tahoma', 'Lucida Calligraphy', 'Arial', 'Perpetua', 'Bookman Old Style', 'Microsoft Tai Le', 'Courier New', 'Blackadder ITC', 'Yu Gothic', 'Niagara Engraved', 'Hancom Gothic', 'Corbel', 'Matura MT Script Capitals', 'Harlow Solid Italic', 'HoloLens MDL2 Assets', 'Verdana', 'Malgun Gothic', 'HYGothic-Medium', 'Cascadia Mono', 'Corbel', 'Rockwell', 'Bell MT', 'Berlin Sans FB', 'Goudy Stout', 'Franklin Gothic Medium Cond', 'Segoe UI', 'Maiandra GD', 'Bodoni MT', 'Agency FB', 'Lucida Bright', 'Vivaldi', 'HCR Batang', 'Perpetua', 'Magneto', 'Showcard Gothic', 'Microsoft Yi Baiti', 'Gill Sans Ultra Bold', 'Bodoni MT', 'NewJumja', 'Microsoft PhagsPa', 'Lucida Sans', 'Eras Demi ITC', 'Corbel', 'Bodoni MT', 'Book Antiqua', 'Gill Sans MT Ext Condensed Bold', 'Franklin Gothic Medium', 'Consolas', 'Consolas', 'NanumMyeongjo', 'Microsoft PhagsPa', 'Yu Gothic', 'Rockwell', 'Bodoni MT', 'Bodoni MT', 'Tw Cen MT Condensed', 'HancomEQN', 'Segoe UI', 'Rockwell Extra Bold', 'Yet R', 'Lucida Sans Typewriter', 'Cooper Black', 'Comic Sans MS', 'Tahoma', 'Leelawadee', 'Garamond', 'Centaur', 'NanumGothic', 'Calisto MT', 'Trebuchet MS', 'Palace Script MT', 'Segoe UI', 'Tempus Sans ITC', 'NanumGothic', 'Ami R', 'Segoe Print', 'Nirmala UI', 'Candara', 'Times New Roman', 'Bodoni MT', 'Baskerville Old Face', 'Malgun Gothic', 'Segoe UI', 'Microsoft JhengHei', 'Lucida Fax', 'Eras Medium ITC', 'Comic Sans MS', 'French Script MT', 'Rockwell Condensed', 'Lucida Sans Typewriter', 'Elephant', 'Monotype Corsiva', 'Dubai', 'Lucida Handwriting', 'Segoe UI Emoji', 'Kunstler Script', 'KoPubBatang Light', 'Tw Cen MT', 'MingLiU-ExtB', 'Garamond', 'Broadway', 'Segoe Script']\n"
     ]
    }
   ],
   "source": [
    "# 가능한 font list 확인\n",
    "import matplotlib.font_manager as fm\n",
    "f = [f.name for f in fm.fontManager.ttflist]\n",
    "print(f)"
   ]
  },
  {
   "cell_type": "code",
   "execution_count": 105,
   "metadata": {},
   "outputs": [
    {
     "name": "stdout",
     "output_type": "stream",
     "text": [
      "['C:\\\\Windows\\\\Fonts\\\\WINGDNG3.TTF', 'C:\\\\Windows\\\\Fonts\\\\PERBI___.TTF', 'C:\\\\Windows\\\\Fonts\\\\monbaiti.ttf', 'C:\\\\Windows\\\\Fonts\\\\cambriaz.ttf', 'C:\\\\Windows\\\\Fonts\\\\AGENCYB.TTF', 'C:\\\\Windows\\\\Fonts\\\\CALIFB.TTF', 'C:\\\\Windows\\\\Fonts\\\\BOOKOSI.TTF', 'C:\\\\Windows\\\\Fonts\\\\times.ttf', 'C:\\\\Windows\\\\Fonts\\\\KUNSTLER.TTF', 'C:\\\\Windows\\\\Fonts\\\\LFAX.TTF', 'C:\\\\Windows\\\\Fonts\\\\segoeprb.ttf', 'C:\\\\Windows\\\\Fonts\\\\Nirmala.ttf', 'C:\\\\Windows\\\\Fonts\\\\simsun.ttc', 'C:\\\\Windows\\\\Fonts\\\\constani.ttf', 'C:\\\\Windows\\\\Fonts\\\\HMFMPYUN.TTF', 'C:\\\\Windows\\\\Fonts\\\\LSANSDI.TTF', 'C:\\\\Windows\\\\Fonts\\\\ERASDEMI.TTF', 'C:\\\\Windows\\\\Fonts\\\\FRADMCN.TTF', 'C:\\\\Windows\\\\Fonts\\\\CALISTI.TTF', 'C:\\\\Windows\\\\Fonts\\\\LFAXI.TTF', 'C:\\\\Windows\\\\Fonts\\\\GILB____.TTF', 'C:\\\\Windows\\\\Fonts\\\\cambria.ttc', 'C:\\\\Windows\\\\Fonts\\\\FORTE.TTF', 'C:\\\\Windows\\\\Fonts\\\\CHILLER.TTF', 'C:\\\\Windows\\\\Fonts\\\\ELEPHNTI.TTF', 'C:\\\\Windows\\\\Fonts\\\\FTLTLT.TTF', 'C:\\\\Windows\\\\Fonts\\\\Gabriola.ttf', 'C:\\\\Windows\\\\Fonts\\\\HANDotum.ttf', 'C:\\\\Windows\\\\Fonts\\\\comicz.ttf', 'C:\\\\Windows\\\\Fonts\\\\seguisli.ttf', 'C:\\\\Windows\\\\Fonts\\\\gadugi.ttf', 'C:\\\\Windows\\\\Fonts\\\\NIAGENG.TTF', 'C:\\\\Windows\\\\Fonts\\\\JOKERMAN.TTF', 'C:\\\\Windows\\\\Fonts\\\\segoepr.ttf', 'C:\\\\Windows\\\\Fonts\\\\trebucbi.ttf', 'C:\\\\Windows\\\\Fonts\\\\malgun.ttf', 'C:\\\\Windows\\\\Fonts\\\\HancomEQN.ttf', 'C:\\\\Windows\\\\Fonts\\\\wingding.ttf', 'C:\\\\Windows\\\\Fonts\\\\constanz.ttf', 'C:\\\\Windows\\\\Fonts\\\\trebucbd.ttf', 'C:\\\\Windows\\\\Fonts\\\\lucon.ttf', 'C:\\\\Windows\\\\Fonts\\\\ebrima.ttf', 'C:\\\\Windows\\\\Fonts\\\\ENGR.TTF', 'C:\\\\Windows\\\\Fonts\\\\BOD_PSTC.TTF', 'C:\\\\Windows\\\\Fonts\\\\bahnschrift.ttf', 'C:\\\\Windows\\\\Fonts\\\\arialbd.ttf', 'C:\\\\Windows\\\\Fonts\\\\HYHWPEQ.TTF', 'C:\\\\Windows\\\\Fonts\\\\HANWing2.ttf', 'C:\\\\Windows\\\\Fonts\\\\NanumGothicBold.ttf', 'C:\\\\Windows\\\\Fonts\\\\calibrii.ttf', 'C:\\\\Windows\\\\Fonts\\\\SCHLBKB.TTF', 'C:\\\\Windows\\\\Fonts\\\\HANDotumExt.ttf', 'C:\\\\Windows\\\\Fonts\\\\H2MJSM.TTF', 'C:\\\\Windows\\\\Fonts\\\\ONYX.TTF', 'C:\\\\Windows\\\\Fonts\\\\segoeuib.ttf', 'C:\\\\Windows\\\\Fonts\\\\HARLOWSI.TTF', 'C:\\\\Windows\\\\Fonts\\\\segmdl2.ttf', 'C:\\\\Windows\\\\Fonts\\\\GILC____.TTF', 'C:\\\\Windows\\\\Fonts\\\\NanumSquare_0.ttf', 'C:\\\\Windows\\\\Fonts\\\\NanumGothicExtraBold.ttf', 'C:\\\\Windows\\\\Fonts\\\\Candaraz.ttf', 'C:\\\\Windows\\\\Fonts\\\\DUBAI-REGULAR.TTF', 'C:\\\\Windows\\\\Fonts\\\\ANTQUAI.TTF', 'C:\\\\Windows\\\\Fonts\\\\MSUIGHUB.TTF', 'C:\\\\Windows\\\\Fonts\\\\consola.ttf', 'C:\\\\Windows\\\\Fonts\\\\FRABKIT.TTF', 'C:\\\\Windows\\\\Fonts\\\\MTCORSVA.TTF', 'C:\\\\Windows\\\\Fonts\\\\himalaya.ttf', 'C:\\\\Windows\\\\Fonts\\\\GILLUBCD.TTF', 'C:\\\\Windows\\\\Fonts\\\\Candarai.ttf', 'C:\\\\Windows\\\\Fonts\\\\FREESCPT.TTF', 'C:\\\\Windows\\\\Fonts\\\\NanumGothicLight.ttf', 'C:\\\\Windows\\\\Fonts\\\\HTOWERTI.TTF', 'C:\\\\Windows\\\\Fonts\\\\HTOWERT.TTF', 'C:\\\\Windows\\\\Fonts\\\\calibril.ttf', 'C:\\\\Windows\\\\Fonts\\\\CALISTB.TTF', 'C:\\\\Windows\\\\Fonts\\\\mmrtext.ttf', 'C:\\\\Windows\\\\Fonts\\\\seguibli.ttf', 'C:\\\\Windows\\\\Fonts\\\\NanumSquare_acR.ttf', 'C:\\\\Windows\\\\Fonts\\\\CALIST.TTF', 'C:\\\\Windows\\\\Fonts\\\\BELL.TTF', 'C:\\\\Windows\\\\Fonts\\\\msyh.ttc', 'C:\\\\Windows\\\\Fonts\\\\YuGothB.ttc', 'C:\\\\Windows\\\\Fonts\\\\couri.ttf', 'C:\\\\Windows\\\\Fonts\\\\ariali.ttf', 'C:\\\\Windows\\\\Fonts\\\\CALISTBI.TTF', 'C:\\\\Windows\\\\Fonts\\\\GOTHICB.TTF', 'C:\\\\Windows\\\\Fonts\\\\H2PORM.TTF', 'C:\\\\Windows\\\\Fonts\\\\REFSPCL.TTF', 'C:\\\\Windows\\\\Fonts\\\\COOPBL.TTF', 'C:\\\\Windows\\\\Fonts\\\\MAGNETOB.TTF', 'C:\\\\Windows\\\\Fonts\\\\BERNHC.TTF', 'C:\\\\Windows\\\\Fonts\\\\TEMPSITC.TTF', 'C:\\\\Windows\\\\Fonts\\\\BOD_BLAI.TTF', 'C:\\\\Windows\\\\Fonts\\\\corbell.ttf', 'C:\\\\Windows\\\\Fonts\\\\timesbi.ttf', 'C:\\\\Windows\\\\Fonts\\\\HANDotumB.ttf', 'C:\\\\Windows\\\\Fonts\\\\LEELAWAD.TTF', 'C:\\\\Windows\\\\Fonts\\\\DUBAI-LIGHT.TTF', 'C:\\\\Windows\\\\Fonts\\\\LSANSD.TTF', 'C:\\\\Windows\\\\Fonts\\\\webdings.ttf', 'C:\\\\Windows\\\\Fonts\\\\BOD_CB.TTF', 'C:\\\\Windows\\\\Fonts\\\\LBRITE.TTF', 'C:\\\\Windows\\\\Fonts\\\\msjhl.ttc', 'C:\\\\Windows\\\\Fonts\\\\arial.ttf', 'C:\\\\Windows\\\\Fonts\\\\constanb.ttf', 'C:\\\\Windows\\\\Fonts\\\\TCCM____.TTF', 'C:\\\\Windows\\\\Fonts\\\\ARIALNBI.TTF', 'C:\\\\Windows\\\\Fonts\\\\ANTQUAB.TTF', 'C:\\\\Windows\\\\Fonts\\\\LSANSI.TTF', 'C:\\\\Windows\\\\Fonts\\\\H2HDRM.TTF', 'C:\\\\Windows\\\\Fonts\\\\ERASLGHT.TTF', 'C:\\\\Windows\\\\Fonts\\\\BRLNSR.TTF', 'C:\\\\Windows\\\\Fonts\\\\ARLRDBD.TTF', 'C:\\\\Windows\\\\Fonts\\\\symbol.ttf', 'C:\\\\Windows\\\\Fonts\\\\BOD_CI.TTF', 'C:\\\\Windows\\\\Fonts\\\\H2MKPB.TTF', 'C:\\\\Windows\\\\Fonts\\\\GILSANUB.TTF', 'C:\\\\Windows\\\\Fonts\\\\LATINWD.TTF', 'C:\\\\Windows\\\\Fonts\\\\BASKVILL.TTF', 'C:\\\\Windows\\\\Fonts\\\\REFSAN.TTF', 'C:\\\\Windows\\\\Fonts\\\\PERTILI.TTF', 'C:\\\\Windows\\\\Fonts\\\\ROCK.TTF', 'C:\\\\Windows\\\\Fonts\\\\Candaral.ttf', 'C:\\\\Windows\\\\Fonts\\\\framd.ttf', 'C:\\\\Windows\\\\Fonts\\\\comici.ttf', 'C:\\\\Windows\\\\Fonts\\\\ROCKEB.TTF', 'C:\\\\Windows\\\\Fonts\\\\NanumSquare_acL.ttf', 'C:\\\\Windows\\\\Fonts\\\\GILI____.TTF', 'C:\\\\Windows\\\\Fonts\\\\ROCCB___.TTF', 'C:\\\\Windows\\\\Fonts\\\\PERTIBD.TTF', 'C:\\\\Windows\\\\Fonts\\\\ITCBLKAD.TTF', 'C:\\\\Windows\\\\Fonts\\\\CURLZ___.TTF', 'C:\\\\Windows\\\\Fonts\\\\GLSNECB.TTF', 'C:\\\\Windows\\\\Fonts\\\\gulim.ttc', 'C:\\\\Windows\\\\Fonts\\\\LEELAWDB.TTF', 'C:\\\\Windows\\\\Fonts\\\\palabi.ttf', 'C:\\\\Windows\\\\Fonts\\\\ebrimabd.ttf', 'C:\\\\Windows\\\\Fonts\\\\H2GPRM.TTF', 'C:\\\\Windows\\\\Fonts\\\\PER_____.TTF', 'C:\\\\Windows\\\\Fonts\\\\LBRITED.TTF', 'C:\\\\Windows\\\\Fonts\\\\corbelz.ttf', 'C:\\\\Windows\\\\Fonts\\\\Hancom Gothic Regular.ttf', 'C:\\\\Windows\\\\Fonts\\\\TCMI____.TTF', 'C:\\\\Windows\\\\Fonts\\\\PAPYRUS.TTF', 'C:\\\\Windows\\\\Fonts\\\\YuGothL.ttc', 'C:\\\\Windows\\\\Fonts\\\\BOD_B.TTF', 'C:\\\\Windows\\\\Fonts\\\\SCRIPTBL.TTF', 'C:\\\\Windows\\\\Fonts\\\\calibrili.ttf', 'C:\\\\Windows\\\\Fonts\\\\RAVIE.TTF', 'C:\\\\Windows\\\\Fonts\\\\OCRAEXT.TTF', 'C:\\\\Windows\\\\Fonts\\\\LFAXD.TTF', 'C:\\\\Windows\\\\Fonts\\\\LTYPEBO.TTF', 'C:\\\\Windows\\\\Fonts\\\\consolab.ttf', 'C:\\\\Windows\\\\Fonts\\\\NirmalaS.ttf', 'C:\\\\Windows\\\\Fonts\\\\batang.ttc', 'C:\\\\Windows\\\\Fonts\\\\tahomabd.ttf', 'C:\\\\Windows\\\\Fonts\\\\verdanai.ttf', 'C:\\\\Windows\\\\Fonts\\\\segoeuiz.ttf', 'C:\\\\Windows\\\\Fonts\\\\BOOKOSBI.TTF', 'C:\\\\Windows\\\\Fonts\\\\trebuc.ttf', 'C:\\\\Windows\\\\Fonts\\\\LHANDW.TTF', 'C:\\\\Windows\\\\Fonts\\\\consolai.ttf', 'C:\\\\Windows\\\\Fonts\\\\BOOKOS.TTF', 'C:\\\\Windows\\\\Fonts\\\\FRSCRIPT.TTF', 'C:\\\\Windows\\\\Fonts\\\\NanumMyeongjo.ttf', 'C:\\\\Windows\\\\Fonts\\\\constan.ttf', 'C:\\\\Windows\\\\Fonts\\\\ariblk.ttf', 'C:\\\\Windows\\\\Fonts\\\\FRAMDCN.TTF', 'C:\\\\Windows\\\\Fonts\\\\Candara.ttf', 'C:\\\\Windows\\\\Fonts\\\\VINERITC.TTF', 'C:\\\\Windows\\\\Fonts\\\\LTYPEO.TTF', 'C:\\\\Windows\\\\Fonts\\\\FRADMIT.TTF', 'C:\\\\Windows\\\\Fonts\\\\MATURASC.TTF', 'C:\\\\Windows\\\\Fonts\\\\SCHLBKI.TTF', 'C:\\\\Windows\\\\Fonts\\\\ANTQUABI.TTF', 'C:\\\\Windows\\\\Fonts\\\\HMKMAMI.TTF', 'C:\\\\Windows\\\\Fonts\\\\STENCIL.TTF', 'C:\\\\Windows\\\\Fonts\\\\ALGER.TTF', 'C:\\\\Windows\\\\Fonts\\\\H2MJRE.TTF', 'C:\\\\Windows\\\\Fonts\\\\ntailub.ttf', 'C:\\\\Windows\\\\Fonts\\\\H2PORL.TTF', 'C:\\\\Windows\\\\Fonts\\\\georgiab.ttf', 'C:\\\\Windows\\\\Fonts\\\\MISTRAL.TTF', 'C:\\\\Windows\\\\Fonts\\\\KoPubDotumMedium.ttf', 'C:\\\\Windows\\\\Fonts\\\\HANBatangExtB.ttf', 'C:\\\\Windows\\\\Fonts\\\\georgiai.ttf', 'C:\\\\Windows\\\\Fonts\\\\OUTLOOK.TTF', 'C:\\\\Windows\\\\Fonts\\\\ROCKI.TTF', 'C:\\\\Windows\\\\Fonts\\\\HANBatangB.ttf', 'C:\\\\Windows\\\\Fonts\\\\JUICE___.TTF', 'C:\\\\Windows\\\\Fonts\\\\ERASMD.TTF', 'C:\\\\Windows\\\\Fonts\\\\corbelb.ttf', 'C:\\\\Windows\\\\Fonts\\\\DUBAI-BOLD.TTF', 'C:\\\\Windows\\\\Fonts\\\\cambriab.ttf', 'C:\\\\Windows\\\\Fonts\\\\HANBatangExtBB.ttf', 'C:\\\\Windows\\\\Fonts\\\\YuGothM.ttc', 'C:\\\\Windows\\\\Fonts\\\\SCHLBKBI.TTF', 'C:\\\\Windows\\\\Fonts\\\\segoeui.ttf', 'C:\\\\Windows\\\\Fonts\\\\BOD_R.TTF', 'C:\\\\Windows\\\\Fonts\\\\seguibl.ttf', 'C:\\\\Windows\\\\Fonts\\\\CALIFR.TTF', 'C:\\\\Windows\\\\Fonts\\\\NIAGSOL.TTF', 'C:\\\\Windows\\\\Fonts\\\\PALSCRI.TTF', 'C:\\\\Windows\\\\Fonts\\\\VLADIMIR.TTF', 'C:\\\\Windows\\\\Fonts\\\\CENTAUR.TTF', 'C:\\\\Windows\\\\Fonts\\\\LCALLIG.TTF', 'C:\\\\Windows\\\\Fonts\\\\COLONNA.TTF', 'C:\\\\Windows\\\\Fonts\\\\PERB____.TTF', 'C:\\\\Windows\\\\Fonts\\\\PERI____.TTF', 'C:\\\\Windows\\\\Fonts\\\\ROCC____.TTF', 'C:\\\\Windows\\\\Fonts\\\\H2GTRE.TTF', 'C:\\\\Windows\\\\Fonts\\\\calibri.ttf', 'C:\\\\Windows\\\\Fonts\\\\timesi.ttf', 'C:\\\\Windows\\\\Fonts\\\\BROADW.TTF', 'C:\\\\Windows\\\\Fonts\\\\MSUIGHUR.TTF', 'C:\\\\Windows\\\\Fonts\\\\BOOKOSB.TTF', 'C:\\\\Windows\\\\Fonts\\\\phagspab.ttf', 'C:\\\\Windows\\\\Fonts\\\\GOUDYSTO.TTF', 'C:\\\\Windows\\\\Fonts\\\\ROCKB.TTF', 'C:\\\\Windows\\\\Fonts\\\\PLAYBILL.TTF', 'C:\\\\Windows\\\\Fonts\\\\SNAP____.TTF', 'C:\\\\Windows\\\\Fonts\\\\taileb.ttf', 'C:\\\\Windows\\\\Fonts\\\\MOD20.TTF', 'C:\\\\Windows\\\\Fonts\\\\BAUHS93.TTF', 'C:\\\\Windows\\\\Fonts\\\\arialbi.ttf', 'C:\\\\Windows\\\\Fonts\\\\courbi.ttf', 'C:\\\\Windows\\\\Fonts\\\\H2GSRB.TTF', 'C:\\\\Windows\\\\Fonts\\\\ARIALN.TTF', 'C:\\\\Windows\\\\Fonts\\\\gadugib.ttf', 'C:\\\\Windows\\\\Fonts\\\\GARA.TTF', 'C:\\\\Windows\\\\Fonts\\\\HMFMMUEX.TTC', 'C:\\\\Windows\\\\Fonts\\\\msyhbd.ttc', 'C:\\\\Windows\\\\Fonts\\\\segoeuil.ttf', 'C:\\\\Windows\\\\Fonts\\\\Inkfree.ttf', 'C:\\\\Windows\\\\Fonts\\\\micross.ttf', 'C:\\\\Windows\\\\Fonts\\\\KoPubDotumBold.ttf', 'C:\\\\Windows\\\\Fonts\\\\HATTEN.TTF', 'C:\\\\Windows\\\\Fonts\\\\seguisb.ttf', 'C:\\\\Windows\\\\Fonts\\\\mingliub.ttc', 'C:\\\\Windows\\\\Fonts\\\\FRAHVIT.TTF', 'C:\\\\Windows\\\\Fonts\\\\GOUDOSI.TTF', 'C:\\\\Windows\\\\Fonts\\\\GOUDOSB.TTF', 'C:\\\\Windows\\\\Fonts\\\\taile.ttf', 'C:\\\\Windows\\\\Fonts\\\\ARIALNB.TTF', 'C:\\\\Windows\\\\Fonts\\\\ELEPHNT.TTF', 'C:\\\\Windows\\\\Fonts\\\\phagspa.ttf', 'C:\\\\Windows\\\\Fonts\\\\BOD_CBI.TTF', 'C:\\\\Windows\\\\Fonts\\\\TCB_____.TTF', 'C:\\\\Windows\\\\Fonts\\\\courbd.ttf', 'C:\\\\Windows\\\\Fonts\\\\corbelli.ttf', 'C:\\\\Windows\\\\Fonts\\\\H2GTRM.TTF', 'C:\\\\Windows\\\\Fonts\\\\malgunsl.ttf', 'C:\\\\Windows\\\\Fonts\\\\RAGE.TTF', 'C:\\\\Windows\\\\Fonts\\\\timesbd.ttf', 'C:\\\\Windows\\\\Fonts\\\\LTYPEB.TTF', 'C:\\\\Windows\\\\Fonts\\\\FRAHV.TTF', 'C:\\\\Windows\\\\Fonts\\\\calibriz.ttf', 'C:\\\\Windows\\\\Fonts\\\\verdanaz.ttf', 'C:\\\\Windows\\\\Fonts\\\\javatext.ttf', 'C:\\\\Windows\\\\Fonts\\\\cambriai.ttf', 'C:\\\\Windows\\\\Fonts\\\\NGULIM.TTF', 'C:\\\\Windows\\\\Fonts\\\\OLDENGL.TTF', 'C:\\\\Windows\\\\Fonts\\\\KoPubBatangLight.ttf', 'C:\\\\Windows\\\\Fonts\\\\consolaz.ttf', 'C:\\\\Windows\\\\Fonts\\\\palai.ttf', 'C:\\\\Windows\\\\Fonts\\\\msjh.ttc', 'C:\\\\Windows\\\\Fonts\\\\palab.ttf', 'C:\\\\Windows\\\\Fonts\\\\TCCB____.TTF', 'C:\\\\Windows\\\\Fonts\\\\ROCKBI.TTF', 'C:\\\\Windows\\\\Fonts\\\\CENTURY.TTF', 'C:\\\\Windows\\\\Fonts\\\\l_10646.ttf', 'C:\\\\Windows\\\\Fonts\\\\BOD_BLAR.TTF', 'C:\\\\Windows\\\\Fonts\\\\GOTHICI.TTF', 'C:\\\\Windows\\\\Fonts\\\\NanumMyeongjoBold.ttf', 'C:\\\\Windows\\\\Fonts\\\\LTYPE.TTF', 'C:\\\\Windows\\\\Fonts\\\\WINGDNG2.TTF', 'C:\\\\Windows\\\\Fonts\\\\segoeuisl.ttf', 'C:\\\\Windows\\\\Fonts\\\\UnBatang.ttf', 'C:\\\\Windows\\\\Fonts\\\\FRADM.TTF', 'C:\\\\Windows\\\\Fonts\\\\msjhbd.ttc', 'C:\\\\Windows\\\\Fonts\\\\SHOWG.TTF', 'C:\\\\Windows\\\\Fonts\\\\PRISTINA.TTF', 'C:\\\\Windows\\\\Fonts\\\\LeelaUIb.ttf', 'C:\\\\Windows\\\\Fonts\\\\GOUDOS.TTF', 'C:\\\\Windows\\\\Fonts\\\\GARABD.TTF', 'C:\\\\Windows\\\\Fonts\\\\seguili.ttf', 'C:\\\\Windows\\\\Fonts\\\\georgia.ttf', 'C:\\\\Windows\\\\Fonts\\\\HANBatangExt.ttf', 'C:\\\\Windows\\\\Fonts\\\\mvboli.ttf', 'C:\\\\Windows\\\\Fonts\\\\ntailu.ttf', 'C:\\\\Windows\\\\Fonts\\\\H2SA1M.TTF', 'C:\\\\Windows\\\\Fonts\\\\GIL_____.TTF', 'C:\\\\Windows\\\\Fonts\\\\sylfaen.ttf', 'C:\\\\Windows\\\\Fonts\\\\calibrib.ttf', 'C:\\\\Windows\\\\Fonts\\\\BSSYM7.TTF', 'C:\\\\Windows\\\\Fonts\\\\msyi.ttf', 'C:\\\\Windows\\\\Fonts\\\\mmrtextb.ttf', 'C:\\\\Windows\\\\Fonts\\\\LBRITEI.TTF', 'C:\\\\Windows\\\\Fonts\\\\GLECB.TTF', 'C:\\\\Windows\\\\Fonts\\\\AGENCYR.TTF', 'C:\\\\Windows\\\\Fonts\\\\TCM_____.TTF', 'C:\\\\Windows\\\\Fonts\\\\IMPRISHA.TTF', 'C:\\\\Windows\\\\Fonts\\\\CENSCBK.TTF', 'C:\\\\Windows\\\\Fonts\\\\BOD_BI.TTF', 'C:\\\\Windows\\\\Fonts\\\\BOD_CR.TTF', 'C:\\\\Windows\\\\Fonts\\\\44 NanumGothicExtraBold.ttf', 'C:\\\\Windows\\\\Fonts\\\\TCBI____.TTF', 'C:\\\\Windows\\\\Fonts\\\\HARNGTON.TTF', 'C:\\\\Windows\\\\Fonts\\\\simsunb.ttf', 'C:\\\\Windows\\\\Fonts\\\\Hancom Gothic Bold.ttf', 'C:\\\\Users\\\\kiw\\\\AppData\\\\Local\\\\Microsoft\\\\Windows\\\\Fonts\\\\44 NanumGothicExtraBold.ttf', 'C:\\\\Windows\\\\Fonts\\\\tahoma.ttf', 'C:\\\\Windows\\\\Fonts\\\\verdana.ttf', 'C:\\\\Windows\\\\Fonts\\\\msgothic.ttc', 'C:\\\\Users\\\\kiw\\\\AppData\\\\Local\\\\Microsoft\\\\Windows\\\\Fonts\\\\NanumSquareR.ttf', 'C:\\\\Windows\\\\Fonts\\\\DUBAI-MEDIUM.TTF', 'C:\\\\Windows\\\\Fonts\\\\CALIFI.TTF', 'C:\\\\Windows\\\\Fonts\\\\HANBatang.ttf', 'C:\\\\Users\\\\kiw\\\\AppData\\\\Local\\\\Microsoft\\\\Windows\\\\Fonts\\\\NanumSquareB.ttf', 'C:\\\\Windows\\\\Fonts\\\\verdanab.ttf', 'C:\\\\Windows\\\\Fonts\\\\ITCEDSCR.TTF', 'C:\\\\Windows\\\\Fonts\\\\SitkaB.ttc', 'C:\\\\Windows\\\\Fonts\\\\MTEXTRA.TTF', 'C:\\\\Windows\\\\Fonts\\\\comic.ttf', 'C:\\\\Windows\\\\Fonts\\\\ERASBD.TTF', 'C:\\\\Windows\\\\Fonts\\\\KoPubBatangBold.ttf', 'C:\\\\Windows\\\\Fonts\\\\msyhl.ttc', 'C:\\\\Windows\\\\Fonts\\\\LFAXDI.TTF', 'C:\\\\Windows\\\\Fonts\\\\segoeuii.ttf', 'C:\\\\Users\\\\kiw\\\\AppData\\\\Local\\\\Microsoft\\\\Windows\\\\Fonts\\\\NanumSquareEB.ttf', 'C:\\\\Windows\\\\Fonts\\\\CascadiaCode.ttf', 'C:\\\\Windows\\\\Fonts\\\\seguisym.ttf', 'C:\\\\Windows\\\\Fonts\\\\INFROMAN.TTF', 'C:\\\\Windows\\\\Fonts\\\\BELLB.TTF', 'C:\\\\Windows\\\\Fonts\\\\LeelawUI.ttf', 'C:\\\\Windows\\\\Fonts\\\\pala.ttf', 'C:\\\\Windows\\\\Fonts\\\\NanumSquare.ttf', 'C:\\\\Windows\\\\Fonts\\\\BRADHITC.TTF', 'C:\\\\Windows\\\\Fonts\\\\comicbd.ttf', 'C:\\\\Windows\\\\Fonts\\\\JUMJA.TTF', 'C:\\\\Windows\\\\Fonts\\\\FELIXTI.TTF', 'C:\\\\Windows\\\\Fonts\\\\BRUSHSCI.TTF', 'C:\\\\Windows\\\\Fonts\\\\NanumMyeongjoExtraBold.ttf', 'C:\\\\Windows\\\\Fonts\\\\LeelUIsl.ttf', 'C:\\\\Windows\\\\Fonts\\\\corbel.ttf', 'C:\\\\Windows\\\\Fonts\\\\LBRITEDI.TTF', 'C:\\\\Windows\\\\Fonts\\\\malgunbd.ttf', 'C:\\\\Windows\\\\Fonts\\\\FRABK.TTF', 'C:\\\\Windows\\\\Fonts\\\\BRITANIC.TTF', 'C:\\\\Windows\\\\Fonts\\\\GILBI___.TTF', 'C:\\\\Windows\\\\Fonts\\\\seguiemj.ttf', 'C:\\\\Windows\\\\Fonts\\\\CascadiaMono.ttf', 'C:\\\\Windows\\\\Fonts\\\\CASTELAR.TTF', 'C:\\\\Windows\\\\Fonts\\\\Candarab.ttf', 'C:\\\\Windows\\\\Fonts\\\\cour.ttf', 'C:\\\\Windows\\\\Fonts\\\\GIGI.TTF', 'C:\\\\Windows\\\\Fonts\\\\BKANT.TTF', 'C:\\\\Windows\\\\Fonts\\\\georgiaz.ttf', 'C:\\\\Windows\\\\Fonts\\\\SitkaI.ttc', 'C:\\\\Windows\\\\Fonts\\\\COPRGTL.TTF', 'C:\\\\Windows\\\\Fonts\\\\Sitka.ttc', 'C:\\\\Windows\\\\Fonts\\\\SitkaZ.ttc', 'C:\\\\Windows\\\\Fonts\\\\holomdl2.ttf', 'C:\\\\Windows\\\\Fonts\\\\GOTHIC.TTF', 'C:\\\\Windows\\\\Fonts\\\\BOD_I.TTF', 'C:\\\\Windows\\\\Fonts\\\\GOTHICBI.TTF', 'C:\\\\Windows\\\\Fonts\\\\POORICH.TTF', 'C:\\\\Windows\\\\Fonts\\\\NirmalaB.ttf', 'C:\\\\Windows\\\\Fonts\\\\GARAIT.TTF', 'C:\\\\Windows\\\\Fonts\\\\YuGothR.ttc', 'C:\\\\Windows\\\\Fonts\\\\seguihis.ttf', 'C:\\\\Windows\\\\Fonts\\\\framdit.ttf', 'C:\\\\Windows\\\\Fonts\\\\UnDotum.ttf', 'C:\\\\Windows\\\\Fonts\\\\impact.ttf', 'C:\\\\Windows\\\\Fonts\\\\seguisbi.ttf', 'C:\\\\Windows\\\\Fonts\\\\BELLI.TTF', 'C:\\\\Windows\\\\Fonts\\\\LSANS.TTF', 'C:\\\\Windows\\\\Fonts\\\\KoPubDotumLight.ttf', 'C:\\\\Windows\\\\Fonts\\\\BRLNSDB.TTF', 'C:\\\\Windows\\\\Fonts\\\\KoPubBatangMedium.ttf', 'C:\\\\Windows\\\\Fonts\\\\trebucit.ttf', 'C:\\\\Windows\\\\Fonts\\\\HMKMRHD.TTF', 'C:\\\\Windows\\\\Fonts\\\\PARCHM.TTF', 'C:\\\\Windows\\\\Fonts\\\\segoescb.ttf', 'C:\\\\Windows\\\\Fonts\\\\segoesc.ttf', 'C:\\\\Users\\\\kiw\\\\AppData\\\\Local\\\\Microsoft\\\\Windows\\\\Fonts\\\\NanumSquareL.ttf', 'C:\\\\Windows\\\\Fonts\\\\ARIALNI.TTF', 'C:\\\\Windows\\\\Fonts\\\\VIVALDII.TTF', 'C:\\\\Windows\\\\Fonts\\\\ITCKRIST.TTF', 'C:\\\\Windows\\\\Fonts\\\\NanumGothic.ttf', 'C:\\\\Windows\\\\Fonts\\\\corbeli.ttf', 'C:\\\\Windows\\\\Fonts\\\\BRLNSB.TTF', 'C:\\\\Windows\\\\Fonts\\\\Candarali.ttf', 'C:\\\\Windows\\\\Fonts\\\\MAIAN.TTF', 'C:\\\\Windows\\\\Fonts\\\\HMKMMAG.TTF', 'C:\\\\Windows\\\\Fonts\\\\COPRGTB.TTF', 'C:\\\\Windows\\\\Fonts\\\\HMFMOLD.TTF', 'C:\\\\Windows\\\\Fonts\\\\TCCEB.TTF']\n"
     ]
    }
   ],
   "source": [
    "# ttf 폰트 주소\n",
    "font_list = fm.findSystemFonts(fontpaths=None, fontext='ttf')\n",
    "print(font_list)"
   ]
  },
  {
   "cell_type": "code",
   "execution_count": 106,
   "metadata": {},
   "outputs": [
    {
     "name": "stdout",
     "output_type": "stream",
     "text": [
      "['NanumSquare_ac']\n"
     ]
    }
   ],
   "source": [
    "import matplotlib.pyplot as plt\n",
    "from matplotlib import font_manager\n",
    "import matplotlib.pyplot as plt\n",
    "import seaborn as sns\n",
    "\n",
    "# (한글 출력하려고) 폰트 변경\n",
    "path = 'C:\\\\Windows\\\\Fonts\\\\NanumSquare_acL.ttf'\n",
    "font_name = fm.FontProperties(fname=path, size=50).get_name()\n",
    "plt.rc('font', family=font_name)\n",
    "print(plt.rcParams['font.family'])"
   ]
  },
  {
   "cell_type": "code",
   "execution_count": 107,
   "metadata": {},
   "outputs": [
    {
     "data": {
      "text/plain": [
       "emotion\n",
       "놀람    19551\n",
       "분노    19615\n",
       "불안    15984\n",
       "슬픔    27353\n",
       "중립    45495\n",
       "행복    14319\n",
       "Name: sentence, dtype: int64"
      ]
     },
     "execution_count": 107,
     "metadata": {},
     "output_type": "execute_result"
    }
   ],
   "source": [
    "trainset.groupby('emotion').count().iloc[:,0]"
   ]
  },
  {
   "cell_type": "code",
   "execution_count": 108,
   "metadata": {},
   "outputs": [
    {
     "data": {
      "image/png": "[encoded data removed]",
      "text/plain": [
       "<Figure size 1500x800 with 1 Axes>"
      ]
     },
     "metadata": {},
     "output_type": "display_data"
    }
   ],
   "source": [
    "# countplot으로 시각화\n",
    "plt.rcParams['figure.figsize'] = [15,8]\n",
    "sns.countplot(x='emotion',data=trainset)\n",
    "plt.rcParams['font.size'] = 20\n",
    "plt.title('감정 분포', fontsize=40)\n",
    "plt.xlabel('emotion', fontsize=40)\n",
    "plt.ylabel('count', fontsize=15)\n",
    "plt.show()"
   ]
  },
  {
   "cell_type": "code",
   "execution_count": 92,
   "metadata": {},
   "outputs": [
    {
     "name": "stdout",
     "output_type": "stream",
     "text": [
      "Original '슬픔' 클래스 샘플 개수: 27353\n"
     ]
    },
    {
     "ename": "ValueError",
     "evalue": "The target 'y' needs to have more than 1 class. Got 1 class instead",
     "output_type": "error",
     "traceback": [
      "\u001b[1;31m---------------------------------------------------------------------------\u001b[0m",
      "\u001b[1;31mValueError\u001b[0m                                Traceback (most recent call last)",
      "Cell \u001b[1;32mIn[92], line 15\u001b[0m\n\u001b[0;32m     13\u001b[0m \u001b[39m# 언더 샘플링 수행\u001b[39;00m\n\u001b[0;32m     14\u001b[0m rus \u001b[39m=\u001b[39m RandomUnderSampler(sampling_strategy\u001b[39m=\u001b[39m\u001b[39m20000\u001b[39m\u001b[39m/\u001b[39m\u001b[39mlen\u001b[39m(sad_df))\n\u001b[1;32m---> 15\u001b[0m X_resampled, y_resampled \u001b[39m=\u001b[39m rus\u001b[39m.\u001b[39;49mfit_resample(sad_df\u001b[39m.\u001b[39;49mdrop(\u001b[39m'\u001b[39;49m\u001b[39memotion\u001b[39;49m\u001b[39m'\u001b[39;49m, axis\u001b[39m=\u001b[39;49m\u001b[39m1\u001b[39;49m), sad_df[\u001b[39m'\u001b[39;49m\u001b[39memotion\u001b[39;49m\u001b[39m'\u001b[39;49m])\n\u001b[0;32m     17\u001b[0m \u001b[39m# 언더 샘플링 결과 확인\u001b[39;00m\n\u001b[0;32m     18\u001b[0m undersampled_df \u001b[39m=\u001b[39m pd\u001b[39m.\u001b[39mDataFrame(X_resampled, columns\u001b[39m=\u001b[39msad_df\u001b[39m.\u001b[39mdrop(\u001b[39m'\u001b[39m\u001b[39memotion\u001b[39m\u001b[39m'\u001b[39m, axis\u001b[39m=\u001b[39m\u001b[39m1\u001b[39m)\u001b[39m.\u001b[39mcolumns)\n",
      "File \u001b[1;32mc:\\Users\\kiw\\anaconda3\\lib\\site-packages\\imblearn\\base.py:203\u001b[0m, in \u001b[0;36mBaseSampler.fit_resample\u001b[1;34m(self, X, y)\u001b[0m\n\u001b[0;32m    182\u001b[0m \u001b[39m\"\"\"Resample the dataset.\u001b[39;00m\n\u001b[0;32m    183\u001b[0m \n\u001b[0;32m    184\u001b[0m \u001b[39mParameters\u001b[39;00m\n\u001b[1;32m   (...)\u001b[0m\n\u001b[0;32m    200\u001b[0m \u001b[39m    The corresponding label of `X_resampled`.\u001b[39;00m\n\u001b[0;32m    201\u001b[0m \u001b[39m\"\"\"\u001b[39;00m\n\u001b[0;32m    202\u001b[0m \u001b[39mself\u001b[39m\u001b[39m.\u001b[39m_validate_params()\n\u001b[1;32m--> 203\u001b[0m \u001b[39mreturn\u001b[39;00m \u001b[39msuper\u001b[39;49m()\u001b[39m.\u001b[39;49mfit_resample(X, y)\n",
      "File \u001b[1;32mc:\\Users\\kiw\\anaconda3\\lib\\site-packages\\imblearn\\base.py:84\u001b[0m, in \u001b[0;36mSamplerMixin.fit_resample\u001b[1;34m(self, X, y)\u001b[0m\n\u001b[0;32m     81\u001b[0m arrays_transformer \u001b[39m=\u001b[39m ArraysTransformer(X, y)\n\u001b[0;32m     82\u001b[0m X, y, binarize_y \u001b[39m=\u001b[39m \u001b[39mself\u001b[39m\u001b[39m.\u001b[39m_check_X_y(X, y)\n\u001b[1;32m---> 84\u001b[0m \u001b[39mself\u001b[39m\u001b[39m.\u001b[39msampling_strategy_ \u001b[39m=\u001b[39m check_sampling_strategy(\n\u001b[0;32m     85\u001b[0m     \u001b[39mself\u001b[39;49m\u001b[39m.\u001b[39;49msampling_strategy, y, \u001b[39mself\u001b[39;49m\u001b[39m.\u001b[39;49m_sampling_type\n\u001b[0;32m     86\u001b[0m )\n\u001b[0;32m     88\u001b[0m output \u001b[39m=\u001b[39m \u001b[39mself\u001b[39m\u001b[39m.\u001b[39m_fit_resample(X, y)\n\u001b[0;32m     90\u001b[0m y_ \u001b[39m=\u001b[39m (\n\u001b[0;32m     91\u001b[0m     label_binarize(output[\u001b[39m1\u001b[39m], classes\u001b[39m=\u001b[39mnp\u001b[39m.\u001b[39munique(y)) \u001b[39mif\u001b[39;00m binarize_y \u001b[39melse\u001b[39;00m output[\u001b[39m1\u001b[39m]\n\u001b[0;32m     92\u001b[0m )\n",
      "File \u001b[1;32mc:\\Users\\kiw\\anaconda3\\lib\\site-packages\\imblearn\\utils\\_validation.py:514\u001b[0m, in \u001b[0;36mcheck_sampling_strategy\u001b[1;34m(sampling_strategy, y, sampling_type, **kwargs)\u001b[0m\n\u001b[0;32m    508\u001b[0m     \u001b[39mraise\u001b[39;00m \u001b[39mValueError\u001b[39;00m(\n\u001b[0;32m    509\u001b[0m         \u001b[39mf\u001b[39m\u001b[39m\"\u001b[39m\u001b[39m'\u001b[39m\u001b[39msampling_type\u001b[39m\u001b[39m'\u001b[39m\u001b[39m should be one of \u001b[39m\u001b[39m{\u001b[39;00mSAMPLING_KIND\u001b[39m}\u001b[39;00m\u001b[39m. \u001b[39m\u001b[39m\"\u001b[39m\n\u001b[0;32m    510\u001b[0m         \u001b[39mf\u001b[39m\u001b[39m\"\u001b[39m\u001b[39mGot \u001b[39m\u001b[39m'\u001b[39m\u001b[39m{\u001b[39;00msampling_type\u001b[39m}\u001b[39;00m\u001b[39m instead.\u001b[39m\u001b[39m\"\u001b[39m\n\u001b[0;32m    511\u001b[0m     )\n\u001b[0;32m    513\u001b[0m \u001b[39mif\u001b[39;00m np\u001b[39m.\u001b[39munique(y)\u001b[39m.\u001b[39msize \u001b[39m<\u001b[39m\u001b[39m=\u001b[39m \u001b[39m1\u001b[39m:\n\u001b[1;32m--> 514\u001b[0m     \u001b[39mraise\u001b[39;00m \u001b[39mValueError\u001b[39;00m(\n\u001b[0;32m    515\u001b[0m         \u001b[39mf\u001b[39m\u001b[39m\"\u001b[39m\u001b[39mThe target \u001b[39m\u001b[39m'\u001b[39m\u001b[39my\u001b[39m\u001b[39m'\u001b[39m\u001b[39m needs to have more than 1 class. \u001b[39m\u001b[39m\"\u001b[39m\n\u001b[0;32m    516\u001b[0m         \u001b[39mf\u001b[39m\u001b[39m\"\u001b[39m\u001b[39mGot \u001b[39m\u001b[39m{\u001b[39;00mnp\u001b[39m.\u001b[39munique(y)\u001b[39m.\u001b[39msize\u001b[39m}\u001b[39;00m\u001b[39m class instead\u001b[39m\u001b[39m\"\u001b[39m\n\u001b[0;32m    517\u001b[0m     )\n\u001b[0;32m    519\u001b[0m \u001b[39mif\u001b[39;00m sampling_type \u001b[39min\u001b[39;00m (\u001b[39m\"\u001b[39m\u001b[39mensemble\u001b[39m\u001b[39m\"\u001b[39m, \u001b[39m\"\u001b[39m\u001b[39mbypass\u001b[39m\u001b[39m\"\u001b[39m):\n\u001b[0;32m    520\u001b[0m     \u001b[39mreturn\u001b[39;00m sampling_strategy\n",
      "\u001b[1;31mValueError\u001b[0m: The target 'y' needs to have more than 1 class. Got 1 class instead"
     ]
    }
   ],
   "source": [
    "# import pandas as pd\n",
    "# from imblearn.under_sampling import RandomUnderSampler\n",
    "\n",
    "# # 원본 데이터프레임과 언더 샘플링할 클래스 지정\n",
    "# target_class = '슬픔'\n",
    "\n",
    "# # 슬픔 클래스의 데이터 추출\n",
    "# sad_df = original_df[original_df['emotion'] == target_class].copy()\n",
    "\n",
    "# # 샘플 개수 확인\n",
    "# print(\"Original '슬픔' 클래스 샘플 개수:\", len(sad_df))\n",
    "\n",
    "# # 언더 샘플링 수행\n",
    "# rus = RandomUnderSampler(sampling_strategy=20000/len(sad_df))\n",
    "# X_resampled, y_resampled = rus.fit_resample(sad_df.drop('emotion', axis=1), sad_df['emotion'])\n",
    "\n",
    "# # 언더 샘플링 결과 확인\n",
    "# undersampled_df = pd.DataFrame(X_resampled, columns=sad_df.drop('emotion', axis=1).columns)\n",
    "# undersampled_df['emotion'] = y_resampled\n",
    "\n",
    "# # 결과 확인\n",
    "# print(\"Undersampled DataFrame shape:\", undersampled_df.shape)"
   ]
  },
  {
   "cell_type": "code",
   "execution_count": 109,
   "metadata": {},
   "outputs": [
    {
     "data": {
      "text/plain": [
       "(emotion\n",
       " 놀람    19551\n",
       " 분노    19615\n",
       " 불안    15984\n",
       " 슬픔    21353\n",
       " 중립    45495\n",
       " 행복    14319\n",
       " Name: sentence, dtype: int64,\n",
       " 136317)"
      ]
     },
     "execution_count": 109,
     "metadata": {},
     "output_type": "execute_result"
    }
   ],
   "source": [
    "import random\n",
    "# '슬픔' 클래스의 데이터 인덱스 추출\n",
    "sad_indices = trainset[trainset['emotion'] == '슬픔'].index.tolist()\n",
    "\n",
    "# 랜덤하게 일부 데이터 인덱스 선택하여 삭제\n",
    "remove_indices = random.sample(sad_indices, 6000)\n",
    "trainset = trainset.drop(remove_indices)\n",
    "\n",
    "trainset.reset_index(drop=True, inplace=True)   #행 재설정\n",
    "trainset.groupby('emotion').count().iloc[:,0], len(trainset)"
   ]
  },
  {
   "cell_type": "code",
   "execution_count": 110,
   "metadata": {},
   "outputs": [
    {
     "data": {
      "image/png": "[encoded data removed]",
      "text/plain": [
       "<Figure size 1500x800 with 1 Axes>"
      ]
     },
     "metadata": {},
     "output_type": "display_data"
    }
   ],
   "source": [
    "# countplot으로 시각화\n",
    "plt.rcParams['figure.figsize'] = [15,8]\n",
    "sns.countplot(x='emotion',data=trainset)\n",
    "plt.rcParams['font.size'] = 20\n",
    "plt.title('감정 분포', fontsize=40)\n",
    "plt.xlabel('emotion', fontsize=40)\n",
    "plt.ylabel('count', fontsize=15)\n",
    "plt.show()"
   ]
  },
  {
   "cell_type": "code",
   "execution_count": 45,
   "metadata": {},
   "outputs": [],
   "source": [
    "trainset.to_csv(\"data/병합데이터셋-v2.csv\")"
   ]
  },
  {
   "attachments": {},
   "cell_type": "markdown",
   "metadata": {},
   "source": [
    "---"
   ]
  },
  {
   "cell_type": "code",
   "execution_count": 47,
   "metadata": {},
   "outputs": [
    {
     "data": {
      "text/plain": [
       "(136317, 2)"
      ]
     },
     "execution_count": 47,
     "metadata": {},
     "output_type": "execute_result"
    }
   ],
   "source": [
    "import pandas as pd\n",
    "trainset = pd.read_csv('data/병합데이터셋-v2.csv', index_col=0)\n",
    "trainset.shape"
   ]
  },
  {
   "attachments": {},
   "cell_type": "markdown",
   "metadata": {},
   "source": [
    "__OO, OOO(필터처리된 단어) 확인__"
   ]
  },
  {
   "cell_type": "code",
   "execution_count": 48,
   "metadata": {},
   "outputs": [
    {
     "data": {
      "text/html": [
       "<div>\n",
       "<style scoped>\n",
       "    .dataframe tbody tr th:only-of-type {\n",
       "        vertical-align: middle;\n",
       "    }\n",
       "\n",
       "    .dataframe tbody tr th {\n",
       "        vertical-align: top;\n",
       "    }\n",
       "\n",
       "    .dataframe thead th {\n",
       "        text-align: right;\n",
       "    }\n",
       "</style>\n",
       "<table border=\"1\" class=\"dataframe\">\n",
       "  <thead>\n",
       "    <tr style=\"text-align: right;\">\n",
       "      <th></th>\n",
       "      <th>sentence</th>\n",
       "      <th>emotion</th>\n",
       "    </tr>\n",
       "  </thead>\n",
       "  <tbody>\n",
       "    <tr>\n",
       "      <th>54038</th>\n",
       "      <td>정말떳떳하다면 왜이리 OOO떨까 지발저린모습이네</td>\n",
       "      <td>불안</td>\n",
       "    </tr>\n",
       "    <tr>\n",
       "      <th>55269</th>\n",
       "      <td>방파제고 OOO이고 쓰나미한번오면 겜.끝</td>\n",
       "      <td>불안</td>\n",
       "    </tr>\n",
       "    <tr>\n",
       "      <th>59945</th>\n",
       "      <td>300명 인신공양설이 진짠가보네.. OOO</td>\n",
       "      <td>놀람</td>\n",
       "    </tr>\n",
       "    <tr>\n",
       "      <th>60590</th>\n",
       "      <td>그 욕하는 OO어디감? 어디 아픈가 부들부들 열폭종자내ㅋㅋㅋㅋㅋ</td>\n",
       "      <td>놀람</td>\n",
       "    </tr>\n",
       "    <tr>\n",
       "      <th>60793</th>\n",
       "      <td>맹독이 있었다니 지금 생각하니 아찔하네 OOO...</td>\n",
       "      <td>놀람</td>\n",
       "    </tr>\n",
       "    <tr>\n",
       "      <th>63077</th>\n",
       "      <td>무슨 게임때문에 지도를 반출해 OOO들</td>\n",
       "      <td>놀람</td>\n",
       "    </tr>\n",
       "    <tr>\n",
       "      <th>65651</th>\n",
       "      <td>김상수 니는 야구그만둬라 자식아!!그따위 실력으로 프로야구한다고OOO이가!!내가 해...</td>\n",
       "      <td>분노</td>\n",
       "    </tr>\n",
       "    <tr>\n",
       "      <th>66078</th>\n",
       "      <td>박근혜 OOO진짜 뭐하고있냐? 쳐자냐?</td>\n",
       "      <td>분노</td>\n",
       "    </tr>\n",
       "    <tr>\n",
       "      <th>66210</th>\n",
       "      <td>슈틀리케 OOO 개7ㅐㄲ1야 제발좀 물러나라 개 저빠압 감독</td>\n",
       "      <td>분노</td>\n",
       "    </tr>\n",
       "    <tr>\n",
       "      <th>66394</th>\n",
       "      <td>꼴랑 국갓돈 백억가지고 별 유세를 다 떠네 OOO새기 ㅋㅋㅋㅋ 아베 진심 토나온다</td>\n",
       "      <td>분노</td>\n",
       "    </tr>\n",
       "    <tr>\n",
       "      <th>66516</th>\n",
       "      <td>저렇게 다 모르면저것이 진실이다이 씨빠란 넘들아에효 OOO</td>\n",
       "      <td>분노</td>\n",
       "    </tr>\n",
       "    <tr>\n",
       "      <th>66737</th>\n",
       "      <td>취업도 못해서 다리벌려 취집한 년들이 OOO 아는척 떠들더라</td>\n",
       "      <td>분노</td>\n",
       "    </tr>\n",
       "    <tr>\n",
       "      <th>67790</th>\n",
       "      <td>어디까지가 진실인가?한판에 9천원?OOO을 해요</td>\n",
       "      <td>분노</td>\n",
       "    </tr>\n",
       "    <tr>\n",
       "      <th>67916</th>\n",
       "      <td>뭉뚱그려 예보할거면하지마 OOO</td>\n",
       "      <td>분노</td>\n",
       "    </tr>\n",
       "    <tr>\n",
       "      <th>67975</th>\n",
       "      <td>국회의원 반으로 줄이라는 촛불집회는 왜 없는거야 ~~OOO</td>\n",
       "      <td>분노</td>\n",
       "    </tr>\n",
       "    <tr>\n",
       "      <th>68216</th>\n",
       "      <td>일본 지진 때 마다 더 죽어라OOO든 한국에도 지진이ㅋㅋㅋ</td>\n",
       "      <td>분노</td>\n",
       "    </tr>\n",
       "    <tr>\n",
       "      <th>68403</th>\n",
       "      <td>큰꼬리자르기 지는 콩밥먹기 싫으니까 OOO</td>\n",
       "      <td>분노</td>\n",
       "    </tr>\n",
       "    <tr>\n",
       "      <th>69121</th>\n",
       "      <td>진짜 OOO같은 나라에 돈받고 이딴기사 쓰는 기자도 생계때문에 어쩔수 없다지만 이런...</td>\n",
       "      <td>분노</td>\n",
       "    </tr>\n",
       "    <tr>\n",
       "      <th>69128</th>\n",
       "      <td>진짜 댓글 안남기는데 야이년아 나가라제발 철판도 두껍네 뭔이런 OOO이 다있네</td>\n",
       "      <td>분노</td>\n",
       "    </tr>\n",
       "    <tr>\n",
       "      <th>69268</th>\n",
       "      <td>개가 달려들어 위협하면 협박죄로 신고해야 겠군 ㅉ. 한국 법은 하여간 OOO같다</td>\n",
       "      <td>분노</td>\n",
       "    </tr>\n",
       "    <tr>\n",
       "      <th>69290</th>\n",
       "      <td>OOO아 장난하니까 재미있지</td>\n",
       "      <td>분노</td>\n",
       "    </tr>\n",
       "    <tr>\n",
       "      <th>69377</th>\n",
       "      <td>아오 진짜 나는 뽑지도 않았는데 듸러운꼴은다보네 OOOㄹ</td>\n",
       "      <td>분노</td>\n",
       "    </tr>\n",
       "    <tr>\n",
       "      <th>69458</th>\n",
       "      <td>삼성으로 가서 박근혜 최순실 변호나 해라 OOO아</td>\n",
       "      <td>분노</td>\n",
       "    </tr>\n",
       "    <tr>\n",
       "      <th>69488</th>\n",
       "      <td>대한민국 한 10년 후퇴시킨죄로 돌팔매와 OOO서라도 국민의 고통을 느끼게해주어야한다</td>\n",
       "      <td>분노</td>\n",
       "    </tr>\n",
       "    <tr>\n",
       "      <th>70085</th>\n",
       "      <td>사약 처묵이고 싶다 OOO찬년</td>\n",
       "      <td>분노</td>\n",
       "    </tr>\n",
       "    <tr>\n",
       "      <th>70157</th>\n",
       "      <td>쓰레기 친박 ㅎ 장지져 OOO1 끼야 이정현</td>\n",
       "      <td>분노</td>\n",
       "    </tr>\n",
       "    <tr>\n",
       "      <th>70166</th>\n",
       "      <td>정신병자가 너무 사회를 혼란하게하면 중세 마녀사냥때처럼 화형시키자. OOO 때 려 ...</td>\n",
       "      <td>분노</td>\n",
       "    </tr>\n",
       "    <tr>\n",
       "      <th>72189</th>\n",
       "      <td>혼자 술먹으러 왔을 정도면 기분좉같았을텐데거기에 OOOㅣㄴ들 시비까지ㅜㅜ연예인이라 ...</td>\n",
       "      <td>슬픔</td>\n",
       "    </tr>\n",
       "    <tr>\n",
       "      <th>78362</th>\n",
       "      <td>빠순이들이 국내활동좀 하라고 OOOOOO하니깐 에라 모르겠다 막앨범이나 내고 빨대좀...</td>\n",
       "      <td>중립</td>\n",
       "    </tr>\n",
       "  </tbody>\n",
       "</table>\n",
       "</div>"
      ],
      "text/plain": [
       "                                                sentence emotion\n",
       "54038                         정말떳떳하다면 왜이리 OOO떨까 지발저린모습이네      불안\n",
       "55269                             방파제고 OOO이고 쓰나미한번오면 겜.끝      불안\n",
       "59945                            300명 인신공양설이 진짠가보네.. OOO      놀람\n",
       "60590                그 욕하는 OO어디감? 어디 아픈가 부들부들 열폭종자내ㅋㅋㅋㅋㅋ      놀람\n",
       "60793                       맹독이 있었다니 지금 생각하니 아찔하네 OOO...      놀람\n",
       "63077                              무슨 게임때문에 지도를 반출해 OOO들      놀람\n",
       "65651  김상수 니는 야구그만둬라 자식아!!그따위 실력으로 프로야구한다고OOO이가!!내가 해...      분노\n",
       "66078                              박근혜 OOO진짜 뭐하고있냐? 쳐자냐?      분노\n",
       "66210                  슈틀리케 OOO 개7ㅐㄲ1야 제발좀 물러나라 개 저빠압 감독      분노\n",
       "66394      꼴랑 국갓돈 백억가지고 별 유세를 다 떠네 OOO새기 ㅋㅋㅋㅋ 아베 진심 토나온다      분노\n",
       "66516                   저렇게 다 모르면저것이 진실이다이 씨빠란 넘들아에효 OOO      분노\n",
       "66737                  취업도 못해서 다리벌려 취집한 년들이 OOO 아는척 떠들더라      분노\n",
       "67790                         어디까지가 진실인가?한판에 9천원?OOO을 해요      분노\n",
       "67916                                  뭉뚱그려 예보할거면하지마 OOO      분노\n",
       "67975                   국회의원 반으로 줄이라는 촛불집회는 왜 없는거야 ~~OOO      분노\n",
       "68216                   일본 지진 때 마다 더 죽어라OOO든 한국에도 지진이ㅋㅋㅋ      분노\n",
       "68403                            큰꼬리자르기 지는 콩밥먹기 싫으니까 OOO      분노\n",
       "69121  진짜 OOO같은 나라에 돈받고 이딴기사 쓰는 기자도 생계때문에 어쩔수 없다지만 이런...      분노\n",
       "69128        진짜 댓글 안남기는데 야이년아 나가라제발 철판도 두껍네 뭔이런 OOO이 다있네      분노\n",
       "69268       개가 달려들어 위협하면 협박죄로 신고해야 겠군 ㅉ. 한국 법은 하여간 OOO같다      분노\n",
       "69290                                    OOO아 장난하니까 재미있지      분노\n",
       "69377                    아오 진짜 나는 뽑지도 않았는데 듸러운꼴은다보네 OOOㄹ      분노\n",
       "69458                        삼성으로 가서 박근혜 최순실 변호나 해라 OOO아      분노\n",
       "69488    대한민국 한 10년 후퇴시킨죄로 돌팔매와 OOO서라도 국민의 고통을 느끼게해주어야한다      분노\n",
       "70085                                   사약 처묵이고 싶다 OOO찬년      분노\n",
       "70157                           쓰레기 친박 ㅎ 장지져 OOO1 끼야 이정현      분노\n",
       "70166  정신병자가 너무 사회를 혼란하게하면 중세 마녀사냥때처럼 화형시키자. OOO 때 려 ...      분노\n",
       "72189  혼자 술먹으러 왔을 정도면 기분좉같았을텐데거기에 OOOㅣㄴ들 시비까지ㅜㅜ연예인이라 ...      슬픔\n",
       "78362  빠순이들이 국내활동좀 하라고 OOOOOO하니깐 에라 모르겠다 막앨범이나 내고 빨대좀...      중립"
      ]
     },
     "execution_count": 48,
     "metadata": {},
     "output_type": "execute_result"
    }
   ],
   "source": [
    "filter = trainset[trainset['sentence'].str.contains('OO')]\n",
    "filter"
   ]
  },
  {
   "attachments": {},
   "cell_type": "markdown",
   "metadata": {},
   "source": [
    "공백으로 치환 (KcELECTRA 전처리 참고)"
   ]
  },
  {
   "cell_type": "code",
   "execution_count": 49,
   "metadata": {},
   "outputs": [],
   "source": [
    "trainset['sentence'] = trainset['sentence'].str.replace(r'OO+', ' ', regex=True)"
   ]
  },
  {
   "attachments": {},
   "cell_type": "markdown",
   "metadata": {},
   "source": [
    "__ㅋㅋ 포함 문장__"
   ]
  },
  {
   "cell_type": "code",
   "execution_count": 50,
   "metadata": {},
   "outputs": [
    {
     "data": {
      "text/html": [
       "<div>\n",
       "<style scoped>\n",
       "    .dataframe tbody tr th:only-of-type {\n",
       "        vertical-align: middle;\n",
       "    }\n",
       "\n",
       "    .dataframe tbody tr th {\n",
       "        vertical-align: top;\n",
       "    }\n",
       "\n",
       "    .dataframe thead th {\n",
       "        text-align: right;\n",
       "    }\n",
       "</style>\n",
       "<table border=\"1\" class=\"dataframe\">\n",
       "  <thead>\n",
       "    <tr style=\"text-align: right;\">\n",
       "      <th></th>\n",
       "      <th>sentence</th>\n",
       "      <th>emotion</th>\n",
       "    </tr>\n",
       "  </thead>\n",
       "  <tbody>\n",
       "    <tr>\n",
       "      <th>53948</th>\n",
       "      <td>나이만 먹어가고 이러다 결혼 못하고 죽는거 아닌지 ㅋㅋ</td>\n",
       "      <td>불안</td>\n",
       "    </tr>\n",
       "    <tr>\n",
       "      <th>54029</th>\n",
       "      <td>저런 중국과 친하게 지내겠다는 더불어민주당 ㅋㅋㅋㅋㅋㅋ</td>\n",
       "      <td>불안</td>\n",
       "    </tr>\n",
       "    <tr>\n",
       "      <th>54040</th>\n",
       "      <td>여성부 예산 보다 적넼ㅋㅋㅋㅋㅋㅋㅋㅋㅋ</td>\n",
       "      <td>불안</td>\n",
       "    </tr>\n",
       "    <tr>\n",
       "      <th>54065</th>\n",
       "      <td>기사 내용이 저거밖에 없어? ㅋㅋㅋㅋㅋ</td>\n",
       "      <td>불안</td>\n",
       "    </tr>\n",
       "    <tr>\n",
       "      <th>54076</th>\n",
       "      <td>일반인들 신검 하면 어디아프다고 말하면 서류 때오라고 하면서 찍소리도 안하고 1급준...</td>\n",
       "      <td>불안</td>\n",
       "    </tr>\n",
       "    <tr>\n",
       "      <th>...</th>\n",
       "      <td>...</td>\n",
       "      <td>...</td>\n",
       "    </tr>\n",
       "    <tr>\n",
       "      <th>85676</th>\n",
       "      <td>12시부터 지금까지받은손님11명ㅋㅋㅋㅋㅋㅋㅋㅋㅋㅋㅋㅋㅋㅋㅋㅋㅋㅋㅋㅋ</td>\n",
       "      <td>행복</td>\n",
       "    </tr>\n",
       "    <tr>\n",
       "      <th>85681</th>\n",
       "      <td>형돈오빠~~ 올만에 놀러왔어여새벽 두시가 넘었는데..ㅋㅋ</td>\n",
       "      <td>행복</td>\n",
       "    </tr>\n",
       "    <tr>\n",
       "      <th>85682</th>\n",
       "      <td>젤로의 다비드상ㅋㅋㅋㅋㅋㅋㅋㅋㅋㅋ</td>\n",
       "      <td>행복</td>\n",
       "    </tr>\n",
       "    <tr>\n",
       "      <th>85714</th>\n",
       "      <td>응원소리 크다는 소문이 있던데 호시오빠 진정해요 ㅋㅋ</td>\n",
       "      <td>행복</td>\n",
       "    </tr>\n",
       "    <tr>\n",
       "      <th>85723</th>\n",
       "      <td>막 이유없이 그냥 어느날좋아져 있는 기분 아세요?ㅋㅋ</td>\n",
       "      <td>행복</td>\n",
       "    </tr>\n",
       "  </tbody>\n",
       "</table>\n",
       "<p>1558 rows × 2 columns</p>\n",
       "</div>"
      ],
      "text/plain": [
       "                                                sentence emotion\n",
       "53948                     나이만 먹어가고 이러다 결혼 못하고 죽는거 아닌지 ㅋㅋ      불안\n",
       "54029                     저런 중국과 친하게 지내겠다는 더불어민주당 ㅋㅋㅋㅋㅋㅋ      불안\n",
       "54040                              여성부 예산 보다 적넼ㅋㅋㅋㅋㅋㅋㅋㅋㅋ      불안\n",
       "54065                              기사 내용이 저거밖에 없어? ㅋㅋㅋㅋㅋ      불안\n",
       "54076  일반인들 신검 하면 어디아프다고 말하면 서류 때오라고 하면서 찍소리도 안하고 1급준...      불안\n",
       "...                                                  ...     ...\n",
       "85676              12시부터 지금까지받은손님11명ㅋㅋㅋㅋㅋㅋㅋㅋㅋㅋㅋㅋㅋㅋㅋㅋㅋㅋㅋㅋ      행복\n",
       "85681                    형돈오빠~~ 올만에 놀러왔어여새벽 두시가 넘었는데..ㅋㅋ      행복\n",
       "85682                                 젤로의 다비드상ㅋㅋㅋㅋㅋㅋㅋㅋㅋㅋ      행복\n",
       "85714                      응원소리 크다는 소문이 있던데 호시오빠 진정해요 ㅋㅋ      행복\n",
       "85723                      막 이유없이 그냥 어느날좋아져 있는 기분 아세요?ㅋㅋ      행복\n",
       "\n",
       "[1558 rows x 2 columns]"
      ]
     },
     "execution_count": 50,
     "metadata": {},
     "output_type": "execute_result"
    }
   ],
   "source": [
    "filter = trainset[trainset['sentence'].str.contains('ㅋㅋ')]\n",
    "filter"
   ]
  },
  {
   "attachments": {},
   "cell_type": "markdown",
   "metadata": {},
   "source": [
    "3개 이상 연속되는'ㅋ'을 'ㅋㅋ'로 치환 (KcELECTRA 전처리 참고)"
   ]
  },
  {
   "cell_type": "code",
   "execution_count": 51,
   "metadata": {},
   "outputs": [],
   "source": [
    "trainset['sentence'] = trainset['sentence'].str.replace(r'(ㅋ{3,})', 'ㅋㅋ', regex=True)"
   ]
  },
  {
   "cell_type": "code",
   "execution_count": 52,
   "metadata": {},
   "outputs": [
    {
     "data": {
      "text/html": [
       "<div>\n",
       "<style scoped>\n",
       "    .dataframe tbody tr th:only-of-type {\n",
       "        vertical-align: middle;\n",
       "    }\n",
       "\n",
       "    .dataframe tbody tr th {\n",
       "        vertical-align: top;\n",
       "    }\n",
       "\n",
       "    .dataframe thead th {\n",
       "        text-align: right;\n",
       "    }\n",
       "</style>\n",
       "<table border=\"1\" class=\"dataframe\">\n",
       "  <thead>\n",
       "    <tr style=\"text-align: right;\">\n",
       "      <th></th>\n",
       "      <th>sentence</th>\n",
       "      <th>emotion</th>\n",
       "    </tr>\n",
       "  </thead>\n",
       "  <tbody>\n",
       "    <tr>\n",
       "      <th>53948</th>\n",
       "      <td>나이만 먹어가고 이러다 결혼 못하고 죽는거 아닌지 ㅋㅋ</td>\n",
       "      <td>불안</td>\n",
       "    </tr>\n",
       "    <tr>\n",
       "      <th>54029</th>\n",
       "      <td>저런 중국과 친하게 지내겠다는 더불어민주당 ㅋㅋ</td>\n",
       "      <td>불안</td>\n",
       "    </tr>\n",
       "    <tr>\n",
       "      <th>54040</th>\n",
       "      <td>여성부 예산 보다 적넼ㅋㅋ</td>\n",
       "      <td>불안</td>\n",
       "    </tr>\n",
       "    <tr>\n",
       "      <th>54065</th>\n",
       "      <td>기사 내용이 저거밖에 없어? ㅋㅋ</td>\n",
       "      <td>불안</td>\n",
       "    </tr>\n",
       "    <tr>\n",
       "      <th>54076</th>\n",
       "      <td>일반인들 신검 하면 어디아프다고 말하면 서류 때오라고 하면서 찍소리도 안하고 1급준...</td>\n",
       "      <td>불안</td>\n",
       "    </tr>\n",
       "    <tr>\n",
       "      <th>...</th>\n",
       "      <td>...</td>\n",
       "      <td>...</td>\n",
       "    </tr>\n",
       "    <tr>\n",
       "      <th>85676</th>\n",
       "      <td>12시부터 지금까지받은손님11명ㅋㅋ</td>\n",
       "      <td>행복</td>\n",
       "    </tr>\n",
       "    <tr>\n",
       "      <th>85681</th>\n",
       "      <td>형돈오빠~~ 올만에 놀러왔어여새벽 두시가 넘었는데..ㅋㅋ</td>\n",
       "      <td>행복</td>\n",
       "    </tr>\n",
       "    <tr>\n",
       "      <th>85682</th>\n",
       "      <td>젤로의 다비드상ㅋㅋ</td>\n",
       "      <td>행복</td>\n",
       "    </tr>\n",
       "    <tr>\n",
       "      <th>85714</th>\n",
       "      <td>응원소리 크다는 소문이 있던데 호시오빠 진정해요 ㅋㅋ</td>\n",
       "      <td>행복</td>\n",
       "    </tr>\n",
       "    <tr>\n",
       "      <th>85723</th>\n",
       "      <td>막 이유없이 그냥 어느날좋아져 있는 기분 아세요?ㅋㅋ</td>\n",
       "      <td>행복</td>\n",
       "    </tr>\n",
       "  </tbody>\n",
       "</table>\n",
       "<p>1558 rows × 2 columns</p>\n",
       "</div>"
      ],
      "text/plain": [
       "                                                sentence emotion\n",
       "53948                     나이만 먹어가고 이러다 결혼 못하고 죽는거 아닌지 ㅋㅋ      불안\n",
       "54029                         저런 중국과 친하게 지내겠다는 더불어민주당 ㅋㅋ      불안\n",
       "54040                                     여성부 예산 보다 적넼ㅋㅋ      불안\n",
       "54065                                 기사 내용이 저거밖에 없어? ㅋㅋ      불안\n",
       "54076  일반인들 신검 하면 어디아프다고 말하면 서류 때오라고 하면서 찍소리도 안하고 1급준...      불안\n",
       "...                                                  ...     ...\n",
       "85676                                12시부터 지금까지받은손님11명ㅋㅋ      행복\n",
       "85681                    형돈오빠~~ 올만에 놀러왔어여새벽 두시가 넘었는데..ㅋㅋ      행복\n",
       "85682                                         젤로의 다비드상ㅋㅋ      행복\n",
       "85714                      응원소리 크다는 소문이 있던데 호시오빠 진정해요 ㅋㅋ      행복\n",
       "85723                      막 이유없이 그냥 어느날좋아져 있는 기분 아세요?ㅋㅋ      행복\n",
       "\n",
       "[1558 rows x 2 columns]"
      ]
     },
     "execution_count": 52,
     "metadata": {},
     "output_type": "execute_result"
    }
   ],
   "source": [
    "filter = trainset[trainset['sentence'].str.contains('ㅋㅋ')]\n",
    "filter"
   ]
  },
  {
   "attachments": {},
   "cell_type": "markdown",
   "metadata": {},
   "source": [
    "위와 유사한 작업: ??, ~~, !!, ㅠㅠ, ㅜㅜ, ㄱㄱ, ㅎㅎ,ㄷㄷ, --, ♥♥, ♡♡"
   ]
  },
  {
   "cell_type": "code",
   "execution_count": 72,
   "metadata": {},
   "outputs": [
    {
     "data": {
      "text/html": [
       "<div>\n",
       "<style scoped>\n",
       "    .dataframe tbody tr th:only-of-type {\n",
       "        vertical-align: middle;\n",
       "    }\n",
       "\n",
       "    .dataframe tbody tr th {\n",
       "        vertical-align: top;\n",
       "    }\n",
       "\n",
       "    .dataframe thead th {\n",
       "        text-align: right;\n",
       "    }\n",
       "</style>\n",
       "<table border=\"1\" class=\"dataframe\">\n",
       "  <thead>\n",
       "    <tr style=\"text-align: right;\">\n",
       "      <th></th>\n",
       "      <th>sentence</th>\n",
       "      <th>emotion</th>\n",
       "    </tr>\n",
       "  </thead>\n",
       "  <tbody>\n",
       "    <tr>\n",
       "      <th>60599</th>\n",
       "      <td>와 22사단은 진짜마가꼇나ㅋㅋㄱㄱ온갖사건사고는 다 터지네</td>\n",
       "      <td>놀람</td>\n",
       "    </tr>\n",
       "    <tr>\n",
       "      <th>61578</th>\n",
       "      <td>이젠 고등어탓도 하네 ㅋㅋㄱㄱㅋㅋ</td>\n",
       "      <td>놀람</td>\n",
       "    </tr>\n",
       "    <tr>\n",
       "      <th>62866</th>\n",
       "      <td>수면부족으로 실신했는데 건강 이상무 라니ㅋㅋㄲㄱㄱㄱㄱ</td>\n",
       "      <td>놀람</td>\n",
       "    </tr>\n",
       "    <tr>\n",
       "      <th>68688</th>\n",
       "      <td>정유라 잡은 다음 팔다리 자르고 강;간 ㄱㄱ</td>\n",
       "      <td>분노</td>\n",
       "    </tr>\n",
       "    <tr>\n",
       "      <th>76674</th>\n",
       "      <td>지금 나 일본에서 살고있는겨?ㄱㅋㄱㄱㅋㅋㄱㅋ</td>\n",
       "      <td>중립</td>\n",
       "    </tr>\n",
       "    <tr>\n",
       "      <th>76814</th>\n",
       "      <td>캔커피줬으니까 김영란법으로 드론 고소 ㄱㄱ</td>\n",
       "      <td>중립</td>\n",
       "    </tr>\n",
       "    <tr>\n",
       "      <th>78322</th>\n",
       "      <td>간단하네 핵무장 ㄱㄱ</td>\n",
       "      <td>중립</td>\n",
       "    </tr>\n",
       "    <tr>\n",
       "      <th>81629</th>\n",
       "      <td>ㄱㄱㅑ~축하축하해요~~예쁜사랑 하세요~너무 잘어울려요~</td>\n",
       "      <td>행복</td>\n",
       "    </tr>\n",
       "    <tr>\n",
       "      <th>81950</th>\n",
       "      <td>오늘 라스 진짜 졸잼ㅋㄱㅋㅋㄱㄱㄱ담주도 완전기대됨ㅋㄱㅋㄱㅋㄱㅋ</td>\n",
       "      <td>행복</td>\n",
       "    </tr>\n",
       "    <tr>\n",
       "      <th>83972</th>\n",
       "      <td>내년도 잘해서 대박 ㄱㄱㄱ</td>\n",
       "      <td>행복</td>\n",
       "    </tr>\n",
       "    <tr>\n",
       "      <th>84078</th>\n",
       "      <td>ㄱㄱㅑ~~~~ 오늘 도깨비 100분 인가봐요!!!</td>\n",
       "      <td>행복</td>\n",
       "    </tr>\n",
       "    <tr>\n",
       "      <th>84616</th>\n",
       "      <td>그 키작은 아제가 주연들 다죽임ㅋㅋㄱㄱㅋㅋ</td>\n",
       "      <td>행복</td>\n",
       "    </tr>\n",
       "    <tr>\n",
       "      <th>85281</th>\n",
       "      <td>이제 맨유 우승승점으로 ㄱㄱ</td>\n",
       "      <td>행복</td>\n",
       "    </tr>\n",
       "  </tbody>\n",
       "</table>\n",
       "</div>"
      ],
      "text/plain": [
       "                                 sentence emotion\n",
       "60599     와 22사단은 진짜마가꼇나ㅋㅋㄱㄱ온갖사건사고는 다 터지네      놀람\n",
       "61578                  이젠 고등어탓도 하네 ㅋㅋㄱㄱㅋㅋ      놀람\n",
       "62866       수면부족으로 실신했는데 건강 이상무 라니ㅋㅋㄲㄱㄱㄱㄱ      놀람\n",
       "68688            정유라 잡은 다음 팔다리 자르고 강;간 ㄱㄱ      분노\n",
       "76674            지금 나 일본에서 살고있는겨?ㄱㅋㄱㄱㅋㅋㄱㅋ      중립\n",
       "76814             캔커피줬으니까 김영란법으로 드론 고소 ㄱㄱ      중립\n",
       "78322                         간단하네 핵무장 ㄱㄱ      중립\n",
       "81629      ㄱㄱㅑ~축하축하해요~~예쁜사랑 하세요~너무 잘어울려요~      행복\n",
       "81950  오늘 라스 진짜 졸잼ㅋㄱㅋㅋㄱㄱㄱ담주도 완전기대됨ㅋㄱㅋㄱㅋㄱㅋ      행복\n",
       "83972                      내년도 잘해서 대박 ㄱㄱㄱ      행복\n",
       "84078         ㄱㄱㅑ~~~~ 오늘 도깨비 100분 인가봐요!!!      행복\n",
       "84616             그 키작은 아제가 주연들 다죽임ㅋㅋㄱㄱㅋㅋ      행복\n",
       "85281                     이제 맨유 우승승점으로 ㄱㄱ      행복"
      ]
     },
     "execution_count": 72,
     "metadata": {},
     "output_type": "execute_result"
    }
   ],
   "source": [
    "filter = trainset[trainset['sentence'].str.contains('ㄱㄱ')]\n",
    "filter"
   ]
  },
  {
   "cell_type": "code",
   "execution_count": 73,
   "metadata": {},
   "outputs": [],
   "source": [
    "trainset['sentence'] = trainset['sentence'].str.replace(r'\\?\\?{3,}', '??,', regex=True)\n",
    "trainset['sentence'] = trainset['sentence'].str.replace(r'~{3,}', '~~', regex=True)\n",
    "trainset['sentence'] = trainset['sentence'].str.replace(r'!{3,}', '!!', regex=True)\n",
    "trainset['sentence'] = trainset['sentence'].str.replace(r'-{3,}', '--', regex=True)\n",
    "trainset['sentence'] = trainset['sentence'].str.replace(r'(ㅠ{3,})', 'ㅠㅠ', regex=True)\n",
    "trainset['sentence'] = trainset['sentence'].str.replace(r'(ㅜ{3,})', 'ㅜㅜ', regex=True)\n",
    "trainset['sentence'] = trainset['sentence'].str.replace(r'(ㄱ{3,})', 'ㄱㄱ', regex=True)\n",
    "trainset['sentence'] = trainset['sentence'].str.replace(r'(ㄷ{3,})', 'ㄷㄷ', regex=True)\n",
    "trainset['sentence'] = trainset['sentence'].str.replace(r'(ㅎ{3,})', 'ㅎㅎ', regex=True)\n",
    "\n",
    "trainset['sentence'] = trainset['sentence'].str.replace(r'(♥{2,})', '♥', regex=True)\n",
    "trainset['sentence'] = trainset['sentence'].str.replace(r'(♡{2,})', '♡', regex=True)\n",
    "trainset['sentence'] = trainset['sentence'].str.replace(r'\\s{2,}', ' ', regex=True)"
   ]
  },
  {
   "attachments": {},
   "cell_type": "markdown",
   "metadata": {},
   "source": [
    "문장의 길이 분포 확인"
   ]
  },
  {
   "cell_type": "code",
   "execution_count": 74,
   "metadata": {},
   "outputs": [
    {
     "data": {
      "text/plain": [
       "sentence\n",
       "1         9\n",
       "2       145\n",
       "3       540\n",
       "4       879\n",
       "5      1137\n",
       "       ... \n",
       "249       1\n",
       "251       1\n",
       "258       1\n",
       "259       1\n",
       "299       1\n",
       "Name: count, Length: 196, dtype: int64"
      ]
     },
     "execution_count": 74,
     "metadata": {},
     "output_type": "execute_result"
    }
   ],
   "source": [
    "sentence_lengths = trainset['sentence'].str.len()\n",
    "sentence_distribution = sentence_lengths.value_counts().sort_index()\n",
    "sentence_distribution"
   ]
  },
  {
   "cell_type": "code",
   "execution_count": 75,
   "metadata": {},
   "outputs": [
    {
     "name": "stdout",
     "output_type": "stream",
     "text": [
      "['Headline R']\n"
     ]
    }
   ],
   "source": [
    "import matplotlib.font_manager as fm\n",
    "\n",
    "fontpath = r'C:\\Windows\\Fonts\\HMKMRHD.TTF'\n",
    "font_name = fm.FontProperties(fname=fontpath, size=50).get_name()\n",
    "plt.rc('font', family=font_name)\n",
    "print(plt.rcParams['font.family']) #적용됬는지 확인"
   ]
  },
  {
   "cell_type": "code",
   "execution_count": 76,
   "metadata": {},
   "outputs": [
    {
     "data": {
      "image/png": "[encoded data removed]",
      "text/plain": [
       "<Figure size 640x480 with 1 Axes>"
      ]
     },
     "metadata": {},
     "output_type": "display_data"
    }
   ],
   "source": [
    "import matplotlib.pyplot as plt\n",
    "\n",
    "# 문장의 길이 계산\n",
    "sentence_lengths = trainset['sentence'].str.len()\n",
    "\n",
    "# 길이 별 문장 수 계산\n",
    "sentence_distribution = sentence_lengths.value_counts().sort_index()\n",
    "\n",
    "# 그래프 그리기\n",
    "plt.bar(sentence_distribution.index, sentence_distribution.values)\n",
    "plt.xlabel('문장 길이')\n",
    "plt.ylabel('문장 수')\n",
    "plt.title('문장 길이 분포')\n",
    "plt.show()"
   ]
  },
  {
   "attachments": {},
   "cell_type": "markdown",
   "metadata": {},
   "source": [
    "대부분 여러 문장이 합쳐진 형태  \n",
    "-하나의 감정으로 레이블하기 애매할 수 있고, 실제 감성분석을 할때는 문장 단위로 분리하는 작업을 하니까 학습 데이터로서 부적절함"
   ]
  },
  {
   "cell_type": "code",
   "execution_count": 79,
   "metadata": {},
   "outputs": [
    {
     "data": {
      "text/plain": [
       "(25640     아 결국 친구한테 빌려준 돈을 떼이게 생겼어. 급전이 필요하다고 부탁해서 여러차례 ...\n",
       " 26341     이 나이 먹도록 남은 게 아무것도 없어. 이제까지 부모님 뒷바라지만 하다 보니 내 ...\n",
       " 26345     내가 한때는 건강 말고는 다른 가진 게 없는 사람이었는데 이젠 온몸이 아프지 않은 ...\n",
       " 27905     어제 수빈이랑 지안이랑 드디어 오해를 풀었어. 지안이랑 통화를 했는데 내가 다른 반...\n",
       " 29102     아 결국 친구한테 빌려준 돈을 못 받게 생겼어. 급전이 필요하다고 부탁해서 여러차례...\n",
       "                                 ...                        \n",
       " 136208    그건 이미 직접 조사했네. 통화기록조사를 시작한 참이지. 이 작업은 꽤나 시간이 걸...\n",
       " 136210    내가 이런 소릴 해도 설득력이 있을지는 모르겠네만 탐정 조수의 입장에 너무 매달리려...\n",
       " 136218    미안하네. 지금 이건 자조하는 웃음이니 기분 상하지 말게나. 일어났는지 아닌지도 모...\n",
       " 136221    자면서 어쩌고저쩌고 중얼대기에 모포를 덮어 줬네만, 그래도 덜덜 떨기에 말일세. 공...\n",
       " 136309    마약 사건하고는 다르네. 우리가 할 일은 의뢰인을 끝까지 지키고 의뢰인의 아버지를 ...\n",
       " Name: sentence, Length: 526, dtype: object,\n",
       " 526)"
      ]
     },
     "execution_count": 79,
     "metadata": {},
     "output_type": "execute_result"
    }
   ],
   "source": [
    "long_sentences = trainset[trainset['sentence'].str.len() >= 100]['sentence']\n",
    "long_sentences, len(long_sentences)"
   ]
  },
  {
   "attachments": {},
   "cell_type": "markdown",
   "metadata": {},
   "source": [
    "길이가 100 이상인 문장 제거"
   ]
  },
  {
   "cell_type": "code",
   "execution_count": 82,
   "metadata": {},
   "outputs": [
    {
     "data": {
      "text/plain": [
       "135791"
      ]
     },
     "execution_count": 82,
     "metadata": {},
     "output_type": "execute_result"
    }
   ],
   "source": [
    "trainset = trainset[trainset['sentence'].str.len() < 100]\n",
    "\n",
    "# 삭제된 행에 대한 인덱스 재설정\n",
    "trainset.reset_index(drop=True, inplace=True)\n",
    "len(trainset)\n"
   ]
  },
  {
   "attachments": {},
   "cell_type": "markdown",
   "metadata": {},
   "source": [
    "데이터 프레임 셔플"
   ]
  },
  {
   "cell_type": "code",
   "execution_count": 83,
   "metadata": {},
   "outputs": [],
   "source": [
    "from sklearn.utils import shuffle\n",
    "trainset = shuffle(trainset).reset_index(drop=True)"
   ]
  },
  {
   "cell_type": "code",
   "execution_count": 84,
   "metadata": {},
   "outputs": [],
   "source": [
    "trainset.to_csv('data/병합데이터셋-v3.csv', encoding='utf-8-sig')"
   ]
  },
  {
   "attachments": {},
   "cell_type": "markdown",
   "metadata": {},
   "source": [
    "---\n",
    "\n",
    "일부 태그 직접 수정"
   ]
  },
  {
   "cell_type": "code",
   "execution_count": 2,
   "metadata": {},
   "outputs": [
    {
     "data": {
      "text/plain": [
       "(135791, 2)"
      ]
     },
     "execution_count": 2,
     "metadata": {},
     "output_type": "execute_result"
    }
   ],
   "source": [
    "import pandas as pd\n",
    "df = pd.read_csv('data/병합데이터셋-v3a.csv', index_col=0)\n",
    "df.shape"
   ]
  },
  {
   "cell_type": "code",
   "execution_count": 4,
   "metadata": {},
   "outputs": [],
   "source": [
    "df= df.dropna()\n",
    "df = df.drop_duplicates(subset='sentence')"
   ]
  },
  {
   "attachments": {},
   "cell_type": "markdown",
   "metadata": {},
   "source": [
    "__의미 없이 0으로 끝나는 패턴__"
   ]
  },
  {
   "cell_type": "code",
   "execution_count": 15,
   "metadata": {},
   "outputs": [
    {
     "data": {
      "text/html": [
       "<div>\n",
       "<style scoped>\n",
       "    .dataframe tbody tr th:only-of-type {\n",
       "        vertical-align: middle;\n",
       "    }\n",
       "\n",
       "    .dataframe tbody tr th {\n",
       "        vertical-align: top;\n",
       "    }\n",
       "\n",
       "    .dataframe thead th {\n",
       "        text-align: right;\n",
       "    }\n",
       "</style>\n",
       "<table border=\"1\" class=\"dataframe\">\n",
       "  <thead>\n",
       "    <tr style=\"text-align: right;\">\n",
       "      <th></th>\n",
       "      <th>sentence</th>\n",
       "      <th>emotion</th>\n",
       "    </tr>\n",
       "  </thead>\n",
       "  <tbody>\n",
       "    <tr>\n",
       "      <th>73</th>\n",
       "      <td>근데 똥이조금 나오더라고어떻게 하냐?0</td>\n",
       "      <td>불안</td>\n",
       "    </tr>\n",
       "    <tr>\n",
       "      <th>378</th>\n",
       "      <td>코가 자꾸 욱신욱신 너무 아파죽겠음.0</td>\n",
       "      <td>슬픔</td>\n",
       "    </tr>\n",
       "    <tr>\n",
       "      <th>1646</th>\n",
       "      <td>오아시스노래를 하루중 12시간을 듣고있어서귀가너무아퍼요 ㅠㅠ0</td>\n",
       "      <td>슬픔</td>\n",
       "    </tr>\n",
       "    <tr>\n",
       "      <th>2117</th>\n",
       "      <td>살다살다 이름도 모르고 얼굴 한번 본 적 없는 사람이 부럽다고 생각하게 줄은 몰랐는...</td>\n",
       "      <td>놀람</td>\n",
       "    </tr>\n",
       "    <tr>\n",
       "      <th>2978</th>\n",
       "      <td>근데 고민은 이게 아니라는게 고민....0</td>\n",
       "      <td>슬픔</td>\n",
       "    </tr>\n",
       "    <tr>\n",
       "      <th>3252</th>\n",
       "      <td>축구는 참 무서운 스포츠세계;;0</td>\n",
       "      <td>불안</td>\n",
       "    </tr>\n",
       "    <tr>\n",
       "      <th>3261</th>\n",
       "      <td>하면서 얼불 벌겋게 되서 그냥 나와버렸는데...뭐 좋은 방법 없을까요..?0</td>\n",
       "      <td>불안</td>\n",
       "    </tr>\n",
       "    <tr>\n",
       "      <th>3330</th>\n",
       "      <td>예민한성격인지 참 돌겠네요0</td>\n",
       "      <td>슬픔</td>\n",
       "    </tr>\n",
       "    <tr>\n",
       "      <th>3535</th>\n",
       "      <td>이러다 진짜 큰일나버리는것 아닌지 모르겠네요.....0</td>\n",
       "      <td>불안</td>\n",
       "    </tr>\n",
       "    <tr>\n",
       "      <th>3653</th>\n",
       "      <td>이게 레알인가요 -_-0</td>\n",
       "      <td>놀람</td>\n",
       "    </tr>\n",
       "    <tr>\n",
       "      <th>3928</th>\n",
       "      <td>심각합니다.0</td>\n",
       "      <td>불안</td>\n",
       "    </tr>\n",
       "    <tr>\n",
       "      <th>4921</th>\n",
       "      <td>제가 지금 성적이 좀 안좋은데.....0</td>\n",
       "      <td>슬픔</td>\n",
       "    </tr>\n",
       "    <tr>\n",
       "      <th>5145</th>\n",
       "      <td>대학교가면 신입생 ot때장기자랑 꼭 해야되나염?0</td>\n",
       "      <td>불안</td>\n",
       "    </tr>\n",
       "    <tr>\n",
       "      <th>6456</th>\n",
       "      <td>그래서 적당히 뻥카 날리고 어떻게든 해보려고 하는데 살짝 불안합니다.0</td>\n",
       "      <td>불안</td>\n",
       "    </tr>\n",
       "    <tr>\n",
       "      <th>6655</th>\n",
       "      <td>제친구는 12시에자서 3시에일어나도 안피곤하다던데 ..부러워 ㅜ.ㅜ0</td>\n",
       "      <td>슬픔</td>\n",
       "    </tr>\n",
       "    <tr>\n",
       "      <th>6906</th>\n",
       "      <td>아니면 영양제 발라도 수염 날까요?0</td>\n",
       "      <td>불안</td>\n",
       "    </tr>\n",
       "    <tr>\n",
       "      <th>6945</th>\n",
       "      <td>루리질이 문명보다 더 무섭다고 느껴짐..ㅠㅠ0</td>\n",
       "      <td>불안</td>\n",
       "    </tr>\n",
       "    <tr>\n",
       "      <th>7264</th>\n",
       "      <td>사귄다음에도 계속해서 능력있는 남자가 나타나면 그 남자에게 붙을 수도 있나요?0</td>\n",
       "      <td>놀람</td>\n",
       "    </tr>\n",
       "    <tr>\n",
       "      <th>7581</th>\n",
       "      <td>뭘 먹고, 뭘 보고, 뭘 듣고, 누구를 믿으며 살아야 되나요..0.0</td>\n",
       "      <td>슬픔</td>\n",
       "    </tr>\n",
       "    <tr>\n",
       "      <th>7824</th>\n",
       "      <td>소심함의 정의좀알려주시고 안좋은건가요?0</td>\n",
       "      <td>불안</td>\n",
       "    </tr>\n",
       "    <tr>\n",
       "      <th>7906</th>\n",
       "      <td>루리웹만 빠른건 무슨 시츄에이션?0</td>\n",
       "      <td>놀람</td>\n",
       "    </tr>\n",
       "    <tr>\n",
       "      <th>8683</th>\n",
       "      <td>미안해 하실까 봐 아무 말 안했는데퉁퉁 붓기 시작...0</td>\n",
       "      <td>놀람</td>\n",
       "    </tr>\n",
       "    <tr>\n",
       "      <th>9610</th>\n",
       "      <td>저보다 키큰 여자분들이 너무 많으니 당황스럽네요;;;0</td>\n",
       "      <td>놀람</td>\n",
       "    </tr>\n",
       "    <tr>\n",
       "      <th>10107</th>\n",
       "      <td>약은 최대한 안먹으려고 하는데좋은 음시있나요?0</td>\n",
       "      <td>불안</td>\n",
       "    </tr>\n",
       "    <tr>\n",
       "      <th>10265</th>\n",
       "      <td>일단은 고민상담입니다.0</td>\n",
       "      <td>슬픔</td>\n",
       "    </tr>\n",
       "    <tr>\n",
       "      <th>10419</th>\n",
       "      <td>장수풍뎅이 애벌레 똥으로 만든 흙도 섞었는데 싹이 날까..0</td>\n",
       "      <td>불안</td>\n",
       "    </tr>\n",
       "    <tr>\n",
       "      <th>10716</th>\n",
       "      <td>어떻게 해야될지 모르겠어요..0</td>\n",
       "      <td>불안</td>\n",
       "    </tr>\n",
       "    <tr>\n",
       "      <th>10837</th>\n",
       "      <td>해버린게 고민.0</td>\n",
       "      <td>불안</td>\n",
       "    </tr>\n",
       "    <tr>\n",
       "      <th>11525</th>\n",
       "      <td>저때문에 택배하나 배달하려다 변을 당하신건 아니겠죠0</td>\n",
       "      <td>슬픔</td>\n",
       "    </tr>\n",
       "    <tr>\n",
       "      <th>12017</th>\n",
       "      <td>요즘 하도 드라마를 많이 봤더니요즘 여자애들은 보통 나같이 평범한 외모에 평범한 ...</td>\n",
       "      <td>불안</td>\n",
       "    </tr>\n",
       "  </tbody>\n",
       "</table>\n",
       "</div>"
      ],
      "text/plain": [
       "                                                sentence emotion\n",
       "73                                 근데 똥이조금 나오더라고어떻게 하냐?0      불안\n",
       "378                                코가 자꾸 욱신욱신 너무 아파죽겠음.0      슬픔\n",
       "1646                  오아시스노래를 하루중 12시간을 듣고있어서귀가너무아퍼요 ㅠㅠ0      슬픔\n",
       "2117   살다살다 이름도 모르고 얼굴 한번 본 적 없는 사람이 부럽다고 생각하게 줄은 몰랐는...      놀람\n",
       "2978                             근데 고민은 이게 아니라는게 고민....0      슬픔\n",
       "3252                                  축구는 참 무서운 스포츠세계;;0      불안\n",
       "3261          하면서 얼불 벌겋게 되서 그냥 나와버렸는데...뭐 좋은 방법 없을까요..?0      불안\n",
       "3330                                     예민한성격인지 참 돌겠네요0      슬픔\n",
       "3535                      이러다 진짜 큰일나버리는것 아닌지 모르겠네요.....0      불안\n",
       "3653                                       이게 레알인가요 -_-0      놀람\n",
       "3928                                             심각합니다.0      불안\n",
       "4921                              제가 지금 성적이 좀 안좋은데.....0      슬픔\n",
       "5145                         대학교가면 신입생 ot때장기자랑 꼭 해야되나염?0      불안\n",
       "6456             그래서 적당히 뻥카 날리고 어떻게든 해보려고 하는데 살짝 불안합니다.0      불안\n",
       "6655              제친구는 12시에자서 3시에일어나도 안피곤하다던데 ..부러워 ㅜ.ㅜ0      슬픔\n",
       "6906                                아니면 영양제 발라도 수염 날까요?0      불안\n",
       "6945                           루리질이 문명보다 더 무섭다고 느껴짐..ㅠㅠ0      불안\n",
       "7264        사귄다음에도 계속해서 능력있는 남자가 나타나면 그 남자에게 붙을 수도 있나요?0      놀람\n",
       "7581              뭘 먹고, 뭘 보고, 뭘 듣고, 누구를 믿으며 살아야 되나요..0.0      슬픔\n",
       "7824                              소심함의 정의좀알려주시고 안좋은건가요?0      불안\n",
       "7906                                 루리웹만 빠른건 무슨 시츄에이션?0      놀람\n",
       "8683                     미안해 하실까 봐 아무 말 안했는데퉁퉁 붓기 시작...0      놀람\n",
       "9610                      저보다 키큰 여자분들이 너무 많으니 당황스럽네요;;;0      놀람\n",
       "10107                         약은 최대한 안먹으려고 하는데좋은 음시있나요?0      불안\n",
       "10265                                      일단은 고민상담입니다.0      슬픔\n",
       "10419                  장수풍뎅이 애벌레 똥으로 만든 흙도 섞었는데 싹이 날까..0      불안\n",
       "10716                                  어떻게 해야될지 모르겠어요..0      불안\n",
       "10837                                          해버린게 고민.0      불안\n",
       "11525                      저때문에 택배하나 배달하려다 변을 당하신건 아니겠죠0      슬픔\n",
       "12017   요즘 하도 드라마를 많이 봤더니요즘 여자애들은 보통 나같이 평범한 외모에 평범한 ...      불안"
      ]
     },
     "execution_count": 15,
     "metadata": {},
     "output_type": "execute_result"
    }
   ],
   "source": [
    "df_ending_with_0 = df[df['sentence'].str.endswith('0')]\n",
    "df_ending_with_0.iloc[:30]"
   ]
  },
  {
   "attachments": {},
   "cell_type": "markdown",
   "metadata": {},
   "source": [
    "'0'으로 끝날 경우 '0'빼기"
   ]
  },
  {
   "cell_type": "code",
   "execution_count": 16,
   "metadata": {},
   "outputs": [],
   "source": [
    "def remove_end_0(sentence):\n",
    "    if sentence.endswith('0'):\n",
    "        return sentence[:-1]\n",
    "    return sentence\n",
    "\n",
    "df['sentence'] = df['sentence'].apply(remove_end_0)"
   ]
  },
  {
   "attachments": {},
   "cell_type": "markdown",
   "metadata": {},
   "source": [
    "의미없는 ~0 패턴 치환해주기"
   ]
  },
  {
   "cell_type": "code",
   "execution_count": 17,
   "metadata": {},
   "outputs": [],
   "source": [
    "replacements = {\n",
    "    r'\\?0': '?',\n",
    "    r';0': ';',\n",
    "    r'ㅠ0': 'ㅠ',\n",
    "    r'ㅜ0': 'ㅜ',\n",
    "    r'\\.0': '.'\n",
    "}\n",
    "\n",
    "for pattern, replacement in replacements.items():\n",
    "    df['sentence'] = df['sentence'].str.replace(pattern, replacement, regex=True)"
   ]
  },
  {
   "attachments": {},
   "cell_type": "markdown",
   "metadata": {},
   "source": [
    "__공백으로 시작하는 문장__"
   ]
  },
  {
   "cell_type": "code",
   "execution_count": 19,
   "metadata": {},
   "outputs": [
    {
     "data": {
      "text/html": [
       "<div>\n",
       "<style scoped>\n",
       "    .dataframe tbody tr th:only-of-type {\n",
       "        vertical-align: middle;\n",
       "    }\n",
       "\n",
       "    .dataframe tbody tr th {\n",
       "        vertical-align: top;\n",
       "    }\n",
       "\n",
       "    .dataframe thead th {\n",
       "        text-align: right;\n",
       "    }\n",
       "</style>\n",
       "<table border=\"1\" class=\"dataframe\">\n",
       "  <thead>\n",
       "    <tr style=\"text-align: right;\">\n",
       "      <th></th>\n",
       "      <th>sentence</th>\n",
       "      <th>emotion</th>\n",
       "    </tr>\n",
       "  </thead>\n",
       "  <tbody>\n",
       "    <tr>\n",
       "      <th>17</th>\n",
       "      <td>수족묶여 구타당해도 할말없겠지?</td>\n",
       "      <td>슬픔</td>\n",
       "    </tr>\n",
       "    <tr>\n",
       "      <th>19</th>\n",
       "      <td>그들은 내가 어떻게 먹고 사는지 전혀 저~~</td>\n",
       "      <td>슬픔</td>\n",
       "    </tr>\n",
       "    <tr>\n",
       "      <th>32</th>\n",
       "      <td>써보신분들 대답해주시면 감사하겠습니다</td>\n",
       "      <td>행복</td>\n",
       "    </tr>\n",
       "    <tr>\n",
       "      <th>73</th>\n",
       "      <td>근데 똥이조금 나오더라고어떻게 하냐?</td>\n",
       "      <td>불안</td>\n",
       "    </tr>\n",
       "    <tr>\n",
       "      <th>92</th>\n",
       "      <td>요즘 최고 잼나도 듀가 노래도 멋졌음</td>\n",
       "      <td>행복</td>\n",
       "    </tr>\n",
       "    <tr>\n",
       "      <th>...</th>\n",
       "      <td>...</td>\n",
       "      <td>...</td>\n",
       "    </tr>\n",
       "    <tr>\n",
       "      <th>135621</th>\n",
       "      <td>나라 망하는 소리가 천지를 울리는 구나!</td>\n",
       "      <td>분노</td>\n",
       "    </tr>\n",
       "    <tr>\n",
       "      <th>135633</th>\n",
       "      <td>자기가 응원하는팀 점수먹으면좋아한다길레...</td>\n",
       "      <td>불안</td>\n",
       "    </tr>\n",
       "    <tr>\n",
       "      <th>135673</th>\n",
       "      <td>명세서가 없거나 안주는 회사도 존재하나요..??</td>\n",
       "      <td>놀람</td>\n",
       "    </tr>\n",
       "    <tr>\n",
       "      <th>135721</th>\n",
       "      <td>엊그제 학교 들어간것같은데..</td>\n",
       "      <td>놀람</td>\n",
       "    </tr>\n",
       "    <tr>\n",
       "      <th>135752</th>\n",
       "      <td>제가 먼저 말 걸어줘야될까요</td>\n",
       "      <td>불안</td>\n",
       "    </tr>\n",
       "  </tbody>\n",
       "</table>\n",
       "<p>4882 rows × 2 columns</p>\n",
       "</div>"
      ],
      "text/plain": [
       "                           sentence emotion\n",
       "17                수족묶여 구타당해도 할말없겠지?      슬픔\n",
       "19         그들은 내가 어떻게 먹고 사는지 전혀 저~~      슬픔\n",
       "32             써보신분들 대답해주시면 감사하겠습니다      행복\n",
       "73             근데 똥이조금 나오더라고어떻게 하냐?      불안\n",
       "92             요즘 최고 잼나도 듀가 노래도 멋졌음      행복\n",
       "...                             ...     ...\n",
       "135621       나라 망하는 소리가 천지를 울리는 구나!      분노\n",
       "135633     자기가 응원하는팀 점수먹으면좋아한다길레...      불안\n",
       "135673   명세서가 없거나 안주는 회사도 존재하나요..??      놀람\n",
       "135721             엊그제 학교 들어간것같은데..      놀람\n",
       "135752              제가 먼저 말 걸어줘야될까요      불안\n",
       "\n",
       "[4882 rows x 2 columns]"
      ]
     },
     "execution_count": 19,
     "metadata": {},
     "output_type": "execute_result"
    }
   ],
   "source": [
    "df_starting_with_space = df[df['sentence'].str.match(r'^\\s+')]\n",
    "df_starting_with_space"
   ]
  },
  {
   "cell_type": "code",
   "execution_count": 34,
   "metadata": {},
   "outputs": [],
   "source": [
    "df['sentence'] = df['sentence'].str.lstrip()"
   ]
  },
  {
   "attachments": {},
   "cell_type": "markdown",
   "metadata": {},
   "source": [
    "__문자치환 추가__"
   ]
  },
  {
   "cell_type": "code",
   "execution_count": 35,
   "metadata": {},
   "outputs": [
    {
     "data": {
      "text/html": [
       "<div>\n",
       "<style scoped>\n",
       "    .dataframe tbody tr th:only-of-type {\n",
       "        vertical-align: middle;\n",
       "    }\n",
       "\n",
       "    .dataframe tbody tr th {\n",
       "        vertical-align: top;\n",
       "    }\n",
       "\n",
       "    .dataframe thead th {\n",
       "        text-align: right;\n",
       "    }\n",
       "</style>\n",
       "<table border=\"1\" class=\"dataframe\">\n",
       "  <thead>\n",
       "    <tr style=\"text-align: right;\">\n",
       "      <th></th>\n",
       "      <th>sentence</th>\n",
       "      <th>emotion</th>\n",
       "    </tr>\n",
       "  </thead>\n",
       "  <tbody>\n",
       "    <tr>\n",
       "      <th>859</th>\n",
       "      <td>다들 시기가 틀린건 알지만 거의 막달엔 왠만하면 나오는걸로 아는데;ㅠㅠ걱정이네요.....</td>\n",
       "      <td>불안</td>\n",
       "    </tr>\n",
       "    <tr>\n",
       "      <th>2784</th>\n",
       "      <td>빨리 교환해도 터지면?......................</td>\n",
       "      <td>불안</td>\n",
       "    </tr>\n",
       "    <tr>\n",
       "      <th>3188</th>\n",
       "      <td>죄송합니다. 심려를 끼쳐드렸다면.......</td>\n",
       "      <td>슬픔</td>\n",
       "    </tr>\n",
       "    <tr>\n",
       "      <th>4444</th>\n",
       "      <td>정력왕인감.......</td>\n",
       "      <td>놀람</td>\n",
       "    </tr>\n",
       "    <tr>\n",
       "      <th>4659</th>\n",
       "      <td>끝내준다.......</td>\n",
       "      <td>놀람</td>\n",
       "    </tr>\n",
       "    <tr>\n",
       "      <th>...</th>\n",
       "      <td>...</td>\n",
       "      <td>...</td>\n",
       "    </tr>\n",
       "    <tr>\n",
       "      <th>134539</th>\n",
       "      <td>우히히....... 어제 무한도전 너무 재밌게 봤어요</td>\n",
       "      <td>행복</td>\n",
       "    </tr>\n",
       "    <tr>\n",
       "      <th>134646</th>\n",
       "      <td>헐............. 설현이 몸매봐...........</td>\n",
       "      <td>놀람</td>\n",
       "    </tr>\n",
       "    <tr>\n",
       "      <th>134944</th>\n",
       "      <td>저도 이런 글 쓰는거 무지 불편한데요........</td>\n",
       "      <td>슬픔</td>\n",
       "    </tr>\n",
       "    <tr>\n",
       "      <th>134953</th>\n",
       "      <td>어......... 그건 얘기 안하던데요.</td>\n",
       "      <td>중립</td>\n",
       "    </tr>\n",
       "    <tr>\n",
       "      <th>135725</th>\n",
       "      <td>뉴스에 번개 맞아 죽었다는 뉴스는 없던데.......</td>\n",
       "      <td>놀람</td>\n",
       "    </tr>\n",
       "  </tbody>\n",
       "</table>\n",
       "<p>205 rows × 2 columns</p>\n",
       "</div>"
      ],
      "text/plain": [
       "                                                 sentence emotion\n",
       "859     다들 시기가 틀린건 알지만 거의 막달엔 왠만하면 나오는걸로 아는데;ㅠㅠ걱정이네요.....      불안\n",
       "2784                   빨리 교환해도 터지면?......................      불안\n",
       "3188                             죄송합니다. 심려를 끼쳐드렸다면.......      슬픔\n",
       "4444                                         정력왕인감.......      놀람\n",
       "4659                                          끝내준다.......      놀람\n",
       "...                                                   ...     ...\n",
       "134539                      우히히....... 어제 무한도전 너무 재밌게 봤어요      행복\n",
       "134646                  헐............. 설현이 몸매봐...........      놀람\n",
       "134944                       저도 이런 글 쓰는거 무지 불편한데요........      슬픔\n",
       "134953                            어......... 그건 얘기 안하던데요.      중립\n",
       "135725                      뉴스에 번개 맞아 죽었다는 뉴스는 없던데.......      놀람\n",
       "\n",
       "[205 rows x 2 columns]"
      ]
     },
     "execution_count": 35,
     "metadata": {},
     "output_type": "execute_result"
    }
   ],
   "source": [
    "df_continuous_dots = df[df['sentence'].str.contains(r'\\.{7,}', regex=True)]\n",
    "df_continuous_dots"
   ]
  },
  {
   "cell_type": "code",
   "execution_count": 36,
   "metadata": {},
   "outputs": [],
   "source": [
    "# 7개이상 연속되는 .\n",
    "df['sentence'] = df['sentence'].str.replace(r'\\.{7,}', '......', regex=True)"
   ]
  },
  {
   "cell_type": "code",
   "execution_count": 39,
   "metadata": {},
   "outputs": [],
   "source": [
    "df.to_csv('data/병합데이터셋-v3b.csv', encoding='utf-8-sig')"
   ]
  },
  {
   "attachments": {},
   "cell_type": "markdown",
   "metadata": {},
   "source": [
    "---"
   ]
  },
  {
   "cell_type": "code",
   "execution_count": 1,
   "metadata": {},
   "outputs": [
    {
     "data": {
      "text/plain": [
       "(135791, 2)"
      ]
     },
     "execution_count": 1,
     "metadata": {},
     "output_type": "execute_result"
    }
   ],
   "source": [
    "import pandas as pd\n",
    "df = pd.read_csv('data/병합데이터셋-v3.csv', index_col=0)\n",
    "df.shape"
   ]
  },
  {
   "cell_type": "code",
   "execution_count": 2,
   "metadata": {},
   "outputs": [],
   "source": [
    "def remove_end_0(sentence):\n",
    "    if sentence.endswith('0'):\n",
    "        return sentence[:-1]\n",
    "    return sentence\n",
    "\n",
    "df['sentence'] = df['sentence'].apply(remove_end_0)\n",
    "\n",
    "replacements = {\n",
    "    r'\\?0': '?',\n",
    "    r';0': ';',\n",
    "    r'ㅠ0': 'ㅠ',\n",
    "    r'ㅜ0': 'ㅜ',\n",
    "    r'\\.0': '.'\n",
    "}\n",
    "\n",
    "for pattern, replacement in replacements.items():\n",
    "    df['sentence'] = df['sentence'].str.replace(pattern, replacement, regex=True)"
   ]
  },
  {
   "cell_type": "code",
   "execution_count": 3,
   "metadata": {},
   "outputs": [],
   "source": [
    "df['sentence'] = df['sentence'].str.lstrip()"
   ]
  },
  {
   "cell_type": "code",
   "execution_count": 6,
   "metadata": {},
   "outputs": [
    {
     "data": {
      "text/html": [
       "<div>\n",
       "<style scoped>\n",
       "    .dataframe tbody tr th:only-of-type {\n",
       "        vertical-align: middle;\n",
       "    }\n",
       "\n",
       "    .dataframe tbody tr th {\n",
       "        vertical-align: top;\n",
       "    }\n",
       "\n",
       "    .dataframe thead th {\n",
       "        text-align: right;\n",
       "    }\n",
       "</style>\n",
       "<table border=\"1\" class=\"dataframe\">\n",
       "  <thead>\n",
       "    <tr style=\"text-align: right;\">\n",
       "      <th></th>\n",
       "      <th>sentence</th>\n",
       "      <th>emotion</th>\n",
       "    </tr>\n",
       "  </thead>\n",
       "  <tbody>\n",
       "    <tr>\n",
       "      <th>1093</th>\n",
       "      <td>너무 보고싶은데 지금은 그럴수없는 상황이라 멀리서만 지켜본다는게 너무힘들어요ㅠㅠㅜ</td>\n",
       "      <td>슬픔</td>\n",
       "    </tr>\n",
       "    <tr>\n",
       "      <th>2062</th>\n",
       "      <td>나도 눈물 펑펑..ㅜㅠ</td>\n",
       "      <td>슬픔</td>\n",
       "    </tr>\n",
       "    <tr>\n",
       "      <th>3765</th>\n",
       "      <td>20만원거래를했는데제가이런거 말을 잘못해서 어떻게말할까여ㅠㅜㅜ</td>\n",
       "      <td>슬픔</td>\n",
       "    </tr>\n",
       "    <tr>\n",
       "      <th>4113</th>\n",
       "      <td>와씨 형 이제 니 팬이다 ㅠㅜ 탈모갤 와라 형들 많다</td>\n",
       "      <td>행복</td>\n",
       "    </tr>\n",
       "    <tr>\n",
       "      <th>7280</th>\n",
       "      <td>내가 아직도 한화 뉴스에 관심을 갖다니ㅜㅠ</td>\n",
       "      <td>놀람</td>\n",
       "    </tr>\n",
       "    <tr>\n",
       "      <th>...</th>\n",
       "      <td>...</td>\n",
       "      <td>...</td>\n",
       "    </tr>\n",
       "    <tr>\n",
       "      <th>132411</th>\n",
       "      <td>오이 오라버니 내한하면 공항에서 노숙할꾸야ㅜㅠㅠㅜㅜ</td>\n",
       "      <td>행복</td>\n",
       "    </tr>\n",
       "    <tr>\n",
       "      <th>132503</th>\n",
       "      <td>일단생각해놓는건 알바인데...ㅠㅜ</td>\n",
       "      <td>슬픔</td>\n",
       "    </tr>\n",
       "    <tr>\n",
       "      <th>133599</th>\n",
       "      <td>이준기ㅠㅜㅠ진짜기대합니다♡</td>\n",
       "      <td>행복</td>\n",
       "    </tr>\n",
       "    <tr>\n",
       "      <th>135022</th>\n",
       "      <td>망하면 어떡하죠..ㅜㅠㅠ</td>\n",
       "      <td>불안</td>\n",
       "    </tr>\n",
       "    <tr>\n",
       "      <th>135024</th>\n",
       "      <td>점프하나하나 뛸때마다 조마조마하게 봤는데 클린을...!!ㅜㅠ</td>\n",
       "      <td>행복</td>\n",
       "    </tr>\n",
       "  </tbody>\n",
       "</table>\n",
       "<p>85 rows × 2 columns</p>\n",
       "</div>"
      ],
      "text/plain": [
       "                                             sentence emotion\n",
       "1093    너무 보고싶은데 지금은 그럴수없는 상황이라 멀리서만 지켜본다는게 너무힘들어요ㅠㅠㅜ      슬픔\n",
       "2062                                     나도 눈물 펑펑..ㅜㅠ      슬픔\n",
       "3765               20만원거래를했는데제가이런거 말을 잘못해서 어떻게말할까여ㅠㅜㅜ      슬픔\n",
       "4113                    와씨 형 이제 니 팬이다 ㅠㅜ 탈모갤 와라 형들 많다      행복\n",
       "7280                          내가 아직도 한화 뉴스에 관심을 갖다니ㅜㅠ      놀람\n",
       "...                                               ...     ...\n",
       "132411                   오이 오라버니 내한하면 공항에서 노숙할꾸야ㅜㅠㅠㅜㅜ      행복\n",
       "132503                             일단생각해놓는건 알바인데...ㅠㅜ      슬픔\n",
       "133599                                 이준기ㅠㅜㅠ진짜기대합니다♡      행복\n",
       "135022                                  망하면 어떡하죠..ㅜㅠㅠ      불안\n",
       "135024              점프하나하나 뛸때마다 조마조마하게 봤는데 클린을...!!ㅜㅠ      행복\n",
       "\n",
       "[85 rows x 2 columns]"
      ]
     },
     "execution_count": 6,
     "metadata": {},
     "output_type": "execute_result"
    }
   ],
   "source": [
    "#눈물\n",
    "df_tears = df[df['sentence'].str.contains('ㅜㅠ|ㅠㅜ')]\n",
    "df_tears"
   ]
  },
  {
   "cell_type": "code",
   "execution_count": 7,
   "metadata": {},
   "outputs": [],
   "source": [
    "# 'ㅠㅜ','ㅠㅜ' 등 치환\n",
    "condition = df['sentence'].str.contains('ㅜㅠ|ㅠㅜ')\n",
    "df.loc[condition, 'sentence'] = df.loc[condition, 'sentence'].str.replace('ㅜ', 'ㅠ')\n",
    "df['sentence'] = df['sentence'].str.replace(r'(ㅠ{3,})', 'ㅠㅠ', regex=True)"
   ]
  },
  {
   "cell_type": "code",
   "execution_count": 16,
   "metadata": {},
   "outputs": [
    {
     "data": {
      "text/html": [
       "<div>\n",
       "<style scoped>\n",
       "    .dataframe tbody tr th:only-of-type {\n",
       "        vertical-align: middle;\n",
       "    }\n",
       "\n",
       "    .dataframe tbody tr th {\n",
       "        vertical-align: top;\n",
       "    }\n",
       "\n",
       "    .dataframe thead th {\n",
       "        text-align: right;\n",
       "    }\n",
       "</style>\n",
       "<table border=\"1\" class=\"dataframe\">\n",
       "  <thead>\n",
       "    <tr style=\"text-align: right;\">\n",
       "      <th></th>\n",
       "      <th>sentence</th>\n",
       "      <th>emotion</th>\n",
       "    </tr>\n",
       "  </thead>\n",
       "  <tbody>\n",
       "    <tr>\n",
       "      <th>121610</th>\n",
       "      <td>댓글에 카톡 아이디 남겨주세요.ㄳ</td>\n",
       "      <td>행복</td>\n",
       "    </tr>\n",
       "  </tbody>\n",
       "</table>\n",
       "</div>"
      ],
      "text/plain": [
       "                  sentence emotion\n",
       "121610  댓글에 카톡 아이디 남겨주세요.ㄳ      행복"
      ]
     },
     "execution_count": 16,
     "metadata": {},
     "output_type": "execute_result"
    }
   ],
   "source": [
    "filter = df[df['sentence'].str.contains('ㄳ')]\n",
    "filter"
   ]
  },
  {
   "attachments": {},
   "cell_type": "markdown",
   "metadata": {},
   "source": [
    "추가로 치환"
   ]
  },
  {
   "cell_type": "code",
   "execution_count": 17,
   "metadata": {},
   "outputs": [],
   "source": [
    "df['sentence'] = df['sentence'].str.replace(r'\\.{7,}', '......', regex=True)\n",
    "df['sentence'] = df['sentence'].str.replace(';{3,}', ';;')\n",
    "df['sentence'] = df['sentence'].str.replace('\\^{3,}', '^^')\n",
    "\n",
    "\n",
    "# 한글 자모음이 3번 이상 반복되는 패턴을 찾아, 그 자모음 2개로 치환\n",
    "import re\n",
    "df['sentence'] = df['sentence'].apply(lambda x: re.sub(r'(([ㄱ-ㅎㅏ-ㅣ]|ㄲ|ㄸ|ㅃ|ㅆ|ㅉ){3,})', lambda m: m.group(1)[:2], x))"
   ]
  },
  {
   "cell_type": "code",
   "execution_count": 21,
   "metadata": {},
   "outputs": [
    {
     "name": "stdout",
     "output_type": "stream",
     "text": [
      "원래 길이: 135791\n",
      "중복되는 행:  47\n",
      "중복행 제거 후: 135744\n"
     ]
    }
   ],
   "source": [
    "print(\"원래 길이:\",len(df))\n",
    "\n",
    "dup = df[df.duplicated(subset=['sentence'])]\n",
    "print(\"중복되는 행: \", len(dup))\n",
    "\n",
    "df = df.drop_duplicates(subset=['sentence'])\n",
    "print(\"중복행 제거 후:\",len(df))"
   ]
  },
  {
   "cell_type": "code",
   "execution_count": 22,
   "metadata": {},
   "outputs": [],
   "source": [
    "df.reset_index(drop=True, inplace=True)"
   ]
  },
  {
   "cell_type": "code",
   "execution_count": 23,
   "metadata": {},
   "outputs": [],
   "source": [
    "df.to_csv('data/병합데이터셋-v4.csv', encoding='utf-8-sig')"
   ]
  },
  {
   "cell_type": "code",
   "execution_count": null,
   "metadata": {},
   "outputs": [],
   "source": []
  }
 ],
 "metadata": {
  "kernelspec": {
   "display_name": "Python 3.10.10 ('base')",
   "language": "python",
   "name": "python3"
  },
  "language_info": {
   "codemirror_mode": {
    "name": "ipython",
    "version": 3
   },
   "file_extension": ".py",
   "mimetype": "text/x-python",
   "name": "python",
   "nbconvert_exporter": "python",
   "pygments_lexer": "ipython3",
   "version": "3.9.16"
  },
  "orig_nbformat": 4,
  "vscode": {
   "interpreter": {
    "hash": "b7bc6c7fd23eb2e91dec57608c8d21c360d813bf713e461423113f4cc04934c0"
   }
  }
 },
 "nbformat": 4,
 "nbformat_minor": 2
}
