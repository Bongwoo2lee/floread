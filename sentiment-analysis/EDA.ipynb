{
 "cells": [
  {
   "attachments": {},
   "cell_type": "markdown",
   "metadata": {},
   "source": [
    "# 1.감성대화말뭉치"
   ]
  },
  {
   "cell_type": "code",
   "execution_count": 40,
   "metadata": {},
   "outputs": [],
   "source": [
    "import pandas as pd\n",
    "\n",
    "file1_train = 'data/감성대화말뭉치(최종데이터)_Training.csv'\n",
    "file1_test = 'data/감성대화말뭉치(최종데이터)_Validation.csv'\n",
    "\n",
    "train1  = pd.read_csv(file1_train)\n",
    "test1 = pd.read_csv(file1_test)"
   ]
  },
  {
   "attachments": {},
   "cell_type": "markdown",
   "metadata": {},
   "source": [
    "### 문장, 감정 대분류 칼럼만 남기고 순서바꾸기"
   ]
  },
  {
   "cell_type": "code",
   "execution_count": 41,
   "metadata": {},
   "outputs": [
    {
     "data": {
      "text/html": [
       "<div>\n",
       "<style scoped>\n",
       "    .dataframe tbody tr th:only-of-type {\n",
       "        vertical-align: middle;\n",
       "    }\n",
       "\n",
       "    .dataframe tbody tr th {\n",
       "        vertical-align: top;\n",
       "    }\n",
       "\n",
       "    .dataframe thead th {\n",
       "        text-align: right;\n",
       "    }\n",
       "</style>\n",
       "<table border=\"1\" class=\"dataframe\">\n",
       "  <thead>\n",
       "    <tr style=\"text-align: right;\">\n",
       "      <th></th>\n",
       "      <th>sentence</th>\n",
       "      <th>emotion</th>\n",
       "    </tr>\n",
       "  </thead>\n",
       "  <tbody>\n",
       "    <tr>\n",
       "      <th>3978</th>\n",
       "      <td>몇 주 뒤면 결혼식인데 결혼식을 못 하게 생겼어.</td>\n",
       "      <td>불안</td>\n",
       "    </tr>\n",
       "    <tr>\n",
       "      <th>28920</th>\n",
       "      <td>좋은 일이 있었어.</td>\n",
       "      <td>기쁨</td>\n",
       "    </tr>\n",
       "    <tr>\n",
       "      <th>43134</th>\n",
       "      <td>부모님에게 계속 의지하는 게 좋을까. 아무런 쓸모도 없는 사람 같아서 죽고 싶어.</td>\n",
       "      <td>분노</td>\n",
       "    </tr>\n",
       "    <tr>\n",
       "      <th>28309</th>\n",
       "      <td>늙으니 할 수 있는 일이 없어서 내 용돈벌이도 못하는 게 너무 속상해.</td>\n",
       "      <td>슬픔</td>\n",
       "    </tr>\n",
       "    <tr>\n",
       "      <th>14820</th>\n",
       "      <td>해냈어! 드디어 우리 부서가 에이 팀을 이겼어!</td>\n",
       "      <td>기쁨</td>\n",
       "    </tr>\n",
       "  </tbody>\n",
       "</table>\n",
       "</div>"
      ],
      "text/plain": [
       "                                            sentence emotion\n",
       "3978                     몇 주 뒤면 결혼식인데 결혼식을 못 하게 생겼어.      불안\n",
       "28920                                     좋은 일이 있었어.      기쁨\n",
       "43134  부모님에게 계속 의지하는 게 좋을까. 아무런 쓸모도 없는 사람 같아서 죽고 싶어.      분노\n",
       "28309        늙으니 할 수 있는 일이 없어서 내 용돈벌이도 못하는 게 너무 속상해.      슬픔\n",
       "14820                     해냈어! 드디어 우리 부서가 에이 팀을 이겼어!      기쁨"
      ]
     },
     "execution_count": 41,
     "metadata": {},
     "output_type": "execute_result"
    }
   ],
   "source": [
    "# 대분류, 문장 칼럼만 추출\n",
    "train1 = train1[['감정_대분류','사람문장1']]\n",
    "test1 = test1[['감정_대분류','사람문장1']]\n",
    "\n",
    "# # 감정을 정수 라벨로 변경\n",
    "# emotions = {'기쁨': 0, '불안': 1, '당황': 2, '슬픔': 3, '분노': 4, '상처': 5}\n",
    "# train1['emotion'] = train1.emotion.map(emotions)\n",
    "\n",
    "#칼럼이름 변경하고 순서 바꾸기\n",
    "train1.columns = ['emotion', 'sentence']\n",
    "test1.columns = ['emotion', 'sentence']  \n",
    "train1 = train1.reindex(columns=['sentence', 'emotion'])\n",
    "test1 = test1.reindex(columns=['sentence', 'emotion'])\n",
    "\n",
    "train1.sample(n=5)"
   ]
  },
  {
   "attachments": {},
   "cell_type": "markdown",
   "metadata": {},
   "source": [
    "### 데이터 수 & 결측치 확인"
   ]
  },
  {
   "cell_type": "code",
   "execution_count": 42,
   "metadata": {},
   "outputs": [
    {
     "name": "stdout",
     "output_type": "stream",
     "text": [
      "<class 'pandas.core.frame.DataFrame'>\n",
      "RangeIndex: 51630 entries, 0 to 51629\n",
      "Data columns (total 2 columns):\n",
      " #   Column    Non-Null Count  Dtype \n",
      "---  ------    --------------  ----- \n",
      " 0   sentence  51630 non-null  object\n",
      " 1   emotion   51630 non-null  object\n",
      "dtypes: object(2)\n",
      "memory usage: 806.8+ KB\n",
      "None\n",
      "\n",
      "<class 'pandas.core.frame.DataFrame'>\n",
      "RangeIndex: 6641 entries, 0 to 6640\n",
      "Data columns (total 2 columns):\n",
      " #   Column    Non-Null Count  Dtype \n",
      "---  ------    --------------  ----- \n",
      " 0   sentence  6641 non-null   object\n",
      " 1   emotion   6641 non-null   object\n",
      "dtypes: object(2)\n",
      "memory usage: 103.9+ KB\n",
      "None\n"
     ]
    }
   ],
   "source": [
    "print(train1.info(),end ='\\n\\n')\n",
    "print(test1.info())"
   ]
  },
  {
   "cell_type": "code",
   "execution_count": 43,
   "metadata": {},
   "outputs": [
    {
     "name": "stdout",
     "output_type": "stream",
     "text": [
      "sentence    0\n",
      "emotion     0\n",
      "dtype: int64\n",
      "\n",
      "sentence    0\n",
      "emotion     0\n",
      "dtype: int64\n"
     ]
    }
   ],
   "source": [
    "print(train1.isnull().sum(), end = '\\n\\n')\n",
    "print(test1.isnull().sum())"
   ]
  },
  {
   "attachments": {},
   "cell_type": "markdown",
   "metadata": {},
   "source": [
    "### 감성 대화 말뭉치 합쳐서 csv 파일로 다시 저장"
   ]
  },
  {
   "cell_type": "code",
   "execution_count": null,
   "metadata": {},
   "outputs": [],
   "source": [
    "# file_names = ['data/감성대화말뭉치(최종데이터)_Training.csv','data/감성대화말뭉치(최종데이터)_Validation.csv']\n",
    "# for file_name in file_names:\n",
    "#     temp = pd.read_csv(file_name, sep='구분자', encoding='utf-8') #csv파일을 하나씩 열어 임시 데이터프레임으로 생성한다\n",
    "#     total = pd.concat([total, temp]) #전체 데이터프레임에 추가하여 넣는다\n",
    "\n",
    "# total.to_csv(\"data/감성대화망뭉치(병합).csv\")"
   ]
  },
  {
   "cell_type": "code",
   "execution_count": 45,
   "metadata": {},
   "outputs": [
    {
     "data": {
      "text/html": [
       "<div>\n",
       "<style scoped>\n",
       "    .dataframe tbody tr th:only-of-type {\n",
       "        vertical-align: middle;\n",
       "    }\n",
       "\n",
       "    .dataframe tbody tr th {\n",
       "        vertical-align: top;\n",
       "    }\n",
       "\n",
       "    .dataframe thead th {\n",
       "        text-align: right;\n",
       "    }\n",
       "</style>\n",
       "<table border=\"1\" class=\"dataframe\">\n",
       "  <thead>\n",
       "    <tr style=\"text-align: right;\">\n",
       "      <th></th>\n",
       "      <th>sentence</th>\n",
       "      <th>emotion</th>\n",
       "    </tr>\n",
       "  </thead>\n",
       "  <tbody>\n",
       "    <tr>\n",
       "      <th>0</th>\n",
       "      <td>일은 왜 해도 해도 끝이 없을까? 화가 난다.</td>\n",
       "      <td>분노</td>\n",
       "    </tr>\n",
       "    <tr>\n",
       "      <th>1</th>\n",
       "      <td>이번 달에 또 급여가 깎였어! 물가는 오르는데 월급만 자꾸 깎이니까 너무 화가 나.</td>\n",
       "      <td>분노</td>\n",
       "    </tr>\n",
       "    <tr>\n",
       "      <th>2</th>\n",
       "      <td>회사에 신입이 들어왔는데 말투가 거슬려. 그런 애를 매일 봐야 한다고 생각하니까 스...</td>\n",
       "      <td>분노</td>\n",
       "    </tr>\n",
       "    <tr>\n",
       "      <th>3</th>\n",
       "      <td>직장에서 막내라는 이유로 나에게만 온갖 심부름을 시켜. 일도 많은 데 정말 분하고 ...</td>\n",
       "      <td>분노</td>\n",
       "    </tr>\n",
       "    <tr>\n",
       "      <th>4</th>\n",
       "      <td>얼마 전 입사한 신입사원이 나를 무시하는 것 같아서 너무 화가 나.</td>\n",
       "      <td>분노</td>\n",
       "    </tr>\n",
       "    <tr>\n",
       "      <th>...</th>\n",
       "      <td>...</td>\n",
       "      <td>...</td>\n",
       "    </tr>\n",
       "    <tr>\n",
       "      <th>6636</th>\n",
       "      <td>나랑 비슷한 시기에 결혼하는 친구는 시댁에서 집을 해줘서 너무 부러워. 우리는 대출...</td>\n",
       "      <td>당황</td>\n",
       "    </tr>\n",
       "    <tr>\n",
       "      <th>6637</th>\n",
       "      <td>친구 한 명이 결혼해서 아이를 가졌는데 너무 행복해 보이더라. 기분이 좋지만은 않아.</td>\n",
       "      <td>당황</td>\n",
       "    </tr>\n",
       "    <tr>\n",
       "      <th>6638</th>\n",
       "      <td>남들은 결혼 전에 일억을 모았다는데 난 뭐를 한 것인지 모르겠어. 자괴감만 드네.</td>\n",
       "      <td>당황</td>\n",
       "    </tr>\n",
       "    <tr>\n",
       "      <th>6639</th>\n",
       "      <td>나보다 결혼을 먼저 한 친구가 부러워. 그 친구 남편은 직장도 내 남편보다 좋고 키...</td>\n",
       "      <td>당황</td>\n",
       "    </tr>\n",
       "    <tr>\n",
       "      <th>6640</th>\n",
       "      <td>친구들 모두 결혼하고 나만 혼자 남아서 쓸쓸하네.</td>\n",
       "      <td>당황</td>\n",
       "    </tr>\n",
       "  </tbody>\n",
       "</table>\n",
       "<p>58271 rows × 2 columns</p>\n",
       "</div>"
      ],
      "text/plain": [
       "                                               sentence emotion\n",
       "0                             일은 왜 해도 해도 끝이 없을까? 화가 난다.      분노\n",
       "1        이번 달에 또 급여가 깎였어! 물가는 오르는데 월급만 자꾸 깎이니까 너무 화가 나.      분노\n",
       "2     회사에 신입이 들어왔는데 말투가 거슬려. 그런 애를 매일 봐야 한다고 생각하니까 스...      분노\n",
       "3     직장에서 막내라는 이유로 나에게만 온갖 심부름을 시켜. 일도 많은 데 정말 분하고 ...      분노\n",
       "4                 얼마 전 입사한 신입사원이 나를 무시하는 것 같아서 너무 화가 나.      분노\n",
       "...                                                 ...     ...\n",
       "6636  나랑 비슷한 시기에 결혼하는 친구는 시댁에서 집을 해줘서 너무 부러워. 우리는 대출...      당황\n",
       "6637    친구 한 명이 결혼해서 아이를 가졌는데 너무 행복해 보이더라. 기분이 좋지만은 않아.      당황\n",
       "6638      남들은 결혼 전에 일억을 모았다는데 난 뭐를 한 것인지 모르겠어. 자괴감만 드네.      당황\n",
       "6639  나보다 결혼을 먼저 한 친구가 부러워. 그 친구 남편은 직장도 내 남편보다 좋고 키...      당황\n",
       "6640                        친구들 모두 결혼하고 나만 혼자 남아서 쓸쓸하네.      당황\n",
       "\n",
       "[58271 rows x 2 columns]"
      ]
     },
     "execution_count": 45,
     "metadata": {},
     "output_type": "execute_result"
    }
   ],
   "source": [
    "# 전처리된 데이터프레임 합치고 csv로 저장   \n",
    "temp  = pd.concat([train1, test1])\n",
    "temp    #행 숫자보면 합쳐진거 맞는데 왜 test1 행번호가 그대로일까.."
   ]
  },
  {
   "attachments": {},
   "cell_type": "markdown",
   "metadata": {},
   "source": [
    "  \n",
    "중복 행 제거"
   ]
  },
  {
   "cell_type": "code",
   "execution_count": 49,
   "metadata": {},
   "outputs": [
    {
     "name": "stdout",
     "output_type": "stream",
     "text": [
      "중복되는 행:  31\n"
     ]
    },
    {
     "data": {
      "text/plain": [
       "58240"
      ]
     },
     "execution_count": 49,
     "metadata": {},
     "output_type": "execute_result"
    }
   ],
   "source": [
    "dup = temp[temp.duplicated(subset=['sentence'])]\n",
    "print(\"중복되는 행: \", len(dup))\n",
    "\n",
    "temp = temp.drop_duplicates(subset=['sentence'], keep='first')\n",
    "len(temp)"
   ]
  },
  {
   "cell_type": "code",
   "execution_count": 52,
   "metadata": {},
   "outputs": [],
   "source": [
    "temp.to_csv(\"data/감성대화말뭉치(병합).csv\")"
   ]
  },
  {
   "cell_type": "code",
   "execution_count": 53,
   "metadata": {},
   "outputs": [
    {
     "data": {
      "text/html": [
       "<div>\n",
       "<style scoped>\n",
       "    .dataframe tbody tr th:only-of-type {\n",
       "        vertical-align: middle;\n",
       "    }\n",
       "\n",
       "    .dataframe tbody tr th {\n",
       "        vertical-align: top;\n",
       "    }\n",
       "\n",
       "    .dataframe thead th {\n",
       "        text-align: right;\n",
       "    }\n",
       "</style>\n",
       "<table border=\"1\" class=\"dataframe\">\n",
       "  <thead>\n",
       "    <tr style=\"text-align: right;\">\n",
       "      <th></th>\n",
       "      <th>sentence</th>\n",
       "      <th>emotion</th>\n",
       "    </tr>\n",
       "  </thead>\n",
       "  <tbody>\n",
       "    <tr>\n",
       "      <th>0</th>\n",
       "      <td>일은 왜 해도 해도 끝이 없을까? 화가 난다.</td>\n",
       "      <td>분노</td>\n",
       "    </tr>\n",
       "    <tr>\n",
       "      <th>1</th>\n",
       "      <td>이번 달에 또 급여가 깎였어! 물가는 오르는데 월급만 자꾸 깎이니까 너무 화가 나.</td>\n",
       "      <td>분노</td>\n",
       "    </tr>\n",
       "    <tr>\n",
       "      <th>2</th>\n",
       "      <td>회사에 신입이 들어왔는데 말투가 거슬려. 그런 애를 매일 봐야 한다고 생각하니까 스...</td>\n",
       "      <td>분노</td>\n",
       "    </tr>\n",
       "    <tr>\n",
       "      <th>3</th>\n",
       "      <td>직장에서 막내라는 이유로 나에게만 온갖 심부름을 시켜. 일도 많은 데 정말 분하고 ...</td>\n",
       "      <td>분노</td>\n",
       "    </tr>\n",
       "    <tr>\n",
       "      <th>4</th>\n",
       "      <td>얼마 전 입사한 신입사원이 나를 무시하는 것 같아서 너무 화가 나.</td>\n",
       "      <td>분노</td>\n",
       "    </tr>\n",
       "    <tr>\n",
       "      <th>...</th>\n",
       "      <td>...</td>\n",
       "      <td>...</td>\n",
       "    </tr>\n",
       "    <tr>\n",
       "      <th>6636</th>\n",
       "      <td>나랑 비슷한 시기에 결혼하는 친구는 시댁에서 집을 해줘서 너무 부러워. 우리는 대출...</td>\n",
       "      <td>당황</td>\n",
       "    </tr>\n",
       "    <tr>\n",
       "      <th>6637</th>\n",
       "      <td>친구 한 명이 결혼해서 아이를 가졌는데 너무 행복해 보이더라. 기분이 좋지만은 않아.</td>\n",
       "      <td>당황</td>\n",
       "    </tr>\n",
       "    <tr>\n",
       "      <th>6638</th>\n",
       "      <td>남들은 결혼 전에 일억을 모았다는데 난 뭐를 한 것인지 모르겠어. 자괴감만 드네.</td>\n",
       "      <td>당황</td>\n",
       "    </tr>\n",
       "    <tr>\n",
       "      <th>6639</th>\n",
       "      <td>나보다 결혼을 먼저 한 친구가 부러워. 그 친구 남편은 직장도 내 남편보다 좋고 키...</td>\n",
       "      <td>당황</td>\n",
       "    </tr>\n",
       "    <tr>\n",
       "      <th>6640</th>\n",
       "      <td>친구들 모두 결혼하고 나만 혼자 남아서 쓸쓸하네.</td>\n",
       "      <td>당황</td>\n",
       "    </tr>\n",
       "  </tbody>\n",
       "</table>\n",
       "<p>58240 rows × 2 columns</p>\n",
       "</div>"
      ],
      "text/plain": [
       "                                               sentence emotion\n",
       "0                             일은 왜 해도 해도 끝이 없을까? 화가 난다.      분노\n",
       "1        이번 달에 또 급여가 깎였어! 물가는 오르는데 월급만 자꾸 깎이니까 너무 화가 나.      분노\n",
       "2     회사에 신입이 들어왔는데 말투가 거슬려. 그런 애를 매일 봐야 한다고 생각하니까 스...      분노\n",
       "3     직장에서 막내라는 이유로 나에게만 온갖 심부름을 시켜. 일도 많은 데 정말 분하고 ...      분노\n",
       "4                 얼마 전 입사한 신입사원이 나를 무시하는 것 같아서 너무 화가 나.      분노\n",
       "...                                                 ...     ...\n",
       "6636  나랑 비슷한 시기에 결혼하는 친구는 시댁에서 집을 해줘서 너무 부러워. 우리는 대출...      당황\n",
       "6637    친구 한 명이 결혼해서 아이를 가졌는데 너무 행복해 보이더라. 기분이 좋지만은 않아.      당황\n",
       "6638      남들은 결혼 전에 일억을 모았다는데 난 뭐를 한 것인지 모르겠어. 자괴감만 드네.      당황\n",
       "6639  나보다 결혼을 먼저 한 친구가 부러워. 그 친구 남편은 직장도 내 남편보다 좋고 키...      당황\n",
       "6640                        친구들 모두 결혼하고 나만 혼자 남아서 쓸쓸하네.      당황\n",
       "\n",
       "[58240 rows x 2 columns]"
      ]
     },
     "execution_count": 53,
     "metadata": {},
     "output_type": "execute_result"
    }
   ],
   "source": [
    "import pandas as pd\n",
    "\n",
    "# 다시 불러와서\n",
    "train1  = pd.read_csv(\"data/감성대화말뭉치(병합).csv\", index_col=0) #첫 번째 열이 인덱스 열일 때 Unnamed: 0 빼기\n",
    "train1\n",
    "# train1.sample(n=5)"
   ]
  },
  {
   "attachments": {},
   "cell_type": "markdown",
   "metadata": {},
   "source": [
    "### **감정 별 문장 분포**"
   ]
  },
  {
   "cell_type": "code",
   "execution_count": 54,
   "metadata": {},
   "outputs": [
    {
     "data": {
      "text/plain": [
       "emotion\n",
       "기쁨     7337\n",
       "당황     9797\n",
       "분노    10414\n",
       "불안    10429\n",
       "상처    10142\n",
       "슬픔    10121\n",
       "Name: sentence, dtype: int64"
      ]
     },
     "execution_count": 54,
     "metadata": {},
     "output_type": "execute_result"
    }
   ],
   "source": [
    "# 감정 분포 확인\n",
    "train1.groupby('emotion').count().iloc[:,0]"
   ]
  },
  {
   "cell_type": "code",
   "execution_count": 3,
   "metadata": {},
   "outputs": [
    {
     "name": "stdout",
     "output_type": "stream",
     "text": [
      "['STIXNonUnicode', 'DejaVu Sans', 'cmtt10', 'DejaVu Serif Display', 'DejaVu Sans Mono', 'cmmi10', 'DejaVu Serif', 'STIXSizeThreeSym', 'STIXNonUnicode', 'STIXSizeThreeSym', 'STIXGeneral', 'STIXSizeFiveSym', 'STIXSizeTwoSym', 'STIXGeneral', 'DejaVu Sans', 'cmr10', 'STIXSizeFourSym', 'STIXNonUnicode', 'STIXSizeTwoSym', 'cmex10', 'STIXGeneral', 'DejaVu Serif', 'cmb10', 'DejaVu Serif', 'STIXSizeFourSym', 'cmsy10', 'DejaVu Sans Display', 'STIXSizeOneSym', 'DejaVu Serif', 'STIXSizeOneSym', 'DejaVu Sans Mono', 'DejaVu Sans Mono', 'DejaVu Sans', 'STIXNonUnicode', 'DejaVu Sans', 'DejaVu Sans Mono', 'STIXGeneral', 'cmss10', 'Franklin Gothic Medium Cond', 'MoeumT R', 'Agency FB', 'HYMyeongJo-Extra', 'Georgia', 'Parchment', 'NanumSquare_ac', 'Monotype Corsiva', 'Rockwell', 'Microsoft PhagsPa', 'Century Schoolbook', 'Arial Rounded MT Bold', 'Palace Script MT', 'Elephant', 'HCR Batang ExtB', 'Garamond', 'Microsoft YaHei', 'Bodoni MT', 'Century Schoolbook', 'Nirmala UI', 'Constantia', 'Verdana', 'Wingdings 3', 'NanumSquare_ac', 'Calisto MT', 'Book Antiqua', 'HancomEQN', 'Symbol', 'NanumSquare_ac', 'Franklin Gothic Book', 'Papyrus', 'Yu Gothic', 'Leelawadee UI', 'Lucida Sans Typewriter', 'Segoe UI Symbol', 'Sitka Small', 'Georgia', 'Malgun Gothic', 'Leelawadee UI', 'Microsoft Yi Baiti', 'NewJumja', 'MingLiU-ExtB', 'Segoe UI', 'Script MT Bold', 'HYGraphic-Medium', 'Lucida Sans', 'Lucida Fax', 'Candara', 'Bernard MT Condensed', 'Yu Gothic', 'Goudy Old Style', 'Britannic Bold', 'Garamond', 'Goudy Old Style', 'Freestyle Script', 'Tw Cen MT Condensed Extra Bold', 'Tw Cen MT', 'Cambria', 'Playbill', 'Batang', 'Perpetua', 'Tw Cen MT', 'Lucida Handwriting', 'HyhwpEQ', 'Malgun Gothic', 'Lucida Console', 'HYPMokGak-Bold', 'Copperplate Gothic Bold', 'Consolas', 'Bodoni MT', 'Gloucester MT Extra Condensed', 'Perpetua', 'Microsoft PhagsPa', 'NanumSquare', 'OCR A Extended', 'Segoe UI Emoji', 'Candara', 'Maiandra GD', 'Curlz MT', 'Bahnschrift', 'Mistral', 'Dubai', 'Ebrima', 'Franklin Gothic Medium', 'Showcard Gothic', 'Jokerman', 'Headline R', 'Magneto', 'HCR Batang', 'Lucida Bright', 'Baskerville Old Face', 'Gulim', 'Segoe UI', 'Viner Hand ITC', 'Palatino Linotype', 'Arial', 'Gill Sans MT Ext Condensed Bold', 'Haan Wing2', 'SimSun-ExtB', 'Perpetua', 'Pyunji R', 'Century Gothic', 'Sylfaen', 'Eras Medium ITC', 'Nirmala UI', 'Leelawadee UI', 'Centaur', 'Franklin Gothic Medium', 'Bodoni MT', 'Calibri', 'Lucida Sans Unicode', 'Dubai', 'Segoe UI Historic', 'Lucida Bright', 'Arial', 'HYHeadLine-Medium', 'Gill Sans MT', 'Niagara Engraved', 'Berlin Sans FB', 'Tempus Sans ITC', 'Century Gothic', 'Kunstler Script', 'Century Schoolbook', 'NanumSquare_ac', 'Rockwell Condensed', 'Harrington', 'Broadway', 'Goudy Old Style', 'Arial', 'Calibri', 'Rockwell Extra Bold', 'Yet R', 'Ravie', 'Ebrima', 'Segoe UI', 'Gabriola', 'Ami R', 'Informal Roman', 'Lucida Sans', 'Nirmala UI', 'Arial', 'Niagara Solid', 'Californian FB', 'HYPost-Medium', 'Verdana', 'Berlin Sans FB Demi', 'Microsoft New Tai Lue', 'Calibri', 'Segoe UI', 'HYSinMyeongJo-Medium', 'MS Reference Sans Serif', 'Arial', 'Goudy Stout', 'Microsoft New Tai Lue', 'Bookman Old Style', 'Corbel', 'Georgia', 'Segoe UI', 'Unispace', 'Segoe UI', 'Franklin Gothic Demi', 'Verdana', 'Gill Sans MT', 'Segoe UI', 'Bookshelf Symbol 7', 'HYShortSamul-Medium', 'Agency FB', 'Lucida Bright', 'Times New Roman', 'Segoe UI', 'Segoe UI', 'Eras Demi ITC', 'Hancom Gothic', 'Elephant', 'Hancom Gothic', 'Verdana', 'Matura MT Script Capitals', 'Bell MT', 'Constantia', 'Lucida Bright', 'HYGothic-Medium', 'Courier New', 'Times New Roman', 'Gadugi', 'Vladimir Script', 'Century Gothic', 'Bodoni MT', 'Segoe Script', 'Microsoft Tai Le', 'Imprint MT Shadow', 'NanumSquare', 'Tahoma', 'NanumSquare', 'MS Reference Specialty', 'Candara', 'Corbel', 'Courier New', 'Bookman Old Style', 'HCR Batang', 'Calibri', 'Calisto MT', 'Bodoni MT', 'Javanese Text', 'Microsoft JhengHei', 'High Tower Text', 'Trebuchet MS', 'Bookman Old Style', 'Haettenschweiler', 'Palatino Linotype', 'Ink Free', 'Microsoft Sans Serif', 'HCR Dotum', 'Webdings', 'Juice ITC', 'Book Antiqua', 'Franklin Gothic Demi Cond', 'Garamond', 'HoloLens MDL2 Assets', 'Segoe Script', 'HYPost-Light', 'Microsoft JhengHei', 'Myanmar Text', 'Segoe MDL2 Assets', 'Segoe UI', 'Bodoni MT', 'Arial', 'MT Extra', 'Chiller', 'Century', 'Lucida Sans Typewriter', 'Castellar', 'Yu Gothic', 'Segoe Print', 'HYGungSo-Bold', 'Tw Cen MT Condensed', 'Berlin Sans FB', 'Pristina', 'Wide Latin', 'Algerian', 'Forte', 'Bell MT', 'Bodoni MT', 'HCR Dotum', 'Calibri', 'Comic Sans MS', 'Bodoni MT', 'Microsoft Himalaya', 'High Tower Text', 'Franklin Gothic Book', 'Times New Roman', 'Rockwell Condensed', 'MS Outlook', 'Microsoft YaHei', 'Copperplate Gothic Light', 'Mongolian Baiti', 'Sitka Small', 'Bookman Old Style', 'Yu Gothic', 'Lucida Calligraphy', 'Microsoft YaHei', 'Rage Italic', 'Cooper Black', 'Franklin Gothic Demi', 'Gill Sans MT', 'Candara', 'Sitka Small', 'Calibri', 'Calisto MT', 'Californian FB', 'Gadugi', 'Microsoft Tai Le', 'Cambria', 'Engravers MT', 'Myanmar Text', 'Constantia', 'Franklin Gothic Heavy', 'Comic Sans MS', 'Lucida Sans Typewriter', 'Courier New', 'Corbel', 'Perpetua', 'Rockwell', 'Consolas', 'Kristen ITC', 'Tw Cen MT Condensed', 'Lucida Sans', 'Corbel', 'Tahoma', 'Palatino Linotype', 'Gill Sans MT', 'Californian FB', 'Segoe UI', 'SimSun', 'Perpetua Titling MT', 'Courier New', 'Comic Sans MS', 'Gill Sans MT Condensed', 'Eras Light ITC', 'Tw Cen MT', 'Franklin Gothic Heavy', 'HCR Dotum Ext', 'Magic R', 'Book Antiqua', 'Comic Sans MS', 'Century Gothic', 'Bradley Hand ITC', 'Calisto MT', 'Blackadder ITC', 'Dubai', 'Rockwell', 'Impact', 'Arial', 'Vivaldi', 'NanumSquare', 'Wingdings 2', 'Lucida Sans', 'Felix Titling', 'Microsoft JhengHei', 'Stencil', 'Lucida Fax', 'Dubai', 'HYGothic-Extra', 'Candara', 'Bodoni MT', 'Segoe Print', 'Footlight MT Light', 'Cambria', 'Arial', 'Corbel', 'Snap ITC', 'Consolas', 'Modern No. 20', 'Harlow Solid Italic', 'Onyx', 'Trebuchet MS', 'Bell MT', 'Edwardian Script ITC', 'Bauhaus 93', 'Arial', 'Corbel', 'Lucida Fax', 'Georgia', 'Gill Sans Ultra Bold', 'Times New Roman', 'Lucida Fax', 'Eras Bold ITC', 'Lucida Sans Typewriter', 'Trebuchet MS', 'Perpetua Titling MT', 'Gigi', 'Rockwell', 'Trebuchet MS', 'Tw Cen MT', 'Century Schoolbook', 'Colonna MT', 'New Gulim', 'Palatino Linotype', 'Sitka Small', 'French Script MT', 'Bodoni MT', 'Book Antiqua', 'Brush Script MT', 'Wingdings', 'HCR Batang ExtB', 'Old English Text MT', 'HCR Batang Ext', 'MS Gothic', 'Gill Sans Ultra Bold Condensed', 'Candara', 'Cambria', 'Malgun Gothic', 'Bodoni MT', 'Poor Richard', 'Constantia', 'MV Boli', 'Segoe UI', 'Consolas']\n"
     ]
    }
   ],
   "source": [
    "import matplotlib.pyplot as plt\n",
    "\n",
    "# 가능한 font 확인\n",
    "import matplotlib.font_manager as fm\n",
    "f = [f.name for f in fm.fontManager.ttflist]\n",
    "print(f)\n",
    "\n",
    "# # 확인 이후\n",
    "# plt.font_manager._rebuild() //이제 안쓴다"
   ]
  },
  {
   "cell_type": "code",
   "execution_count": 12,
   "metadata": {},
   "outputs": [],
   "source": [
    "from matplotlib import font_manager, rc\n",
    "font_path = r\"C:\\Users\\inoo3\\AppData\\Local\\Microsoft\\Windows\\Fonts\\NanumSquare.ttf\" # 사용할 폰트명 경로 삽입 (역슬래시 대신 슬래시)\n",
    "font_prop = fm.FontProperties(fname=font_path)\n",
    "plt.rcParams['font.family'] = font_prop.get_name()"
   ]
  },
  {
   "cell_type": "code",
   "execution_count": 13,
   "metadata": {},
   "outputs": [
    {
     "name": "stderr",
     "output_type": "stream",
     "text": [
      "c:\\Users\\inoo3\\anaconda3\\lib\\site-packages\\IPython\\core\\pylabtools.py:152: UserWarning: Glyph 48516 (\\N{HANGUL SYLLABLE BUN}) missing from current font.\n",
      "  fig.canvas.print_figure(bytes_io, **kw)\n",
      "c:\\Users\\inoo3\\anaconda3\\lib\\site-packages\\IPython\\core\\pylabtools.py:152: UserWarning: Glyph 45432 (\\N{HANGUL SYLLABLE NO}) missing from current font.\n",
      "  fig.canvas.print_figure(bytes_io, **kw)\n",
      "c:\\Users\\inoo3\\anaconda3\\lib\\site-packages\\IPython\\core\\pylabtools.py:152: UserWarning: Glyph 44592 (\\N{HANGUL SYLLABLE GI}) missing from current font.\n",
      "  fig.canvas.print_figure(bytes_io, **kw)\n",
      "c:\\Users\\inoo3\\anaconda3\\lib\\site-packages\\IPython\\core\\pylabtools.py:152: UserWarning: Glyph 49256 (\\N{HANGUL SYLLABLE BBEUM}) missing from current font.\n",
      "  fig.canvas.print_figure(bytes_io, **kw)\n",
      "c:\\Users\\inoo3\\anaconda3\\lib\\site-packages\\IPython\\core\\pylabtools.py:152: UserWarning: Glyph 48520 (\\N{HANGUL SYLLABLE BUL}) missing from current font.\n",
      "  fig.canvas.print_figure(bytes_io, **kw)\n",
      "c:\\Users\\inoo3\\anaconda3\\lib\\site-packages\\IPython\\core\\pylabtools.py:152: UserWarning: Glyph 50504 (\\N{HANGUL SYLLABLE AN}) missing from current font.\n",
      "  fig.canvas.print_figure(bytes_io, **kw)\n",
      "c:\\Users\\inoo3\\anaconda3\\lib\\site-packages\\IPython\\core\\pylabtools.py:152: UserWarning: Glyph 45817 (\\N{HANGUL SYLLABLE DANG}) missing from current font.\n",
      "  fig.canvas.print_figure(bytes_io, **kw)\n",
      "c:\\Users\\inoo3\\anaconda3\\lib\\site-packages\\IPython\\core\\pylabtools.py:152: UserWarning: Glyph 54889 (\\N{HANGUL SYLLABLE HWANG}) missing from current font.\n",
      "  fig.canvas.print_figure(bytes_io, **kw)\n",
      "c:\\Users\\inoo3\\anaconda3\\lib\\site-packages\\IPython\\core\\pylabtools.py:152: UserWarning: Glyph 49836 (\\N{HANGUL SYLLABLE SEUL}) missing from current font.\n",
      "  fig.canvas.print_figure(bytes_io, **kw)\n",
      "c:\\Users\\inoo3\\anaconda3\\lib\\site-packages\\IPython\\core\\pylabtools.py:152: UserWarning: Glyph 54548 (\\N{HANGUL SYLLABLE PEUM}) missing from current font.\n",
      "  fig.canvas.print_figure(bytes_io, **kw)\n",
      "c:\\Users\\inoo3\\anaconda3\\lib\\site-packages\\IPython\\core\\pylabtools.py:152: UserWarning: Glyph 49345 (\\N{HANGUL SYLLABLE SANG}) missing from current font.\n",
      "  fig.canvas.print_figure(bytes_io, **kw)\n",
      "c:\\Users\\inoo3\\anaconda3\\lib\\site-packages\\IPython\\core\\pylabtools.py:152: UserWarning: Glyph 52376 (\\N{HANGUL SYLLABLE CEO}) missing from current font.\n",
      "  fig.canvas.print_figure(bytes_io, **kw)\n",
      "c:\\Users\\inoo3\\anaconda3\\lib\\site-packages\\IPython\\core\\pylabtools.py:152: UserWarning: Glyph 44048 (\\N{HANGUL SYLLABLE GAM}) missing from current font.\n",
      "  fig.canvas.print_figure(bytes_io, **kw)\n",
      "c:\\Users\\inoo3\\anaconda3\\lib\\site-packages\\IPython\\core\\pylabtools.py:152: UserWarning: Glyph 51221 (\\N{HANGUL SYLLABLE JEONG}) missing from current font.\n",
      "  fig.canvas.print_figure(bytes_io, **kw)\n",
      "c:\\Users\\inoo3\\anaconda3\\lib\\site-packages\\IPython\\core\\pylabtools.py:152: UserWarning: Glyph 54252 (\\N{HANGUL SYLLABLE PO}) missing from current font.\n",
      "  fig.canvas.print_figure(bytes_io, **kw)\n"
     ]
    },
    {
     "data": {
      "image/png": "[encoded data removed]",
      "text/plain": [
       "<Figure size 2500x1000 with 1 Axes>"
      ]
     },
     "metadata": {},
     "output_type": "display_data"
    }
   ],
   "source": [
    "# countplot으로 시각화\n",
    "import matplotlib.pyplot as plt\n",
    "import seaborn as sns\n",
    "\n",
    "#plt.rc('font', family='NanumSquare_ac')\n",
    "plt.rcParams['figure.figsize'] = [25,10]\n",
    "sns.set_style(\"dark\")\n",
    "sns.countplot(x='emotion',data=train1)\n",
    "plt.title('감정 분포', fontsize=30)\n",
    "plt.xlabel('emotion', fontsize=15)\n",
    "plt.ylabel('count', fontsize=15)\n",
    "plt.show()\n",
    "\n",
    "# 정규화 필요한가?"
   ]
  },
  {
   "attachments": {},
   "cell_type": "markdown",
   "metadata": {},
   "source": [
    "# 2. 한국어 단발성 대화 데이터셋"
   ]
  },
  {
   "cell_type": "code",
   "execution_count": 55,
   "metadata": {},
   "outputs": [
    {
     "data": {
      "text/html": [
       "<div>\n",
       "<style scoped>\n",
       "    .dataframe tbody tr th:only-of-type {\n",
       "        vertical-align: middle;\n",
       "    }\n",
       "\n",
       "    .dataframe tbody tr th {\n",
       "        vertical-align: top;\n",
       "    }\n",
       "\n",
       "    .dataframe thead th {\n",
       "        text-align: right;\n",
       "    }\n",
       "</style>\n",
       "<table border=\"1\" class=\"dataframe\">\n",
       "  <thead>\n",
       "    <tr style=\"text-align: right;\">\n",
       "      <th></th>\n",
       "      <th>Sentence</th>\n",
       "      <th>Emotion</th>\n",
       "      <th>Unnamed: 2</th>\n",
       "      <th>Unnamed: 3</th>\n",
       "      <th>Unnamed: 4</th>\n",
       "      <th>공포</th>\n",
       "      <th>5468</th>\n",
       "    </tr>\n",
       "  </thead>\n",
       "  <tbody>\n",
       "    <tr>\n",
       "      <th>28860</th>\n",
       "      <td>도니오빠도 하는 일들 모두 실타래 처럼 잘 풀렸음해요^^</td>\n",
       "      <td>행복</td>\n",
       "      <td>NaN</td>\n",
       "      <td>NaN</td>\n",
       "      <td>NaN</td>\n",
       "      <td>NaN</td>\n",
       "      <td>NaN</td>\n",
       "    </tr>\n",
       "    <tr>\n",
       "      <th>14587</th>\n",
       "      <td>책임있는 쌔뀌들아.</td>\n",
       "      <td>분노</td>\n",
       "      <td>NaN</td>\n",
       "      <td>NaN</td>\n",
       "      <td>NaN</td>\n",
       "      <td>NaN</td>\n",
       "      <td>NaN</td>\n",
       "    </tr>\n",
       "    <tr>\n",
       "      <th>9574</th>\n",
       "      <td>경호대는 놀았나? 왜 기록이 없지?</td>\n",
       "      <td>놀람</td>\n",
       "      <td>NaN</td>\n",
       "      <td>NaN</td>\n",
       "      <td>NaN</td>\n",
       "      <td>NaN</td>\n",
       "      <td>NaN</td>\n",
       "    </tr>\n",
       "    <tr>\n",
       "      <th>1487</th>\n",
       "      <td>살인행위네~~~~~</td>\n",
       "      <td>공포</td>\n",
       "      <td>NaN</td>\n",
       "      <td>NaN</td>\n",
       "      <td>NaN</td>\n",
       "      <td>NaN</td>\n",
       "      <td>NaN</td>\n",
       "    </tr>\n",
       "    <tr>\n",
       "      <th>31200</th>\n",
       "      <td>감사혀유!!  ^^</td>\n",
       "      <td>행복</td>\n",
       "      <td>NaN</td>\n",
       "      <td>NaN</td>\n",
       "      <td>NaN</td>\n",
       "      <td>NaN</td>\n",
       "      <td>NaN</td>\n",
       "    </tr>\n",
       "  </tbody>\n",
       "</table>\n",
       "</div>"
      ],
      "text/plain": [
       "                              Sentence Emotion  Unnamed: 2  Unnamed: 3   \n",
       "28860  도니오빠도 하는 일들 모두 실타래 처럼 잘 풀렸음해요^^      행복         NaN         NaN  \\\n",
       "14587                       책임있는 쌔뀌들아.      분노         NaN         NaN   \n",
       "9574               경호대는 놀았나? 왜 기록이 없지?      놀람         NaN         NaN   \n",
       "1487                        살인행위네~~~~~      공포         NaN         NaN   \n",
       "31200                       감사혀유!!  ^^      행복         NaN         NaN   \n",
       "\n",
       "       Unnamed: 4   공포  5468  \n",
       "28860         NaN  NaN   NaN  \n",
       "14587         NaN  NaN   NaN  \n",
       "9574          NaN  NaN   NaN  \n",
       "1487          NaN  NaN   NaN  \n",
       "31200         NaN  NaN   NaN  "
      ]
     },
     "execution_count": 55,
     "metadata": {},
     "output_type": "execute_result"
    }
   ],
   "source": [
    "import pandas as pd\n",
    "file2_train = 'data/한국어_단발성_대화_데이터셋.csv'\n",
    "\n",
    "train2 = pd.read_csv(file2_train)\n",
    "train2.sample(n=5)"
   ]
  },
  {
   "cell_type": "code",
   "execution_count": 56,
   "metadata": {},
   "outputs": [
    {
     "data": {
      "text/html": [
       "<div>\n",
       "<style scoped>\n",
       "    .dataframe tbody tr th:only-of-type {\n",
       "        vertical-align: middle;\n",
       "    }\n",
       "\n",
       "    .dataframe tbody tr th {\n",
       "        vertical-align: top;\n",
       "    }\n",
       "\n",
       "    .dataframe thead th {\n",
       "        text-align: right;\n",
       "    }\n",
       "</style>\n",
       "<table border=\"1\" class=\"dataframe\">\n",
       "  <thead>\n",
       "    <tr style=\"text-align: right;\">\n",
       "      <th></th>\n",
       "      <th>sentence</th>\n",
       "      <th>emotion</th>\n",
       "    </tr>\n",
       "  </thead>\n",
       "  <tbody>\n",
       "    <tr>\n",
       "      <th>29956</th>\n",
       "      <td>어제 홈런은 정말 멋졌는데..</td>\n",
       "      <td>행복</td>\n",
       "    </tr>\n",
       "    <tr>\n",
       "      <th>3344</th>\n",
       "      <td>전 좋으면 괜찮을거라 생각들어서 과감히 사긴했는데 사고나니 걱정이 들긴해요</td>\n",
       "      <td>공포</td>\n",
       "    </tr>\n",
       "    <tr>\n",
       "      <th>31905</th>\n",
       "      <td>구위가 정말 좋았다.</td>\n",
       "      <td>행복</td>\n",
       "    </tr>\n",
       "    <tr>\n",
       "      <th>17015</th>\n",
       "      <td>중국은 그에비하면 양반격이지.</td>\n",
       "      <td>분노</td>\n",
       "    </tr>\n",
       "    <tr>\n",
       "      <th>6925</th>\n",
       "      <td>나는 이때까지 화가들이 자기혼자 다 그리는줄 알았네</td>\n",
       "      <td>놀람</td>\n",
       "    </tr>\n",
       "  </tbody>\n",
       "</table>\n",
       "</div>"
      ],
      "text/plain": [
       "                                         sentence emotion\n",
       "29956                            어제 홈런은 정말 멋졌는데..      행복\n",
       "3344    전 좋으면 괜찮을거라 생각들어서 과감히 사긴했는데 사고나니 걱정이 들긴해요      공포\n",
       "31905                                 구위가 정말 좋았다.      행복\n",
       "17015                            중국은 그에비하면 양반격이지.      분노\n",
       "6925                 나는 이때까지 화가들이 자기혼자 다 그리는줄 알았네      놀람"
      ]
     },
     "execution_count": 56,
     "metadata": {},
     "output_type": "execute_result"
    }
   ],
   "source": [
    "#필요한 칼럼만 추출\n",
    "train2 = train2[['Sentence','Emotion']]\n",
    "\n",
    "#칼럼이름 변경\n",
    "train2.columns = ['sentence', 'emotion']\n",
    "train2.sample(n=5)"
   ]
  },
  {
   "attachments": {},
   "cell_type": "markdown",
   "metadata": {},
   "source": [
    "결측치 확인"
   ]
  },
  {
   "cell_type": "code",
   "execution_count": 57,
   "metadata": {},
   "outputs": [
    {
     "name": "stdout",
     "output_type": "stream",
     "text": [
      "<class 'pandas.core.frame.DataFrame'>\n",
      "RangeIndex: 38594 entries, 0 to 38593\n",
      "Data columns (total 2 columns):\n",
      " #   Column    Non-Null Count  Dtype \n",
      "---  ------    --------------  ----- \n",
      " 0   sentence  38594 non-null  object\n",
      " 1   emotion   38594 non-null  object\n",
      "dtypes: object(2)\n",
      "memory usage: 603.2+ KB\n",
      "None\n",
      "\n",
      "sentence    0\n",
      "emotion     0\n",
      "dtype: int64\n"
     ]
    }
   ],
   "source": [
    "print(train2.info(), end = '\\n\\n')\n",
    "print(train2.isnull().sum())"
   ]
  },
  {
   "attachments": {},
   "cell_type": "markdown",
   "metadata": {},
   "source": [
    "중복행 확인, 제거"
   ]
  },
  {
   "cell_type": "code",
   "execution_count": 58,
   "metadata": {},
   "outputs": [
    {
     "name": "stdout",
     "output_type": "stream",
     "text": [
      "중복되는 행:  85\n"
     ]
    },
    {
     "data": {
      "text/plain": [
       "38509"
      ]
     },
     "execution_count": 58,
     "metadata": {},
     "output_type": "execute_result"
    }
   ],
   "source": [
    "dup = train2[train2.duplicated(subset=['sentence'])]\n",
    "print(\"중복되는 행: \", len(dup))\n",
    "\n",
    "train2 = train2.drop_duplicates(subset=['sentence'], keep='first')\n",
    "len(train2)"
   ]
  },
  {
   "cell_type": "code",
   "execution_count": 59,
   "metadata": {},
   "outputs": [
    {
     "data": {
      "text/plain": [
       "emotion\n",
       "공포    5461\n",
       "놀람    5886\n",
       "분노    5662\n",
       "슬픔    5244\n",
       "중립    4827\n",
       "행복    6003\n",
       "혐오    5426\n",
       "Name: sentence, dtype: int64"
      ]
     },
     "execution_count": 59,
     "metadata": {},
     "output_type": "execute_result"
    }
   ],
   "source": [
    "# 감정 분포 확인\n",
    "train2.groupby('emotion').count().iloc[:,0]"
   ]
  },
  {
   "cell_type": "code",
   "execution_count": 60,
   "metadata": {},
   "outputs": [],
   "source": [
    "train2.to_csv(\"data/단발성대화.csv\")"
   ]
  },
  {
   "attachments": {},
   "cell_type": "markdown",
   "metadata": {},
   "source": [
    "# 3. 한국어 연속적 대화 데이터셋"
   ]
  },
  {
   "cell_type": "code",
   "execution_count": 61,
   "metadata": {},
   "outputs": [
    {
     "data": {
      "text/html": [
       "<div>\n",
       "<style scoped>\n",
       "    .dataframe tbody tr th:only-of-type {\n",
       "        vertical-align: middle;\n",
       "    }\n",
       "\n",
       "    .dataframe tbody tr th {\n",
       "        vertical-align: top;\n",
       "    }\n",
       "\n",
       "    .dataframe thead th {\n",
       "        text-align: right;\n",
       "    }\n",
       "</style>\n",
       "<table border=\"1\" class=\"dataframe\">\n",
       "  <thead>\n",
       "    <tr style=\"text-align: right;\">\n",
       "      <th></th>\n",
       "      <th>Unnamed: 0</th>\n",
       "      <th>Unnamed: 1</th>\n",
       "      <th>Unnamed: 2</th>\n",
       "      <th>Unnamed: 3</th>\n",
       "      <th>Unnamed: 4</th>\n",
       "      <th>행복</th>\n",
       "      <th>중립</th>\n",
       "      <th>슬픔</th>\n",
       "      <th>공포</th>\n",
       "      <th>혐오</th>\n",
       "      <th>분노</th>\n",
       "      <th>놀람</th>\n",
       "    </tr>\n",
       "  </thead>\n",
       "  <tbody>\n",
       "    <tr>\n",
       "      <th>23837</th>\n",
       "      <td>NaN</td>\n",
       "      <td>뭐?</td>\n",
       "      <td>놀람</td>\n",
       "      <td>NaN</td>\n",
       "      <td>NaN</td>\n",
       "      <td>NaN</td>\n",
       "      <td>NaN</td>\n",
       "      <td>NaN</td>\n",
       "      <td>NaN</td>\n",
       "      <td>NaN</td>\n",
       "      <td>NaN</td>\n",
       "      <td>NaN</td>\n",
       "    </tr>\n",
       "    <tr>\n",
       "      <th>26009</th>\n",
       "      <td>NaN</td>\n",
       "      <td>없어. 끊어.</td>\n",
       "      <td>중립</td>\n",
       "      <td>NaN</td>\n",
       "      <td>NaN</td>\n",
       "      <td>NaN</td>\n",
       "      <td>NaN</td>\n",
       "      <td>NaN</td>\n",
       "      <td>NaN</td>\n",
       "      <td>NaN</td>\n",
       "      <td>NaN</td>\n",
       "      <td>NaN</td>\n",
       "    </tr>\n",
       "    <tr>\n",
       "      <th>16977</th>\n",
       "      <td>NaN</td>\n",
       "      <td>나 걔네들한테 형 이름도 말해버렸는데...</td>\n",
       "      <td>중립</td>\n",
       "      <td>NaN</td>\n",
       "      <td>NaN</td>\n",
       "      <td>NaN</td>\n",
       "      <td>NaN</td>\n",
       "      <td>NaN</td>\n",
       "      <td>NaN</td>\n",
       "      <td>NaN</td>\n",
       "      <td>NaN</td>\n",
       "      <td>NaN</td>\n",
       "    </tr>\n",
       "    <tr>\n",
       "      <th>46026</th>\n",
       "      <td>NaN</td>\n",
       "      <td>잘될거에요. 보란 듯이 팀에 들어가서 아버지 자랑스런 아들 되드릴거에요.</td>\n",
       "      <td>중립</td>\n",
       "      <td>NaN</td>\n",
       "      <td>NaN</td>\n",
       "      <td>NaN</td>\n",
       "      <td>NaN</td>\n",
       "      <td>NaN</td>\n",
       "      <td>NaN</td>\n",
       "      <td>NaN</td>\n",
       "      <td>NaN</td>\n",
       "      <td>NaN</td>\n",
       "    </tr>\n",
       "    <tr>\n",
       "      <th>21571</th>\n",
       "      <td>NaN</td>\n",
       "      <td>당장은 편할지 모르지만 반환점에서 표식을 받은 이후로는 후발대가 훨씬 불리해. 지켜...</td>\n",
       "      <td>중립</td>\n",
       "      <td>NaN</td>\n",
       "      <td>NaN</td>\n",
       "      <td>NaN</td>\n",
       "      <td>NaN</td>\n",
       "      <td>NaN</td>\n",
       "      <td>NaN</td>\n",
       "      <td>NaN</td>\n",
       "      <td>NaN</td>\n",
       "      <td>NaN</td>\n",
       "    </tr>\n",
       "  </tbody>\n",
       "</table>\n",
       "</div>"
      ],
      "text/plain": [
       "      Unnamed: 0                                         Unnamed: 1   \n",
       "23837        NaN                                                 뭐?  \\\n",
       "26009        NaN                                            없어. 끊어.   \n",
       "16977        NaN                            나 걔네들한테 형 이름도 말해버렸는데...   \n",
       "46026        NaN          잘될거에요. 보란 듯이 팀에 들어가서 아버지 자랑스런 아들 되드릴거에요.    \n",
       "21571        NaN  당장은 편할지 모르지만 반환점에서 표식을 받은 이후로는 후발대가 훨씬 불리해. 지켜...   \n",
       "\n",
       "      Unnamed: 2  Unnamed: 3  Unnamed: 4  행복  중립  슬픔  공포  혐오  분노  놀람  \n",
       "23837         놀람         NaN         NaN NaN NaN NaN NaN NaN NaN NaN  \n",
       "26009         중립         NaN         NaN NaN NaN NaN NaN NaN NaN NaN  \n",
       "16977         중립         NaN         NaN NaN NaN NaN NaN NaN NaN NaN  \n",
       "46026         중립         NaN         NaN NaN NaN NaN NaN NaN NaN NaN  \n",
       "21571         중립         NaN         NaN NaN NaN NaN NaN NaN NaN NaN  "
      ]
     },
     "execution_count": 61,
     "metadata": {},
     "output_type": "execute_result"
    }
   ],
   "source": [
    "import pandas as pd\n",
    "file3_train = 'data\\한국어_연속적_대화_데이터셋.csv'    #슬라시 방향 상관 없다?\n",
    "\n",
    "train3 = pd.read_csv(file3_train)\n",
    "train3.sample(n=5)"
   ]
  },
  {
   "cell_type": "code",
   "execution_count": 62,
   "metadata": {},
   "outputs": [
    {
     "data": {
      "text/html": [
       "<div>\n",
       "<style scoped>\n",
       "    .dataframe tbody tr th:only-of-type {\n",
       "        vertical-align: middle;\n",
       "    }\n",
       "\n",
       "    .dataframe tbody tr th {\n",
       "        vertical-align: top;\n",
       "    }\n",
       "\n",
       "    .dataframe thead th {\n",
       "        text-align: right;\n",
       "    }\n",
       "</style>\n",
       "<table border=\"1\" class=\"dataframe\">\n",
       "  <thead>\n",
       "    <tr style=\"text-align: right;\">\n",
       "      <th></th>\n",
       "      <th>sentence</th>\n",
       "      <th>emotion</th>\n",
       "    </tr>\n",
       "  </thead>\n",
       "  <tbody>\n",
       "    <tr>\n",
       "      <th>17590</th>\n",
       "      <td>쟤 그럼 너한테 배운 거니?</td>\n",
       "      <td>놀람</td>\n",
       "    </tr>\n",
       "    <tr>\n",
       "      <th>38232</th>\n",
       "      <td>예?</td>\n",
       "      <td>놀람</td>\n",
       "    </tr>\n",
       "    <tr>\n",
       "      <th>53496</th>\n",
       "      <td>……여어.</td>\n",
       "      <td>중립</td>\n",
       "    </tr>\n",
       "    <tr>\n",
       "      <th>731</th>\n",
       "      <td>이제...저 물고기까지 봐야 합니까?</td>\n",
       "      <td>혐오</td>\n",
       "    </tr>\n",
       "    <tr>\n",
       "      <th>9428</th>\n",
       "      <td>그럼 신발 한짝 벗어놓고 가.</td>\n",
       "      <td>중립</td>\n",
       "    </tr>\n",
       "  </tbody>\n",
       "</table>\n",
       "</div>"
      ],
      "text/plain": [
       "                   sentence emotion\n",
       "17590       쟤 그럼 너한테 배운 거니?      놀람\n",
       "38232                    예?      놀람\n",
       "53496                 ……여어.      중립\n",
       "731    이제...저 물고기까지 봐야 합니까?      혐오\n",
       "9428       그럼 신발 한짝 벗어놓고 가.      중립"
      ]
     },
     "execution_count": 62,
     "metadata": {},
     "output_type": "execute_result"
    }
   ],
   "source": [
    "#필요한 칼럼만 추출\n",
    "train3 = train3[['Unnamed: 1','Unnamed: 2']]\n",
    "\n",
    "#칼럼이름 변경\n",
    "train3.columns = ['sentence', 'emotion']\n",
    "train3.sample(n=5)"
   ]
  },
  {
   "cell_type": "code",
   "execution_count": 63,
   "metadata": {},
   "outputs": [
    {
     "name": "stdout",
     "output_type": "stream",
     "text": [
      "<class 'pandas.core.frame.DataFrame'>\n",
      "RangeIndex: 55629 entries, 0 to 55628\n",
      "Data columns (total 2 columns):\n",
      " #   Column    Non-Null Count  Dtype \n",
      "---  ------    --------------  ----- \n",
      " 0   sentence  55628 non-null  object\n",
      " 1   emotion   55622 non-null  object\n",
      "dtypes: object(2)\n",
      "memory usage: 869.3+ KB\n",
      "None\n",
      "\n",
      "sentence    1\n",
      "emotion     7\n",
      "dtype: int64\n"
     ]
    }
   ],
   "source": [
    "print(train3.info(), end = '\\n\\n')\n",
    "print(train3.isnull().sum())"
   ]
  },
  {
   "attachments": {},
   "cell_type": "markdown",
   "metadata": {},
   "source": [
    "결측치 존재 -> 결측치 있는 행 출력"
   ]
  },
  {
   "cell_type": "code",
   "execution_count": 64,
   "metadata": {},
   "outputs": [
    {
     "data": {
      "text/html": [
       "<div>\n",
       "<style scoped>\n",
       "    .dataframe tbody tr th:only-of-type {\n",
       "        vertical-align: middle;\n",
       "    }\n",
       "\n",
       "    .dataframe tbody tr th {\n",
       "        vertical-align: top;\n",
       "    }\n",
       "\n",
       "    .dataframe thead th {\n",
       "        text-align: right;\n",
       "    }\n",
       "</style>\n",
       "<table border=\"1\" class=\"dataframe\">\n",
       "  <thead>\n",
       "    <tr style=\"text-align: right;\">\n",
       "      <th></th>\n",
       "      <th>sentence</th>\n",
       "      <th>emotion</th>\n",
       "    </tr>\n",
       "  </thead>\n",
       "  <tbody>\n",
       "    <tr>\n",
       "      <th>3707</th>\n",
       "      <td>저도 저희 반 학생이 도둑질을 했다고 믿고 싶진 않아요. 아마 서로 오해가 있었던 ...</td>\n",
       "      <td>NaN</td>\n",
       "    </tr>\n",
       "    <tr>\n",
       "      <th>30644</th>\n",
       "      <td>다 봤니? 다 못 봤으면 나머지 해줄까?</td>\n",
       "      <td>NaN</td>\n",
       "    </tr>\n",
       "    <tr>\n",
       "      <th>31816</th>\n",
       "      <td>그러니까. 돌 같은 걸 씹어서 이가 부러진 경우가 아니면.실상 보상을 받을 수 없다...</td>\n",
       "      <td>NaN</td>\n",
       "    </tr>\n",
       "    <tr>\n",
       "      <th>46290</th>\n",
       "      <td>NaN</td>\n",
       "      <td>NaN</td>\n",
       "    </tr>\n",
       "    <tr>\n",
       "      <th>47149</th>\n",
       "      <td>뭐가?</td>\n",
       "      <td>NaN</td>\n",
       "    </tr>\n",
       "    <tr>\n",
       "      <th>48754</th>\n",
       "      <td>창업은 실제 해보니까 어땠어요?</td>\n",
       "      <td>NaN</td>\n",
       "    </tr>\n",
       "    <tr>\n",
       "      <th>50535</th>\n",
       "      <td>안에는 들어가 봤나?</td>\n",
       "      <td>NaN</td>\n",
       "    </tr>\n",
       "  </tbody>\n",
       "</table>\n",
       "</div>"
      ],
      "text/plain": [
       "                                                sentence emotion\n",
       "3707   저도 저희 반 학생이 도둑질을 했다고 믿고 싶진 않아요. 아마 서로 오해가 있었던 ...     NaN\n",
       "30644                        다 봤니? 다 못 봤으면 나머지 해줄까?          NaN\n",
       "31816  그러니까. 돌 같은 걸 씹어서 이가 부러진 경우가 아니면.실상 보상을 받을 수 없다...     NaN\n",
       "46290                                                NaN     NaN\n",
       "47149                                                뭐가?     NaN\n",
       "48754                                 창업은 실제 해보니까 어땠어요?      NaN\n",
       "50535                                        안에는 들어가 봤나?     NaN"
      ]
     },
     "execution_count": 64,
     "metadata": {},
     "output_type": "execute_result"
    }
   ],
   "source": [
    "null_df = train3[train3.isnull().any(axis=1)]\n",
    "null_df"
   ]
  },
  {
   "attachments": {},
   "cell_type": "markdown",
   "metadata": {},
   "source": [
    "**결측치 있는 행 삭제**  \n",
    "55629 -> 55622, 7개 모두 지워진거 확인"
   ]
  },
  {
   "cell_type": "code",
   "execution_count": 65,
   "metadata": {},
   "outputs": [
    {
     "data": {
      "text/plain": [
       "(55622, 2)"
      ]
     },
     "execution_count": 65,
     "metadata": {},
     "output_type": "execute_result"
    }
   ],
   "source": [
    "train3 = train3.dropna()\n",
    "train3.shape"
   ]
  },
  {
   "attachments": {},
   "cell_type": "markdown",
   "metadata": {},
   "source": [
    "중복 행 확인, 제거"
   ]
  },
  {
   "cell_type": "code",
   "execution_count": 66,
   "metadata": {},
   "outputs": [
    {
     "name": "stdout",
     "output_type": "stream",
     "text": [
      "중복되는 행:  4389\n"
     ]
    },
    {
     "data": {
      "text/plain": [
       "51233"
      ]
     },
     "execution_count": 66,
     "metadata": {},
     "output_type": "execute_result"
    }
   ],
   "source": [
    "dup = train3[train3.duplicated(subset=['sentence'])]\n",
    "print(\"중복되는 행: \", len(dup))\n",
    "\n",
    "train3 = train3.drop_duplicates(subset=['sentence'], keep='first')\n",
    "len(train3)"
   ]
  },
  {
   "cell_type": "code",
   "execution_count": 67,
   "metadata": {},
   "outputs": [
    {
     "data": {
      "text/plain": [
       "emotion\n",
       "ㄴ중립        1\n",
       "ㅈ중립        1\n",
       "ㅍ         12\n",
       "감정         1\n",
       "공포        95\n",
       "놀람      3874\n",
       "분          4\n",
       "분ㄴ         1\n",
       "분노      3536\n",
       "슬픔      1848\n",
       "줄          1\n",
       "중림         1\n",
       "중립     40683\n",
       "행복       983\n",
       "혐오       192\n",
       "Name: sentence, dtype: int64"
      ]
     },
     "execution_count": 67,
     "metadata": {},
     "output_type": "execute_result"
    }
   ],
   "source": [
    "# 감정 분포 확인\n",
    "train3.groupby('emotion').count().iloc[:,0]"
   ]
  },
  {
   "attachments": {},
   "cell_type": "markdown",
   "metadata": {},
   "source": [
    "오타가 다수 존재\n",
    "<br>\n",
    "우선 알아 볼 수 있는건 아래와 같이 치환하고 나머지를 확인  \n",
    "|ㄴ중립, ㅈ중립, 중림|중립|  \n",
    "|-----------|---|  \n",
    "|**분, 분ㄴ**|**분노**|  "
   ]
  },
  {
   "cell_type": "code",
   "execution_count": 68,
   "metadata": {},
   "outputs": [],
   "source": [
    "train3.loc[train3['emotion'].isin(('ㄴ중립','ㅈ중립','중림')), 'emotion'] = '중립'\n",
    "train3.loc[train3['emotion'].isin(('분','분ㄴ')), 'emotion'] = '분노'"
   ]
  },
  {
   "cell_type": "code",
   "execution_count": 69,
   "metadata": {},
   "outputs": [
    {
     "data": {
      "text/html": [
       "<div>\n",
       "<style scoped>\n",
       "    .dataframe tbody tr th:only-of-type {\n",
       "        vertical-align: middle;\n",
       "    }\n",
       "\n",
       "    .dataframe tbody tr th {\n",
       "        vertical-align: top;\n",
       "    }\n",
       "\n",
       "    .dataframe thead th {\n",
       "        text-align: right;\n",
       "    }\n",
       "</style>\n",
       "<table border=\"1\" class=\"dataframe\">\n",
       "  <thead>\n",
       "    <tr style=\"text-align: right;\">\n",
       "      <th></th>\n",
       "      <th>sentence</th>\n",
       "      <th>emotion</th>\n",
       "    </tr>\n",
       "  </thead>\n",
       "  <tbody>\n",
       "    <tr>\n",
       "      <th>0</th>\n",
       "      <td>발화</td>\n",
       "      <td>감정</td>\n",
       "    </tr>\n",
       "    <tr>\n",
       "      <th>25037</th>\n",
       "      <td>인터넷에다 팔아야 되나.. 근데 너 이제 맘 잡았나보다?</td>\n",
       "      <td>ㅍ</td>\n",
       "    </tr>\n",
       "    <tr>\n",
       "      <th>27177</th>\n",
       "      <td>일부러 그럴 리가 있어요?</td>\n",
       "      <td>ㅍ</td>\n",
       "    </tr>\n",
       "    <tr>\n",
       "      <th>27948</th>\n",
       "      <td>그럼요?</td>\n",
       "      <td>ㅍ</td>\n",
       "    </tr>\n",
       "    <tr>\n",
       "      <th>28090</th>\n",
       "      <td>샤프심이 없어서..가지러 왔다가 누나 보이길래..</td>\n",
       "      <td>ㅍ</td>\n",
       "    </tr>\n",
       "    <tr>\n",
       "      <th>28455</th>\n",
       "      <td>아~ 자기소개서 쓰기 힘들어 죽겠어요~</td>\n",
       "      <td>ㅍ</td>\n",
       "    </tr>\n",
       "    <tr>\n",
       "      <th>28482</th>\n",
       "      <td>원래 남자들..다른 남자랑 친하게 지내면 그러니까..</td>\n",
       "      <td>ㅍ</td>\n",
       "    </tr>\n",
       "    <tr>\n",
       "      <th>36684</th>\n",
       "      <td>그럼, 임마! 내가 누구냐? 한번 실수는 병가지상사다~이러시면서 나의 인간성과 품위...</td>\n",
       "      <td>ㅍ</td>\n",
       "    </tr>\n",
       "    <tr>\n",
       "      <th>37261</th>\n",
       "      <td>처리 할거야. 처리해야지, 그게 돈이 얼만데?</td>\n",
       "      <td>ㅍ</td>\n",
       "    </tr>\n",
       "    <tr>\n",
       "      <th>37428</th>\n",
       "      <td>와, 어디서 꽁돈이라도 생겼나?</td>\n",
       "      <td>ㅍ</td>\n",
       "    </tr>\n",
       "    <tr>\n",
       "      <th>37864</th>\n",
       "      <td>엄마, 엄만 결혼이 뭐 그리 좋아?</td>\n",
       "      <td>ㅍ</td>\n",
       "    </tr>\n",
       "    <tr>\n",
       "      <th>41755</th>\n",
       "      <td>앞으로는 어디서 우연히 마주쳐도 말 섞지 말자. 비위 상해. 너랑 말 하면.</td>\n",
       "      <td>ㅍ</td>\n",
       "    </tr>\n",
       "    <tr>\n",
       "      <th>43151</th>\n",
       "      <td>역시... 상처받았겠지?</td>\n",
       "      <td>ㅍ</td>\n",
       "    </tr>\n",
       "    <tr>\n",
       "      <th>50985</th>\n",
       "      <td>용량 너무 적은 거 아니냐...... 자석 가져다 대지 말라고. 다 까먹을 테니까.</td>\n",
       "      <td>줄</td>\n",
       "    </tr>\n",
       "  </tbody>\n",
       "</table>\n",
       "</div>"
      ],
      "text/plain": [
       "                                                sentence emotion\n",
       "0                                                     발화      감정\n",
       "25037                    인터넷에다 팔아야 되나.. 근데 너 이제 맘 잡았나보다?       ㅍ\n",
       "27177                                     일부러 그럴 리가 있어요?       ㅍ\n",
       "27948                                               그럼요?       ㅍ\n",
       "28090                        샤프심이 없어서..가지러 왔다가 누나 보이길래..       ㅍ\n",
       "28455                              아~ 자기소개서 쓰기 힘들어 죽겠어요~       ㅍ\n",
       "28482                      원래 남자들..다른 남자랑 친하게 지내면 그러니까..       ㅍ\n",
       "36684  그럼, 임마! 내가 누구냐? 한번 실수는 병가지상사다~이러시면서 나의 인간성과 품위...       ㅍ\n",
       "37261                          처리 할거야. 처리해야지, 그게 돈이 얼만데?       ㅍ\n",
       "37428                                  와, 어디서 꽁돈이라도 생겼나?       ㅍ\n",
       "37864                                엄마, 엄만 결혼이 뭐 그리 좋아?       ㅍ\n",
       "41755    앞으로는 어디서 우연히 마주쳐도 말 섞지 말자. 비위 상해. 너랑 말 하면.            ㅍ\n",
       "43151                                      역시... 상처받았겠지?       ㅍ\n",
       "50985     용량 너무 적은 거 아니냐...... 자석 가져다 대지 말라고. 다 까먹을 테니까.       줄"
      ]
     },
     "execution_count": 69,
     "metadata": {},
     "output_type": "execute_result"
    }
   ],
   "source": [
    "train3[train3['emotion'].isin(['ㅍ', '감정','줄'])]"
   ]
  },
  {
   "attachments": {},
   "cell_type": "markdown",
   "metadata": {},
   "source": [
    "0행은 원본 파일에서 열이름으로 쓰인거 같고 'ㅍ','줄'은 구분이 어려움  \n",
    "--> 모두 삭제"
   ]
  },
  {
   "cell_type": "code",
   "execution_count": 70,
   "metadata": {},
   "outputs": [],
   "source": [
    "train3 = train3.drop(train3[train3['emotion'].isin(['ㅍ', '감정','줄'])].index)\n",
    "#train3 = train3[~train3['emotion'].isin(['가나', '다라'])]"
   ]
  },
  {
   "attachments": {},
   "cell_type": "markdown",
   "metadata": {},
   "source": [
    "다시 분포 확인"
   ]
  },
  {
   "cell_type": "code",
   "execution_count": 71,
   "metadata": {},
   "outputs": [
    {
     "data": {
      "text/plain": [
       "emotion\n",
       "공포       95\n",
       "놀람     3874\n",
       "분노     3541\n",
       "슬픔     1848\n",
       "중립    40686\n",
       "행복      983\n",
       "혐오      192\n",
       "Name: sentence, dtype: int64"
      ]
     },
     "execution_count": 71,
     "metadata": {},
     "output_type": "execute_result"
    }
   ],
   "source": [
    "train3.groupby('emotion').count().iloc[:,0]"
   ]
  },
  {
   "attachments": {},
   "cell_type": "markdown",
   "metadata": {},
   "source": [
    "전처리 끝난 데이터 프레임 저장"
   ]
  },
  {
   "cell_type": "code",
   "execution_count": 72,
   "metadata": {},
   "outputs": [],
   "source": [
    "train3.to_csv(\"data/연속적대화.csv\")"
   ]
  },
  {
   "attachments": {},
   "cell_type": "markdown",
   "metadata": {},
   "source": [
    "## __입력 데이터 병합 & 전처리__"
   ]
  },
  {
   "cell_type": "code",
   "execution_count": 2,
   "metadata": {},
   "outputs": [],
   "source": [
    "import pandas as pd\n",
    "trainset1 = pd.read_csv(\"data/감성대화말뭉치(병합).csv\",index_col=0)\n",
    "trainset2 = pd.read_csv(\"data/단발성대화.csv\",index_col=0)\n",
    "trainset3 = pd.read_csv(\"data/연속적대화.csv\",index_col=0)\n",
    "trainset = [trainset1, trainset2, trainset3]"
   ]
  },
  {
   "attachments": {},
   "cell_type": "markdown",
   "metadata": {},
   "source": [
    "라벨, 분포 확인"
   ]
  },
  {
   "cell_type": "code",
   "execution_count": 3,
   "metadata": {},
   "outputs": [
    {
     "name": "stdout",
     "output_type": "stream",
     "text": [
      "['기쁨', '당황', '분노', '불안', '상처', '슬픔']\n",
      "emotion\n",
      "기쁨     7337\n",
      "당황     9797\n",
      "분노    10414\n",
      "불안    10429\n",
      "상처    10142\n",
      "슬픔    10121\n",
      "Name: sentence, dtype: int64\n",
      "['공포', '놀람', '분노', '슬픔', '중립', '행복', '혐오']\n",
      "emotion\n",
      "공포    5461\n",
      "놀람    5886\n",
      "분노    5662\n",
      "슬픔    5244\n",
      "중립    4827\n",
      "행복    6003\n",
      "혐오    5426\n",
      "Name: sentence, dtype: int64\n",
      "['공포', '놀람', '분노', '슬픔', '중립', '행복', '혐오']\n",
      "emotion\n",
      "공포       95\n",
      "놀람     3874\n",
      "분노     3541\n",
      "슬픔     1848\n",
      "중립    40686\n",
      "행복      983\n",
      "혐오      192\n",
      "Name: sentence, dtype: int64\n"
     ]
    }
   ],
   "source": [
    "for t in trainset:\n",
    "    print(sorted(t['emotion'].unique()))\n",
    "    print(t.groupby('emotion').count().iloc[:,0])"
   ]
  },
  {
   "attachments": {},
   "cell_type": "markdown",
   "metadata": {},
   "source": [
    "### 레이블 맞추고 병합"
   ]
  },
  {
   "attachments": {},
   "cell_type": "markdown",
   "metadata": {},
   "source": [
    "__감성대화말뭉치__  \n",
    "- 기쁨 -> 행복, 당황->놀람, 불안->공포"
   ]
  },
  {
   "cell_type": "code",
   "execution_count": 4,
   "metadata": {},
   "outputs": [],
   "source": [
    "trainset1.loc[trainset1['emotion'] == '기쁨', 'emotion'] = '행복'\n",
    "trainset1.loc[trainset1['emotion'] == '당황', 'emotion'] = '놀람'"
   ]
  },
  {
   "attachments": {},
   "cell_type": "markdown",
   "metadata": {},
   "source": [
    "- 상처, 슬픔 라벨이 구별이 안됨 -> 병합"
   ]
  },
  {
   "cell_type": "code",
   "execution_count": 5,
   "metadata": {},
   "outputs": [
    {
     "data": {
      "text/html": [
       "<div>\n",
       "<style scoped>\n",
       "    .dataframe tbody tr th:only-of-type {\n",
       "        vertical-align: middle;\n",
       "    }\n",
       "\n",
       "    .dataframe tbody tr th {\n",
       "        vertical-align: top;\n",
       "    }\n",
       "\n",
       "    .dataframe thead th {\n",
       "        text-align: right;\n",
       "    }\n",
       "</style>\n",
       "<table border=\"1\" class=\"dataframe\">\n",
       "  <thead>\n",
       "    <tr style=\"text-align: right;\">\n",
       "      <th></th>\n",
       "      <th>sentence</th>\n",
       "      <th>emotion</th>\n",
       "    </tr>\n",
       "  </thead>\n",
       "  <tbody>\n",
       "    <tr>\n",
       "      <th>43359</th>\n",
       "      <td>아빠가 또 술 마시고 엄마를 때렸어. 늘 있는 일이라서 놀라진 않았지만 엄마가 걱정 돼.</td>\n",
       "      <td>상처</td>\n",
       "    </tr>\n",
       "    <tr>\n",
       "      <th>28725</th>\n",
       "      <td>옛날에 친했던 친구가 있는데 그 친구가 나를 이용했어. 너무 어이없고 배신감을 느껴.</td>\n",
       "      <td>상처</td>\n",
       "    </tr>\n",
       "    <tr>\n",
       "      <th>41308</th>\n",
       "      <td>음식이 맛이 없다고 평생을 음식 투정이야.</td>\n",
       "      <td>상처</td>\n",
       "    </tr>\n",
       "    <tr>\n",
       "      <th>981</th>\n",
       "      <td>우리 부서가 옆 부서와 통합된다는 소식을 들어서 충격이야.</td>\n",
       "      <td>상처</td>\n",
       "    </tr>\n",
       "    <tr>\n",
       "      <th>9763</th>\n",
       "      <td>결혼 초에 남편이 자영업을 하면서 주식 투자를 했었어.</td>\n",
       "      <td>상처</td>\n",
       "    </tr>\n",
       "    <tr>\n",
       "      <th>48495</th>\n",
       "      <td>우울증 때문에 취업이 안 돼서 걱정이야. 빨리 취업을 해야 하는데.</td>\n",
       "      <td>상처</td>\n",
       "    </tr>\n",
       "    <tr>\n",
       "      <th>48597</th>\n",
       "      <td>담배를 너무 피운 탓에 폐가 상해서 뜨거운 걸 못 먹을 정도야. 너무 후회돼.</td>\n",
       "      <td>상처</td>\n",
       "    </tr>\n",
       "    <tr>\n",
       "      <th>600</th>\n",
       "      <td>친한 친구가 나를 범인으로 모는 바람에 선생님한테 혼났어. 상처 받았어.</td>\n",
       "      <td>상처</td>\n",
       "    </tr>\n",
       "  </tbody>\n",
       "</table>\n",
       "</div>"
      ],
      "text/plain": [
       "                                                sentence emotion\n",
       "43359  아빠가 또 술 마시고 엄마를 때렸어. 늘 있는 일이라서 놀라진 않았지만 엄마가 걱정 돼.      상처\n",
       "28725    옛날에 친했던 친구가 있는데 그 친구가 나를 이용했어. 너무 어이없고 배신감을 느껴.      상처\n",
       "41308                            음식이 맛이 없다고 평생을 음식 투정이야.      상처\n",
       "981                     우리 부서가 옆 부서와 통합된다는 소식을 들어서 충격이야.      상처\n",
       "9763                      결혼 초에 남편이 자영업을 하면서 주식 투자를 했었어.      상처\n",
       "48495              우울증 때문에 취업이 안 돼서 걱정이야. 빨리 취업을 해야 하는데.      상처\n",
       "48597        담배를 너무 피운 탓에 폐가 상해서 뜨거운 걸 못 먹을 정도야. 너무 후회돼.      상처\n",
       "600             친한 친구가 나를 범인으로 모는 바람에 선생님한테 혼났어. 상처 받았어.      상처"
      ]
     },
     "execution_count": 5,
     "metadata": {},
     "output_type": "execute_result"
    }
   ],
   "source": [
    "trainset1[trainset1['emotion'] == '상처'].sample(n=8)"
   ]
  },
  {
   "cell_type": "code",
   "execution_count": 5,
   "metadata": {},
   "outputs": [
    {
     "data": {
      "text/html": [
       "<div>\n",
       "<style scoped>\n",
       "    .dataframe tbody tr th:only-of-type {\n",
       "        vertical-align: middle;\n",
       "    }\n",
       "\n",
       "    .dataframe tbody tr th {\n",
       "        vertical-align: top;\n",
       "    }\n",
       "\n",
       "    .dataframe thead th {\n",
       "        text-align: right;\n",
       "    }\n",
       "</style>\n",
       "<table border=\"1\" class=\"dataframe\">\n",
       "  <thead>\n",
       "    <tr style=\"text-align: right;\">\n",
       "      <th></th>\n",
       "      <th>sentence</th>\n",
       "      <th>emotion</th>\n",
       "    </tr>\n",
       "  </thead>\n",
       "  <tbody>\n",
       "    <tr>\n",
       "      <th>6021</th>\n",
       "      <td>피부가 하루하루 다르게 노화되는 것 같아 속상해.</td>\n",
       "      <td>슬픔</td>\n",
       "    </tr>\n",
       "    <tr>\n",
       "      <th>23079</th>\n",
       "      <td>이제 여기서 일할 수 있는 시간이 얼마 남지 않은 것 같은데 이직이 쉽지 않네.</td>\n",
       "      <td>슬픔</td>\n",
       "    </tr>\n",
       "    <tr>\n",
       "      <th>38520</th>\n",
       "      <td>노후준비가 안 되어서 정말 슬프다.</td>\n",
       "      <td>슬픔</td>\n",
       "    </tr>\n",
       "    <tr>\n",
       "      <th>47525</th>\n",
       "      <td>이번 시험이 저번 시험보다 구 점이나 떨어져서 너무 슬퍼.</td>\n",
       "      <td>슬픔</td>\n",
       "    </tr>\n",
       "    <tr>\n",
       "      <th>47631</th>\n",
       "      <td>장애를 가진 나를 평생 돌봐주었던 아내와 이혼을 하니까 쓸쓸하고 눈물이 나.</td>\n",
       "      <td>슬픔</td>\n",
       "    </tr>\n",
       "    <tr>\n",
       "      <th>13566</th>\n",
       "      <td>매일 바쁘게 일하는 엄마와 아빠를 생각하면 눈물만 나.</td>\n",
       "      <td>슬픔</td>\n",
       "    </tr>\n",
       "    <tr>\n",
       "      <th>50230</th>\n",
       "      <td>나는 아무것도 하지 않았는데 술만 드시면 아버지가 나를 때려.</td>\n",
       "      <td>슬픔</td>\n",
       "    </tr>\n",
       "    <tr>\n",
       "      <th>5341</th>\n",
       "      <td>장거리 연애는 불편함이 너무 많은 것 같아.</td>\n",
       "      <td>슬픔</td>\n",
       "    </tr>\n",
       "  </tbody>\n",
       "</table>\n",
       "</div>"
      ],
      "text/plain": [
       "                                           sentence emotion\n",
       "6021                    피부가 하루하루 다르게 노화되는 것 같아 속상해.      슬픔\n",
       "23079  이제 여기서 일할 수 있는 시간이 얼마 남지 않은 것 같은데 이직이 쉽지 않네.      슬픔\n",
       "38520                           노후준비가 안 되어서 정말 슬프다.      슬픔\n",
       "47525              이번 시험이 저번 시험보다 구 점이나 떨어져서 너무 슬퍼.      슬픔\n",
       "47631    장애를 가진 나를 평생 돌봐주었던 아내와 이혼을 하니까 쓸쓸하고 눈물이 나.      슬픔\n",
       "13566                매일 바쁘게 일하는 엄마와 아빠를 생각하면 눈물만 나.      슬픔\n",
       "50230            나는 아무것도 하지 않았는데 술만 드시면 아버지가 나를 때려.      슬픔\n",
       "5341                       장거리 연애는 불편함이 너무 많은 것 같아.      슬픔"
      ]
     },
     "execution_count": 5,
     "metadata": {},
     "output_type": "execute_result"
    }
   ],
   "source": [
    "trainset1[trainset1['emotion'] == '슬픔'].sample(n=8)"
   ]
  },
  {
   "cell_type": "code",
   "execution_count": 6,
   "metadata": {},
   "outputs": [],
   "source": [
    "trainset1.loc[trainset1['emotion'] == '상처', 'emotion'] = '슬픔'"
   ]
  },
  {
   "cell_type": "code",
   "execution_count": 7,
   "metadata": {},
   "outputs": [
    {
     "data": {
      "text/html": [
       "<div>\n",
       "<style scoped>\n",
       "    .dataframe tbody tr th:only-of-type {\n",
       "        vertical-align: middle;\n",
       "    }\n",
       "\n",
       "    .dataframe tbody tr th {\n",
       "        vertical-align: top;\n",
       "    }\n",
       "\n",
       "    .dataframe thead th {\n",
       "        text-align: right;\n",
       "    }\n",
       "</style>\n",
       "<table border=\"1\" class=\"dataframe\">\n",
       "  <thead>\n",
       "    <tr style=\"text-align: right;\">\n",
       "      <th></th>\n",
       "      <th>sentence</th>\n",
       "      <th>emotion</th>\n",
       "    </tr>\n",
       "  </thead>\n",
       "  <tbody>\n",
       "    <tr>\n",
       "      <th>509</th>\n",
       "      <td>모임에 가서 친구를 사귀었는데 뭔가 계산적인 사람이란 게 느껴져서 불안해.</td>\n",
       "      <td>불안</td>\n",
       "    </tr>\n",
       "    <tr>\n",
       "      <th>47815</th>\n",
       "      <td>앓고 있는 지병은 지속적인 치료가 필요한데 너무 가난해서 중단한 지 오래야.</td>\n",
       "      <td>불안</td>\n",
       "    </tr>\n",
       "    <tr>\n",
       "      <th>47165</th>\n",
       "      <td>난 다리에 장애가 있어서 걷기를 잘 못해. 곧 대학교 입학 면접에서 넘어질까 봐 걱...</td>\n",
       "      <td>불안</td>\n",
       "    </tr>\n",
       "    <tr>\n",
       "      <th>42928</th>\n",
       "      <td>우리 집은 능력 없는 부모님 때문에 어릴 때부터 항상 가난했어. 이런 삶이 너무 무...</td>\n",
       "      <td>불안</td>\n",
       "    </tr>\n",
       "    <tr>\n",
       "      <th>12590</th>\n",
       "      <td>벌써 몇 시간째 못 푼 수학 문제가 있어. 이거 때문에 머리가 너무 아파.</td>\n",
       "      <td>불안</td>\n",
       "    </tr>\n",
       "    <tr>\n",
       "      <th>12674</th>\n",
       "      <td>이번 점수가 나왔는데 반에서는 꽤 등수가 높게 나왔어. 그런데 기분은 별로 좋지 않아.</td>\n",
       "      <td>불안</td>\n",
       "    </tr>\n",
       "    <tr>\n",
       "      <th>9646</th>\n",
       "      <td>매달 나가는 지출이 많아서 스트레스받네.</td>\n",
       "      <td>불안</td>\n",
       "    </tr>\n",
       "    <tr>\n",
       "      <th>32839</th>\n",
       "      <td>혹시 코로나에 걸리는 것은 아닐까 불안해.</td>\n",
       "      <td>불안</td>\n",
       "    </tr>\n",
       "  </tbody>\n",
       "</table>\n",
       "</div>"
      ],
      "text/plain": [
       "                                                sentence emotion\n",
       "509            모임에 가서 친구를 사귀었는데 뭔가 계산적인 사람이란 게 느껴져서 불안해.      불안\n",
       "47815         앓고 있는 지병은 지속적인 치료가 필요한데 너무 가난해서 중단한 지 오래야.      불안\n",
       "47165  난 다리에 장애가 있어서 걷기를 잘 못해. 곧 대학교 입학 면접에서 넘어질까 봐 걱...      불안\n",
       "42928  우리 집은 능력 없는 부모님 때문에 어릴 때부터 항상 가난했어. 이런 삶이 너무 무...      불안\n",
       "12590          벌써 몇 시간째 못 푼 수학 문제가 있어. 이거 때문에 머리가 너무 아파.      불안\n",
       "12674   이번 점수가 나왔는데 반에서는 꽤 등수가 높게 나왔어. 그런데 기분은 별로 좋지 않아.      불안\n",
       "9646                              매달 나가는 지출이 많아서 스트레스받네.      불안\n",
       "32839                            혹시 코로나에 걸리는 것은 아닐까 불안해.      불안"
      ]
     },
     "execution_count": 7,
     "metadata": {},
     "output_type": "execute_result"
    }
   ],
   "source": [
    "trainset1[trainset1['emotion'] == '불안'].sample(n=8)"
   ]
  },
  {
   "cell_type": "code",
   "execution_count": 8,
   "metadata": {},
   "outputs": [
    {
     "data": {
      "text/plain": [
       "emotion\n",
       "놀람     9797\n",
       "분노    10414\n",
       "불안    10429\n",
       "슬픔    20263\n",
       "행복     7337\n",
       "Name: sentence, dtype: int64"
      ]
     },
     "execution_count": 8,
     "metadata": {},
     "output_type": "execute_result"
    }
   ],
   "source": [
    "trainset1.groupby('emotion').count().iloc[:,0]"
   ]
  },
  {
   "attachments": {},
   "cell_type": "markdown",
   "metadata": {},
   "source": [
    "__단발성대화 & 연속적대화__  \n",
    "- 공포 -> 불안"
   ]
  },
  {
   "cell_type": "code",
   "execution_count": 9,
   "metadata": {},
   "outputs": [],
   "source": [
    "trainset2.loc[trainset2['emotion'] == '공포', 'emotion'] = '불안'\n",
    "trainset3.loc[trainset3['emotion'] == '공포', 'emotion'] = '불안'"
   ]
  },
  {
   "attachments": {},
   "cell_type": "markdown",
   "metadata": {},
   "source": [
    "- 혐오 태그: 데이터 수가 적고, (웹 크롤링 글이다보이니)책에서 안쓰이는 표현이 대부분, 어울리는 음악(태그)도 찾기 어려워보임\n",
    "-> 삭제"
   ]
  },
  {
   "cell_type": "code",
   "execution_count": 10,
   "metadata": {},
   "outputs": [
    {
     "data": {
      "text/html": [
       "<div>\n",
       "<style scoped>\n",
       "    .dataframe tbody tr th:only-of-type {\n",
       "        vertical-align: middle;\n",
       "    }\n",
       "\n",
       "    .dataframe tbody tr th {\n",
       "        vertical-align: top;\n",
       "    }\n",
       "\n",
       "    .dataframe thead th {\n",
       "        text-align: right;\n",
       "    }\n",
       "</style>\n",
       "<table border=\"1\" class=\"dataframe\">\n",
       "  <thead>\n",
       "    <tr style=\"text-align: right;\">\n",
       "      <th></th>\n",
       "      <th>sentence</th>\n",
       "      <th>emotion</th>\n",
       "    </tr>\n",
       "  </thead>\n",
       "  <tbody>\n",
       "    <tr>\n",
       "      <th>34587</th>\n",
       "      <td>끼리끼리 노네</td>\n",
       "      <td>혐오</td>\n",
       "    </tr>\n",
       "    <tr>\n",
       "      <th>38485</th>\n",
       "      <td>중국에서 잡히면 사형인데</td>\n",
       "      <td>혐오</td>\n",
       "    </tr>\n",
       "    <tr>\n",
       "      <th>36111</th>\n",
       "      <td>전쟁 도발해서 전쟁으로 돈벌려는 계략인가?</td>\n",
       "      <td>혐오</td>\n",
       "    </tr>\n",
       "    <tr>\n",
       "      <th>33390</th>\n",
       "      <td>판사 미친거 아냐?</td>\n",
       "      <td>혐오</td>\n",
       "    </tr>\n",
       "    <tr>\n",
       "      <th>36028</th>\n",
       "      <td>니본도를 아갈에서똥고까지쳐눌테다~~</td>\n",
       "      <td>혐오</td>\n",
       "    </tr>\n",
       "    <tr>\n",
       "      <th>33860</th>\n",
       "      <td>ㅋㅋㅋㅋ 급하면 문도 따는 실력자들^^ 쓱~</td>\n",
       "      <td>혐오</td>\n",
       "    </tr>\n",
       "    <tr>\n",
       "      <th>35703</th>\n",
       "      <td>이딜가나 무도충들이 노답이지...</td>\n",
       "      <td>혐오</td>\n",
       "    </tr>\n",
       "    <tr>\n",
       "      <th>33553</th>\n",
       "      <td>이 새끼는 이제 도박까지 하면 트리플크라운이네. 인간 폐기물 강정호 구단에서 방출시...</td>\n",
       "      <td>혐오</td>\n",
       "    </tr>\n",
       "  </tbody>\n",
       "</table>\n",
       "</div>"
      ],
      "text/plain": [
       "                                                sentence emotion\n",
       "34587                                            끼리끼리 노네      혐오\n",
       "38485                                      중국에서 잡히면 사형인데      혐오\n",
       "36111                            전쟁 도발해서 전쟁으로 돈벌려는 계략인가?      혐오\n",
       "33390                                         판사 미친거 아냐?      혐오\n",
       "36028                                니본도를 아갈에서똥고까지쳐눌테다~~      혐오\n",
       "33860                           ㅋㅋㅋㅋ 급하면 문도 따는 실력자들^^ 쓱~      혐오\n",
       "35703                                 이딜가나 무도충들이 노답이지...      혐오\n",
       "33553  이 새끼는 이제 도박까지 하면 트리플크라운이네. 인간 폐기물 강정호 구단에서 방출시...      혐오"
      ]
     },
     "execution_count": 10,
     "metadata": {},
     "output_type": "execute_result"
    }
   ],
   "source": [
    "trainset2[trainset2['emotion'] == '혐오'].sample(n=8)"
   ]
  },
  {
   "cell_type": "code",
   "execution_count": 11,
   "metadata": {},
   "outputs": [],
   "source": [
    "trainset2 = trainset2[trainset2.emotion != '혐오']\n",
    "trainset3 = trainset3[trainset3.emotion != '혐오']"
   ]
  },
  {
   "attachments": {},
   "cell_type": "markdown",
   "metadata": {},
   "source": [
    "<br>    \n",
    "3 데이터셋 병합"
   ]
  },
  {
   "cell_type": "code",
   "execution_count": 12,
   "metadata": {},
   "outputs": [
    {
     "data": {
      "text/plain": [
       "142350"
      ]
     },
     "execution_count": 12,
     "metadata": {},
     "output_type": "execute_result"
    }
   ],
   "source": [
    "trainsum = pd.concat([trainset1, trainset2, trainset3], axis=0)\n",
    "len(trainsum)"
   ]
  },
  {
   "cell_type": "code",
   "execution_count": 13,
   "metadata": {},
   "outputs": [
    {
     "name": "stdout",
     "output_type": "stream",
     "text": [
      "중복되는 행:  17\n"
     ]
    },
    {
     "data": {
      "text/plain": [
       "142333"
      ]
     },
     "execution_count": 13,
     "metadata": {},
     "output_type": "execute_result"
    }
   ],
   "source": [
    "# 합쳤으니까 다시 중복 제거\n",
    "dup = trainsum[trainsum.duplicated(subset=['sentence'])]\n",
    "print(\"중복되는 행: \", len(dup))\n",
    "\n",
    "trainsum = trainsum.drop_duplicates(subset=['sentence'], keep='first')\n",
    "len(trainsum)"
   ]
  },
  {
   "cell_type": "code",
   "execution_count": 14,
   "metadata": {},
   "outputs": [
    {
     "data": {
      "text/plain": [
       "emotion\n",
       "놀람    19553\n",
       "분노    19616\n",
       "불안    15985\n",
       "슬픔    27354\n",
       "중립    45503\n",
       "행복    14322\n",
       "Name: sentence, dtype: int64"
      ]
     },
     "execution_count": 14,
     "metadata": {},
     "output_type": "execute_result"
    }
   ],
   "source": [
    "trainsum.groupby('emotion').count().iloc[:,0]"
   ]
  },
  {
   "cell_type": "code",
   "execution_count": 15,
   "metadata": {},
   "outputs": [],
   "source": [
    "trainsum.to_csv(\"data/병합데이터셋.csv\")"
   ]
  },
  {
   "cell_type": "code",
   "execution_count": null,
   "metadata": {},
   "outputs": [],
   "source": []
  }
 ],
 "metadata": {
  "kernelspec": {
   "display_name": "Python 3.10.10 ('base')",
   "language": "python",
   "name": "python3"
  },
  "language_info": {
   "codemirror_mode": {
    "name": "ipython",
    "version": 3
   },
   "file_extension": ".py",
   "mimetype": "text/x-python",
   "name": "python",
   "nbconvert_exporter": "python",
   "pygments_lexer": "ipython3",
   "version": "3.9.15"
  },
  "orig_nbformat": 4,
  "vscode": {
   "interpreter": {
    "hash": "b7bc6c7fd23eb2e91dec57608c8d21c360d813bf713e461423113f4cc04934c0"
   }
  }
 },
 "nbformat": 4,
 "nbformat_minor": 2
}
