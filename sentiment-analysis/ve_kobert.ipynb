{
 "cells": [
  {
   "cell_type": "markdown",
   "metadata": {},
   "source": [
    "## **kobert 학습 가상환경에서 패키지 설치 & 깃 연동**"
   ]
  },
  {
   "cell_type": "code",
   "execution_count": 1,
   "metadata": {},
   "outputs": [
    {
     "name": "stdout",
     "output_type": "stream",
     "text": [
      "# packages in environment at c:\\Users\\kiw\\anaconda3\\envs\\kobert0:\n",
      "#\n",
      "# Name                    Version                   Build  Channel\n",
      "anyio                     3.6.2              pyhd8ed1ab_0    conda-forge\n",
      "argon2-cffi               21.3.0             pyhd8ed1ab_0    conda-forge\n",
      "argon2-cffi-bindings      21.2.0           py39hb82d6ee_2    conda-forge\n",
      "asttokens                 2.2.1              pyhd8ed1ab_0    conda-forge\n",
      "attrs                     22.2.0             pyh71513ae_0    conda-forge\n",
      "backcall                  0.2.0              pyh9f0ad1d_0    conda-forge\n",
      "backports                 1.0                pyhd8ed1ab_3    conda-forge\n",
      "backports.functools_lru_cache 1.6.4              pyhd8ed1ab_0    conda-forge\n",
      "beautifulsoup4            4.12.2             pyha770c72_0    conda-forge\n",
      "blas                      1.0                         mkl  \n",
      "bleach                    6.0.0              pyhd8ed1ab_0    conda-forge\n",
      "brotlipy                  0.7.0           py39hb82d6ee_1004    conda-forge\n",
      "ca-certificates           2022.12.7            h5b45459_0    conda-forge\n",
      "certifi                   2022.12.7                pypi_0    pypi\n",
      "cffi                      1.15.1           py39h0878f49_0    conda-forge\n",
      "charset-normalizer        3.1.0              pyhd8ed1ab_0    conda-forge\n",
      "click                     8.1.3           win_pyhd8ed1ab_2    conda-forge\n",
      "colorama                  0.4.6              pyhd8ed1ab_0    conda-forge\n",
      "cpuonly                   2.0                           0    pytorch\n",
      "cryptography              37.0.4           py39h7bc7c5c_0    conda-forge\n",
      "cython                    0.29.34                  pypi_0    pypi\n",
      "dataclasses               0.8                pyhc8e2a94_3    conda-forge\n",
      "debugpy                   1.5.1            py39hd77b12b_0  \n",
      "decorator                 5.1.1              pyhd8ed1ab_0    conda-forge\n",
      "defusedxml                0.7.1              pyhd8ed1ab_0    conda-forge\n",
      "entrypoints               0.4                pyhd8ed1ab_0    conda-forge\n",
      "executing                 1.2.0              pyhd8ed1ab_0    conda-forge\n",
      "filelock                  3.12.0             pyhd8ed1ab_0    conda-forge\n",
      "flit-core                 3.8.0              pyhd8ed1ab_0    conda-forge\n",
      "freetype                  2.10.4               h546665d_1    conda-forge\n",
      "gluonnlp                  0.10.0                   pypi_0    pypi\n",
      "huggingface_hub           0.14.1                     py_0    huggingface\n",
      "icu                       58.2                 ha925a31_3  \n",
      "idna                      3.4                pyhd8ed1ab_0    conda-forge\n",
      "importlib-metadata        6.6.0              pyha770c72_0    conda-forge\n",
      "importlib_metadata        6.6.0                hd8ed1ab_0    conda-forge\n",
      "importlib_resources       5.12.0             pyhd8ed1ab_0    conda-forge\n",
      "intel-openmp              2023.1.0         h57928b3_46319    conda-forge\n",
      "ipykernel                 6.15.0             pyh025b116_0    conda-forge\n",
      "ipython                   8.13.1             pyh08f2357_0    conda-forge\n",
      "ipython_genutils          0.2.0                      py_1    conda-forge\n",
      "ipywidgets                8.0.6              pyhd8ed1ab_0    conda-forge\n",
      "jedi                      0.18.2             pyhd8ed1ab_0    conda-forge\n",
      "jinja2                    3.1.2              pyhd8ed1ab_1    conda-forge\n",
      "joblib                    1.2.0              pyhd8ed1ab_0    conda-forge\n",
      "jpeg                      9b                   hb83a4c4_2  \n",
      "jsonschema                4.17.3             pyhd8ed1ab_0    conda-forge\n",
      "jupyter                   1.0.0            py39hcbf5309_8    conda-forge\n",
      "jupyter_client            8.2.0              pyhd8ed1ab_0    conda-forge\n",
      "jupyter_console           6.6.3              pyhd8ed1ab_0    conda-forge\n",
      "jupyter_core              5.3.0            py39hcbf5309_0    conda-forge\n",
      "jupyter_events            0.6.3              pyhd8ed1ab_0    conda-forge\n",
      "jupyter_server            2.5.0              pyhd8ed1ab_0    conda-forge\n",
      "jupyter_server_terminals  0.4.4              pyhd8ed1ab_1    conda-forge\n",
      "jupyterlab_pygments       0.2.2              pyhd8ed1ab_0    conda-forge\n",
      "jupyterlab_widgets        3.0.7              pyhd8ed1ab_0    conda-forge\n",
      "libclang                  11.1.0          default_h5c34c98_1    conda-forge\n",
      "libpng                    1.6.39               h8cc25b3_0  \n",
      "libsodium                 1.0.18               h8d14728_1    conda-forge\n",
      "libtiff                   4.0.9                hf1753bf_1    conda-forge\n",
      "libuv                     1.44.2               h8ffe710_0    conda-forge\n",
      "libwebp                   1.2.4                h8ffe710_0    conda-forge\n",
      "libwebp-base              1.2.4                h8ffe710_0    conda-forge\n",
      "markupsafe                2.1.1            py39h2bbff1b_0  \n",
      "matplotlib-inline         0.1.6              pyhd8ed1ab_0    conda-forge\n",
      "mistune                   2.0.5              pyhd8ed1ab_0    conda-forge\n",
      "mkl                       2021.4.0           h0e2418a_729    conda-forge\n",
      "mkl-service               2.4.0            py39h6b0492b_0    conda-forge\n",
      "mkl_fft                   1.3.1            py39h277e83a_0  \n",
      "mkl_random                1.2.2            py39h2e25243_0    conda-forge\n",
      "mxnet                     1.8.0                    pypi_0    pypi\n",
      "nbclassic                 0.5.6              pyhb4ecaf3_1    conda-forge\n",
      "nbclient                  0.7.4              pyhd8ed1ab_0    conda-forge\n",
      "nbconvert                 7.3.1              pyhd8ed1ab_0    conda-forge\n",
      "nbconvert-core            7.3.1              pyhd8ed1ab_0    conda-forge\n",
      "nbconvert-pandoc          7.3.1              pyhd8ed1ab_0    conda-forge\n",
      "nbformat                  5.8.0              pyhd8ed1ab_0    conda-forge\n",
      "nest-asyncio              1.5.6              pyhd8ed1ab_0    conda-forge\n",
      "ninja                     1.11.0               h2d74725_0    conda-forge\n",
      "notebook                  6.5.4              pyha770c72_0    conda-forge\n",
      "notebook-shim             0.2.3              pyhd8ed1ab_0    conda-forge\n",
      "numpy                     1.23.5           py39h3b20f71_0  \n",
      "numpy-base                1.23.5           py39h4da318b_0  \n",
      "openssl                   1.1.1t               h2bbff1b_0  \n",
      "packaging                 23.1               pyhd8ed1ab_0    conda-forge\n",
      "pandoc                    2.19.2               h57928b3_2    conda-forge\n",
      "pandocfilters             1.5.0              pyhd8ed1ab_0    conda-forge\n",
      "parso                     0.8.3              pyhd8ed1ab_0    conda-forge\n",
      "pickleshare               0.7.5                   py_1003    conda-forge\n",
      "pillow                    9.3.0            py39hdc2b20a_1  \n",
      "pip                       23.0.1           py39haa95532_0  \n",
      "pkgutil-resolve-name      1.3.10             pyhd8ed1ab_0    conda-forge\n",
      "platformdirs              3.5.0              pyhd8ed1ab_0    conda-forge\n",
      "prometheus_client         0.16.0             pyhd8ed1ab_0    conda-forge\n",
      "prompt-toolkit            3.0.38             pyha770c72_0    conda-forge\n",
      "prompt_toolkit            3.0.38               hd8ed1ab_0    conda-forge\n",
      "psutil                    5.9.0            py39h2bbff1b_0  \n",
      "pure_eval                 0.2.2              pyhd8ed1ab_0    conda-forge\n",
      "pycparser                 2.21               pyhd8ed1ab_0    conda-forge\n",
      "pygments                  2.15.1             pyhd8ed1ab_0    conda-forge\n",
      "pyopenssl                 22.0.0             pyhd8ed1ab_1    conda-forge\n",
      "pyqt                      5.9.2            py39hd77b12b_6  \n",
      "pyrsistent                0.18.0           py39h196d8e1_0  \n",
      "pysocks                   1.7.1              pyh0701188_6    conda-forge\n",
      "python                    3.9.16               h6244533_2  \n",
      "python-dateutil           2.8.2              pyhd8ed1ab_0    conda-forge\n",
      "python-fastjsonschema     2.16.3             pyhd8ed1ab_0    conda-forge\n",
      "python-graphviz           0.20.1                   pypi_0    pypi\n",
      "python-json-logger        2.0.7              pyhd8ed1ab_0    conda-forge\n",
      "python_abi                3.9                      2_cp39    conda-forge\n",
      "pytorch                   1.8.1               py3.9_cpu_0  [cpuonly]  pytorch\n",
      "pytorch-mutex             1.0                         cpu    pytorch\n",
      "pywin32                   305              py39h2bbff1b_0  \n",
      "pywinpty                  2.0.10           py39h5da7b33_0  \n",
      "pyyaml                    6.0              py39hb82d6ee_4    conda-forge\n",
      "pyzmq                     25.0.2           py39hd77b12b_0  \n",
      "qt                        5.9.7            vc14h73c81de_0  \n",
      "qtconsole                 5.4.2              pyhd8ed1ab_0    conda-forge\n",
      "qtconsole-base            5.4.2              pyha770c72_0    conda-forge\n",
      "qtpy                      2.3.1              pyhd8ed1ab_0    conda-forge\n",
      "regex                     2022.8.17        py39hb82d6ee_0    conda-forge\n",
      "requests                  2.29.0             pyhd8ed1ab_0    conda-forge\n",
      "rfc3339-validator         0.1.4              pyhd8ed1ab_0    conda-forge\n",
      "rfc3986-validator         0.1.1              pyh9f0ad1d_0    conda-forge\n",
      "sacremoses                master                     py_0    huggingface\n",
      "send2trash                1.8.2              pyh08f2357_0    conda-forge\n",
      "sentencepiece             0.1.96           py39h2e07f2f_1    conda-forge\n",
      "setuptools                66.0.0           py39haa95532_0  \n",
      "sip                       4.19.13          py39hd77b12b_0  \n",
      "six                       1.16.0             pyh6c4a22f_0    conda-forge\n",
      "sniffio                   1.3.0              pyhd8ed1ab_0    conda-forge\n",
      "soupsieve                 2.3.2.post1        pyhd8ed1ab_0    conda-forge\n",
      "sqlite                    3.41.2               h2bbff1b_0  \n",
      "stack_data                0.6.2              pyhd8ed1ab_0    conda-forge\n",
      "tbb                       2021.8.0             h59b6b97_0  \n",
      "terminado                 0.15.0           py39hcbf5309_0    conda-forge\n",
      "tinycss2                  1.2.1              pyhd8ed1ab_0    conda-forge\n",
      "tk                        8.6.12               h8ffe710_0    conda-forge\n",
      "tokenizers                0.10.3           py39h8c9392a_1    conda-forge\n",
      "torchaudio                0.8.1                      py39    pytorch\n",
      "torchvision               0.9.1                  py39_cpu  [cpuonly]  pytorch\n",
      "tornado                   6.2              py39hb82d6ee_0    conda-forge\n",
      "tqdm                      4.65.0             pyhd8ed1ab_1    conda-forge\n",
      "traitlets                 5.9.0              pyhd8ed1ab_0    conda-forge\n",
      "transformers              4.8.2              pyhd8ed1ab_0    conda-forge\n",
      "typing-extensions         4.5.0                hd8ed1ab_0    conda-forge\n",
      "typing_extensions         4.5.0              pyha770c72_0    conda-forge\n",
      "tzdata                    2023c                h04d1e81_0  \n",
      "urllib3                   1.26.15            pyhd8ed1ab_0    conda-forge\n",
      "vc                        14.2                 h21ff451_1  \n",
      "vs2015_runtime            14.27.29016          h5e58377_2  \n",
      "wcwidth                   0.2.6              pyhd8ed1ab_0    conda-forge\n",
      "webencodings              0.5.1                      py_1    conda-forge\n",
      "websocket-client          1.5.1              pyhd8ed1ab_0    conda-forge\n",
      "wheel                     0.38.4           py39haa95532_0  \n",
      "widgetsnbextension        4.0.7              pyhd8ed1ab_0    conda-forge\n",
      "win_inet_pton             1.1.0              pyhd8ed1ab_6    conda-forge\n",
      "winpty                    0.4.3                         4    conda-forge\n",
      "yaml                      0.2.5                h8ffe710_2    conda-forge\n",
      "zeromq                    4.3.4                h0e60522_1    conda-forge\n",
      "zipp                      3.15.0             pyhd8ed1ab_0    conda-forge\n",
      "zlib                      1.2.13               h8cc25b3_0  \n",
      "\n",
      "Note: you may need to restart the kernel to use updated packages.\n"
     ]
    }
   ],
   "source": [
    "%conda list"
   ]
  },
  {
   "cell_type": "code",
   "execution_count": 5,
   "metadata": {},
   "outputs": [
    {
     "name": "stdout",
     "output_type": "stream",
     "text": [
      "[main 4f21ba6] Add ve_kobert\n",
      " 3 files changed, 222 insertions(+), 156 deletions(-)\n",
      " create mode 100644 sentiment-analysis/ve_kobert.ipynb\n"
     ]
    }
   ],
   "source": [
    "!git config --global core.autocrlf true\n",
    "!git add .\n",
    "!git commit -m \"Add ve_kobert\"\n",
    "!git push origin main"
   ]
  },
  {
   "cell_type": "markdown",
   "metadata": {},
   "source": [
    "### KoBERT requirements(Hugging Face)\n",
    "\n",
    "**KoBERT/requirements.txt**  \n",
    "Python >= 3.6  \n",
    "PyTorch >= 1.8.1  \n",
    "transformers >= 4.8.2  \n",
    "sentencepiece >= 0.1.91  \n",
    "\n",
    "**KoBERT/kobert_hf**  \n",
    "boto3 <=1.15.18  \n",
    "gluonnlp >= 0.6.0, <=0.10.0  \n",
    "mxnet >= 1.4.0, <=1.7.0.post2  \n",
    "onnxruntime == 1.8.0, <=1.8.0  \n",
    "sentencepiece >= 0.1.6, <=0.1.96  \n",
    "torch >= 1.7.0, <=1.10.1  \n",
    "transformers >= 4.8.1, <=4.8.1"
   ]
  },
  {
   "cell_type": "markdown",
   "metadata": {},
   "source": [
    "**GPU 사용**"
   ]
  },
  {
   "cell_type": "code",
   "execution_count": 1,
   "metadata": {},
   "outputs": [
    {
     "data": {
      "text/plain": [
       "True"
      ]
     },
     "execution_count": 1,
     "metadata": {},
     "output_type": "execute_result"
    }
   ],
   "source": [
    "import torch\n",
    "torch.cuda.is_available()"
   ]
  },
  {
   "cell_type": "code",
   "execution_count": 2,
   "metadata": {},
   "outputs": [
    {
     "name": "stdout",
     "output_type": "stream",
     "text": [
      "0.10.0\n"
     ]
    }
   ],
   "source": [
    "import gluonnlp as nlp\n",
    "print(nlp.__version__)"
   ]
  },
  {
   "cell_type": "code",
   "execution_count": null,
   "metadata": {},
   "outputs": [],
   "source": []
  }
 ],
 "metadata": {
  "kernelspec": {
   "display_name": "Python 3.7.16 ('kobert0')",
   "language": "python",
   "name": "python3"
  },
  "language_info": {
   "codemirror_mode": {
    "name": "ipython",
    "version": 3
   },
   "file_extension": ".py",
   "mimetype": "text/x-python",
   "name": "python",
   "nbconvert_exporter": "python",
   "pygments_lexer": "ipython3",
   "version": "3.9.16"
  },
  "orig_nbformat": 4,
  "vscode": {
   "interpreter": {
    "hash": "419ec84976bd0914f7cbe61ec87d470e6425cc2fefea0ef3c918b55224de0cae"
   }
  }
 },
 "nbformat": 4,
 "nbformat_minor": 2
}
