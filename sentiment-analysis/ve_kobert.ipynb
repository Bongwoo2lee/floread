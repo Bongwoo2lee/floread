{
 "cells": [
  {
   "cell_type": "markdown",
   "metadata": {},
   "source": [
    "## **kobert 학습 가상환경에서 패키지 설치 & 깃 연동**"
   ]
  },
  {
   "cell_type": "code",
   "execution_count": 1,
   "metadata": {},
   "outputs": [
    {
     "name": "stdout",
     "output_type": "stream",
     "text": [
      "# packages in environment at c:\\Users\\inoo3\\Anaconda3\\envs\\kobert0:\n",
      "#\n",
      "# Name                    Version                   Build  Channel\n",
      "anyio                     3.6.2                    pypi_0    pypi\n",
      "argon2-cffi               21.3.0                   pypi_0    pypi\n",
      "argon2-cffi-bindings      21.2.0                   pypi_0    pypi\n",
      "attrs                     23.1.0                   pypi_0    pypi\n",
      "backcall                  0.2.0                    pypi_0    pypi\n",
      "beautifulsoup4            4.12.2                   pypi_0    pypi\n",
      "blas                      1.0                         mkl  \n",
      "bleach                    6.0.0                    pypi_0    pypi\n",
      "ca-certificates           2023.01.10           haa95532_0  \n",
      "certifi                   2022.12.7        py37haa95532_0  \n",
      "cffi                      1.15.1                   pypi_0    pypi\n",
      "colorama                  0.4.6                    pypi_0    pypi\n",
      "cudatoolkit               10.1.243             h74a9793_0  \n",
      "debugpy                   1.6.7                    pypi_0    pypi\n",
      "decorator                 5.1.1                    pypi_0    pypi\n",
      "defusedxml                0.7.1                    pypi_0    pypi\n",
      "entrypoints               0.4                      pypi_0    pypi\n",
      "fastjsonschema            2.16.3                   pypi_0    pypi\n",
      "freetype                  2.12.1               ha860e81_0  \n",
      "idna                      3.4                      pypi_0    pypi\n",
      "importlib-metadata        6.6.0                    pypi_0    pypi\n",
      "importlib-resources       5.12.0                   pypi_0    pypi\n",
      "intel-openmp              2021.4.0          haa95532_3556  \n",
      "ipykernel                 6.16.2                   pypi_0    pypi\n",
      "ipython                   7.34.0                   pypi_0    pypi\n",
      "ipython-genutils          0.2.0                    pypi_0    pypi\n",
      "ipywidgets                8.0.6                    pypi_0    pypi\n",
      "jedi                      0.18.2                   pypi_0    pypi\n",
      "jinja2                    3.1.2                    pypi_0    pypi\n",
      "jpeg                      9b                   hb83a4c4_2  \n",
      "jsonschema                4.17.3                   pypi_0    pypi\n",
      "jupyter                   1.0.0                    pypi_0    pypi\n",
      "jupyter-client            7.4.9                    pypi_0    pypi\n",
      "jupyter-console           6.6.3                    pypi_0    pypi\n",
      "jupyter-core              4.12.0                   pypi_0    pypi\n",
      "jupyter-server            1.24.0                   pypi_0    pypi\n",
      "jupyterlab-pygments       0.2.2                    pypi_0    pypi\n",
      "jupyterlab-widgets        3.0.7                    pypi_0    pypi\n",
      "lerc                      3.0                  hd77b12b_0  \n",
      "libdeflate                1.17                 h2bbff1b_0  \n",
      "libpng                    1.6.39               h8cc25b3_0  \n",
      "libtiff                   4.5.0                h8a3f274_0  \n",
      "libuv                     1.44.2               h2bbff1b_0  \n",
      "libwebp                   1.2.4                h2bbff1b_0  \n",
      "libwebp-base              1.2.4                h2bbff1b_1  \n",
      "lz4-c                     1.9.4                h2bbff1b_0  \n",
      "markupsafe                2.1.2                    pypi_0    pypi\n",
      "matplotlib-inline         0.1.6                    pypi_0    pypi\n",
      "mistune                   2.0.5                    pypi_0    pypi\n",
      "mkl                       2021.4.0           haa95532_640  \n",
      "mkl-service               2.4.0            py37h2bbff1b_0  \n",
      "mkl_fft                   1.3.1            py37h277e83a_0  \n",
      "mkl_random                1.2.2            py37hf11a4ad_0  \n",
      "nbclassic                 0.5.6                    pypi_0    pypi\n",
      "nbclient                  0.7.4                    pypi_0    pypi\n",
      "nbconvert                 7.3.1                    pypi_0    pypi\n",
      "nbformat                  5.8.0                    pypi_0    pypi\n",
      "nest-asyncio              1.5.6                    pypi_0    pypi\n",
      "ninja                     1.10.2               haa95532_5  \n",
      "ninja-base                1.10.2               h6d14046_5  \n",
      "notebook                  6.5.4                    pypi_0    pypi\n",
      "notebook-shim             0.2.3                    pypi_0    pypi\n",
      "numpy                     1.21.5           py37h7a0a035_3  \n",
      "numpy-base                1.21.5           py37hca35cd5_3  \n",
      "openssl                   1.1.1t               h2bbff1b_0  \n",
      "packaging                 23.1                     pypi_0    pypi\n",
      "pandocfilters             1.5.0                    pypi_0    pypi\n",
      "parso                     0.8.3                    pypi_0    pypi\n",
      "pickleshare               0.7.5                    pypi_0    pypi\n",
      "pillow                    9.3.0            py37hdc2b20a_1  \n",
      "pip                       22.3.1           py37haa95532_0  \n",
      "pkgutil-resolve-name      1.3.10                   pypi_0    pypi\n",
      "prometheus-client         0.16.0                   pypi_0    pypi\n",
      "prompt-toolkit            3.0.38                   pypi_0    pypi\n",
      "psutil                    5.9.5                    pypi_0    pypi\n",
      "pycparser                 2.21                     pypi_0    pypi\n",
      "pygments                  2.15.1                   pypi_0    pypi\n",
      "pyrsistent                0.19.3                   pypi_0    pypi\n",
      "python                    3.7.16               h6244533_0  \n",
      "python-dateutil           2.8.2                    pypi_0    pypi\n",
      "pytorch                   1.8.1           py3.7_cuda10.1_cudnn7_0    pytorch\n",
      "pywin32                   306                      pypi_0    pypi\n",
      "pywinpty                  2.0.10                   pypi_0    pypi\n",
      "pyzmq                     25.0.2                   pypi_0    pypi\n",
      "qtconsole                 5.4.2                    pypi_0    pypi\n",
      "qtpy                      2.3.1                    pypi_0    pypi\n",
      "send2trash                1.8.2                    pypi_0    pypi\n",
      "setuptools                65.6.3           py37haa95532_0  \n",
      "six                       1.16.0             pyhd3eb1b0_1  \n",
      "sniffio                   1.3.0                    pypi_0    pypi\n",
      "soupsieve                 2.4.1                    pypi_0    pypi\n",
      "sqlite                    3.41.2               h2bbff1b_0  \n",
      "terminado                 0.17.1                   pypi_0    pypi\n",
      "tinycss2                  1.2.1                    pypi_0    pypi\n",
      "tk                        8.6.12               h2bbff1b_0  \n",
      "torchaudio                0.8.1                      py37    pytorch\n",
      "torchvision               0.9.1                py37_cu101    pytorch\n",
      "tornado                   6.2                      pypi_0    pypi\n",
      "traitlets                 5.9.0                    pypi_0    pypi\n",
      "typing_extensions         4.3.0            py37haa95532_0  \n",
      "vc                        14.2                 h21ff451_1  \n",
      "vs2015_runtime            14.27.29016          h5e58377_2  \n",
      "wcwidth                   0.2.6                    pypi_0    pypi\n",
      "webencodings              0.5.1                    pypi_0    pypi\n",
      "websocket-client          1.5.1                    pypi_0    pypi\n",
      "wheel                     0.38.4           py37haa95532_0  \n",
      "widgetsnbextension        4.0.7                    pypi_0    pypi\n",
      "wincertstore              0.2              py37haa95532_2  \n",
      "xz                        5.2.10               h8cc25b3_1  \n",
      "zipp                      3.15.0                   pypi_0    pypi\n",
      "zlib                      1.2.13               h8cc25b3_0  \n",
      "zstd                      1.5.5                hd43e919_0  \n",
      "\n",
      "Note: you may need to restart the kernel to use updated packages.\n"
     ]
    }
   ],
   "source": [
    "%conda list"
   ]
  },
  {
   "cell_type": "code",
   "execution_count": 5,
   "metadata": {},
   "outputs": [
    {
     "name": "stdout",
     "output_type": "stream",
     "text": [
      "[main 4f21ba6] Add ve_kobert\n",
      " 3 files changed, 222 insertions(+), 156 deletions(-)\n",
      " create mode 100644 sentiment-analysis/ve_kobert.ipynb\n"
     ]
    }
   ],
   "source": [
    "!git config --global core.autocrlf true\n",
    "!git add .\n",
    "!git commit -m \"Add ve_kobert\"\n",
    "!git push origin main"
   ]
  },
  {
   "cell_type": "markdown",
   "metadata": {},
   "source": [
    "### KoBERT requirements(Hugging Face)\n",
    "\n",
    "**KoBERT/requirements.txt**  \n",
    "Python >= 3.6  \n",
    "PyTorch >= 1.8.1  \n",
    "transformers >= 4.8.2  \n",
    "sentencepiece >= 0.1.91  \n",
    "\n",
    "**KoBERT/kobert_hf**  \n",
    "boto3 <=1.15.18  \n",
    "gluonnlp >= 0.6.0, <=0.10.0  \n",
    "mxnet >= 1.4.0, <=1.7.0.post2  \n",
    "onnxruntime == 1.8.0, <=1.8.0  \n",
    "sentencepiece >= 0.1.6, <=0.1.96  \n",
    "torch >= 1.7.0, <=1.10.1  \n",
    "transformers >= 4.8.1, <=4.8.1"
   ]
  },
  {
   "cell_type": "markdown",
   "metadata": {},
   "source": [
    "**GPU 사용**"
   ]
  },
  {
   "cell_type": "code",
   "execution_count": 1,
   "metadata": {},
   "outputs": [
    {
     "data": {
      "text/plain": [
       "True"
      ]
     },
     "execution_count": 1,
     "metadata": {},
     "output_type": "execute_result"
    }
   ],
   "source": [
    "import torch\n",
    "torch.cuda.is_available()"
   ]
  },
  {
   "cell_type": "code",
   "execution_count": null,
   "metadata": {},
   "outputs": [],
   "source": []
  }
 ],
 "metadata": {
  "kernelspec": {
   "display_name": "Python 3.7.16 ('kobert0')",
   "language": "python",
   "name": "python3"
  },
  "language_info": {
   "codemirror_mode": {
    "name": "ipython",
    "version": 3
   },
   "file_extension": ".py",
   "mimetype": "text/x-python",
   "name": "python",
   "nbconvert_exporter": "python",
   "pygments_lexer": "ipython3",
   "version": "3.7.16"
  },
  "orig_nbformat": 4,
  "vscode": {
   "interpreter": {
    "hash": "419ec84976bd0914f7cbe61ec87d470e6425cc2fefea0ef3c918b55224de0cae"
   }
  }
 },
 "nbformat": 4,
 "nbformat_minor": 2
}
